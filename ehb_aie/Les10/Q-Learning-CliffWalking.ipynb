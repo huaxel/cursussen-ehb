{
 "cells": [
  {
   "cell_type": "markdown",
   "metadata": {
    "id": "R_X39pQ5tVP4"
   },
   "source": [
    "# Train an agent to play Cliff Walking using Q-learning\n"
   ]
  },
  {
   "cell_type": "markdown",
   "metadata": {
    "id": "Ss-eZTqjte3O"
   },
   "source": [
    "[Gymnasium](https://gymnasium.farama.org) is a toolkit for developing and comparing reinforcement algorithms. It contains several test problem (*environments*) that have a shared interface, allowing you to write general algorithms. \n",
    "\n",
    "Let's start with importing all necessary dependencies."
   ]
  },
  {
   "cell_type": "code",
   "execution_count": 1,
   "metadata": {
    "id": "K5LVzQUirmiF"
   },
   "outputs": [],
   "source": [
    "import gym\n",
    "import numpy as np\n",
    "import random\n",
    "from enum import Enum"
   ]
  },
  {
   "cell_type": "code",
   "execution_count": 2,
   "metadata": {},
   "outputs": [
    {
     "name": "stdout",
     "output_type": "stream",
     "text": [
      "\u001b[2mResolved \u001b[1m129 packages\u001b[0m \u001b[2min 15ms\u001b[0m\u001b[0m\n",
      "\u001b[2mAudited \u001b[1m124 packages\u001b[0m \u001b[2min 0.24ms\u001b[0m\u001b[0m\n"
     ]
    }
   ],
   "source": [
    "!uv add 'gymnasium[classic-control]'"
   ]
  },
  {
   "cell_type": "markdown",
   "metadata": {
    "id": "WfP0PR7_tlLY"
   },
   "source": [
    "## Description of the game\n",
    "\n",
    "The Cliff Walking environment in Gymnasium (previously part of OpenAI Gym) is like this:\n",
    "\n",
    "Imagine a grid — like a checkerboard — where you start in the bottom-left corner.\n",
    "Your goal is to reach the bottom-right corner.\n",
    "But! Between you and the goal, along the bottom row, is a cliff — a dangerous area.\n",
    "If you step into the cliff, you \"fall off,\" get a big negative reward (penalty), and you’re sent back to the start.\n",
    "If you manage to walk safely around the cliff and reach the goal, you win.\n",
    "More details:\n",
    "\n",
    "Each move (up, down, left, right) gives a small penalty (like -1 reward) because they want to encourage you to find the fastest route.\n",
    "Falling off the cliff gives a huge penalty (like -100).\n",
    "The \"safe\" path is usually to move right across the second-to-last row, and only at the end move down carefully to the goal.\n",
    "\n",
    "More info on: https://gymnasium.farama.org/environments/toy_text/cliff_walking/"
   ]
  },
  {
   "cell_type": "code",
   "execution_count": 3,
   "metadata": {
    "id": "V90ySjfLtynA"
   },
   "outputs": [],
   "source": [
    "env = gym.make(\"CliffWalking-v0\")"
   ]
  },
  {
   "cell_type": "markdown",
   "metadata": {
    "id": "cgsfBm4At2Lg"
   },
   "source": [
    "## Initialize the Q-table "
   ]
  },
  {
   "cell_type": "markdown",
   "metadata": {
    "id": "x6lM_cuat-9q"
   },
   "source": [
    "Remember: \n",
    "- number of rows: number of states\n",
    "- number of columns: number of actions\n",
    "q-table: np array of dimension (states, actions)\n",
    "\n",
    "add some things on how to make np arrays"
   ]
  },
  {
   "cell_type": "code",
   "execution_count": 4,
   "metadata": {
    "id": "WcMatYVCuXM1"
   },
   "outputs": [
    {
     "name": "stdout",
     "output_type": "stream",
     "text": [
      "State space size: 48\n"
     ]
    }
   ],
   "source": [
    "state_space_size = env.observation_space.n\n",
    "action_space_size = env.action_space.n\n",
    "print(f\"State space size: {state_space_size}\")"
   ]
  },
  {
   "cell_type": "code",
   "execution_count": 5,
   "metadata": {},
   "outputs": [
    {
     "name": "stdout",
     "output_type": "stream",
     "text": [
      "Q-table shape: (48, 4)\n"
     ]
    }
   ],
   "source": [
    "q_table = np.zeros((state_space_size, action_space_size))\n",
    "print(f\"Q-table shape: {q_table.shape}\")"
   ]
  },
  {
   "cell_type": "code",
   "execution_count": 6,
   "metadata": {
    "id": "liMcepGyw3uW"
   },
   "outputs": [
    {
     "data": {
      "text/plain": [
       "array([[0., 0., 0., 0.],\n",
       "       [0., 0., 0., 0.],\n",
       "       [0., 0., 0., 0.],\n",
       "       [0., 0., 0., 0.],\n",
       "       [0., 0., 0., 0.],\n",
       "       [0., 0., 0., 0.],\n",
       "       [0., 0., 0., 0.],\n",
       "       [0., 0., 0., 0.],\n",
       "       [0., 0., 0., 0.],\n",
       "       [0., 0., 0., 0.],\n",
       "       [0., 0., 0., 0.],\n",
       "       [0., 0., 0., 0.],\n",
       "       [0., 0., 0., 0.],\n",
       "       [0., 0., 0., 0.],\n",
       "       [0., 0., 0., 0.],\n",
       "       [0., 0., 0., 0.],\n",
       "       [0., 0., 0., 0.],\n",
       "       [0., 0., 0., 0.],\n",
       "       [0., 0., 0., 0.],\n",
       "       [0., 0., 0., 0.],\n",
       "       [0., 0., 0., 0.],\n",
       "       [0., 0., 0., 0.],\n",
       "       [0., 0., 0., 0.],\n",
       "       [0., 0., 0., 0.],\n",
       "       [0., 0., 0., 0.],\n",
       "       [0., 0., 0., 0.],\n",
       "       [0., 0., 0., 0.],\n",
       "       [0., 0., 0., 0.],\n",
       "       [0., 0., 0., 0.],\n",
       "       [0., 0., 0., 0.],\n",
       "       [0., 0., 0., 0.],\n",
       "       [0., 0., 0., 0.],\n",
       "       [0., 0., 0., 0.],\n",
       "       [0., 0., 0., 0.],\n",
       "       [0., 0., 0., 0.],\n",
       "       [0., 0., 0., 0.],\n",
       "       [0., 0., 0., 0.],\n",
       "       [0., 0., 0., 0.],\n",
       "       [0., 0., 0., 0.],\n",
       "       [0., 0., 0., 0.],\n",
       "       [0., 0., 0., 0.],\n",
       "       [0., 0., 0., 0.],\n",
       "       [0., 0., 0., 0.],\n",
       "       [0., 0., 0., 0.],\n",
       "       [0., 0., 0., 0.],\n",
       "       [0., 0., 0., 0.],\n",
       "       [0., 0., 0., 0.],\n",
       "       [0., 0., 0., 0.]])"
      ]
     },
     "execution_count": 6,
     "metadata": {},
     "output_type": "execute_result"
    }
   ],
   "source": [
    "q_table"
   ]
  },
  {
   "cell_type": "markdown",
   "metadata": {
    "id": "0iZkcf_1vL3Y"
   },
   "source": [
    "## Set the hyperparameters"
   ]
  },
  {
   "cell_type": "code",
   "execution_count": 7,
   "metadata": {},
   "outputs": [],
   "source": [
    "discount_factor = 0.99\n",
    "learning_rate = 0.1\n",
    "\n",
    "initial_exploration_rate = 1.0\n",
    "min_exploration_rate = 0.01\n",
    "exploration_rate = 1\n",
    "exploration_decay_rate = 0.001\n",
    "\n",
    "num_episodes = 10000\n",
    "max_steps_per_episode = 100"
   ]
  },
  {
   "cell_type": "markdown",
   "metadata": {
    "id": "aaA0V6O9_TzJ"
   },
   "source": [
    "## Train the agent"
   ]
  },
  {
   "cell_type": "markdown",
   "metadata": {
    "id": "3SrazgwEAaN5"
   },
   "source": [
    "Store the total rewards for each episode. This is for diagnostics."
   ]
  },
  {
   "cell_type": "code",
   "execution_count": 8,
   "metadata": {
    "id": "XuCPM2laARJs"
   },
   "outputs": [],
   "source": [
    "rewards = np.zeros(num_episodes) "
   ]
  },
  {
   "cell_type": "markdown",
   "metadata": {
    "id": "zy0yUfNqCHP8"
   },
   "source": [
    "In each episode:\n",
    "1.   Reset environment\n",
    "2.   For each step in the episode:\n",
    "  - pick an action $a$ by generating a random float $r$ in $[0,1]$\n",
    "    - if $r > \\epsilon$ we choose the next action by exploitation\n",
    "    - if $r \\leq \\epsilon$ we choose the next action by exploration\n",
    "  - take action $a$ and observe reward $R$ and next state $s'$\n",
    "  - update Q-table \n",
    "  $$ q(s,a) = q(s,a) + \\alpha(R + \\gamma max_{a'} q(s', a') - q(s,a)) $$\n",
    "3. decrease exploration rate proportional to its current value, we will use exponential decay: \n",
    "$$N(t) = N_0 e^{-\\lambda t}$$\n",
    "where $N_0$ is the initial quantity and $N(t)$ is the quantity at time step $t$.\n",
    "\n",
    "\n",
    "\n",
    "with \n",
    "- $\\epsilon$ the exploration rate,\n",
    "- $\\lambda$ the exploration rate decay,\n",
    "- $\\alpha$ the learning rate and \n",
    "- $\\gamma$ the discount factor.\n",
    "\n",
    "\n",
    "\n",
    "\n",
    "\n",
    "\n",
    "\n"
   ]
  },
  {
   "cell_type": "code",
   "execution_count": 10,
   "metadata": {
    "id": "zOvIxI_A_V9J"
   },
   "outputs": [],
   "source": [
    "for episode in range(num_episodes):\n",
    "    state = env.reset()[0]\n",
    "    reward_episode = 0\n",
    "\n",
    "    for step in range(max_steps_per_episode):\n",
    "        # Exploration vs Exploitation\n",
    "        exploration_rate_threshold = random.uniform(0, 1)\n",
    "        if exploration_rate_threshold > exploration_rate:\n",
    "            action = np.argmax(q_table[state])\n",
    "        else:\n",
    "            action = env.action_space.sample()\n",
    "        # Take action\n",
    "        new_state, reward, terminated, truncated, info = env.step(action)\n",
    "\n",
    "        done = terminated or truncated\n",
    "\n",
    "        # Update Q-table\n",
    "        q_table[state, action] += learning_rate * (reward + discount_factor * np.max(q_table[new_state]) - q_table[state, action])\n",
    "\n",
    "        # Update state\n",
    "        state = new_state\n",
    "        reward_episode += reward\n",
    "        if done:\n",
    "            break\n",
    "\n",
    "        rewards[episode] = reward_episode\n",
    "\n",
    "    # Exploration rate decay\n",
    "    exploration_rate = max(initial_exploration_rate * np.exp(-exploration_decay_rate * episode), min_exploration_rate)"
   ]
  },
  {
   "cell_type": "markdown",
   "metadata": {
    "id": "IsE0vf_ArDFX"
   },
   "source": [
    "Let's print the average reward per thousand episodes, this way we can get an idea about how rewards have changed over time."
   ]
  },
  {
   "cell_type": "code",
   "execution_count": 11,
   "metadata": {
    "id": "KduAhbZ3ZuAI"
   },
   "outputs": [],
   "source": [
    "rewards_per_thousand_episodes = np.split(rewards, num_episodes / 1000)"
   ]
  },
  {
   "cell_type": "markdown",
   "metadata": {
    "id": "THvt3Zx5_O-X"
   },
   "source": [
    "Let's also visualize the *learning curve* by plotting the moving average using a window length of 1000."
   ]
  },
  {
   "cell_type": "code",
   "execution_count": 12,
   "metadata": {
    "id": "BnJK6G4Z-9Yg"
   },
   "outputs": [
    {
     "name": "stdout",
     "output_type": "stream",
     "text": [
      "after  1000  episodes:  -558.107\n",
      "after  2000  episodes:  -130.205\n",
      "after  3000  episodes:  -43.797\n",
      "after  4000  episodes:  -21.426\n",
      "after  5000  episodes:  -14.998\n",
      "after  6000  episodes:  -14.135\n",
      "after  7000  episodes:  -15.809\n",
      "after  8000  episodes:  -15.331\n",
      "after  9000  episodes:  -15.851\n",
      "after  10000  episodes:  -16.144\n"
     ]
    }
   ],
   "source": [
    "count = 1000\n",
    "for r in rewards_per_thousand_episodes:\n",
    "    print(\"after \", count, \" episodes: \", np.average(r))    \n",
    "    count += 1000"
   ]
  },
  {
   "cell_type": "code",
   "execution_count": 13,
   "metadata": {},
   "outputs": [],
   "source": [
    "def moving_average(array, window):\n",
    "    return np.convolve(array, np.ones(window), 'valid') / window"
   ]
  },
  {
   "cell_type": "code",
   "execution_count": 14,
   "metadata": {},
   "outputs": [
    {
     "data": {
      "text/plain": [
       "array([-558.107, -556.949, -556.192, ...,  -16.252,  -16.252,  -16.144],\n",
       "      shape=(9001,))"
      ]
     },
     "execution_count": 14,
     "metadata": {},
     "output_type": "execute_result"
    }
   ],
   "source": [
    "moving_average(rewards, 1000)"
   ]
  },
  {
   "cell_type": "code",
   "execution_count": 15,
   "metadata": {},
   "outputs": [
    {
     "data": {
      "image/png": "[encoded data removed]",
      "text/plain": [
       "<Figure size 640x480 with 1 Axes>"
      ]
     },
     "metadata": {},
     "output_type": "display_data"
    }
   ],
   "source": [
    "import matplotlib.pyplot as plt\n",
    "plt.plot(np.arange(999, 10000), moving_average(rewards, 1000))\n",
    "plt.show()"
   ]
  },
  {
   "cell_type": "markdown",
   "metadata": {
    "id": "J3OyJMQ1ryRs"
   },
   "source": [
    "## Optimal policy"
   ]
  },
  {
   "cell_type": "markdown",
   "metadata": {
    "id": "iOCvgWWdqYyw"
   },
   "source": [
    "Let's print the q_table."
   ]
  },
  {
   "cell_type": "code",
   "execution_count": 16,
   "metadata": {
    "colab": {
     "base_uri": "https://localhost:8080/"
    },
    "executionInfo": {
     "elapsed": 591,
     "status": "ok",
     "timestamp": 1618321716577,
     "user": {
      "displayName": "Marjon Blondeel",
      "photoUrl": "https://lh3.googleusercontent.com/a-/AOh14Gg1bZUZhj06leL74e2Mn-eu1NyztKgDXIMJdj6RgQ=s64",
      "userId": "07230704137495875448"
     },
     "user_tz": -120
    },
    "id": "6pXJnq4KWDtR",
    "outputId": "c83ec5f1-1fc0-45e7-89e9-8d801049f427"
   },
   "outputs": [
    {
     "data": {
      "text/plain": [
       "array([[ -13.28396676,  -13.09227856,  -13.09546903,  -13.32525881],\n",
       "       [ -12.82616108,  -12.24326404,  -12.24291139,  -13.64930875],\n",
       "       [ -12.1678499 ,  -11.36047191,  -11.36045185,  -12.96911097],\n",
       "       [ -11.3345651 ,  -10.46590906,  -10.46591443,  -12.19164169],\n",
       "       [ -10.44521739,   -9.56167954,   -9.56167485,  -11.30466712],\n",
       "       [  -9.55350099,   -8.6482124 ,   -8.64821083,  -10.45564897],\n",
       "       [  -8.63678317,   -7.7255028 ,   -7.72550196,   -9.533204  ],\n",
       "       [  -7.70262875,   -6.79344968,   -6.79345087,   -8.63187326],\n",
       "       [  -6.78709072,   -5.8519776 ,   -5.85197718,   -7.706423  ],\n",
       "       [  -5.84434133,   -4.90099205,   -4.90099234,   -6.78648653],\n",
       "       [  -4.89335897,   -3.94039811,   -3.94039802,   -5.8374333 ],\n",
       "       [  -3.93618772,   -3.86993179,   -2.9701    ,   -4.87552835],\n",
       "       [ -13.92307326,  -12.2478977 ,  -12.2478977 ,  -13.12428232],\n",
       "       [ -13.11132427,  -11.36151283,  -11.36151283,  -13.12503915],\n",
       "       [ -12.24412316,  -10.46617457,  -10.46617457,  -12.24756693],\n",
       "       [ -11.36077475,   -9.5617925 ,   -9.5617925 ,  -11.36145198],\n",
       "       [ -10.46562373,   -8.64827525,   -8.64827525,  -10.46611244],\n",
       "       [  -9.56147488,   -7.72553056,   -7.72553056,   -9.56178326],\n",
       "       [  -8.64803135,   -6.79346521,   -6.79346521,   -8.64788757],\n",
       "       [  -7.72501399,   -5.85198506,   -5.85198506,   -7.72549415],\n",
       "       [  -6.79320298,   -4.90099501,   -4.90099501,   -6.79281726],\n",
       "       [  -5.85134523,   -3.940399  ,   -3.940399  ,   -5.85185736],\n",
       "       [  -4.90070164,   -2.9701    ,   -2.9701    ,   -4.90055148],\n",
       "       [  -3.9397612 ,   -2.96998489,   -1.99      ,   -3.94006558],\n",
       "       [ -13.12541872,  -11.36151283,  -13.12541872,  -12.2478977 ],\n",
       "       [ -12.2478977 ,  -10.46617457, -112.12541872,  -12.2478977 ],\n",
       "       [ -11.36151283,   -9.5617925 , -112.12541872,  -11.36151283],\n",
       "       [ -10.46617457,   -8.64827525, -112.12541872,  -10.46617457],\n",
       "       [  -9.5617925 ,   -7.72553056, -112.12541872,   -9.5617925 ],\n",
       "       [  -8.64827525,   -6.79346521, -112.12541872,   -8.64827525],\n",
       "       [  -7.72553056,   -5.85198506, -112.12541872,   -7.72553056],\n",
       "       [  -6.79346521,   -4.90099501, -112.12541872,   -6.79346521],\n",
       "       [  -5.85198506,   -3.940399  , -112.12541872,   -5.85198506],\n",
       "       [  -4.90099501,   -2.9701    , -112.12541872,   -4.90099501],\n",
       "       [  -3.940399  ,   -1.99      , -112.12541865,   -3.940399  ],\n",
       "       [  -2.9701    ,   -1.99      ,   -1.        ,   -2.9701    ],\n",
       "       [ -12.2478977 , -112.12541872,  -13.12541872,  -13.12541872],\n",
       "       [   0.        ,    0.        ,    0.        ,    0.        ],\n",
       "       [   0.        ,    0.        ,    0.        ,    0.        ],\n",
       "       [   0.        ,    0.        ,    0.        ,    0.        ],\n",
       "       [   0.        ,    0.        ,    0.        ,    0.        ],\n",
       "       [   0.        ,    0.        ,    0.        ,    0.        ],\n",
       "       [   0.        ,    0.        ,    0.        ,    0.        ],\n",
       "       [   0.        ,    0.        ,    0.        ,    0.        ],\n",
       "       [   0.        ,    0.        ,    0.        ,    0.        ],\n",
       "       [   0.        ,    0.        ,    0.        ,    0.        ],\n",
       "       [   0.        ,    0.        ,    0.        ,    0.        ],\n",
       "       [   0.        ,    0.        ,    0.        ,    0.        ]])"
      ]
     },
     "execution_count": 16,
     "metadata": {},
     "output_type": "execute_result"
    }
   ],
   "source": [
    "q_table"
   ]
  },
  {
   "cell_type": "markdown",
   "metadata": {
    "id": "Y83ycCLWvBTm"
   },
   "source": [
    "Let's use the learned q_table to define the policy. Name the method `policy`."
   ]
  },
  {
   "cell_type": "code",
   "execution_count": 17,
   "metadata": {
    "id": "ywaEmwPltP0f"
   },
   "outputs": [],
   "source": [
    "def policy(state):\n",
    "    return np.argmax(q_table[state])"
   ]
  },
  {
   "cell_type": "markdown",
   "metadata": {
    "id": "nOr6WI1jvuLm"
   },
   "source": [
    "Let's use an Enum to print out nicely which action to take in which state. "
   ]
  },
  {
   "cell_type": "code",
   "execution_count": 18,
   "metadata": {},
   "outputs": [],
   "source": [
    "class Action(Enum):\n",
    "\n",
    "    LEFT = 0\n",
    "    DOWN = 1\n",
    "    RIGHT = 2\n",
    "    UP = 3"
   ]
  },
  {
   "cell_type": "code",
   "execution_count": 19,
   "metadata": {},
   "outputs": [
    {
     "name": "stdout",
     "output_type": "stream",
     "text": [
      "state:  0  action to take:  DOWN\n",
      "state:  1  action to take:  RIGHT\n",
      "state:  2  action to take:  RIGHT\n",
      "state:  3  action to take:  DOWN\n",
      "state:  4  action to take:  RIGHT\n",
      "state:  5  action to take:  RIGHT\n",
      "state:  6  action to take:  RIGHT\n",
      "state:  7  action to take:  DOWN\n",
      "state:  8  action to take:  RIGHT\n",
      "state:  9  action to take:  DOWN\n",
      "state:  10  action to take:  RIGHT\n",
      "state:  11  action to take:  RIGHT\n",
      "state:  12  action to take:  RIGHT\n",
      "state:  13  action to take:  DOWN\n",
      "state:  14  action to take:  RIGHT\n",
      "state:  15  action to take:  RIGHT\n",
      "state:  16  action to take:  RIGHT\n",
      "state:  17  action to take:  DOWN\n",
      "state:  18  action to take:  DOWN\n",
      "state:  19  action to take:  RIGHT\n",
      "state:  20  action to take:  DOWN\n",
      "state:  21  action to take:  DOWN\n",
      "state:  22  action to take:  DOWN\n",
      "state:  23  action to take:  RIGHT\n",
      "state:  24  action to take:  DOWN\n",
      "state:  25  action to take:  DOWN\n",
      "state:  26  action to take:  DOWN\n",
      "state:  27  action to take:  DOWN\n",
      "state:  28  action to take:  DOWN\n",
      "state:  29  action to take:  DOWN\n",
      "state:  30  action to take:  DOWN\n",
      "state:  31  action to take:  DOWN\n",
      "state:  32  action to take:  DOWN\n",
      "state:  33  action to take:  DOWN\n",
      "state:  34  action to take:  DOWN\n",
      "state:  35  action to take:  RIGHT\n",
      "state:  36  action to take:  LEFT\n",
      "state:  37  action to take:  LEFT\n",
      "state:  38  action to take:  LEFT\n",
      "state:  39  action to take:  LEFT\n",
      "state:  40  action to take:  LEFT\n",
      "state:  41  action to take:  LEFT\n",
      "state:  42  action to take:  LEFT\n",
      "state:  43  action to take:  LEFT\n",
      "state:  44  action to take:  LEFT\n",
      "state:  45  action to take:  LEFT\n",
      "state:  46  action to take:  LEFT\n",
      "state:  47  action to take:  LEFT\n"
     ]
    }
   ],
   "source": [
    "for state in range(state_space_size):\n",
    "    print(\"state: \", state, \" action to take: \", Action(policy(state)).name)"
   ]
  },
  {
   "cell_type": "markdown",
   "metadata": {
    "id": "x7wMyAPgyxYR"
   },
   "source": [
    "## Play Cliff Walking"
   ]
  },
  {
   "cell_type": "markdown",
   "metadata": {
    "id": "sn98l-X6d8Rw"
   },
   "source": [
    "Let's play Cliff Walking for `num_episodes` times and check how well our learned policy does on average. How does it compare to your handcoded policy?"
   ]
  },
  {
   "cell_type": "code",
   "execution_count": 20,
   "metadata": {
    "id": "hQXIFZyfe1LL"
   },
   "outputs": [],
   "source": [
    "rewards_test = np.zeros(num_episodes)\n",
    "\n",
    "for episode in range(num_episodes):\n",
    "    state = env.reset()[0]\n",
    "    for step in range(max_steps_per_episode):\n",
    "        state, reward, terminated, truncated, info = env.step(policy(state))\n",
    "        rewards_test[episode] += reward\n",
    "        done = terminated or truncated\n",
    "        if done:\n",
    "            break"
   ]
  },
  {
   "cell_type": "code",
   "execution_count": 21,
   "metadata": {},
   "outputs": [
    {
     "data": {
      "text/plain": [
       "np.float64(-13.0)"
      ]
     },
     "execution_count": 21,
     "metadata": {},
     "output_type": "execute_result"
    }
   ],
   "source": [
    "np.mean(rewards_test)"
   ]
  },
  {
   "cell_type": "markdown",
   "metadata": {
    "id": "g3uOXaA8fKxe"
   },
   "source": [
    "Play the cliff walking game in a (rendered) human environment:"
   ]
  },
  {
   "cell_type": "code",
   "execution_count": 22,
   "metadata": {
    "id": "pm9GIAYQzDCE"
   },
   "outputs": [],
   "source": [
    "from IPython.display import clear_output\n",
    "import time\n",
    "\n"
   ]
  },
  {
   "cell_type": "code",
   "execution_count": null,
   "metadata": {
    "colab": {
     "base_uri": "https://localhost:8080/"
    },
    "executionInfo": {
     "elapsed": 26612,
     "status": "ok",
     "timestamp": 1618322057094,
     "user": {
      "displayName": "Marjon Blondeel",
      "photoUrl": "https://lh3.googleusercontent.com/a-/AOh14Gg1bZUZhj06leL74e2Mn-eu1NyztKgDXIMJdj6RgQ=s64",
      "userId": "07230704137495875448"
     },
     "user_tz": -120
    },
    "id": "1XA645-hzGT7",
    "outputId": "c09846b5-608b-46c9-a118-5f6b976ad908"
   },
   "outputs": [
    {
     "ename": "NameError",
     "evalue": "name 'prind' is not defined",
     "output_type": "error",
     "traceback": [
      "\u001b[0;31m---------------------------------------------------------------------------\u001b[0m",
      "\u001b[0;31mNameError\u001b[0m                                 Traceback (most recent call last)",
      "Cell \u001b[0;32mIn[23], line 3\u001b[0m\n\u001b[1;32m      1\u001b[0m env \u001b[38;5;241m=\u001b[39m gym\u001b[38;5;241m.\u001b[39mmake(\u001b[38;5;124m\"\u001b[39m\u001b[38;5;124mCliffWalking-v0\u001b[39m\u001b[38;5;124m\"\u001b[39m, render_mode\u001b[38;5;241m=\u001b[39m\u001b[38;5;124m\"\u001b[39m\u001b[38;5;124mhuman\u001b[39m\u001b[38;5;124m\"\u001b[39m)\n\u001b[1;32m      2\u001b[0m state \u001b[38;5;241m=\u001b[39m env\u001b[38;5;241m.\u001b[39mreset()[\u001b[38;5;241m0\u001b[39m]\n\u001b[0;32m----> 3\u001b[0m \u001b[43mprind\u001b[49m(env\u001b[38;5;241m.\u001b[39mrender())\n\u001b[1;32m      5\u001b[0m \u001b[38;5;28;01mfor\u001b[39;00m step \u001b[38;5;129;01min\u001b[39;00m \u001b[38;5;28mrange\u001b[39m(max_steps_per_episode):\n\u001b[1;32m      6\u001b[0m     time\u001b[38;5;241m.\u001b[39msleep(\u001b[38;5;241m0.5\u001b[39m)\n",
      "\u001b[0;31mNameError\u001b[0m: name 'prind' is not defined"
     ]
    },
    {
     "ename": "",
     "evalue": "",
     "output_type": "error",
     "traceback": [
      "\u001b[1;31mThe Kernel crashed while executing code in the current cell or a previous cell. \n",
      "\u001b[1;31mPlease review the code in the cell(s) to identify a possible cause of the failure. \n",
      "\u001b[1;31mClick <a href='https://aka.ms/vscodeJupyterKernelCrash'>here</a> for more info. \n",
      "\u001b[1;31mView Jupyter <a href='command:jupyter.viewOutput'>log</a> for further details."
     ]
    }
   ],
   "source": [
    "env = gym.make(\"CliffWalking-v0\", render_mode=\"human\")\n",
    "state = env.reset()[0]\n",
    "prind(env.render())\n",
    "\n",
    "for step in range(max_steps_per_episode):\n",
    "    time.sleep(0.5)\n",
    "    state, reward, terminated, truncated, info = env.step(policy(state))\n",
    "    terminated = bool(terminated)\n",
    "    truncated = bool(truncated)\n",
    "    frame = env.render()  # This returns the current frame as an array\n",
    "    done = terminated or truncated\n",
    "    if done:\n",
    "        break\n",
    "\n",
    "if state == 47:\n",
    "    print(\"You reached the goal!\")\n",
    "else:\n",
    "    print(\"You fell off the cliff!\")"
   ]
  },
  {
   "cell_type": "code",
   "execution_count": null,
   "metadata": {
    "id": "ah6pzMUjfzqZ"
   },
   "outputs": [],
   "source": [
    "env.close()"
   ]
  }
 ],
 "metadata": {
  "colab": {
   "name": "Copy of 2_ReinforcementLearningIntro_solutions.ipynb",
   "provenance": [
    {
     "file_id": "1_lfz8dLcph3SxvIXFRMEShABtetZPUsU",
     "timestamp": 1640256006360
    }
   ],
   "toc_visible": true
  },
  "kernelspec": {
   "display_name": ".venv",
   "language": "python",
   "name": "python3"
  },
  "language_info": {
   "codemirror_mode": {
    "name": "ipython",
    "version": 3
   },
   "file_extension": ".py",
   "mimetype": "text/x-python",
   "name": "python",
   "nbconvert_exporter": "python",
   "pygments_lexer": "ipython3",
   "version": "3.12.9"
  }
 },
 "nbformat": 4,
 "nbformat_minor": 4
}
