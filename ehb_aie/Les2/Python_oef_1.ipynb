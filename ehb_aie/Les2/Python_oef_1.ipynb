{
 "cells": [
  {
   "cell_type": "markdown",
   "id": "cd1ba928",
   "metadata": {},
   "source": [
    "# Python oefeningen deel 1"
   ]
  },
  {
   "cell_type": "markdown",
   "id": "161b0875",
   "metadata": {},
   "source": [
    "## Oefening 1\n",
    "Maak een functie hello_AI() zodat de volgende zin in de Shell wordt geprint nadat je je programma uitvoert:\n",
    "<br>\n",
    "\"Ik ben benieuwd wat we nog gaan leren bij AI Essentials.\""
   ]
  },
  {
   "cell_type": "code",
   "execution_count": 1,
   "id": "84fce911",
   "metadata": {},
   "outputs": [
    {
     "name": "stdout",
     "output_type": "stream",
     "text": [
      "Ik ben benieuwd wat we nog gaan leren bij AI Essentials.\n"
     ]
    }
   ],
   "source": [
    "def hello_AI():\n",
    "    return print(\"Ik ben benieuwd wat we nog gaan leren bij AI Essentials.\");\n",
    "\n",
    "hello_AI()"
   ]
  },
  {
   "cell_type": "markdown",
   "id": "58eeb437",
   "metadata": {},
   "source": [
    "## Oefening 2\n",
    "Omwille van de coronamaatregelen, mag de bakker nog maar drie klanten in de winkel toelaten. De bakker wil daarom een lamp aan de deur hangen die de klanten kan aangeven of ze meteen binnen mogen of nog even moeten wachten totdat er iemand buiten komt: <br>\n",
    "<li>Groen: kom binnen</li>\n",
    "<li>Rood: even wachten aub</li>\n",
    "\n",
    "Schrijf een functie corona_light() die de kleur van de lamp print in de Shell in functie van het aantal aanwezige klanten bij de bakker."
   ]
  },
  {
   "cell_type": "code",
   "execution_count": 2,
   "id": "dfd3b008",
   "metadata": {},
   "outputs": [
    {
     "name": "stdout",
     "output_type": "stream",
     "text": [
      "Rood: even wachten aub\n",
      "Groen: kom binnen\n"
     ]
    }
   ],
   "source": [
    "def corona_light(klanten):\n",
    "            if klanten < 3:\n",
    "                print(\"Groen: kom binnen\")\n",
    "            else:\n",
    "                print(\"Rood: even wachten aub\")\n",
    "\n",
    "corona_light(4)\n",
    "corona_light(2)"
   ]
  },
  {
   "cell_type": "markdown",
   "id": "3d0f5f64",
   "metadata": {},
   "source": [
    "## Oefening 3\n",
    "De Brusselse politie wil dit jaar zwaar inzetten op het controleren van dronken fietsers. De boetes worden hoger naarmate het alcoholpercentage in je bloed. Bedenk een oplossing om de te betalen boete te berekenen voor een gegeven alcoholpercentage. Schrijf een functie calc_Fine() die de boete in de Shell print op basis van het geblazen alcoholpercentage: <br>\n",
    "\n",
    "<li>Alcoholpercentage kleiner dan 0.5‰ : geen boete</li>\n",
    "<li>Op schijf 0.5‰ tot en met 0.8‰: €50 boete</li>\n",
    "<li>Op schijf groter dan 0.8‰ tot en met 1.5‰: de boete stijgt lineair vanaf €50 bij 0.8‰ tot\n",
    "€150 bij 1.5‰</li>\n",
    "<li>Als alcoholpercentage > 1.5‰: €250 boete en je bent in levensgevaar</li>\n",
    "<li>Als er een foutieve (negatieve) waarde wordt ingegeven: Error</li>\n",
    "\n",
    "In deze regels wordt het alcoholpercentage uitgedrukt in promille, in je code kan je dit vertalen naar een float: 0.5‰ wordt 0,5. Let op, de komma bij decimalen is een punt in Python."
   ]
  },
  {
   "cell_type": "code",
   "execution_count": 3,
   "id": "212138d8",
   "metadata": {},
   "outputs": [
    {
     "name": "stdout",
     "output_type": "stream",
     "text": [
      "Jouw boete bedraagt 0 euro\n",
      "Jouw boete bedraagt 57.142857142857146 euro\n",
      "Je bent in levensgevaar\n",
      "Jouw boete bedraagt 250 euro\n",
      "Je alcoholpromille kan niet negatief zijn\n"
     ]
    }
   ],
   "source": [
    "def calc_Fine(alcohol_promille):\n",
    "    if alcohol_promille < 0:\n",
    "        raise ValueError('Je alcoholpromille kan niet negatief zijn')\n",
    "    if alcohol_promille < 0.5:\n",
    "        fine = 0\n",
    "    elif alcohol_promille <= 0.8:\n",
    "        fine = 50\n",
    "    elif alcohol_promille <= 1.5:\n",
    "        slope = (150-100)/(1.5-0.8)\n",
    "        y_intercept = 50 - slope * 0.8 \n",
    "        fine = slope * alcohol_promille + y_intercept\n",
    "    else:\n",
    "        fine = 250\n",
    "        print('Je bent in levensgevaar')\n",
    "    return print(f'Jouw boete bedraagt {fine} euro')\n",
    "\n",
    "calc_Fine(0.4)\n",
    "calc_Fine(0.9)\n",
    "calc_Fine(1.8)\n",
    "try:\n",
    "    calc_Fine(-2)\n",
    "except ValueError as e:\n",
    "    print(e)"
   ]
  },
  {
   "cell_type": "markdown",
   "id": "ed10f6d3",
   "metadata": {},
   "source": [
    "## Oefening 4\n",
    "Je werkt voor een kleine Brusselse startup die intelligente waterkokers maakt. Business is booming, dus je wilt je product wereldwijd verkopen. Je zal er dus voor moeten zorgen dat je toestel werkt met temperaturen in °C en °F.\n",
    "\n",
    "<ul>\n",
    "<li>\n",
    "    Definieer een functie F_to_C() die temperaturen van °F naar °C kan omrekenen. De functie heeft één getal (temperatuur in °F) als parameter. De functie geeft de temperatuur in °C als return-waarde. De conversieformule is\n",
    "    <br> °C = ( °F - 32 ) / 1.8\n",
    "    </li>\n",
    "<li>Definieer een andere functie alert_user() die onderstaande meldingen voor de gebruiker toont. De functie geeft dus een string terug als return-waarde. De functie heeft één getal (temperatuur in °C) als parameter.\n",
    "  <ul>\n",
    "      <li>Is het water warmer dan 100°C: “Water kookt”</li>\n",
    "      <li>Tussen 85°C en 90°C: “Klaar om thee te zetten”</li>\n",
    "      <li>Tussen 40°C en 45°C: “Perfect voor een voetbad”</li>\n",
    "      <li>In elk ander geval: “Het water is momenteel X °C”, waar X de juiste temperatuur\n",
    "voorstelt.</li>\n",
    "  </ul>\n",
    "</li>\n",
    "</ul>\n",
    "\n",
    "Schrijf een script waarin je beide functies aanroept, hun return-waarde in een\n",
    "variabele opslaat en tot slot de melding voor de gebruiker print. Er staat dus geen print- statement in de alert_user functie."
   ]
  },
  {
   "cell_type": "code",
   "execution_count": 4,
   "id": "2b21db5c",
   "metadata": {},
   "outputs": [
    {
     "name": "stdout",
     "output_type": "stream",
     "text": [
      "Het water is momenteel -0.56 ºC\n",
      "Het water is momenteel 55.00 ºC\n",
      "Water kookt\n"
     ]
    }
   ],
   "source": [
    "def F_to_C(F):\n",
    "    C = (F - 32)/1.8\n",
    "    def alert_user(C):\n",
    "        if C > 100:\n",
    "            alert = \"Water kookt\"\n",
    "        elif 85 <= C <= 90:\n",
    "            alert = \"Klaar om thee te zetten\"\n",
    "        elif 40 <= C <= 45:\n",
    "            alert = \"Perfect voor een voetbad\"\n",
    "        else:\n",
    "            alert = f\"Het water is momenteel {C:.2f} ºC\"\n",
    "        return alert\n",
    "    return alert_user(C)\n",
    "\n",
    "F = 31\n",
    "alert_message = F_to_C(F)\n",
    "print(alert_message)\n",
    "\n",
    "F = 131\n",
    "alert_message = F_to_C(F)\n",
    "print(alert_message)\n",
    "\n",
    "F = 231\n",
    "alert_message = F_to_C(F)\n",
    "print(alert_message)\n"
   ]
  },
  {
   "cell_type": "markdown",
   "id": "56b1059e",
   "metadata": {},
   "source": [
    "## Oefening 5\n",
    "\n",
    "De EHB wil klassen vol goede studenten belonen met gratis bonnetjes voor de cafeteria. Als goede student heb jij de taak gekregen een programma te schrijven dat aangeeft of een klas een goede klas is of niet. In een goede klas legt elke student elk examen af. Als minstens één student een 0/20 heeft, komt de klas niet in aanmerking voor de titel. Als het gemiddelde van een klas boven 12/20 ligt, krijgt de klas bonnetjes. Vanaf 16/20 krijgt de klas een gratis etentje. Ligt het gemiddelde op 20/20 dan wordt de examenombuds verwittigd omdat de klas van fraude verdacht wordt.\n",
    "<br><br>\n",
    "Omdat we nog niet met lijsten hebben leren werken, gaan we er van uit dat elke klas exact 5 studenten telt. Scores zijn gehele getallen van 0 tot 20. Je mag ervan uitgaan dat enkel getallen van 0 tot en met 20 worden ingegeven.\n",
    "\n",
    "<ul>\n",
    "    <li>\n",
    "        Definieer een functie average() die als parameters vijf getallen heeft: de scores van de studenten. Als return-waarde geeft de functie het gemiddelde terug.\n",
    "    </li>\n",
    "    <li>\n",
    "        Definieer een functie has_zero() die als parameters ook de vijf scores heeft. Als minstens één van die scores een nul is, is de return-waarde de Booleaanse waarde True, anders False.\n",
    "    </li>\n",
    "    <li>\n",
    "        Definieer een functie reward_class() die twee parameters heeft: de gemiddelde score van een klas en of er al dan niet een nul behaald is in die klas (= Booleaanse waarde). Deze functie returnt een string als volgt:\n",
    "        <ul>\n",
    "            <li>\n",
    "                Nul behaald: “Jammer, geen prijs”\n",
    "            </li>\n",
    "            <li>\n",
    "                Geen nul behaald:\n",
    "                <ul>\n",
    "                    <li>\n",
    "                        < 12/20: “Jammer, geen prijs.”\n",
    "                    </li>\n",
    "                    <li>\n",
    "                        > = 12 en < 16: “Gratis bonnetjes”\n",
    "                    </li>\n",
    "                    <li>\n",
    "                        >= 16 en < 20: “Gratis etentje”\n",
    "                    </li>\n",
    "                    <li>\n",
    "                        = 20: “Examenombuds wordt gecontacteerd wegens ongeziene\n",
    "monsterscore”\n",
    "                    </li>\n",
    "                </ul>\n",
    "            </li>\n",
    "        </ul>\n",
    "    </li>\n",
    "</ul>\n",
    "\n",
    "<br>\n",
    "Schrijf een script dat alle functies aanroept en hun return-waarde in variabelen\n",
    "opslaat. Zorg dat je programma de uiteindelijke melding voor de gebruiker naar de Shell print zonder dat er print-statements in de functiedefinities staan."
   ]
  },
  {
   "cell_type": "code",
   "execution_count": 5,
   "id": "eee64d95",
   "metadata": {},
   "outputs": [
    {
     "name": "stdout",
     "output_type": "stream",
     "text": [
      "Gratis etentje\n"
     ]
    }
   ],
   "source": [
    "def average(a,b,c,d,e):\n",
    "    return (a+b+c+d+e)/5\n",
    "\n",
    "def has_zero(a,b,c,d,e):\n",
    "    return 0 in (a,b,c,d,e)\n",
    "\n",
    "def reward_class(a,b,c,d,e):\n",
    "    avg = average(a,b,c,d,e)\n",
    "    zero = has_zero(a,b,c,d,e)\n",
    "\n",
    "    if zero or avg < 12:\n",
    "        return \"Jammer, geen prijs\"\n",
    "    elif 12 <= avg < 16:\n",
    "        return \"Gratis bonnetjes\"\n",
    "    elif 16 <= avg < 20:\n",
    "        return \"Gratis etentje\"\n",
    "    else:\n",
    "        return \"Examenombuds wordt gecontacteerd wegens ongeziene monsterscore\"\n",
    "\n",
    "result = reward_class(20,14,13,20,20)\n",
    "print(result)"
   ]
  },
  {
   "cell_type": "markdown",
   "id": "666ca340",
   "metadata": {},
   "source": [
    "## Oefening 6\n",
    "\n",
    "Schrijf een functie print_odd(number) die alle oneven getallen kan weergeven tussen 1 en een gegeven getal.\n",
    "<br><br>\n",
    "In je code kan je de volgende code gebruiken: if i%2!=0. Denk echter ook eens na of je dezelfde functie kan implementeren door if i%2==0 te gebruiken."
   ]
  },
  {
   "cell_type": "code",
   "execution_count": 6,
   "id": "0b0df6f8",
   "metadata": {},
   "outputs": [
    {
     "name": "stdout",
     "output_type": "stream",
     "text": [
      "1\n",
      "3\n",
      "5\n",
      "7\n",
      "9\n"
     ]
    }
   ],
   "source": [
    "def print_odd(number):\n",
    "    for n in range(number):\n",
    "        if n%2==0:\n",
    "            None\n",
    "        else:\n",
    "            print(n)\n",
    "\n",
    "print_odd(10)"
   ]
  },
  {
   "cell_type": "markdown",
   "id": "8a70145e",
   "metadata": {},
   "source": [
    "## Oefening 7\n",
    "\n",
    "Schrijf een functie (return-statement niet vergeten) die de grootste gemeenschappelijke deler van twee getallen terug kan geven. In wiskunde is de grootste gemeenschappelijke deler (ggd) van twee of meer gehele getallen, die niet allemaal nul zijn, het grootste positieve gehele getal dat elk van de gehele getallen verdeelt. Bijvoorbeeld, de ggd van 8 en 12 is 4."
   ]
  },
  {
   "cell_type": "code",
   "execution_count": 7,
   "id": "e8fda6be",
   "metadata": {},
   "outputs": [
    {
     "name": "stdout",
     "output_type": "stream",
     "text": [
      "3\n",
      "1\n"
     ]
    }
   ],
   "source": [
    "def ggd(a, b):\n",
    "    while b != 0:\n",
    "        c = b\n",
    "        b = a % b\n",
    "        a = c\n",
    "    return a\n",
    "\n",
    "def ggd_2(a,b):\n",
    "    c = 1\n",
    "    for c in range(1, max(a,b)):\n",
    "        if(a%c == 0 and b%c == 0):\n",
    "            return c\n",
    "    return c\n",
    "\n",
    "ggd_calc = ggd(15,27)\n",
    "print(ggd_calc)\n",
    "\n",
    "ggd_calc = ggd_2(15,27)\n",
    "print(ggd_calc)\n"
   ]
  },
  {
   "cell_type": "markdown",
   "id": "f632cdf9",
   "metadata": {},
   "source": [
    "## Oefening 8\n",
    "Implementeer de functie multipliers(number) die de eerste tien vermenigvuldigingen van het getal kan tonen op één lijn, verdeeld door tabs. multipliers(7) ziet er dan uit als volgt:\n",
    "\n",
    "<p>7   14   21   28   35   42   49   56   63   70</p>"
   ]
  },
  {
   "cell_type": "code",
   "execution_count": 8,
   "id": "70156391",
   "metadata": {},
   "outputs": [
    {
     "name": "stdout",
     "output_type": "stream",
     "text": [
      "8\t16\t24\t32\t40\t48\t56\t64\t72\t80\t"
     ]
    }
   ],
   "source": [
    "def multipliers(number):\n",
    "    for n in range(1,11):\n",
    "        mult = n * number\n",
    "        print(f'{mult}', end='\\t')\n",
    "\n",
    "number = 8\n",
    "multipliers(number)\n"
   ]
  },
  {
   "cell_type": "markdown",
   "id": "f38dcc64",
   "metadata": {},
   "source": [
    "## Oefening 9\n",
    "\n",
    "Je wilt weten hoe lang je moet wachten om een bepaalde aankoop te kunnen doen. Je hebt informatie over de aankoopprijs, besteedbaar budget op dit moment, jaarlijks spaarbedrag, de rente op je spaarrekening en de te verwachten inflatie (weliswaar constant over de komende jaren). Neem aan dat de prijs jaarlijks wordt geïndexeerd. M.a.w., elk jaar evolueren de prijs en het budget volgens de volgende formules:\n",
    "<br><br>\n",
    "budget = budget * (1+interest) + annual_savings\n",
    "<br>\n",
    "price = price * (1+inflation)\n",
    "<br><br>\n",
    "Bedenk een oplossing zodat je jaar na jaar kunt zien hoe prijs en budget evolueren en die je finaal ook vertelt hoe lang je zal moeten wachten tot je kan overgaan tot de aankoop. Implementeer dit in de functie wachten_tot().\n",
    "<br><br>\n",
    "Zo zou je voor een aankoop van 25000€ met een huidig budget van 12000€ en een jaarlijks spaarbedrag van 2500€, een inflatie van 2% en een spaarinterest van 1%, 7 jaar moeten wachten."
   ]
  },
  {
   "cell_type": "code",
   "execution_count": 9,
   "id": "acaf6ceb",
   "metadata": {},
   "outputs": [
    {
     "name": "stdout",
     "output_type": "stream",
     "text": [
      "Na 1 jaar heb je 14620.00 euro gespaard en is de huidige aankoopprijs 25500.00 euro. Je moet nog 10880.00 sparen\n",
      "Na 2 jaar heb je 17266.20 euro gespaard en is de huidige aankoopprijs 26010.00 euro. Je moet nog 8743.80 sparen\n",
      "Na 3 jaar heb je 19938.86 euro gespaard en is de huidige aankoopprijs 26530.20 euro. Je moet nog 6591.34 sparen\n",
      "Na 4 jaar heb je 22638.25 euro gespaard en is de huidige aankoopprijs 27060.80 euro. Je moet nog 4422.55 sparen\n",
      "Na 5 jaar heb je 25364.63 euro gespaard en is de huidige aankoopprijs 27602.02 euro. Je moet nog 2237.39 sparen\n",
      "Na 6 jaar heb je 28118.28 euro gespaard en is de huidige aankoopprijs 28154.06 euro. Je moet nog 35.78 sparen\n",
      "Je moet 7 jaar wachten\n"
     ]
    }
   ],
   "source": [
    "'''\n",
    "price = float(input(\"Wat is de aankoopprijs?\"))\n",
    "savings = float(input(\"Wat is je opgespaard bedrag?\"))\n",
    "annual_savings = float(input(\"Wat is je jaarlijks spaarbedrag?\"))\n",
    "inflation = float(input(\"Wat is de inflatie in %?\"))\n",
    "interest = float(input(\"Wat is de rente op je spaarrekening in %?\"))\n",
    "'''\n",
    "def wachten_tot(price, savings, annual_savings,inflation,interest):\n",
    "    year = 0\n",
    "    while price > savings:\n",
    "        year +=1\n",
    "        price *= (1+inflation/100)\n",
    "        savings = savings * (1+interest/100) + annual_savings\n",
    "        if price > savings:\n",
    "            print(f'Na {year} jaar heb je {savings:.2f} euro gespaard en is de huidige aankoopprijs {price:.2f} euro. Je moet nog {price - savings:.2f} sparen')\n",
    "    print(f'Je moet {year} jaar wachten')\n",
    "\n",
    "price = 25000\n",
    "savings = 12000\n",
    "annual_savings = 2500\n",
    "inflation = 2\n",
    "interest = 1\n",
    "\n",
    "wachten_tot(price, savings, annual_savings,inflation,interest)"
   ]
  },
  {
   "cell_type": "markdown",
   "id": "c28210d4",
   "metadata": {},
   "source": [
    "## Oefening 10\n",
    "\n",
    "Laten we een spel ontwerpen. In het spel wordt een willekeurig geheel getal gegenereerd, bewaar dit als een variabele. Je hebt 5 keer om het getal te raden.\n",
    "\n",
    "<ul>\n",
    "    <li>\n",
    "        Als het getal dat je gokt groter is dan het willekeurige getal, geef dan \"te groot, nog _ kansen\" weer in het shellvenster;\n",
    "    </li>\n",
    "    <li>\n",
    "        Als het getal dat je gokt kleiner is dan het willekeurige getal, geef dan \"te klein, nog _ kansen\" weer in het shellvenster;\n",
    "    </li>\n",
    "    <li>\n",
    "        Als het getal dat je gokt gelijk is aan het willekeurige getal, drukt je \"Gefeliciteerd, correcte gok!\" af.\n",
    "Als je na 5 keer raden nog steeds niet het juiste antwoord hebt gegeven, geef dan “Game over, het juiste antwoord was _” weer.\n",
    "    </li>\n",
    "</ul>"
   ]
  },
  {
   "cell_type": "code",
   "execution_count": 10,
   "id": "d482aeed",
   "metadata": {},
   "outputs": [
    {
     "name": "stdout",
     "output_type": "stream",
     "text": [
      "Te klein, nog 4 kansen.\n",
      "Te klein, nog 3 kansen.\n",
      "Te klein, nog 2 kansen.\n",
      "Te klein, nog 1 kansen.\n",
      "Te klein, nog 0 kansen.\n",
      "Game over, het juiste antwoord was 9.\n"
     ]
    }
   ],
   "source": [
    "import random\n",
    "def getal_raden():\n",
    "    random_getal = random.randint(1, 100)\n",
    "    pogingen = 5\n",
    "\n",
    "    for poging in range(1, pogingen + 1):\n",
    "        gok = int(input(f\"Kans {poging}: doe een gok\"))\n",
    "\n",
    "        if gok > random_getal:\n",
    "            print(f\"Te groot, nog {pogingen - poging} kansen.\")\n",
    "        elif gok < random_getal:\n",
    "            print(f\"Te klein, nog {pogingen - poging} kansen.\")\n",
    "        else:\n",
    "            print(\"Gefeliciteerd, correcte gok!\")\n",
    "            break\n",
    "    else:\n",
    "        print(f\"Game over, het juiste antwoord was {random_getal}.\")\n",
    "\n",
    "# Start het spel\n",
    "getal_raden()"
   ]
  }
 ],
 "metadata": {
  "kernelspec": {
   "display_name": ".venv",
   "language": "python",
   "name": "python3"
  },
  "language_info": {
   "codemirror_mode": {
    "name": "ipython",
    "version": 3
   },
   "file_extension": ".py",
   "mimetype": "text/x-python",
   "name": "python",
   "nbconvert_exporter": "python",
   "pygments_lexer": "ipython3",
   "version": "3.12.9"
  }
 },
 "nbformat": 4,
 "nbformat_minor": 5
}
