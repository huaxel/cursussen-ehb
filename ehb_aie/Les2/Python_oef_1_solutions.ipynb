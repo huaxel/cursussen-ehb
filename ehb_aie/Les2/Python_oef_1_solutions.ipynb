{
 "cells": [
  {
   "cell_type": "markdown",
   "id": "cd1ba928",
   "metadata": {},
   "source": [
    "# Pyhton oefeningen deel 1"
   ]
  },
  {
   "cell_type": "markdown",
   "id": "161b0875",
   "metadata": {},
   "source": [
    "## Oefening 1\n",
    "Maak een functie hello_AI() zodat de volgende zin in de Shell wordt geprint nadat je je programma uitvoert:\n",
    "<br>\n",
    "\"Ik ben benieuwd wat we nog gaan leren bij AI Essentials.\""
   ]
  },
  {
   "cell_type": "code",
   "execution_count": 1,
   "id": "84fce911",
   "metadata": {},
   "outputs": [
    {
     "name": "stdout",
     "output_type": "stream",
     "text": [
      "Ik ben benieuwd wat we nog gaan leren bij AI Essentials.\n"
     ]
    }
   ],
   "source": [
    "def hello_AI():\n",
    "    print(\"Ik ben benieuwd wat we nog gaan leren bij AI Essentials.\")\n",
    "    \n",
    "hello_AI()"
   ]
  },
  {
   "cell_type": "markdown",
   "id": "58eeb437",
   "metadata": {},
   "source": [
    "## Oefening 2\n",
    "Omwille van de coronamaatregelen, mag de bakker nog maar drie klanten in de winkel toelaten. De bakker wil daarom een lamp aan de deur hangen die de klanten kan aangeven of ze meteen binnen mogen of nog even moeten wachten totdat er iemand buiten komt: <br>\n",
    "<li>Groen: kom binnen</li>\n",
    "<li>Rood: even wachten aub</li>\n",
    "\n",
    "Schrijf een functie corona_light() die de kleur van de lamp print in de Shell in functie van het aantal aanwezige klanten bij de bakker."
   ]
  },
  {
   "cell_type": "code",
   "execution_count": null,
   "id": "c605a4d8",
   "metadata": {},
   "outputs": [],
   "source": []
  },
  {
   "cell_type": "code",
   "execution_count": 3,
   "id": "dfd3b008",
   "metadata": {},
   "outputs": [
    {
     "name": "stdout",
     "output_type": "stream",
     "text": [
      "rood\n",
      "groen\n"
     ]
    }
   ],
   "source": [
    "def corona_light(aanwezig):\n",
    "    if (aanwezig > 3):\n",
    "        print(\"rood\")\n",
    "    else:\n",
    "        print(\"groen\")\n",
    "        \n",
    "corona_light(4)\n",
    "corona_light(1)"
   ]
  },
  {
   "cell_type": "markdown",
   "id": "3d0f5f64",
   "metadata": {},
   "source": [
    "## Oefening 3\n",
    "De Brusselse politie wil dit jaar zwaar inzetten op het controleren van dronken fietsers. De boetes worden hoger naarmate het alcoholpercentage in je bloed. Bedenk een oplossing om de te betalen boete te berekenen voor een gegeven alcoholpercentage. Schrijf een functie calc_Fine() die de boete in de Shell print op basis van het geblazen alcoholpercentage: <br>\n",
    "\n",
    "<li>Alcoholpercentage kleiner dan 0.5‰ : geen boete</li>\n",
    "<li>Op schijf 0.5‰ tot en met 0.8‰: €50 boete</li>\n",
    "<li>Op schijf groter dan 0.8‰ tot en met 1.5‰: de boete stijgt lineair vanaf €50 bij 0.8‰ tot\n",
    "€150 bij 1.5‰</li>\n",
    "<li>Als alcoholpercentage > 1.5‰: €250 boete en je bent in levensgevaar</li>\n",
    "<li>Als er een foutieve (negatieve) waarde wordt ingegeven: Error</li>\n",
    "\n",
    "In deze regels wordt het alcoholpercentage uitgedrukt in promille, in je code kan je dit vertalen naar een float: 0.5‰ wordt 0,5. Let op, de komma bij decimalen is een punt in Python."
   ]
  },
  {
   "cell_type": "code",
   "execution_count": 19,
   "id": "212138d8",
   "metadata": {},
   "outputs": [
    {
     "name": "stdout",
     "output_type": "stream",
     "text": [
      "Error\n",
      "geen boete\n",
      "€50 boete\n",
      "€104.0 boete\n",
      "€116.66666666666667 boete\n",
      "€130.0 boete\n",
      "€150.0 boete\n",
      "€250 boete en je bent in levensgevaar\n"
     ]
    }
   ],
   "source": [
    "def calc_Fine(alcoholpercentage):\n",
    "    if alcoholpercentage < 0:\n",
    "        print(\"Error\")\n",
    "    elif alcoholpercentage < 0.5:\n",
    "        print(\"geen boete\")\n",
    "    elif alcoholpercentage >= 0.5 and alcoholpercentage <= 0.8:\n",
    "        print(\"€50 boete\")\n",
    "    elif alcoholpercentage > 0.8 and alcoholpercentage <= 1.5:\n",
    "        boete = 50 + (100/1.5) * alcoholpercentage\n",
    "        print(f'€{boete} boete')\n",
    "    elif alcoholpercentage > 1.5:\n",
    "        print(\"€250 boete en je bent in levensgevaar\")\n",
    "        \n",
    "        \n",
    "calc_Fine(-1)\n",
    "calc_Fine(0.2)\n",
    "calc_Fine(0.6)\n",
    "calc_Fine(0.81)\n",
    "calc_Fine(1)\n",
    "calc_Fine(1.2)\n",
    "calc_Fine(1.5)\n",
    "calc_Fine(1.8)"
   ]
  },
  {
   "cell_type": "markdown",
   "id": "ed10f6d3",
   "metadata": {},
   "source": [
    "## Oefening 4\n",
    "Je werkt voor een kleine Brusselse startup die intelligente waterkokers maakt. Business is booming, dus je wilt je product wereldwijd verkopen. Je zal er dus voor moeten zorgen dat je toestel werkt met temperaturen in °C en °F.\n",
    "\n",
    "<ul>\n",
    "<li>\n",
    "    Definieer een functie F_to_C() die temperaturen van °F naar °C kan omrekenen. De functie heeft één getal (temperatuur in °F) als parameter. De functie geeft de temperatuur in °C als return-waarde. De conversieformule is\n",
    "    <br> °C = ( °F - 32 ) / 1.8\n",
    "    </li>\n",
    "<li>Definieer een andere functie alert_user() die onderstaande meldingen voor de gebruiker toont. De functie geeft dus een string terug als return-waarde. De functie heeft één getal (temperatuur in °C) als parameter.\n",
    "  <ul>\n",
    "      <li>Is het water warmer dan 100°C: “Water kookt”</li>\n",
    "      <li>Tussen 85°C en 90°C: “Klaar om thee te zetten”</li>\n",
    "      <li>Tussen 40°C en 45°C: “Perfect voor een voetbad”</li>\n",
    "      <li>In elk ander geval: “Het water is momenteel X °C”, waar X de juiste temperatuur\n",
    "voorstelt.</li>\n",
    "  </ul>\n",
    "</li>\n",
    "</ul>\n",
    "\n",
    "Schrijf een script waarin je beide functies aanroept, hun return-waarde in een\n",
    "variabele opslaat en tot slot de melding voor de gebruiker print. Er staat dus geen print- statement in de alert_user functie."
   ]
  },
  {
   "cell_type": "code",
   "execution_count": 31,
   "id": "2b21db5c",
   "metadata": {},
   "outputs": [
    {
     "name": "stdout",
     "output_type": "stream",
     "text": [
      "Klaar om thee te zette\n",
      "Perfect voor een voetbad\n",
      "Het water is momenteel 32.22222222222222 °C\n"
     ]
    }
   ],
   "source": [
    "def F_to_C(f):\n",
    "    c = (f - 32) / 1.8\n",
    "    return c\n",
    "\n",
    "def alert_user(c):\n",
    "    if c > 100:\n",
    "        return \"Water kookt!\"\n",
    "    elif c > 85 and c < 90:\n",
    "        return \"Klaar om thee te zetten\"\n",
    "    elif c > 40 and c < 45:\n",
    "        return \"Perfect voor een voetbad\"\n",
    "    else:\n",
    "        return f'Het water is momenteel {c} °C'\n",
    "        \n",
    "        \n",
    "c = F_to_C(190)\n",
    "alert = alert_user(c)\n",
    "print(alert)\n",
    "\n",
    "c = F_to_C(110)\n",
    "alert = alert_user(c)\n",
    "print(alert)\n",
    "\n",
    "c = F_to_C(90)\n",
    "alert = alert_user(c)\n",
    "print(alert)"
   ]
  },
  {
   "cell_type": "markdown",
   "id": "56b1059e",
   "metadata": {},
   "source": [
    "## Oefening 5\n",
    "\n",
    "De EHB wil klassen vol goede studenten belonen met gratis bonnetjes voor de cafeteria. Als goede student heb jij de taak gekregen een programma te schrijven dat aangeeft of een klas een goede klas is of niet. In een goede klas legt elke student elk examen af. Als minstens één student een 0/20 heeft, komt de klas niet in aanmerking voor de titel. Als het gemiddelde van een klas boven 12/20 ligt, krijgt de klas bonnetjes. Vanaf 16/20 krijgt de klas een gratis etentje. Ligt het gemiddelde op 20/20 dan wordt de examenombuds verwittigd omdat de klas van fraude verdacht wordt.\n",
    "<br><br>\n",
    "Omdat we nog niet met lijsten hebben leren werken, gaan we er van uit dat elke klas exact 5 studenten telt. Scores zijn gehele getallen van 0 tot 20. Je mag ervan uitgaan dat enkel getallen van 0 tot en met 20 worden ingegeven.\n",
    "\n",
    "<ul>\n",
    "    <li>\n",
    "        Definieer een functie average() die als parameters vijf getallen heeft: de scores van de studenten. Als return-waarde geeft de functie het gemiddelde terug.\n",
    "    </li>\n",
    "    <li>\n",
    "        Definieer een functie has_zero() die als parameters ook de vijf scores heeft. Als minstens één van die scores een nul is, is de return-waarde de Booleaanse waarde True, anders False.\n",
    "    </li>\n",
    "    <li>\n",
    "        Definieer een functie reward_class() die twee parameters heeft: de gemiddelde score van een klas en of er al dan niet een nul behaald is in die klas (= Booleaanse waarde). Deze functie returnt een string als volgt:\n",
    "        <ul>\n",
    "            <li>\n",
    "                Nul behaald: “Jammer, geen prijs”\n",
    "            </li>\n",
    "            <li>\n",
    "                Geen nul behaald:\n",
    "                <ul>\n",
    "                    <li>\n",
    "                        < 12/20: “Jammer, geen prijs.”\n",
    "                    </li>\n",
    "                    <li>\n",
    "                        > = 12 en < 16: “Gratis bonnetjes”\n",
    "                    </li>\n",
    "                    <li>\n",
    "                        >= 16 en < 20: “Gratis etentje”\n",
    "                    </li>\n",
    "                    <li>\n",
    "                        = 20: “Examenombuds wordt gecontacteerd wegens ongeziene\n",
    "monsterscore”\n",
    "                    </li>\n",
    "                </ul>\n",
    "            </li>\n",
    "        </ul>\n",
    "    </li>\n",
    "</ul>\n",
    "\n",
    "<br>\n",
    "Schrijf een script dat alle functies aanroept en hun return-waarde in variabelen\n",
    "opslaat. Zorg dat je programma de uiteindelijke melding voor de gebruiker naar de Shell print zonder dat er print-statements in de functiedefinities staan."
   ]
  },
  {
   "cell_type": "code",
   "execution_count": 42,
   "id": "eee64d95",
   "metadata": {},
   "outputs": [
    {
     "data": {
      "text/plain": [
       "'Gratis bonnetjes'"
      ]
     },
     "execution_count": 42,
     "metadata": {},
     "output_type": "execute_result"
    }
   ],
   "source": [
    "def average(a, b, c, d, e):\n",
    "    return (a + b + c + d + e) /5\n",
    "\n",
    "def has_zero(a, b, c, d, e):\n",
    "    if (a == 0 or b == 0 or c == 0 or d == 0 or e == 0):\n",
    "        return True\n",
    "    else:\n",
    "        return False\n",
    "    \n",
    "def reward_class(avg, hasZero):\n",
    "    if hasZero:\n",
    "        return \"Jammer, geen prijs\"\n",
    "    elif avg < 12:\n",
    "        return \"Jammer geen prijs\"\n",
    "    elif avg >= 12 and avg < 16:\n",
    "        return \"Gratis bonnetjes\"\n",
    "    elif avg >= 16 and avg < 20:\n",
    "        return \"gratis etentje\"\n",
    "    elif avg == 20:\n",
    "        \"Examenombuds wordt gecontacteerd wegens ongeziene monsterscore\"\n",
    "        \n",
    "avg = average(10, 12, 10, 18, 15)\n",
    "hasZero = has_zero(10, 12, 10, 18, 15)\n",
    "reward = reward_class(avg, hasZero)\n",
    "reward"
   ]
  },
  {
   "cell_type": "markdown",
   "id": "666ca340",
   "metadata": {},
   "source": [
    "## Oefening 6\n",
    "\n",
    "Schrijf een functie print_odd(number) die alle oneven getallen kan weergeven tussen 1 en een gegeven getal.\n",
    "<br><br>\n",
    "In je code kan je de volgende code gebruiken: if i%2!=0. Denk echter ook eens na of je dezelfde functie kan implementeren door if i%2==0 te gebruiken."
   ]
  },
  {
   "cell_type": "code",
   "execution_count": 7,
   "id": "0b0df6f8",
   "metadata": {},
   "outputs": [
    {
     "name": "stdout",
     "output_type": "stream",
     "text": [
      "1\n",
      "3\n",
      "5\n",
      "7\n",
      "9\n",
      "1\n",
      "3\n",
      "5\n",
      "7\n",
      "9\n"
     ]
    }
   ],
   "source": [
    "def print_odd(number):\n",
    "    for i in range(1,number):\n",
    "        if i % 2 != 0:\n",
    "            print(i)\n",
    "            \n",
    "def print_odd2(number):\n",
    "    for i in range(1,number):\n",
    "        if i % 2 == 0:\n",
    "            continue\n",
    "        else:\n",
    "            print(i)\n",
    "            \n",
    "print_odd(10)\n",
    "\n",
    "print_odd2(10)"
   ]
  },
  {
   "cell_type": "markdown",
   "id": "8a70145e",
   "metadata": {},
   "source": [
    "## Oefening 7\n",
    "\n",
    "Schrijf een functie (return-statement niet vergeten) die de grootste gemeenschappelijke deler van twee getallen terug kan geven. In wiskunde is de grootste gemeenschappelijke deler (ggd) van twee of meer gehele getallen, die niet allemaal nul zijn, het grootste positieve gehele getal dat elk van de gehele getallen verdeelt. Bijvoorbeeld, de ggd van 8 en 12 is 4."
   ]
  },
  {
   "cell_type": "code",
   "execution_count": 39,
   "id": "e8fda6be",
   "metadata": {},
   "outputs": [
    {
     "name": "stdout",
     "output_type": "stream",
     "text": [
      "4\n",
      "4\n"
     ]
    }
   ],
   "source": [
    "def ggd(a, b):\n",
    "    result = 1\n",
    "    for i in range(1, max(a,b)):\n",
    "        if (a%i == 0 and b%i == 0):\n",
    "            result = i\n",
    "    return result\n",
    "\n",
    "result = ggd(8, 12)\n",
    "print(result)\n",
    "\n",
    "result = ggd(12, 8)\n",
    "print(result)"
   ]
  },
  {
   "cell_type": "markdown",
   "id": "f632cdf9",
   "metadata": {},
   "source": [
    "## Oefening 8\n",
    "Implementeer de functie multipliers(number) die de eerste tien vermenigvuldigingen van het getal kan tonen op één lijn, verdeeld door tabs. multipliers(7) ziet er dan uit als volgt:\n",
    "\n",
    "<p>7   14   21   28   35   42   49   56   63   70</p>"
   ]
  },
  {
   "cell_type": "code",
   "execution_count": 8,
   "id": "70156391",
   "metadata": {},
   "outputs": [
    {
     "name": "stdout",
     "output_type": "stream",
     "text": [
      "7\t14\t21\t28\t35\t42\t49\t56\t63\t70\t"
     ]
    }
   ],
   "source": [
    "def multipliers(number):\n",
    "    for i in range(1, 11):\n",
    "        print(number * i, end=\"\\t\")\n",
    "\n",
    "multipliers(7)"
   ]
  },
  {
   "cell_type": "markdown",
   "id": "f38dcc64",
   "metadata": {},
   "source": [
    "## Oefening 9\n",
    "\n",
    "Je wilt weten hoe lang je moet wachten om een bepaalde aankoop te kunnen doen. Je hebt informatie over de aankoopprijs, besteedbaar budget op dit moment, jaarlijks spaarbedrag, de rente op je spaarrekening en de te verwachten inflatie (weliswaar constant over de komende jaren). Neem aan dat de prijs jaarlijks wordt geïndexeerd. M.a.w., elk jaar evolueren de prijs en het budget volgens de volgende formules:\n",
    "<br><br>\n",
    "budget = budget * (1+interest) + annual_savings\n",
    "<br>\n",
    "price = price * (1+inflation)\n",
    "<br><br>\n",
    "Bedenk een oplossing zodat je jaar na jaar kunt zien hoe prijs en budget evolueren en die je finaal ook vertelt hoe lang je zal moeten wachten tot je kan overgaan tot de aankoop. Implementeer dit in de functie wachten_tot().\n",
    "<br><br>\n",
    "Zo zou je voor een aankoop van 25000€ met een huidig budget van 12000€ en een jaarlijks spaarbedrag van 2500€, een inflatie van 2% en een spaarinterest van 1%, 7 jaar moeten wachten."
   ]
  },
  {
   "cell_type": "code",
   "execution_count": null,
   "id": "acaf6ceb",
   "metadata": {},
   "outputs": [
    {
     "name": "stdout",
     "output_type": "stream",
     "text": [
      "Je moet 7 jaren wachten\n"
     ]
    }
   ],
   "source": [
    "def evolutie_price(price, inflation):\n",
    "    return price * (1+inflation)\n",
    "\n",
    "def evolutie_budget(budget, interest, annual_savings):\n",
    "    return budget * (1 + interest) + annual_savings\n",
    "\n",
    "def wachten_tot(aankoop_bedrag, huidig_budget, jaarlijks_spaarbedrag, inflatie, spaarinterest):\n",
    "    jaren = 0\n",
    "    \n",
    "    while huidig_budget < aankoop_bedrag:\n",
    "        aankoop_bedrag = evolutie_price(aankoop_bedrag, inflatie)\n",
    "        huidig_budget = evolutie_budget(huidig_budget, spaarinterest, jaarlijks_spaarbedrag)\n",
    "        jaren = jaren + 1\n",
    "        \n",
    "    return f'Je moet {jaren} jaren wachten'\n",
    "\n",
    "\n",
    "tot = wachten_tot(25000, 12000, 2500, 0.02, 0.01)\n",
    "print(tot)"
   ]
  },
  {
   "cell_type": "markdown",
   "id": "c28210d4",
   "metadata": {},
   "source": [
    "## Oefening 10\n",
    "\n",
    "Laten we een spel ontwerpen. In het spel wordt een willekeurig geheel getal gegenereerd, bewaar dit als een variabele. Je hebt 5 keer om het getal te raden.\n",
    "\n",
    "<ul>\n",
    "    <li>\n",
    "        Als het getal dat je gokt groter is dan het willekeurige getal, geef dan \"te groot, nog _ kansen\" weer in het shellvenster;\n",
    "    </li>\n",
    "    <li>\n",
    "        Als het getal dat je gokt kleiner is dan het willekeurige getal, geef dan \"te klein, nog _ kansen\" weer in het shellvenster;\n",
    "    </li>\n",
    "    <li>\n",
    "        Als het getal dat je gokt gelijk is aan het willekeurige getal, drukt je \"Gefeliciteerd, correcte gok!\" af.\n",
    "Als je na 5 keer raden nog steeds niet het juiste antwoord hebt gegeven, geef dan “Game over, het juiste antwoord was _” weer.\n",
    "    </li>\n",
    "</ul>"
   ]
  },
  {
   "cell_type": "code",
   "execution_count": 11,
   "id": "d482aeed",
   "metadata": {},
   "outputs": [
    {
     "name": "stdout",
     "output_type": "stream",
     "text": [
      "Doe een gok:\n",
      "2\n",
      "te klein, nog 4 kansen\n",
      "Doe een gok:\n",
      "2\n",
      "te klein, nog 3 kansen\n",
      "Doe een gok:\n",
      "2\n",
      "te klein, nog 2 kansen\n",
      "Doe een gok:\n",
      "2\n",
      "te klein, nog 1 kansen\n",
      "Doe een gok:\n",
      "2\n",
      "te klein, nog 0 kansen\n",
      "Game over, het juiste antwoord was 7\n"
     ]
    }
   ],
   "source": [
    "import random\n",
    "\n",
    "def raden():\n",
    "    antwoord = random.randint(1, 10)\n",
    "    poging = 5\n",
    "    solved = False\n",
    "    while(not solved and poging > 0):\n",
    "        gok = input('Doe een gok:\\n')\n",
    "        poging = poging - 1\n",
    "        \n",
    "        if int(gok) == antwoord:\n",
    "            solved = True\n",
    "        elif int(gok) > antwoord:\n",
    "            print(f'te groot, nog {poging} kansen')\n",
    "        elif int(gok) < antwoord:\n",
    "            print(f'te klein, nog {poging} kansen')\n",
    "            \n",
    "    if not solved:\n",
    "        print(f'Game over, het juiste antwoord was {antwoord}')\n",
    "    else:\n",
    "        print(\"Gefeliciteerd, correcte gok!\")\n",
    "    \n",
    "raden()"
   ]
  },
  {
   "cell_type": "code",
   "execution_count": null,
   "id": "2c7e5297",
   "metadata": {},
   "outputs": [],
   "source": []
  }
 ],
 "metadata": {
  "kernelspec": {
   "display_name": "Python 3 (ipykernel)",
   "language": "python",
   "name": "python3"
  },
  "language_info": {
   "codemirror_mode": {
    "name": "ipython",
    "version": 3
   },
   "file_extension": ".py",
   "mimetype": "text/x-python",
   "name": "python",
   "nbconvert_exporter": "python",
   "pygments_lexer": "ipython3",
   "version": "3.9.12"
  }
 },
 "nbformat": 4,
 "nbformat_minor": 5
}
