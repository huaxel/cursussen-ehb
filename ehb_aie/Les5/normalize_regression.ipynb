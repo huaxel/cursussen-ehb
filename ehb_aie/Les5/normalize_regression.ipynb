{
 "cells": [
  {
   "cell_type": "markdown",
   "id": "b471c61e",
   "metadata": {},
   "source": [
    "# Before vs after normalization comparison"
   ]
  },
  {
   "cell_type": "code",
   "execution_count": 1,
   "id": "775b64a8",
   "metadata": {},
   "outputs": [],
   "source": [
    "import pandas as pd\n",
    "import numpy as np\n",
    "import matplotlib.pyplot as plt\n",
    "from sklearn.model_selection import train_test_split\n",
    "from sklearn.metrics import mean_squared_error, r2_score\n",
    "from math import sqrt\n",
    "from sklearn.linear_model import LinearRegression\n",
    "from sklearn.neighbors import KNeighborsRegressor\n",
    "from sklearn.tree import DecisionTreeRegressor\n",
    "from sklearn import svm"
   ]
  },
  {
   "cell_type": "markdown",
   "id": "82df4fa4",
   "metadata": {},
   "source": [
    "## 1. Evaluation function"
   ]
  },
  {
   "cell_type": "code",
   "execution_count": 2,
   "id": "7241071c",
   "metadata": {},
   "outputs": [],
   "source": [
    "def evaluate_model(model, X_train, X_test, y_train, y_test):\n",
    "    ## Train the model and evaluate its performance\n",
    "    model.fit(X_train, y_train)\n",
    "    ## Make predictions on the training and test sets\n",
    "    y_pred = model.predict(X_test)\n",
    "\n",
    "    y_test = np.ravel(y_test)\n",
    "    y_pred = np.ravel(y_pred)\n",
    "    \n",
    "    ## Calculate the RMSE and R^2 score\n",
    "    results = {\n",
    "        'RMSE': sqrt(mean_squared_error(y_test, y_pred)),\n",
    "        'r2_score': r2_score(y_test, y_pred)\n",
    "    }\n",
    "    \n",
    "    return results\n"
   ]
  },
  {
   "cell_type": "code",
   "execution_count": 3,
   "id": "2cc7bfa9",
   "metadata": {},
   "outputs": [],
   "source": [
    "## Dictionary met models en parameters\n",
    "models = {\n",
    "    'Linear Regression': LinearRegression(),\n",
    "    'SVM (linear kernel)': svm.SVR(kernel='linear'),\n",
    "    'KNR (k=2)': KNeighborsRegressor(n_neighbors=2),\n",
    "    'Decision Tree': DecisionTreeRegressor()\n",
    "}"
   ]
  },
  {
   "cell_type": "markdown",
   "id": "04d0f4b7",
   "metadata": {},
   "source": [
    "## 2. Load dataset"
   ]
  },
  {
   "cell_type": "code",
   "execution_count": 4,
   "id": "91ca84a3",
   "metadata": {},
   "outputs": [],
   "source": [
    "df = pd.DataFrame(pd.read_csv('./mpg.csv'))"
   ]
  },
  {
   "cell_type": "code",
   "execution_count": 5,
   "id": "2dd89d3e",
   "metadata": {},
   "outputs": [
    {
     "data": {
      "application/vnd.microsoft.datawrangler.viewer.v0+json": {
       "columns": [
        {
         "name": "index",
         "rawType": "int64",
         "type": "integer"
        },
        {
         "name": "mpg",
         "rawType": "float64",
         "type": "float"
        },
        {
         "name": "cylinders",
         "rawType": "int64",
         "type": "integer"
        },
        {
         "name": "displacement",
         "rawType": "float64",
         "type": "float"
        },
        {
         "name": "horsepower",
         "rawType": "object",
         "type": "string"
        },
        {
         "name": "weight",
         "rawType": "int64",
         "type": "integer"
        },
        {
         "name": "acceleration",
         "rawType": "float64",
         "type": "float"
        },
        {
         "name": "model_year",
         "rawType": "int64",
         "type": "integer"
        },
        {
         "name": "origin",
         "rawType": "int64",
         "type": "integer"
        },
        {
         "name": "name",
         "rawType": "object",
         "type": "string"
        }
       ],
       "conversionMethod": "pd.DataFrame",
       "ref": "f4356654-a479-41ad-bf90-1117f3816012",
       "rows": [
        [
         "0",
         "18.0",
         "8",
         "307.0",
         "130",
         "3504",
         "12.0",
         "70",
         "1",
         "chevrolet chevelle malibu"
        ],
        [
         "1",
         "15.0",
         "8",
         "350.0",
         "165",
         "3693",
         "11.5",
         "70",
         "1",
         "buick skylark 320"
        ],
        [
         "2",
         "18.0",
         "8",
         "318.0",
         "150",
         "3436",
         "11.0",
         "70",
         "1",
         "plymouth satellite"
        ],
        [
         "3",
         "16.0",
         "8",
         "304.0",
         "150",
         "3433",
         "12.0",
         "70",
         "1",
         "amc rebel sst"
        ],
        [
         "4",
         "17.0",
         "8",
         "302.0",
         "140",
         "3449",
         "10.5",
         "70",
         "1",
         "ford torino"
        ]
       ],
       "shape": {
        "columns": 9,
        "rows": 5
       }
      },
      "text/html": [
       "<div>\n",
       "<style scoped>\n",
       "    .dataframe tbody tr th:only-of-type {\n",
       "        vertical-align: middle;\n",
       "    }\n",
       "\n",
       "    .dataframe tbody tr th {\n",
       "        vertical-align: top;\n",
       "    }\n",
       "\n",
       "    .dataframe thead th {\n",
       "        text-align: right;\n",
       "    }\n",
       "</style>\n",
       "<table border=\"1\" class=\"dataframe\">\n",
       "  <thead>\n",
       "    <tr style=\"text-align: right;\">\n",
       "      <th></th>\n",
       "      <th>mpg</th>\n",
       "      <th>cylinders</th>\n",
       "      <th>displacement</th>\n",
       "      <th>horsepower</th>\n",
       "      <th>weight</th>\n",
       "      <th>acceleration</th>\n",
       "      <th>model_year</th>\n",
       "      <th>origin</th>\n",
       "      <th>name</th>\n",
       "    </tr>\n",
       "  </thead>\n",
       "  <tbody>\n",
       "    <tr>\n",
       "      <th>0</th>\n",
       "      <td>18.0</td>\n",
       "      <td>8</td>\n",
       "      <td>307.0</td>\n",
       "      <td>130</td>\n",
       "      <td>3504</td>\n",
       "      <td>12.0</td>\n",
       "      <td>70</td>\n",
       "      <td>1</td>\n",
       "      <td>chevrolet chevelle malibu</td>\n",
       "    </tr>\n",
       "    <tr>\n",
       "      <th>1</th>\n",
       "      <td>15.0</td>\n",
       "      <td>8</td>\n",
       "      <td>350.0</td>\n",
       "      <td>165</td>\n",
       "      <td>3693</td>\n",
       "      <td>11.5</td>\n",
       "      <td>70</td>\n",
       "      <td>1</td>\n",
       "      <td>buick skylark 320</td>\n",
       "    </tr>\n",
       "    <tr>\n",
       "      <th>2</th>\n",
       "      <td>18.0</td>\n",
       "      <td>8</td>\n",
       "      <td>318.0</td>\n",
       "      <td>150</td>\n",
       "      <td>3436</td>\n",
       "      <td>11.0</td>\n",
       "      <td>70</td>\n",
       "      <td>1</td>\n",
       "      <td>plymouth satellite</td>\n",
       "    </tr>\n",
       "    <tr>\n",
       "      <th>3</th>\n",
       "      <td>16.0</td>\n",
       "      <td>8</td>\n",
       "      <td>304.0</td>\n",
       "      <td>150</td>\n",
       "      <td>3433</td>\n",
       "      <td>12.0</td>\n",
       "      <td>70</td>\n",
       "      <td>1</td>\n",
       "      <td>amc rebel sst</td>\n",
       "    </tr>\n",
       "    <tr>\n",
       "      <th>4</th>\n",
       "      <td>17.0</td>\n",
       "      <td>8</td>\n",
       "      <td>302.0</td>\n",
       "      <td>140</td>\n",
       "      <td>3449</td>\n",
       "      <td>10.5</td>\n",
       "      <td>70</td>\n",
       "      <td>1</td>\n",
       "      <td>ford torino</td>\n",
       "    </tr>\n",
       "  </tbody>\n",
       "</table>\n",
       "</div>"
      ],
      "text/plain": [
       "    mpg  cylinders  displacement horsepower  weight  acceleration  model_year  \\\n",
       "0  18.0          8         307.0        130    3504          12.0          70   \n",
       "1  15.0          8         350.0        165    3693          11.5          70   \n",
       "2  18.0          8         318.0        150    3436          11.0          70   \n",
       "3  16.0          8         304.0        150    3433          12.0          70   \n",
       "4  17.0          8         302.0        140    3449          10.5          70   \n",
       "\n",
       "   origin                       name  \n",
       "0       1  chevrolet chevelle malibu  \n",
       "1       1          buick skylark 320  \n",
       "2       1         plymouth satellite  \n",
       "3       1              amc rebel sst  \n",
       "4       1                ford torino  "
      ]
     },
     "execution_count": 5,
     "metadata": {},
     "output_type": "execute_result"
    }
   ],
   "source": [
    "df.head()"
   ]
  },
  {
   "cell_type": "code",
   "execution_count": 6,
   "id": "9572dc08",
   "metadata": {},
   "outputs": [
    {
     "name": "stdout",
     "output_type": "stream",
     "text": [
      "<class 'pandas.core.frame.DataFrame'>\n",
      "RangeIndex: 398 entries, 0 to 397\n",
      "Data columns (total 9 columns):\n",
      " #   Column        Non-Null Count  Dtype  \n",
      "---  ------        --------------  -----  \n",
      " 0   mpg           398 non-null    float64\n",
      " 1   cylinders     398 non-null    int64  \n",
      " 2   displacement  398 non-null    float64\n",
      " 3   horsepower    398 non-null    object \n",
      " 4   weight        398 non-null    int64  \n",
      " 5   acceleration  398 non-null    float64\n",
      " 6   model_year    398 non-null    int64  \n",
      " 7   origin        398 non-null    int64  \n",
      " 8   name          398 non-null    object \n",
      "dtypes: float64(3), int64(4), object(2)\n",
      "memory usage: 28.1+ KB\n"
     ]
    }
   ],
   "source": [
    "df.info()"
   ]
  },
  {
   "cell_type": "code",
   "execution_count": null,
   "id": "d3f4cf22",
   "metadata": {},
   "outputs": [],
   "source": [
    "## Data preprocessing\n",
    "## Missing values horsepower\n",
    "mode_value = df.horsepower.mode()[0]\n",
    "df.horsepower = df.horsepower.replace('?', mode_value)\n",
    "df.horsepower = df.horsepower.astype('int64')\n",
    "\n",
    "## Dummy columns\n",
    "df.origin.value_counts()\n",
    "dummies = pd.get_dummies(df.origin, prefix='origin')\n",
    "df = pd.concat([df, dummies], axis=1)\n",
    "\n",
    "## Drop columns\n",
    "df = df.drop(columns=['origin'])\n",
    "df = df.drop(columns=['name'])"
   ]
  },
  {
   "cell_type": "code",
   "execution_count": 8,
   "id": "773eedf3",
   "metadata": {},
   "outputs": [],
   "source": [
    "X = df.iloc[:, 1:]\n",
    "y = df.mpg"
   ]
  },
  {
   "cell_type": "code",
   "execution_count": 9,
   "id": "4e474942",
   "metadata": {},
   "outputs": [],
   "source": [
    "X_train, X_test, y_train, y_test = train_test_split(X, y, test_size=0.2, shuffle= True, random_state=42)"
   ]
  },
  {
   "cell_type": "markdown",
   "id": "7e66eecd",
   "metadata": {},
   "source": [
    "## 4. Normalize data"
   ]
  },
  {
   "cell_type": "code",
   "execution_count": 10,
   "id": "1c575572",
   "metadata": {},
   "outputs": [],
   "source": [
    "from sklearn.preprocessing import StandardScaler\n",
    "scaler = StandardScaler()\n",
    "X_train_scaled = scaler.fit_transform(X_train)\n",
    "X_test_scaled = scaler.transform(X_test)"
   ]
  },
  {
   "cell_type": "markdown",
   "id": "3d493cf5",
   "metadata": {},
   "source": [
    "## 5. Evaluate models on both unscaled and scaled data"
   ]
  },
  {
   "cell_type": "code",
   "execution_count": 11,
   "id": "21932f77",
   "metadata": {},
   "outputs": [],
   "source": [
    "results_before = {}\n",
    "results_after = {}\n",
    "\n",
    "for name, model in models.items():\n",
    "    results_before[name] = evaluate_model(model, X_train, X_test, y_train, y_test)\n"
   ]
  },
  {
   "cell_type": "code",
   "execution_count": 12,
   "id": "9c3eab11",
   "metadata": {},
   "outputs": [],
   "source": [
    "for name, model in models.items():\n",
    "    results_after[name] = evaluate_model(model, X_train_scaled, X_test_scaled, y_train, y_test)"
   ]
  },
  {
   "cell_type": "code",
   "execution_count": 13,
   "id": "00321248",
   "metadata": {},
   "outputs": [
    {
     "data": {
      "application/vnd.microsoft.datawrangler.viewer.v0+json": {
       "columns": [
        {
         "name": "index",
         "rawType": "object",
         "type": "string"
        },
        {
         "name": "scaled",
         "rawType": "bool",
         "type": "boolean"
        },
        {
         "name": "RMSE",
         "rawType": "float64",
         "type": "float"
        },
        {
         "name": "r2_score",
         "rawType": "float64",
         "type": "float"
        }
       ],
       "conversionMethod": "pd.DataFrame",
       "ref": "98055f71-d2ed-4413-89ff-04cdad94fd04",
       "rows": [
        [
         "Linear Regression",
         "False",
         "2.889297939047904",
         "0.84473508012911"
        ],
        [
         "SVM (linear kernel)",
         "False",
         "4.782551297320438",
         "0.5745897382044836"
        ],
        [
         "KNR (k=2)",
         "False",
         "3.9780020110603265",
         "0.7056807388344334"
        ],
        [
         "Decision Tree",
         "False",
         "3.4788108600497383",
         "0.774913046950404"
        ],
        [
         "Linear Regression",
         "True",
         "2.889297939047905",
         "0.8447350801291098"
        ],
        [
         "SVM (linear kernel)",
         "True",
         "2.8848149709920836",
         "0.8452165172843507"
        ],
        [
         "KNR (k=2)",
         "True",
         "2.3584025313758463",
         "0.896551415491377"
        ],
        [
         "Decision Tree",
         "True",
         "3.4550325613516293",
         "0.7779795506746715"
        ]
       ],
       "shape": {
        "columns": 3,
        "rows": 8
       }
      },
      "text/html": [
       "<div>\n",
       "<style scoped>\n",
       "    .dataframe tbody tr th:only-of-type {\n",
       "        vertical-align: middle;\n",
       "    }\n",
       "\n",
       "    .dataframe tbody tr th {\n",
       "        vertical-align: top;\n",
       "    }\n",
       "\n",
       "    .dataframe thead th {\n",
       "        text-align: right;\n",
       "    }\n",
       "</style>\n",
       "<table border=\"1\" class=\"dataframe\">\n",
       "  <thead>\n",
       "    <tr style=\"text-align: right;\">\n",
       "      <th></th>\n",
       "      <th>scaled</th>\n",
       "      <th>RMSE</th>\n",
       "      <th>r2_score</th>\n",
       "    </tr>\n",
       "  </thead>\n",
       "  <tbody>\n",
       "    <tr>\n",
       "      <th>Linear Regression</th>\n",
       "      <td>False</td>\n",
       "      <td>2.889298</td>\n",
       "      <td>0.844735</td>\n",
       "    </tr>\n",
       "    <tr>\n",
       "      <th>SVM (linear kernel)</th>\n",
       "      <td>False</td>\n",
       "      <td>4.782551</td>\n",
       "      <td>0.574590</td>\n",
       "    </tr>\n",
       "    <tr>\n",
       "      <th>KNR (k=2)</th>\n",
       "      <td>False</td>\n",
       "      <td>3.978002</td>\n",
       "      <td>0.705681</td>\n",
       "    </tr>\n",
       "    <tr>\n",
       "      <th>Decision Tree</th>\n",
       "      <td>False</td>\n",
       "      <td>3.478811</td>\n",
       "      <td>0.774913</td>\n",
       "    </tr>\n",
       "    <tr>\n",
       "      <th>Linear Regression</th>\n",
       "      <td>True</td>\n",
       "      <td>2.889298</td>\n",
       "      <td>0.844735</td>\n",
       "    </tr>\n",
       "    <tr>\n",
       "      <th>SVM (linear kernel)</th>\n",
       "      <td>True</td>\n",
       "      <td>2.884815</td>\n",
       "      <td>0.845217</td>\n",
       "    </tr>\n",
       "    <tr>\n",
       "      <th>KNR (k=2)</th>\n",
       "      <td>True</td>\n",
       "      <td>2.358403</td>\n",
       "      <td>0.896551</td>\n",
       "    </tr>\n",
       "    <tr>\n",
       "      <th>Decision Tree</th>\n",
       "      <td>True</td>\n",
       "      <td>3.455033</td>\n",
       "      <td>0.777980</td>\n",
       "    </tr>\n",
       "  </tbody>\n",
       "</table>\n",
       "</div>"
      ],
      "text/plain": [
       "                     scaled      RMSE  r2_score\n",
       "Linear Regression     False  2.889298  0.844735\n",
       "SVM (linear kernel)   False  4.782551  0.574590\n",
       "KNR (k=2)             False  3.978002  0.705681\n",
       "Decision Tree         False  3.478811  0.774913\n",
       "Linear Regression      True  2.889298  0.844735\n",
       "SVM (linear kernel)    True  2.884815  0.845217\n",
       "KNR (k=2)              True  2.358403  0.896551\n",
       "Decision Tree          True  3.455033  0.777980"
      ]
     },
     "execution_count": 13,
     "metadata": {},
     "output_type": "execute_result"
    }
   ],
   "source": [
    "## dataframe met resultaten voor scaling transponeren en scaled column toevoegen\n",
    "df_before = pd.DataFrame(results_before).T\n",
    "df_before['scaled'] = False\n",
    "\n",
    "## dataframe met resultaten na scaling transponeren en scaled column toevoegen\n",
    "df_after = pd.DataFrame(results_after).T\n",
    "df_after['scaled'] = True\n",
    "\n",
    "# Merge into one DataFrame\n",
    "df_comparison = pd.concat([df_before, df_after])\n",
    "\n",
    "# Reorder columns\n",
    "df_comparison = df_comparison[['scaled', 'RMSE', 'r2_score']]\n",
    "\n",
    "df_comparison"
   ]
  },
  {
   "cell_type": "code",
   "execution_count": 14,
   "id": "6c6a51cf",
   "metadata": {},
   "outputs": [
    {
     "data": {
      "image/png": "[encoded data removed]",
      "text/plain": [
       "<Figure size 1200x600 with 1 Axes>"
      ]
     },
     "metadata": {},
     "output_type": "display_data"
    }
   ],
   "source": [
    "# Select the unique model names\n",
    "model_names = ['Linear Regression', 'SVM (linear kernel)', 'KNR (k=2)', 'Decision Tree']\n",
    "\n",
    "# Positions for each group\n",
    "x = np.arange(len(model_names))\n",
    "width = 0.35\n",
    "\n",
    "# Extract values\n",
    "r2_before = [results_before[model]['r2_score'] for model in model_names]\n",
    "r2_after = [results_after[model]['r2_score'] for model in model_names]\n",
    "\n",
    "# Create the plot\n",
    "fig, ax = plt.subplots(figsize=(12,6))\n",
    "\n",
    "rects1 = ax.bar(x - width/2, r2_before, width, label='Before Scaling')\n",
    "rects2 = ax.bar(x + width/2, r2_after, width, label='After Scaling')\n",
    "\n",
    "# Labels\n",
    "ax.set_ylabel('R^2 Score')\n",
    "ax.set_title('R2 Score Before and After Scaling')\n",
    "ax.set_xticks(x)\n",
    "ax.set_xticklabels(model_names, rotation=45)\n",
    "ax.legend()\n",
    "\n",
    "# Annotate\n",
    "def autolabel(rects):\n",
    "    for rect in rects:\n",
    "        height = rect.get_height()\n",
    "        ax.annotate(f'{height:.2f}',\n",
    "                    xy=(rect.get_x() + rect.get_width()/2, height),\n",
    "                    xytext=(0, 3),\n",
    "                    textcoords=\"offset points\",\n",
    "                    ha='center', va='bottom')\n",
    "\n",
    "autolabel(rects1)\n",
    "autolabel(rects2)\n",
    "\n",
    "plt.tight_layout()\n",
    "plt.show()"
   ]
  }
 ],
 "metadata": {
  "kernelspec": {
   "display_name": ".venv",
   "language": "python",
   "name": "python3"
  },
  "language_info": {
   "codemirror_mode": {
    "name": "ipython",
    "version": 3
   },
   "file_extension": ".py",
   "mimetype": "text/x-python",
   "name": "python",
   "nbconvert_exporter": "python",
   "pygments_lexer": "ipython3",
   "version": "3.12.9"
  }
 },
 "nbformat": 4,
 "nbformat_minor": 5
}
