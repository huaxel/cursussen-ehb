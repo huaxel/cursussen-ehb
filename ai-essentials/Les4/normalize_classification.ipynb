{
 "cells": [
  {
   "cell_type": "markdown",
   "id": "b471c61e",
   "metadata": {},
   "source": [
    "# Before vs after normalization comparison"
   ]
  },
  {
   "cell_type": "code",
   "execution_count": null,
   "id": "775b64a8",
   "metadata": {},
   "outputs": [],
   "source": [
    "import pandas as pd\n",
    "import matplotlib.pyplot as plt\n",
    "from sklearn.model_selection import train_test_split\n",
    "from sklearn.metrics import accuracy_score, precision_score, recall_score, f1_score\n",
    "from sklearn.preprocessing import StandardScaler\n",
    "\n",
    "from sklearn.linear_model import LogisticRegression\n",
    "from sklearn.svm import SVC\n",
    "from sklearn.neighbors import KNeighborsClassifier\n",
    "from sklearn.tree import DecisionTreeClassifier"
   ]
  },
  {
   "cell_type": "markdown",
   "id": "82df4fa4",
   "metadata": {},
   "source": [
    "## 1. Evaluation function"
   ]
  },
  {
   "cell_type": "code",
   "execution_count": null,
   "id": "7241071c",
   "metadata": {},
   "outputs": [],
   "source": [
    "def evaluate_model(model, X_train, X_test, y_train, y_test):\n",
    "    ## Train the model and evaluate its performance\n",
    "    model.fit(X_train, y_train)\n",
    "    ## Make predictions on the training and test sets\n",
    "    y_pred_train = model.predict(X_train)\n",
    "    y_pred_test = model.predict(X_test)\n",
    "\n",
    "    ## Calculate accuracy, precision, recall, and F1 score\n",
    "    results = {\n",
    "        'train_accuracy': accuracy_score(y_train, y_pred_train),\n",
    "        'test_accuracy': accuracy_score(y_test, y_pred_test),\n",
    "        'train_f1': f1_score(y_train, y_pred_train, average='weighted'),\n",
    "        'test_f1': f1_score(y_test, y_pred_test, average='weighted')\n",
    "    }\n",
    "    \n",
    "    return results\n"
   ]
  },
  {
   "cell_type": "code",
   "execution_count": null,
   "id": "2cc7bfa9",
   "metadata": {},
   "outputs": [],
   "source": [
    "## Dictionary met models en parameters\n",
    "models = {\n",
    "    'Logistic Regression': LogisticRegression(max_iter=1000),\n",
    "    'SVM (RBF kernel)': SVC(kernel='rbf'),\n",
    "    'KNN (k=3)': KNeighborsClassifier(n_neighbors=3, weights='distance'),\n",
    "    'Decision Tree': DecisionTreeClassifier()\n",
    "}"
   ]
  },
  {
   "cell_type": "markdown",
   "id": "04d0f4b7",
   "metadata": {},
   "source": [
    "## 2. Load dataset"
   ]
  },
  {
   "cell_type": "code",
   "execution_count": 9,
   "id": "91ca84a3",
   "metadata": {},
   "outputs": [],
   "source": [
    "df = pd.DataFrame(pd.read_csv('./heart.csv'))"
   ]
  },
  {
   "cell_type": "code",
   "execution_count": 10,
   "id": "773eedf3",
   "metadata": {},
   "outputs": [],
   "source": [
    "X = df.drop(columns='target')\n",
    "y = df.target"
   ]
  },
  {
   "cell_type": "code",
   "execution_count": 11,
   "id": "4e474942",
   "metadata": {},
   "outputs": [],
   "source": [
    "X_train, X_test, y_train, y_test = train_test_split(X, y, test_size=0.2, shuffle= True, random_state=42)"
   ]
  },
  {
   "cell_type": "markdown",
   "id": "7e66eecd",
   "metadata": {},
   "source": [
    "## 4. Normalize data"
   ]
  },
  {
   "cell_type": "code",
   "execution_count": 12,
   "id": "1c575572",
   "metadata": {},
   "outputs": [],
   "source": [
    "from sklearn.preprocessing import StandardScaler\n",
    "scaler = StandardScaler()\n",
    "X_train_scaled = scaler.fit_transform(X_train)\n",
    "X_test_scaled = scaler.transform(X_test)\n"
   ]
  },
  {
   "cell_type": "markdown",
   "id": "3d493cf5",
   "metadata": {},
   "source": [
    "## 5. Evaluate models on both unscaled and scaled data"
   ]
  },
  {
   "cell_type": "code",
   "execution_count": 8,
   "id": "21932f77",
   "metadata": {},
   "outputs": [],
   "source": [
    "results_before = {}\n",
    "results_after = {}\n",
    "\n",
    "for name, model in models.items():\n",
    "    results_before[name] = evaluate_model(model, X_train, X_test, y_train, y_test)\n"
   ]
  },
  {
   "cell_type": "code",
   "execution_count": 13,
   "id": "9c3eab11",
   "metadata": {},
   "outputs": [],
   "source": [
    "for name, model in models.items():\n",
    "    results_after[name] = evaluate_model(model, X_train_scaled, X_test_scaled, y_train, y_test)"
   ]
  },
  {
   "cell_type": "code",
   "execution_count": 14,
   "id": "00321248",
   "metadata": {},
   "outputs": [
    {
     "data": {
      "application/vnd.microsoft.datawrangler.viewer.v0+json": {
       "columns": [
        {
         "name": "index",
         "rawType": "object",
         "type": "string"
        },
        {
         "name": "scaled",
         "rawType": "bool",
         "type": "boolean"
        },
        {
         "name": "train_accuracy",
         "rawType": "float64",
         "type": "float"
        },
        {
         "name": "test_accuracy",
         "rawType": "float64",
         "type": "float"
        },
        {
         "name": "train_f1",
         "rawType": "float64",
         "type": "float"
        },
        {
         "name": "test_f1",
         "rawType": "float64",
         "type": "float"
        }
       ],
       "conversionMethod": "pd.DataFrame",
       "ref": "da78b73e-1df1-4b3d-898d-238ff7a0e8c0",
       "rows": [
        [
         "Logistic Regression",
         "False",
         "0.8636363636363636",
         "0.8852459016393442",
         "0.8627207564580033",
         "0.8851220105749872"
        ],
        [
         "SVM (RBF kernel)",
         "False",
         "0.6570247933884298",
         "0.7049180327868853",
         "0.6372315101787773",
         "0.6941182986264953"
        ],
        [
         "KNN (k=3)",
         "False",
         "1.0",
         "0.6557377049180327",
         "1.0",
         "0.6557377049180327"
        ],
        [
         "Decision Tree",
         "False",
         "1.0",
         "0.819672131147541",
         "1.0",
         "0.8191869875670932"
        ],
        [
         "Logistic Regression",
         "True",
         "0.8636363636363636",
         "0.8524590163934426",
         "0.8627207564580033",
         "0.8525384035247887"
        ],
        [
         "SVM (RBF kernel)",
         "True",
         "0.9214876033057852",
         "0.8688524590163934",
         "0.921290380404677",
         "0.8689229684470298"
        ],
        [
         "KNN (k=3)",
         "True",
         "1.0",
         "0.8524590163934426",
         "1.0",
         "0.8520620807367125"
        ],
        [
         "Decision Tree",
         "True",
         "1.0",
         "0.7540983606557377",
         "1.0",
         "0.7522399946903829"
        ]
       ],
       "shape": {
        "columns": 5,
        "rows": 8
       }
      },
      "text/html": [
       "<div>\n",
       "<style scoped>\n",
       "    .dataframe tbody tr th:only-of-type {\n",
       "        vertical-align: middle;\n",
       "    }\n",
       "\n",
       "    .dataframe tbody tr th {\n",
       "        vertical-align: top;\n",
       "    }\n",
       "\n",
       "    .dataframe thead th {\n",
       "        text-align: right;\n",
       "    }\n",
       "</style>\n",
       "<table border=\"1\" class=\"dataframe\">\n",
       "  <thead>\n",
       "    <tr style=\"text-align: right;\">\n",
       "      <th></th>\n",
       "      <th>scaled</th>\n",
       "      <th>train_accuracy</th>\n",
       "      <th>test_accuracy</th>\n",
       "      <th>train_f1</th>\n",
       "      <th>test_f1</th>\n",
       "    </tr>\n",
       "  </thead>\n",
       "  <tbody>\n",
       "    <tr>\n",
       "      <th>Logistic Regression</th>\n",
       "      <td>False</td>\n",
       "      <td>0.863636</td>\n",
       "      <td>0.885246</td>\n",
       "      <td>0.862721</td>\n",
       "      <td>0.885122</td>\n",
       "    </tr>\n",
       "    <tr>\n",
       "      <th>SVM (RBF kernel)</th>\n",
       "      <td>False</td>\n",
       "      <td>0.657025</td>\n",
       "      <td>0.704918</td>\n",
       "      <td>0.637232</td>\n",
       "      <td>0.694118</td>\n",
       "    </tr>\n",
       "    <tr>\n",
       "      <th>KNN (k=3)</th>\n",
       "      <td>False</td>\n",
       "      <td>1.000000</td>\n",
       "      <td>0.655738</td>\n",
       "      <td>1.000000</td>\n",
       "      <td>0.655738</td>\n",
       "    </tr>\n",
       "    <tr>\n",
       "      <th>Decision Tree</th>\n",
       "      <td>False</td>\n",
       "      <td>1.000000</td>\n",
       "      <td>0.819672</td>\n",
       "      <td>1.000000</td>\n",
       "      <td>0.819187</td>\n",
       "    </tr>\n",
       "    <tr>\n",
       "      <th>Logistic Regression</th>\n",
       "      <td>True</td>\n",
       "      <td>0.863636</td>\n",
       "      <td>0.852459</td>\n",
       "      <td>0.862721</td>\n",
       "      <td>0.852538</td>\n",
       "    </tr>\n",
       "    <tr>\n",
       "      <th>SVM (RBF kernel)</th>\n",
       "      <td>True</td>\n",
       "      <td>0.921488</td>\n",
       "      <td>0.868852</td>\n",
       "      <td>0.921290</td>\n",
       "      <td>0.868923</td>\n",
       "    </tr>\n",
       "    <tr>\n",
       "      <th>KNN (k=3)</th>\n",
       "      <td>True</td>\n",
       "      <td>1.000000</td>\n",
       "      <td>0.852459</td>\n",
       "      <td>1.000000</td>\n",
       "      <td>0.852062</td>\n",
       "    </tr>\n",
       "    <tr>\n",
       "      <th>Decision Tree</th>\n",
       "      <td>True</td>\n",
       "      <td>1.000000</td>\n",
       "      <td>0.754098</td>\n",
       "      <td>1.000000</td>\n",
       "      <td>0.752240</td>\n",
       "    </tr>\n",
       "  </tbody>\n",
       "</table>\n",
       "</div>"
      ],
      "text/plain": [
       "                     scaled  train_accuracy  test_accuracy  train_f1   test_f1\n",
       "Logistic Regression   False        0.863636       0.885246  0.862721  0.885122\n",
       "SVM (RBF kernel)      False        0.657025       0.704918  0.637232  0.694118\n",
       "KNN (k=3)             False        1.000000       0.655738  1.000000  0.655738\n",
       "Decision Tree         False        1.000000       0.819672  1.000000  0.819187\n",
       "Logistic Regression    True        0.863636       0.852459  0.862721  0.852538\n",
       "SVM (RBF kernel)       True        0.921488       0.868852  0.921290  0.868923\n",
       "KNN (k=3)              True        1.000000       0.852459  1.000000  0.852062\n",
       "Decision Tree          True        1.000000       0.754098  1.000000  0.752240"
      ]
     },
     "execution_count": 14,
     "metadata": {},
     "output_type": "execute_result"
    }
   ],
   "source": [
    "## dataframe met resultaten voor scaling transponeren en scaled column toevoegen\n",
    "df_before = pd.DataFrame(results_before).T\n",
    "df_before['scaled'] = False\n",
    "\n",
    "## dataframe met resultaten na scaling transponeren en scaled column toevoegen\n",
    "df_after = pd.DataFrame(results_after).T\n",
    "df_after['scaled'] = True\n",
    "\n",
    "# Merge into one DataFrame\n",
    "df_comparison = pd.concat([df_before, df_after])\n",
    "\n",
    "# Reorder columns\n",
    "df_comparison = df_comparison[['scaled', 'train_accuracy', 'test_accuracy', 'train_f1', 'test_f1']]\n",
    "\n",
    "df_comparison"
   ]
  },
  {
   "cell_type": "code",
   "execution_count": 16,
   "id": "6c6a51cf",
   "metadata": {},
   "outputs": [
    {
     "data": {
      "image/png": "[encoded data removed]",
      "text/plain": [
       "<Figure size 1200x600 with 1 Axes>"
      ]
     },
     "metadata": {},
     "output_type": "display_data"
    }
   ],
   "source": [
    "# Select the unique model names\n",
    "model_names = ['Logistic Regression', 'SVM (RBF kernel)', 'KNN (k=3)', 'Decision Tree']\n",
    "\n",
    "# Positions for each group\n",
    "x = np.arange(len(model_names))\n",
    "width = 0.35\n",
    "\n",
    "# Extract values\n",
    "test_accuracy_before = [results_before[model]['test_accuracy'] for model in model_names]\n",
    "test_accuracy_after = [results_after[model]['test_accuracy'] for model in model_names]\n",
    "\n",
    "# Create the plot\n",
    "fig, ax = plt.subplots(figsize=(12,6))\n",
    "\n",
    "rects1 = ax.bar(x - width/2, test_accuracy_before, width, label='Before Scaling')\n",
    "rects2 = ax.bar(x + width/2, test_accuracy_after, width, label='After Scaling')\n",
    "\n",
    "# Labels\n",
    "ax.set_ylabel('Test Accuracy')\n",
    "ax.set_title('Model Test Accuracy Before and After Scaling')\n",
    "ax.set_xticks(x)\n",
    "ax.set_xticklabels(model_names, rotation=45)\n",
    "ax.legend()\n",
    "\n",
    "# Annotate\n",
    "def autolabel(rects):\n",
    "    for rect in rects:\n",
    "        height = rect.get_height()\n",
    "        ax.annotate(f'{height:.2f}',\n",
    "                    xy=(rect.get_x() + rect.get_width()/2, height),\n",
    "                    xytext=(0, 3),\n",
    "                    textcoords=\"offset points\",\n",
    "                    ha='center', va='bottom')\n",
    "\n",
    "autolabel(rects1)\n",
    "autolabel(rects2)\n",
    "\n",
    "plt.tight_layout()\n",
    "plt.show()"
   ]
  }
 ],
 "metadata": {
  "kernelspec": {
   "display_name": ".venv",
   "language": "python",
   "name": "python3"
  },
  "language_info": {
   "codemirror_mode": {
    "name": "ipython",
    "version": 3
   },
   "file_extension": ".py",
   "mimetype": "text/x-python",
   "name": "python",
   "nbconvert_exporter": "python",
   "pygments_lexer": "ipython3",
   "version": "3.12.9"
  }
 },
 "nbformat": 4,
 "nbformat_minor": 5
}
