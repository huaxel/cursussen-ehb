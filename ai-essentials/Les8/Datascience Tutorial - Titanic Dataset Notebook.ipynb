{
 "cells": [
  {
   "cell_type": "markdown",
   "metadata": {},
   "source": [
    "# Titanic kaggle challenge\n",
    "### Problem definition\n",
    "Knowing from a training set of samples listing passengers who survived or did not survive the Titanic disaster, can our model determine based on a given test dataset not containing the survival information, if these passengers in the test dataset survived or not.\n",
    "\n",
    "### Background information\n",
    "On April 15, 1912, during her maiden voyage, the Titanic sank after colliding with an iceberg, killing 1502 out of 2224 passengers and crew. Translated 32% survival rate. One of the reasons that the shipwreck led to such loss of life was that there were not enough lifeboats for the passengers and crew. Although there was some element of luck involved in surviving the sinking, some groups of people were more likely to survive than others, such as women, children, and the upper-class.\n",
    "\n",
    "#### Jupyter notebook cheat sheet available at: https://cheatography.com/weidadeyue/cheat-sheets/jupyter-notebook/pdf_bw/"
   ]
  },
  {
   "cell_type": "markdown",
   "metadata": {},
   "source": [
    "### Example Workflow (from Manav Sehgal)\n",
    "\n",
    "**Classifying**: We may want to **classify or categorize our samples.** We may also want to understand the implications or correlation of different classes with our solution goal.\n",
    "\n",
    "**Correlating**: One can approach the problem based on available features within the training dataset. Which features within the dataset contribute significantly to our solution goal? Statistically speaking is there a **correlation among a feature and solution goal?** As the feature values change does the solution state change as well, and visa-versa? This can be tested both for numerical and categorical features in the given dataset. We may also want to determine correlation among features other than survival for subsequent goals and workflow stages. **Correlating certain features may help in creating, completing, or correcting features.**\n",
    "\n",
    "**Converting**: For modeling stage, one needs to prepare the data. Depending on the choice of model algorithm one may require all features to be converted to numerical equivalent values. So for instance converting text categorical values to numeric values.\n",
    "\n",
    "**Completing**: Data preparation may also require us **to estimate any missing values within a feature**. Model algorithms may work best when there are no missing values.\n",
    "\n",
    "**Correcting**: We may also analyze the given training dataset for errors or possibly innacurate values within features and try to corrent these values or exclude the samples containing the errors. One way to do this is to detect any outliers among our samples or features. We may also completely discard a feature if it is not contributing to the analysis or may significantly skew the results.\n",
    "\n",
    "**Creating**: Can we create new features based on an existing feature or a set of features, such that the new feature follows the correlation, conversion, completeness goals.\n",
    "\n",
    "**Charting**: How to select the right visualization plots and charts depending on nature of the data and the solution goals."
   ]
  },
  {
   "cell_type": "markdown",
   "metadata": {},
   "source": [
    "#### Important note\n",
    "Often times in order to get a good solution to a problem, most of the following steps have to be performed\n",
    "iteratively. This way you can significantly improve your solution each iteration. \n"
   ]
  },
  {
   "cell_type": "markdown",
   "metadata": {},
   "source": [
    "## Step 1: Load necessary libraries for analysis\n",
    "Note: The necessary libraries should be downloaded prior to loading the notebook.\n"
   ]
  },
  {
   "cell_type": "code",
   "execution_count": 1,
   "metadata": {},
   "outputs": [],
   "source": [
    "# Load the following libraries, sometimes called dependencies.\n",
    "# short recap: pandas is used to load and manipulate datasets, numpy is used for numerical operations (linear algebra)\n",
    "import pandas as pd\n",
    "import numpy as np\n",
    "import random as rnd\n",
    "import os\n",
    "\n",
    "# visualization libraries, seaborn is an extention to matplotlib\n",
    "import seaborn as sns\n",
    "import matplotlib.pyplot as plt\n",
    "%matplotlib inline\n",
    "import warnings\n",
    "warnings.filterwarnings(\"ignore\")\n",
    "# machine learning models\n",
    "from sklearn.linear_model import LogisticRegression\n",
    "from sklearn.ensemble import RandomForestClassifier\n",
    "from sklearn.neighbors import KNeighborsClassifier\n",
    "from sklearn.tree import DecisionTreeClassifier"
   ]
  },
  {
   "cell_type": "markdown",
   "metadata": {},
   "source": [
    "## Step 2: Load in the data\n",
    "To acquire the data and basic information regarding the data, head to: https://www.kaggle.com/c/titanic/data\n",
    "and register to download the data.\n",
    "Make sure the files are unzipped in the same folder as this notebook"
   ]
  },
  {
   "cell_type": "code",
   "execution_count": 2,
   "metadata": {
    "scrolled": true
   },
   "outputs": [
    {
     "name": "stdout",
     "output_type": "stream",
     "text": [
      "/Users/juanbenjumea/coding/EHB/AIE/Les6\n"
     ]
    }
   ],
   "source": [
    "# print the current folder\n",
    "path = os.getcwd()\n",
    "print(path)\n",
    "# if the train and test set are in the same folder as printed below, we can load the data into pandas DataFrames\n",
    "train_df = pd.read_csv('train.csv')\n",
    "test_df = pd.read_csv('test.csv')\n",
    "combined_df = pd.concat([train_df, test_df], axis=0) # This dataframe contains both the train AND test data."
   ]
  },
  {
   "cell_type": "markdown",
   "metadata": {},
   "source": [
    "## Step 3: Data exploration"
   ]
  },
  {
   "cell_type": "markdown",
   "metadata": {},
   "source": [
    "**Print the names of the columns of the dataset** "
   ]
  },
  {
   "cell_type": "code",
   "execution_count": 3,
   "metadata": {
    "scrolled": true
   },
   "outputs": [
    {
     "name": "stdout",
     "output_type": "stream",
     "text": [
      "['PassengerId' 'Survived' 'Pclass' 'Name' 'Sex' 'Age' 'SibSp' 'Parch'\n",
      " 'Ticket' 'Fare' 'Cabin' 'Embarked']\n"
     ]
    }
   ],
   "source": [
    "print(combined_df.columns.values)"
   ]
  },
  {
   "cell_type": "code",
   "execution_count": 4,
   "metadata": {
    "scrolled": true
   },
   "outputs": [
    {
     "name": "stdout",
     "output_type": "stream",
     "text": [
      "['PassengerId' 'Pclass' 'Name' 'Sex' 'Age' 'SibSp' 'Parch' 'Ticket' 'Fare'\n",
      " 'Cabin' 'Embarked']\n"
     ]
    }
   ],
   "source": [
    "print(test_df.columns.values)"
   ]
  },
  {
   "cell_type": "markdown",
   "metadata": {},
   "source": [
    "**To get a general overview of the different datatypes, amount of missing values, etc. in the dataset:**"
   ]
  },
  {
   "cell_type": "code",
   "execution_count": 5,
   "metadata": {},
   "outputs": [
    {
     "name": "stdout",
     "output_type": "stream",
     "text": [
      "<class 'pandas.core.frame.DataFrame'>\n",
      "RangeIndex: 891 entries, 0 to 890\n",
      "Data columns (total 12 columns):\n",
      " #   Column       Non-Null Count  Dtype  \n",
      "---  ------       --------------  -----  \n",
      " 0   PassengerId  891 non-null    int64  \n",
      " 1   Survived     891 non-null    int64  \n",
      " 2   Pclass       891 non-null    int64  \n",
      " 3   Name         891 non-null    object \n",
      " 4   Sex          891 non-null    object \n",
      " 5   Age          714 non-null    float64\n",
      " 6   SibSp        891 non-null    int64  \n",
      " 7   Parch        891 non-null    int64  \n",
      " 8   Ticket       891 non-null    object \n",
      " 9   Fare         891 non-null    float64\n",
      " 10  Cabin        204 non-null    object \n",
      " 11  Embarked     889 non-null    object \n",
      "dtypes: float64(2), int64(5), object(5)\n",
      "memory usage: 83.7+ KB\n",
      "________________________________________\n",
      "<class 'pandas.core.frame.DataFrame'>\n",
      "RangeIndex: 418 entries, 0 to 417\n",
      "Data columns (total 11 columns):\n",
      " #   Column       Non-Null Count  Dtype  \n",
      "---  ------       --------------  -----  \n",
      " 0   PassengerId  418 non-null    int64  \n",
      " 1   Pclass       418 non-null    int64  \n",
      " 2   Name         418 non-null    object \n",
      " 3   Sex          418 non-null    object \n",
      " 4   Age          332 non-null    float64\n",
      " 5   SibSp        418 non-null    int64  \n",
      " 6   Parch        418 non-null    int64  \n",
      " 7   Ticket       418 non-null    object \n",
      " 8   Fare         417 non-null    float64\n",
      " 9   Cabin        91 non-null     object \n",
      " 10  Embarked     418 non-null    object \n",
      "dtypes: float64(2), int64(4), object(5)\n",
      "memory usage: 36.1+ KB\n"
     ]
    }
   ],
   "source": [
    "train_df.info()\n",
    "print('_'*40)\n",
    "test_df.info()\n",
    "# We will go into more detail shortly"
   ]
  },
  {
   "cell_type": "markdown",
   "metadata": {},
   "source": [
    "### Analyze your features:\n",
    "\n",
    "We can see that there are 891 people in the current dataset. \n",
    "\n",
    "**Which features are categorical?**\n",
    "These values classify the samples into sets of similar samples. Within categorical features are the values nominal, ordinal, ratio, or interval based? Among other things this helps us select the appropriate plots for visualization.\n",
    "\n",
    "**Categorical**: Survived, Sex, and Embarked. **Ordinal**: Pclass.\n",
    "\n",
    "**Which features are numerical?**\n",
    "\n",
    "Which features are numerical? These values change from sample to sample. Within numerical features are the values discrete, continuous, or timeseries based? Among other things this helps us select the appropriate plots for visualization.\n",
    "\n",
    "**Continous**: Age, Fare. **Discrete**: SibSp, Parch.\n",
    "\n",
    "**Which features contain blank, null or empty values?**\n",
    "\n",
    "These will require correcting.\n",
    "\n",
    "Cabin > Age > Embarked features contain a number of null values in that order for the training dataset.\n",
    "Cabin > Age are incomplete in case of test dataset.\n",
    "\n",
    "**What are the data types for various features?**\n",
    "\n",
    "Helping us during converting goal.\n",
    "\n",
    "Seven features are integer or floats. Six in case of test dataset (in the test set we have no Survived variable).\n",
    "Five features are strings (object)."
   ]
  },
  {
   "cell_type": "markdown",
   "metadata": {},
   "source": [
    "**Preview the data**"
   ]
  },
  {
   "cell_type": "code",
   "execution_count": 6,
   "metadata": {},
   "outputs": [
    {
     "data": {
      "application/vnd.microsoft.datawrangler.viewer.v0+json": {
       "columns": [
        {
         "name": "index",
         "rawType": "int64",
         "type": "integer"
        },
        {
         "name": "PassengerId",
         "rawType": "int64",
         "type": "integer"
        },
        {
         "name": "Survived",
         "rawType": "int64",
         "type": "integer"
        },
        {
         "name": "Pclass",
         "rawType": "int64",
         "type": "integer"
        },
        {
         "name": "Name",
         "rawType": "object",
         "type": "string"
        },
        {
         "name": "Sex",
         "rawType": "object",
         "type": "string"
        },
        {
         "name": "Age",
         "rawType": "float64",
         "type": "float"
        },
        {
         "name": "SibSp",
         "rawType": "int64",
         "type": "integer"
        },
        {
         "name": "Parch",
         "rawType": "int64",
         "type": "integer"
        },
        {
         "name": "Ticket",
         "rawType": "object",
         "type": "string"
        },
        {
         "name": "Fare",
         "rawType": "float64",
         "type": "float"
        },
        {
         "name": "Cabin",
         "rawType": "object",
         "type": "unknown"
        },
        {
         "name": "Embarked",
         "rawType": "object",
         "type": "string"
        }
       ],
       "conversionMethod": "pd.DataFrame",
       "ref": "309dca83-fe0d-4bd8-a1ac-7a7052875fd3",
       "rows": [
        [
         "0",
         "1",
         "0",
         "3",
         "Braund, Mr. Owen Harris",
         "male",
         "22.0",
         "1",
         "0",
         "A/5 21171",
         "7.25",
         null,
         "S"
        ],
        [
         "1",
         "2",
         "1",
         "1",
         "Cumings, Mrs. John Bradley (Florence Briggs Thayer)",
         "female",
         "38.0",
         "1",
         "0",
         "PC 17599",
         "71.2833",
         "C85",
         "C"
        ],
        [
         "2",
         "3",
         "1",
         "3",
         "Heikkinen, Miss. Laina",
         "female",
         "26.0",
         "0",
         "0",
         "STON/O2. 3101282",
         "7.925",
         null,
         "S"
        ],
        [
         "3",
         "4",
         "1",
         "1",
         "Futrelle, Mrs. Jacques Heath (Lily May Peel)",
         "female",
         "35.0",
         "1",
         "0",
         "113803",
         "53.1",
         "C123",
         "S"
        ],
        [
         "4",
         "5",
         "0",
         "3",
         "Allen, Mr. William Henry",
         "male",
         "35.0",
         "0",
         "0",
         "373450",
         "8.05",
         null,
         "S"
        ]
       ],
       "shape": {
        "columns": 12,
        "rows": 5
       }
      },
      "text/html": [
       "<div>\n",
       "<style scoped>\n",
       "    .dataframe tbody tr th:only-of-type {\n",
       "        vertical-align: middle;\n",
       "    }\n",
       "\n",
       "    .dataframe tbody tr th {\n",
       "        vertical-align: top;\n",
       "    }\n",
       "\n",
       "    .dataframe thead th {\n",
       "        text-align: right;\n",
       "    }\n",
       "</style>\n",
       "<table border=\"1\" class=\"dataframe\">\n",
       "  <thead>\n",
       "    <tr style=\"text-align: right;\">\n",
       "      <th></th>\n",
       "      <th>PassengerId</th>\n",
       "      <th>Survived</th>\n",
       "      <th>Pclass</th>\n",
       "      <th>Name</th>\n",
       "      <th>Sex</th>\n",
       "      <th>Age</th>\n",
       "      <th>SibSp</th>\n",
       "      <th>Parch</th>\n",
       "      <th>Ticket</th>\n",
       "      <th>Fare</th>\n",
       "      <th>Cabin</th>\n",
       "      <th>Embarked</th>\n",
       "    </tr>\n",
       "  </thead>\n",
       "  <tbody>\n",
       "    <tr>\n",
       "      <th>0</th>\n",
       "      <td>1</td>\n",
       "      <td>0</td>\n",
       "      <td>3</td>\n",
       "      <td>Braund, Mr. Owen Harris</td>\n",
       "      <td>male</td>\n",
       "      <td>22.0</td>\n",
       "      <td>1</td>\n",
       "      <td>0</td>\n",
       "      <td>A/5 21171</td>\n",
       "      <td>7.2500</td>\n",
       "      <td>NaN</td>\n",
       "      <td>S</td>\n",
       "    </tr>\n",
       "    <tr>\n",
       "      <th>1</th>\n",
       "      <td>2</td>\n",
       "      <td>1</td>\n",
       "      <td>1</td>\n",
       "      <td>Cumings, Mrs. John Bradley (Florence Briggs Th...</td>\n",
       "      <td>female</td>\n",
       "      <td>38.0</td>\n",
       "      <td>1</td>\n",
       "      <td>0</td>\n",
       "      <td>PC 17599</td>\n",
       "      <td>71.2833</td>\n",
       "      <td>C85</td>\n",
       "      <td>C</td>\n",
       "    </tr>\n",
       "    <tr>\n",
       "      <th>2</th>\n",
       "      <td>3</td>\n",
       "      <td>1</td>\n",
       "      <td>3</td>\n",
       "      <td>Heikkinen, Miss. Laina</td>\n",
       "      <td>female</td>\n",
       "      <td>26.0</td>\n",
       "      <td>0</td>\n",
       "      <td>0</td>\n",
       "      <td>STON/O2. 3101282</td>\n",
       "      <td>7.9250</td>\n",
       "      <td>NaN</td>\n",
       "      <td>S</td>\n",
       "    </tr>\n",
       "    <tr>\n",
       "      <th>3</th>\n",
       "      <td>4</td>\n",
       "      <td>1</td>\n",
       "      <td>1</td>\n",
       "      <td>Futrelle, Mrs. Jacques Heath (Lily May Peel)</td>\n",
       "      <td>female</td>\n",
       "      <td>35.0</td>\n",
       "      <td>1</td>\n",
       "      <td>0</td>\n",
       "      <td>113803</td>\n",
       "      <td>53.1000</td>\n",
       "      <td>C123</td>\n",
       "      <td>S</td>\n",
       "    </tr>\n",
       "    <tr>\n",
       "      <th>4</th>\n",
       "      <td>5</td>\n",
       "      <td>0</td>\n",
       "      <td>3</td>\n",
       "      <td>Allen, Mr. William Henry</td>\n",
       "      <td>male</td>\n",
       "      <td>35.0</td>\n",
       "      <td>0</td>\n",
       "      <td>0</td>\n",
       "      <td>373450</td>\n",
       "      <td>8.0500</td>\n",
       "      <td>NaN</td>\n",
       "      <td>S</td>\n",
       "    </tr>\n",
       "  </tbody>\n",
       "</table>\n",
       "</div>"
      ],
      "text/plain": [
       "   PassengerId  Survived  Pclass  \\\n",
       "0            1         0       3   \n",
       "1            2         1       1   \n",
       "2            3         1       3   \n",
       "3            4         1       1   \n",
       "4            5         0       3   \n",
       "\n",
       "                                                Name     Sex   Age  SibSp  \\\n",
       "0                            Braund, Mr. Owen Harris    male  22.0      1   \n",
       "1  Cumings, Mrs. John Bradley (Florence Briggs Th...  female  38.0      1   \n",
       "2                             Heikkinen, Miss. Laina  female  26.0      0   \n",
       "3       Futrelle, Mrs. Jacques Heath (Lily May Peel)  female  35.0      1   \n",
       "4                           Allen, Mr. William Henry    male  35.0      0   \n",
       "\n",
       "   Parch            Ticket     Fare Cabin Embarked  \n",
       "0      0         A/5 21171   7.2500   NaN        S  \n",
       "1      0          PC 17599  71.2833   C85        C  \n",
       "2      0  STON/O2. 3101282   7.9250   NaN        S  \n",
       "3      0            113803  53.1000  C123        S  \n",
       "4      0            373450   8.0500   NaN        S  "
      ]
     },
     "execution_count": 6,
     "metadata": {},
     "output_type": "execute_result"
    }
   ],
   "source": [
    "train_df.head()"
   ]
  },
  {
   "cell_type": "markdown",
   "metadata": {},
   "source": [
    "**Which features are mixed data types?**\n",
    "\n",
    "Numerical, alphanumeric data within same feature. These are candidates for correcting goal.\n",
    "Ticket is a mix of numeric and alphanumeric data types. Cabin is alphanumeric.\n",
    "\n",
    "**Which features may contain errors or typos?**\n",
    "\n",
    "This is harder to review for a large dataset, however reviewing a few samples from a smaller dataset may just tell us outright, which features may require correcting.\n",
    "\n",
    "Name feature may contain errors or typos as there are several ways used to describe a name including titles, round brackets, and quotes used for alternative or short names."
   ]
  },
  {
   "cell_type": "markdown",
   "metadata": {},
   "source": [
    "**Preview the last datapoints:**"
   ]
  },
  {
   "cell_type": "code",
   "execution_count": 7,
   "metadata": {
    "scrolled": false
   },
   "outputs": [
    {
     "data": {
      "application/vnd.microsoft.datawrangler.viewer.v0+json": {
       "columns": [
        {
         "name": "index",
         "rawType": "int64",
         "type": "integer"
        },
        {
         "name": "PassengerId",
         "rawType": "int64",
         "type": "integer"
        },
        {
         "name": "Survived",
         "rawType": "int64",
         "type": "integer"
        },
        {
         "name": "Pclass",
         "rawType": "int64",
         "type": "integer"
        },
        {
         "name": "Name",
         "rawType": "object",
         "type": "string"
        },
        {
         "name": "Sex",
         "rawType": "object",
         "type": "string"
        },
        {
         "name": "Age",
         "rawType": "float64",
         "type": "float"
        },
        {
         "name": "SibSp",
         "rawType": "int64",
         "type": "integer"
        },
        {
         "name": "Parch",
         "rawType": "int64",
         "type": "integer"
        },
        {
         "name": "Ticket",
         "rawType": "object",
         "type": "string"
        },
        {
         "name": "Fare",
         "rawType": "float64",
         "type": "float"
        },
        {
         "name": "Cabin",
         "rawType": "object",
         "type": "unknown"
        },
        {
         "name": "Embarked",
         "rawType": "object",
         "type": "string"
        }
       ],
       "conversionMethod": "pd.DataFrame",
       "ref": "cf021a6d-ff7f-4bbf-89e4-50bc2bdd24a0",
       "rows": [
        [
         "886",
         "887",
         "0",
         "2",
         "Montvila, Rev. Juozas",
         "male",
         "27.0",
         "0",
         "0",
         "211536",
         "13.0",
         null,
         "S"
        ],
        [
         "887",
         "888",
         "1",
         "1",
         "Graham, Miss. Margaret Edith",
         "female",
         "19.0",
         "0",
         "0",
         "112053",
         "30.0",
         "B42",
         "S"
        ],
        [
         "888",
         "889",
         "0",
         "3",
         "Johnston, Miss. Catherine Helen \"Carrie\"",
         "female",
         null,
         "1",
         "2",
         "W./C. 6607",
         "23.45",
         null,
         "S"
        ],
        [
         "889",
         "890",
         "1",
         "1",
         "Behr, Mr. Karl Howell",
         "male",
         "26.0",
         "0",
         "0",
         "111369",
         "30.0",
         "C148",
         "C"
        ],
        [
         "890",
         "891",
         "0",
         "3",
         "Dooley, Mr. Patrick",
         "male",
         "32.0",
         "0",
         "0",
         "370376",
         "7.75",
         null,
         "Q"
        ]
       ],
       "shape": {
        "columns": 12,
        "rows": 5
       }
      },
      "text/html": [
       "<div>\n",
       "<style scoped>\n",
       "    .dataframe tbody tr th:only-of-type {\n",
       "        vertical-align: middle;\n",
       "    }\n",
       "\n",
       "    .dataframe tbody tr th {\n",
       "        vertical-align: top;\n",
       "    }\n",
       "\n",
       "    .dataframe thead th {\n",
       "        text-align: right;\n",
       "    }\n",
       "</style>\n",
       "<table border=\"1\" class=\"dataframe\">\n",
       "  <thead>\n",
       "    <tr style=\"text-align: right;\">\n",
       "      <th></th>\n",
       "      <th>PassengerId</th>\n",
       "      <th>Survived</th>\n",
       "      <th>Pclass</th>\n",
       "      <th>Name</th>\n",
       "      <th>Sex</th>\n",
       "      <th>Age</th>\n",
       "      <th>SibSp</th>\n",
       "      <th>Parch</th>\n",
       "      <th>Ticket</th>\n",
       "      <th>Fare</th>\n",
       "      <th>Cabin</th>\n",
       "      <th>Embarked</th>\n",
       "    </tr>\n",
       "  </thead>\n",
       "  <tbody>\n",
       "    <tr>\n",
       "      <th>886</th>\n",
       "      <td>887</td>\n",
       "      <td>0</td>\n",
       "      <td>2</td>\n",
       "      <td>Montvila, Rev. Juozas</td>\n",
       "      <td>male</td>\n",
       "      <td>27.0</td>\n",
       "      <td>0</td>\n",
       "      <td>0</td>\n",
       "      <td>211536</td>\n",
       "      <td>13.00</td>\n",
       "      <td>NaN</td>\n",
       "      <td>S</td>\n",
       "    </tr>\n",
       "    <tr>\n",
       "      <th>887</th>\n",
       "      <td>888</td>\n",
       "      <td>1</td>\n",
       "      <td>1</td>\n",
       "      <td>Graham, Miss. Margaret Edith</td>\n",
       "      <td>female</td>\n",
       "      <td>19.0</td>\n",
       "      <td>0</td>\n",
       "      <td>0</td>\n",
       "      <td>112053</td>\n",
       "      <td>30.00</td>\n",
       "      <td>B42</td>\n",
       "      <td>S</td>\n",
       "    </tr>\n",
       "    <tr>\n",
       "      <th>888</th>\n",
       "      <td>889</td>\n",
       "      <td>0</td>\n",
       "      <td>3</td>\n",
       "      <td>Johnston, Miss. Catherine Helen \"Carrie\"</td>\n",
       "      <td>female</td>\n",
       "      <td>NaN</td>\n",
       "      <td>1</td>\n",
       "      <td>2</td>\n",
       "      <td>W./C. 6607</td>\n",
       "      <td>23.45</td>\n",
       "      <td>NaN</td>\n",
       "      <td>S</td>\n",
       "    </tr>\n",
       "    <tr>\n",
       "      <th>889</th>\n",
       "      <td>890</td>\n",
       "      <td>1</td>\n",
       "      <td>1</td>\n",
       "      <td>Behr, Mr. Karl Howell</td>\n",
       "      <td>male</td>\n",
       "      <td>26.0</td>\n",
       "      <td>0</td>\n",
       "      <td>0</td>\n",
       "      <td>111369</td>\n",
       "      <td>30.00</td>\n",
       "      <td>C148</td>\n",
       "      <td>C</td>\n",
       "    </tr>\n",
       "    <tr>\n",
       "      <th>890</th>\n",
       "      <td>891</td>\n",
       "      <td>0</td>\n",
       "      <td>3</td>\n",
       "      <td>Dooley, Mr. Patrick</td>\n",
       "      <td>male</td>\n",
       "      <td>32.0</td>\n",
       "      <td>0</td>\n",
       "      <td>0</td>\n",
       "      <td>370376</td>\n",
       "      <td>7.75</td>\n",
       "      <td>NaN</td>\n",
       "      <td>Q</td>\n",
       "    </tr>\n",
       "  </tbody>\n",
       "</table>\n",
       "</div>"
      ],
      "text/plain": [
       "     PassengerId  Survived  Pclass                                      Name  \\\n",
       "886          887         0       2                     Montvila, Rev. Juozas   \n",
       "887          888         1       1              Graham, Miss. Margaret Edith   \n",
       "888          889         0       3  Johnston, Miss. Catherine Helen \"Carrie\"   \n",
       "889          890         1       1                     Behr, Mr. Karl Howell   \n",
       "890          891         0       3                       Dooley, Mr. Patrick   \n",
       "\n",
       "        Sex   Age  SibSp  Parch      Ticket   Fare Cabin Embarked  \n",
       "886    male  27.0      0      0      211536  13.00   NaN        S  \n",
       "887  female  19.0      0      0      112053  30.00   B42        S  \n",
       "888  female   NaN      1      2  W./C. 6607  23.45   NaN        S  \n",
       "889    male  26.0      0      0      111369  30.00  C148        C  \n",
       "890    male  32.0      0      0      370376   7.75   NaN        Q  "
      ]
     },
     "execution_count": 7,
     "metadata": {},
     "output_type": "execute_result"
    }
   ],
   "source": [
    "train_df.tail()"
   ]
  },
  {
   "cell_type": "markdown",
   "metadata": {},
   "source": [
    "### Descriptive statistics:\n",
    "Another way to get some insights into the features: \n",
    "\n",
    "What is the distribution of numerical feature values across the samples?\n",
    "\n",
    "This helps us determine, among other early insights, how representative is the training dataset of the actual problem domain.\n"
   ]
  },
  {
   "cell_type": "markdown",
   "metadata": {},
   "source": [
    "**Numerical features**"
   ]
  },
  {
   "cell_type": "code",
   "execution_count": 8,
   "metadata": {
    "scrolled": false
   },
   "outputs": [
    {
     "data": {
      "application/vnd.microsoft.datawrangler.viewer.v0+json": {
       "columns": [
        {
         "name": "index",
         "rawType": "object",
         "type": "string"
        },
        {
         "name": "PassengerId",
         "rawType": "float64",
         "type": "float"
        },
        {
         "name": "Survived",
         "rawType": "float64",
         "type": "float"
        },
        {
         "name": "Pclass",
         "rawType": "float64",
         "type": "float"
        },
        {
         "name": "Age",
         "rawType": "float64",
         "type": "float"
        },
        {
         "name": "SibSp",
         "rawType": "float64",
         "type": "float"
        },
        {
         "name": "Parch",
         "rawType": "float64",
         "type": "float"
        },
        {
         "name": "Fare",
         "rawType": "float64",
         "type": "float"
        }
       ],
       "conversionMethod": "pd.DataFrame",
       "ref": "a9fe39b1-7123-4e67-9cef-884fd2afa706",
       "rows": [
        [
         "count",
         "891.0",
         "891.0",
         "891.0",
         "714.0",
         "891.0",
         "891.0",
         "891.0"
        ],
        [
         "mean",
         "446.0",
         "0.3838383838383838",
         "2.308641975308642",
         "29.69911764705882",
         "0.5230078563411896",
         "0.38159371492704824",
         "32.204207968574636"
        ],
        [
         "std",
         "257.3538420152301",
         "0.4865924542648575",
         "0.836071240977049",
         "14.526497332334042",
         "1.1027434322934317",
         "0.8060572211299483",
         "49.6934285971809"
        ],
        [
         "min",
         "1.0",
         "0.0",
         "1.0",
         "0.42",
         "0.0",
         "0.0",
         "0.0"
        ],
        [
         "25%",
         "223.5",
         "0.0",
         "2.0",
         "20.125",
         "0.0",
         "0.0",
         "7.9104"
        ],
        [
         "50%",
         "446.0",
         "0.0",
         "3.0",
         "28.0",
         "0.0",
         "0.0",
         "14.4542"
        ],
        [
         "75%",
         "668.5",
         "1.0",
         "3.0",
         "38.0",
         "1.0",
         "0.0",
         "31.0"
        ],
        [
         "max",
         "891.0",
         "1.0",
         "3.0",
         "80.0",
         "8.0",
         "6.0",
         "512.3292"
        ]
       ],
       "shape": {
        "columns": 7,
        "rows": 8
       }
      },
      "text/html": [
       "<div>\n",
       "<style scoped>\n",
       "    .dataframe tbody tr th:only-of-type {\n",
       "        vertical-align: middle;\n",
       "    }\n",
       "\n",
       "    .dataframe tbody tr th {\n",
       "        vertical-align: top;\n",
       "    }\n",
       "\n",
       "    .dataframe thead th {\n",
       "        text-align: right;\n",
       "    }\n",
       "</style>\n",
       "<table border=\"1\" class=\"dataframe\">\n",
       "  <thead>\n",
       "    <tr style=\"text-align: right;\">\n",
       "      <th></th>\n",
       "      <th>PassengerId</th>\n",
       "      <th>Survived</th>\n",
       "      <th>Pclass</th>\n",
       "      <th>Age</th>\n",
       "      <th>SibSp</th>\n",
       "      <th>Parch</th>\n",
       "      <th>Fare</th>\n",
       "    </tr>\n",
       "  </thead>\n",
       "  <tbody>\n",
       "    <tr>\n",
       "      <th>count</th>\n",
       "      <td>891.000000</td>\n",
       "      <td>891.000000</td>\n",
       "      <td>891.000000</td>\n",
       "      <td>714.000000</td>\n",
       "      <td>891.000000</td>\n",
       "      <td>891.000000</td>\n",
       "      <td>891.000000</td>\n",
       "    </tr>\n",
       "    <tr>\n",
       "      <th>mean</th>\n",
       "      <td>446.000000</td>\n",
       "      <td>0.383838</td>\n",
       "      <td>2.308642</td>\n",
       "      <td>29.699118</td>\n",
       "      <td>0.523008</td>\n",
       "      <td>0.381594</td>\n",
       "      <td>32.204208</td>\n",
       "    </tr>\n",
       "    <tr>\n",
       "      <th>std</th>\n",
       "      <td>257.353842</td>\n",
       "      <td>0.486592</td>\n",
       "      <td>0.836071</td>\n",
       "      <td>14.526497</td>\n",
       "      <td>1.102743</td>\n",
       "      <td>0.806057</td>\n",
       "      <td>49.693429</td>\n",
       "    </tr>\n",
       "    <tr>\n",
       "      <th>min</th>\n",
       "      <td>1.000000</td>\n",
       "      <td>0.000000</td>\n",
       "      <td>1.000000</td>\n",
       "      <td>0.420000</td>\n",
       "      <td>0.000000</td>\n",
       "      <td>0.000000</td>\n",
       "      <td>0.000000</td>\n",
       "    </tr>\n",
       "    <tr>\n",
       "      <th>25%</th>\n",
       "      <td>223.500000</td>\n",
       "      <td>0.000000</td>\n",
       "      <td>2.000000</td>\n",
       "      <td>20.125000</td>\n",
       "      <td>0.000000</td>\n",
       "      <td>0.000000</td>\n",
       "      <td>7.910400</td>\n",
       "    </tr>\n",
       "    <tr>\n",
       "      <th>50%</th>\n",
       "      <td>446.000000</td>\n",
       "      <td>0.000000</td>\n",
       "      <td>3.000000</td>\n",
       "      <td>28.000000</td>\n",
       "      <td>0.000000</td>\n",
       "      <td>0.000000</td>\n",
       "      <td>14.454200</td>\n",
       "    </tr>\n",
       "    <tr>\n",
       "      <th>75%</th>\n",
       "      <td>668.500000</td>\n",
       "      <td>1.000000</td>\n",
       "      <td>3.000000</td>\n",
       "      <td>38.000000</td>\n",
       "      <td>1.000000</td>\n",
       "      <td>0.000000</td>\n",
       "      <td>31.000000</td>\n",
       "    </tr>\n",
       "    <tr>\n",
       "      <th>max</th>\n",
       "      <td>891.000000</td>\n",
       "      <td>1.000000</td>\n",
       "      <td>3.000000</td>\n",
       "      <td>80.000000</td>\n",
       "      <td>8.000000</td>\n",
       "      <td>6.000000</td>\n",
       "      <td>512.329200</td>\n",
       "    </tr>\n",
       "  </tbody>\n",
       "</table>\n",
       "</div>"
      ],
      "text/plain": [
       "       PassengerId    Survived      Pclass         Age       SibSp  \\\n",
       "count   891.000000  891.000000  891.000000  714.000000  891.000000   \n",
       "mean    446.000000    0.383838    2.308642   29.699118    0.523008   \n",
       "std     257.353842    0.486592    0.836071   14.526497    1.102743   \n",
       "min       1.000000    0.000000    1.000000    0.420000    0.000000   \n",
       "25%     223.500000    0.000000    2.000000   20.125000    0.000000   \n",
       "50%     446.000000    0.000000    3.000000   28.000000    0.000000   \n",
       "75%     668.500000    1.000000    3.000000   38.000000    1.000000   \n",
       "max     891.000000    1.000000    3.000000   80.000000    8.000000   \n",
       "\n",
       "            Parch        Fare  \n",
       "count  891.000000  891.000000  \n",
       "mean     0.381594   32.204208  \n",
       "std      0.806057   49.693429  \n",
       "min      0.000000    0.000000  \n",
       "25%      0.000000    7.910400  \n",
       "50%      0.000000   14.454200  \n",
       "75%      0.000000   31.000000  \n",
       "max      6.000000  512.329200  "
      ]
     },
     "execution_count": 8,
     "metadata": {},
     "output_type": "execute_result"
    }
   ],
   "source": [
    "train_df.describe()"
   ]
  },
  {
   "cell_type": "markdown",
   "metadata": {},
   "source": [
    "**Observations**\n",
    "\n",
    "- Total samples are 891 or 40% of the actual number of passengers on board the Titanic (2,224).\n",
    "- Survived is a categorical feature with 0 or 1 values.\n",
    "- Around 38% samples survived representative of the actual survival rate at 32%.\n",
    "- Most passengers (> 75%) did not travel with parents or children.\n",
    "- Nearly 30% of the passengers had siblings and/or spouse aboard.\n",
    "- Fares varied significantly with few passengers (<1%) paying as high as $512.\n",
    "- Few elderly passengers (<1%) within age range 65-80."
   ]
  },
  {
   "cell_type": "markdown",
   "metadata": {},
   "source": [
    "**Categorical data**"
   ]
  },
  {
   "cell_type": "code",
   "execution_count": 9,
   "metadata": {
    "scrolled": true
   },
   "outputs": [
    {
     "data": {
      "application/vnd.microsoft.datawrangler.viewer.v0+json": {
       "columns": [
        {
         "name": "index",
         "rawType": "object",
         "type": "string"
        },
        {
         "name": "Name",
         "rawType": "object",
         "type": "unknown"
        },
        {
         "name": "Sex",
         "rawType": "object",
         "type": "unknown"
        },
        {
         "name": "Ticket",
         "rawType": "object",
         "type": "unknown"
        },
        {
         "name": "Cabin",
         "rawType": "object",
         "type": "unknown"
        },
        {
         "name": "Embarked",
         "rawType": "object",
         "type": "unknown"
        }
       ],
       "conversionMethod": "pd.DataFrame",
       "ref": "e045b687-c190-4a96-9170-da926fa2b89c",
       "rows": [
        [
         "count",
         "891",
         "891",
         "891",
         "204",
         "889"
        ],
        [
         "unique",
         "891",
         "2",
         "681",
         "147",
         "3"
        ],
        [
         "top",
         "Braund, Mr. Owen Harris",
         "male",
         "347082",
         "B96 B98",
         "S"
        ],
        [
         "freq",
         "1",
         "577",
         "7",
         "4",
         "644"
        ]
       ],
       "shape": {
        "columns": 5,
        "rows": 4
       }
      },
      "text/html": [
       "<div>\n",
       "<style scoped>\n",
       "    .dataframe tbody tr th:only-of-type {\n",
       "        vertical-align: middle;\n",
       "    }\n",
       "\n",
       "    .dataframe tbody tr th {\n",
       "        vertical-align: top;\n",
       "    }\n",
       "\n",
       "    .dataframe thead th {\n",
       "        text-align: right;\n",
       "    }\n",
       "</style>\n",
       "<table border=\"1\" class=\"dataframe\">\n",
       "  <thead>\n",
       "    <tr style=\"text-align: right;\">\n",
       "      <th></th>\n",
       "      <th>Name</th>\n",
       "      <th>Sex</th>\n",
       "      <th>Ticket</th>\n",
       "      <th>Cabin</th>\n",
       "      <th>Embarked</th>\n",
       "    </tr>\n",
       "  </thead>\n",
       "  <tbody>\n",
       "    <tr>\n",
       "      <th>count</th>\n",
       "      <td>891</td>\n",
       "      <td>891</td>\n",
       "      <td>891</td>\n",
       "      <td>204</td>\n",
       "      <td>889</td>\n",
       "    </tr>\n",
       "    <tr>\n",
       "      <th>unique</th>\n",
       "      <td>891</td>\n",
       "      <td>2</td>\n",
       "      <td>681</td>\n",
       "      <td>147</td>\n",
       "      <td>3</td>\n",
       "    </tr>\n",
       "    <tr>\n",
       "      <th>top</th>\n",
       "      <td>Braund, Mr. Owen Harris</td>\n",
       "      <td>male</td>\n",
       "      <td>347082</td>\n",
       "      <td>B96 B98</td>\n",
       "      <td>S</td>\n",
       "    </tr>\n",
       "    <tr>\n",
       "      <th>freq</th>\n",
       "      <td>1</td>\n",
       "      <td>577</td>\n",
       "      <td>7</td>\n",
       "      <td>4</td>\n",
       "      <td>644</td>\n",
       "    </tr>\n",
       "  </tbody>\n",
       "</table>\n",
       "</div>"
      ],
      "text/plain": [
       "                           Name   Sex  Ticket    Cabin Embarked\n",
       "count                       891   891     891      204      889\n",
       "unique                      891     2     681      147        3\n",
       "top     Braund, Mr. Owen Harris  male  347082  B96 B98        S\n",
       "freq                          1   577       7        4      644"
      ]
     },
     "execution_count": 9,
     "metadata": {},
     "output_type": "execute_result"
    }
   ],
   "source": [
    "train_df.describe(include=['O'])"
   ]
  },
  {
   "cell_type": "markdown",
   "metadata": {},
   "source": [
    "**What is the distribution of categorical features?**\n",
    "\n",
    "- Names are unique across the dataset (count=unique=891)\n",
    "- Sex variable as two possible values with 65% male (top=male, freq=577/count=891).\n",
    "- Cabin values have several duplicates across samples. Alternatively several passengers shared a cabin.\n",
    "- Embarked takes three possible values. S port used by most passengers (top=S)\n",
    "- Ticket feature has high ratio (22%) of duplicate values (unique=681)."
   ]
  },
  {
   "cell_type": "markdown",
   "metadata": {},
   "source": [
    "### Step 4: Data preprocessing\n",
    "\n",
    "We arrive at following assumptions based on data analysis done so far. We may validate these assumptions further before taking appropriate actions.\n",
    "\n",
    "**Correlating**: \n",
    "- We want to know how well does each feature correlate with Survival. \n",
    "- We want to do this early in our project and match these quick correlations with modelled correlations later in the project.\n",
    "- We want to check whether correlations with survival are likely causal or confounded.\n",
    "\n",
    "**Completing**: \n",
    "- We may want to complete Age feature as it is definitely correlated to survival.\n",
    "- We may want to complete the Embarked feature as it may also correlate with survival or another important feature.\n",
    "\n",
    "**Correcting**:\n",
    "- We assume Ticket feature may be dropped from our analysis as it contains high ratio of duplicates (22%) and there may not be a correlation between Ticket and survival.\n",
    "- We assume Cabin feature may be dropped as it is highly incomplete or contains many null values both in training and test dataset.\n",
    "- We assume PassengerId may be dropped from training dataset as it does not contribute to survival.\n",
    "- We assume Name feature is relatively non-standard, may not contribute directly to survival, so may be dropped.\n",
    "\n",
    "**Creating**:\n",
    "- We may want to create a new feature called Family based on Parch and SibSp to get total count of family members on board.\n",
    "- We may want to engineer the Name feature to extract Title as a new feature.\n",
    "- We may want to create new feature for Age bands. This turns a continous numerical feature into an ordinal categorical feature.\n",
    "- We may also want to create a Fare range feature if it helps our analysis.\n",
    "\n",
    "**Classifying**:\n",
    "- We may also add to our assumptions based on the problem description noted earlier.\n",
    "- Women (Sex=female) were more likely to have survived.\n",
    "- Children (Age<?) were more likely to have survived.\n",
    "- The upper-class passengers (Pclass=1) were more likely to have survived.\n",
    "\n",
    "Note: We will not test every assumption in this notebook, as some will be left out for you to practice.\n"
   ]
  },
  {
   "cell_type": "code",
   "execution_count": null,
   "metadata": {},
   "outputs": [],
   "source": []
  },
  {
   "cell_type": "markdown",
   "metadata": {},
   "source": [
    "### Analyze by pivoting features\n",
    "To confirm some of our observations and assumptions, we can quickly analyze our feature correlations by pivoting features against each other. We can only do so at this stage for features which do not have any empty values. It also makes sense doing so only for features which are categorical (Sex), ordinal (Pclass) or discrete (SibSp, Parch) type.\n",
    "\n"
   ]
  },
  {
   "cell_type": "code",
   "execution_count": 14,
   "metadata": {},
   "outputs": [],
   "source": [
    "corr = train_df.select_dtypes(include='number').corr() #pearson correlation coefficient"
   ]
  },
  {
   "cell_type": "code",
   "execution_count": 15,
   "metadata": {
    "scrolled": false
   },
   "outputs": [
    {
     "data": {
      "text/plain": [
       "Pclass         1.000000\n",
       "SibSp          0.083081\n",
       "Parch          0.018443\n",
       "PassengerId   -0.035144\n",
       "Survived      -0.338481\n",
       "Age           -0.369226\n",
       "Fare          -0.549500\n",
       "Name: Pclass, dtype: float64"
      ]
     },
     "execution_count": 15,
     "metadata": {},
     "output_type": "execute_result"
    }
   ],
   "source": [
    "corr[\"Pclass\"].sort_values(ascending=False)"
   ]
  },
  {
   "cell_type": "markdown",
   "metadata": {},
   "source": [
    "We see that a higher Pclass, which actually means a lower class ticket, is inversely correlated to fare, age and survived. This means that people with a lower class ticket were more likely to have a cheaper ticket, younger age and were less likely to survive. However, this does not necessarily mean that this is a causal relationship, meaning that that the lower class is the cause of the cheaper ticket, younger age and lower survival odds (Although it is pretty likely that the lower class ticket is the cause of a cheaper fare price :) ). PassengerID, which is just a random id number, has a correlation of almost zero, which is expected. "
   ]
  },
  {
   "cell_type": "code",
   "execution_count": 17,
   "metadata": {
    "scrolled": true
   },
   "outputs": [
    {
     "data": {
      "text/plain": [
       "Fare           1.000000\n",
       "Survived       0.257307\n",
       "Parch          0.216225\n",
       "SibSp          0.159651\n",
       "Age            0.096067\n",
       "PassengerId    0.012658\n",
       "Pclass        -0.549500\n",
       "Name: Fare, dtype: float64"
      ]
     },
     "execution_count": 17,
     "metadata": {},
     "output_type": "execute_result"
    }
   ],
   "source": [
    "corr[\"Fare\"].sort_values(ascending=False)"
   ]
  },
  {
   "cell_type": "markdown",
   "metadata": {},
   "source": [
    "We can see that a higher fare is correlated to higher survival rates, more siblings and more children or parents. We also observe that Fare has the exact same correlation to Pclass as Pclass to Fare (which is a result of the definition of correlation)."
   ]
  },
  {
   "cell_type": "code",
   "execution_count": 19,
   "metadata": {
    "scrolled": true
   },
   "outputs": [
    {
     "data": {
      "text/plain": [
       "Survived       1.000000\n",
       "Fare           0.257307\n",
       "Parch          0.081629\n",
       "PassengerId   -0.005007\n",
       "SibSp         -0.035322\n",
       "Age           -0.077221\n",
       "Pclass        -0.338481\n",
       "Name: Survived, dtype: float64"
      ]
     },
     "execution_count": 19,
     "metadata": {},
     "output_type": "execute_result"
    }
   ],
   "source": [
    "corr[\"Survived\"].sort_values(ascending=False)"
   ]
  },
  {
   "cell_type": "markdown",
   "metadata": {},
   "source": [
    "Maybe the most important correlations can be found by looking at Survived. We see that there is a positive correlation with Fare, so if you paid more, you were more likely to survive and that a lower class meant a lower chance of survival. \n",
    "\n",
    "**Note**: These are correlations, which give us an idea of which variables are correlated to eachother and with survival, however, this does not always mean they are good variables for a prediction model. Sometimes features carry similar information as other features, which can result in a higher correlation, but makes them redundant for that same reason. We make educated guesses based on this exploratory analysis on which features will be good predictors. Luckily, we can validate our assumptions later on by using feature importance methods."
   ]
  },
  {
   "cell_type": "markdown",
   "metadata": {},
   "source": [
    "We can look at individual features and how their different levels correlate to mean survival."
   ]
  },
  {
   "cell_type": "code",
   "execution_count": 20,
   "metadata": {},
   "outputs": [
    {
     "data": {
      "application/vnd.microsoft.datawrangler.viewer.v0+json": {
       "columns": [
        {
         "name": "index",
         "rawType": "int64",
         "type": "integer"
        },
        {
         "name": "Pclass",
         "rawType": "int64",
         "type": "integer"
        },
        {
         "name": "Survived",
         "rawType": "float64",
         "type": "float"
        }
       ],
       "conversionMethod": "pd.DataFrame",
       "ref": "9f0bfdbe-4178-41cf-a434-090f1daaebb7",
       "rows": [
        [
         "0",
         "1",
         "0.6296296296296297"
        ],
        [
         "1",
         "2",
         "0.47282608695652173"
        ],
        [
         "2",
         "3",
         "0.24236252545824846"
        ]
       ],
       "shape": {
        "columns": 2,
        "rows": 3
       }
      },
      "text/html": [
       "<div>\n",
       "<style scoped>\n",
       "    .dataframe tbody tr th:only-of-type {\n",
       "        vertical-align: middle;\n",
       "    }\n",
       "\n",
       "    .dataframe tbody tr th {\n",
       "        vertical-align: top;\n",
       "    }\n",
       "\n",
       "    .dataframe thead th {\n",
       "        text-align: right;\n",
       "    }\n",
       "</style>\n",
       "<table border=\"1\" class=\"dataframe\">\n",
       "  <thead>\n",
       "    <tr style=\"text-align: right;\">\n",
       "      <th></th>\n",
       "      <th>Pclass</th>\n",
       "      <th>Survived</th>\n",
       "    </tr>\n",
       "  </thead>\n",
       "  <tbody>\n",
       "    <tr>\n",
       "      <th>0</th>\n",
       "      <td>1</td>\n",
       "      <td>0.629630</td>\n",
       "    </tr>\n",
       "    <tr>\n",
       "      <th>1</th>\n",
       "      <td>2</td>\n",
       "      <td>0.472826</td>\n",
       "    </tr>\n",
       "    <tr>\n",
       "      <th>2</th>\n",
       "      <td>3</td>\n",
       "      <td>0.242363</td>\n",
       "    </tr>\n",
       "  </tbody>\n",
       "</table>\n",
       "</div>"
      ],
      "text/plain": [
       "   Pclass  Survived\n",
       "0       1  0.629630\n",
       "1       2  0.472826\n",
       "2       3  0.242363"
      ]
     },
     "execution_count": 20,
     "metadata": {},
     "output_type": "execute_result"
    }
   ],
   "source": [
    "train_df[['Pclass', 'Survived']].groupby(['Pclass'], as_index=False).mean().sort_values(by='Survived', ascending=False)"
   ]
  },
  {
   "cell_type": "code",
   "execution_count": 26,
   "metadata": {},
   "outputs": [
    {
     "data": {
      "application/vnd.microsoft.datawrangler.viewer.v0+json": {
       "columns": [
        {
         "name": "index",
         "rawType": "int64",
         "type": "integer"
        },
        {
         "name": "Sex",
         "rawType": "object",
         "type": "string"
        },
        {
         "name": "Survived",
         "rawType": "float64",
         "type": "float"
        }
       ],
       "conversionMethod": "pd.DataFrame",
       "ref": "a6e5c335-0cb1-46b5-8ff5-9566cd8f5796",
       "rows": [
        [
         "0",
         "female",
         "0.7420382165605095"
        ],
        [
         "1",
         "male",
         "0.18890814558058924"
        ]
       ],
       "shape": {
        "columns": 2,
        "rows": 2
       }
      },
      "text/html": [
       "<div>\n",
       "<style scoped>\n",
       "    .dataframe tbody tr th:only-of-type {\n",
       "        vertical-align: middle;\n",
       "    }\n",
       "\n",
       "    .dataframe tbody tr th {\n",
       "        vertical-align: top;\n",
       "    }\n",
       "\n",
       "    .dataframe thead th {\n",
       "        text-align: right;\n",
       "    }\n",
       "</style>\n",
       "<table border=\"1\" class=\"dataframe\">\n",
       "  <thead>\n",
       "    <tr style=\"text-align: right;\">\n",
       "      <th></th>\n",
       "      <th>Sex</th>\n",
       "      <th>Survived</th>\n",
       "    </tr>\n",
       "  </thead>\n",
       "  <tbody>\n",
       "    <tr>\n",
       "      <th>0</th>\n",
       "      <td>female</td>\n",
       "      <td>0.742038</td>\n",
       "    </tr>\n",
       "    <tr>\n",
       "      <th>1</th>\n",
       "      <td>male</td>\n",
       "      <td>0.188908</td>\n",
       "    </tr>\n",
       "  </tbody>\n",
       "</table>\n",
       "</div>"
      ],
      "text/plain": [
       "      Sex  Survived\n",
       "0  female  0.742038\n",
       "1    male  0.188908"
      ]
     },
     "execution_count": 26,
     "metadata": {},
     "output_type": "execute_result"
    }
   ],
   "source": [
    "train_df[[\"Sex\", \"Survived\"]].groupby(['Sex'], as_index=False).mean().sort_values(by='Survived', ascending=False)"
   ]
  },
  {
   "cell_type": "code",
   "execution_count": 27,
   "metadata": {},
   "outputs": [
    {
     "data": {
      "application/vnd.microsoft.datawrangler.viewer.v0+json": {
       "columns": [
        {
         "name": "index",
         "rawType": "int64",
         "type": "integer"
        },
        {
         "name": "SibSp",
         "rawType": "int64",
         "type": "integer"
        },
        {
         "name": "Survived",
         "rawType": "float64",
         "type": "float"
        }
       ],
       "conversionMethod": "pd.DataFrame",
       "ref": "7e036421-8615-4ab6-a580-4affb1837ea5",
       "rows": [
        [
         "1",
         "1",
         "0.5358851674641149"
        ],
        [
         "2",
         "2",
         "0.4642857142857143"
        ],
        [
         "0",
         "0",
         "0.34539473684210525"
        ],
        [
         "3",
         "3",
         "0.25"
        ],
        [
         "4",
         "4",
         "0.16666666666666666"
        ],
        [
         "5",
         "5",
         "0.0"
        ],
        [
         "6",
         "8",
         "0.0"
        ]
       ],
       "shape": {
        "columns": 2,
        "rows": 7
       }
      },
      "text/html": [
       "<div>\n",
       "<style scoped>\n",
       "    .dataframe tbody tr th:only-of-type {\n",
       "        vertical-align: middle;\n",
       "    }\n",
       "\n",
       "    .dataframe tbody tr th {\n",
       "        vertical-align: top;\n",
       "    }\n",
       "\n",
       "    .dataframe thead th {\n",
       "        text-align: right;\n",
       "    }\n",
       "</style>\n",
       "<table border=\"1\" class=\"dataframe\">\n",
       "  <thead>\n",
       "    <tr style=\"text-align: right;\">\n",
       "      <th></th>\n",
       "      <th>SibSp</th>\n",
       "      <th>Survived</th>\n",
       "    </tr>\n",
       "  </thead>\n",
       "  <tbody>\n",
       "    <tr>\n",
       "      <th>1</th>\n",
       "      <td>1</td>\n",
       "      <td>0.535885</td>\n",
       "    </tr>\n",
       "    <tr>\n",
       "      <th>2</th>\n",
       "      <td>2</td>\n",
       "      <td>0.464286</td>\n",
       "    </tr>\n",
       "    <tr>\n",
       "      <th>0</th>\n",
       "      <td>0</td>\n",
       "      <td>0.345395</td>\n",
       "    </tr>\n",
       "    <tr>\n",
       "      <th>3</th>\n",
       "      <td>3</td>\n",
       "      <td>0.250000</td>\n",
       "    </tr>\n",
       "    <tr>\n",
       "      <th>4</th>\n",
       "      <td>4</td>\n",
       "      <td>0.166667</td>\n",
       "    </tr>\n",
       "    <tr>\n",
       "      <th>5</th>\n",
       "      <td>5</td>\n",
       "      <td>0.000000</td>\n",
       "    </tr>\n",
       "    <tr>\n",
       "      <th>6</th>\n",
       "      <td>8</td>\n",
       "      <td>0.000000</td>\n",
       "    </tr>\n",
       "  </tbody>\n",
       "</table>\n",
       "</div>"
      ],
      "text/plain": [
       "   SibSp  Survived\n",
       "1      1  0.535885\n",
       "2      2  0.464286\n",
       "0      0  0.345395\n",
       "3      3  0.250000\n",
       "4      4  0.166667\n",
       "5      5  0.000000\n",
       "6      8  0.000000"
      ]
     },
     "execution_count": 27,
     "metadata": {},
     "output_type": "execute_result"
    }
   ],
   "source": [
    "train_df[[\"SibSp\", \"Survived\"]].groupby(['SibSp'], as_index=False).mean().sort_values(by='Survived', ascending=False)"
   ]
  },
  {
   "cell_type": "code",
   "execution_count": 28,
   "metadata": {},
   "outputs": [
    {
     "data": {
      "application/vnd.microsoft.datawrangler.viewer.v0+json": {
       "columns": [
        {
         "name": "index",
         "rawType": "int64",
         "type": "integer"
        },
        {
         "name": "Parch",
         "rawType": "int64",
         "type": "integer"
        },
        {
         "name": "Survived",
         "rawType": "float64",
         "type": "float"
        }
       ],
       "conversionMethod": "pd.DataFrame",
       "ref": "47aa154c-d357-48f0-a3bb-d2cdf2829005",
       "rows": [
        [
         "3",
         "3",
         "0.6"
        ],
        [
         "1",
         "1",
         "0.5508474576271186"
        ],
        [
         "2",
         "2",
         "0.5"
        ],
        [
         "0",
         "0",
         "0.34365781710914456"
        ],
        [
         "5",
         "5",
         "0.2"
        ],
        [
         "4",
         "4",
         "0.0"
        ],
        [
         "6",
         "6",
         "0.0"
        ]
       ],
       "shape": {
        "columns": 2,
        "rows": 7
       }
      },
      "text/html": [
       "<div>\n",
       "<style scoped>\n",
       "    .dataframe tbody tr th:only-of-type {\n",
       "        vertical-align: middle;\n",
       "    }\n",
       "\n",
       "    .dataframe tbody tr th {\n",
       "        vertical-align: top;\n",
       "    }\n",
       "\n",
       "    .dataframe thead th {\n",
       "        text-align: right;\n",
       "    }\n",
       "</style>\n",
       "<table border=\"1\" class=\"dataframe\">\n",
       "  <thead>\n",
       "    <tr style=\"text-align: right;\">\n",
       "      <th></th>\n",
       "      <th>Parch</th>\n",
       "      <th>Survived</th>\n",
       "    </tr>\n",
       "  </thead>\n",
       "  <tbody>\n",
       "    <tr>\n",
       "      <th>3</th>\n",
       "      <td>3</td>\n",
       "      <td>0.600000</td>\n",
       "    </tr>\n",
       "    <tr>\n",
       "      <th>1</th>\n",
       "      <td>1</td>\n",
       "      <td>0.550847</td>\n",
       "    </tr>\n",
       "    <tr>\n",
       "      <th>2</th>\n",
       "      <td>2</td>\n",
       "      <td>0.500000</td>\n",
       "    </tr>\n",
       "    <tr>\n",
       "      <th>0</th>\n",
       "      <td>0</td>\n",
       "      <td>0.343658</td>\n",
       "    </tr>\n",
       "    <tr>\n",
       "      <th>5</th>\n",
       "      <td>5</td>\n",
       "      <td>0.200000</td>\n",
       "    </tr>\n",
       "    <tr>\n",
       "      <th>4</th>\n",
       "      <td>4</td>\n",
       "      <td>0.000000</td>\n",
       "    </tr>\n",
       "    <tr>\n",
       "      <th>6</th>\n",
       "      <td>6</td>\n",
       "      <td>0.000000</td>\n",
       "    </tr>\n",
       "  </tbody>\n",
       "</table>\n",
       "</div>"
      ],
      "text/plain": [
       "   Parch  Survived\n",
       "3      3  0.600000\n",
       "1      1  0.550847\n",
       "2      2  0.500000\n",
       "0      0  0.343658\n",
       "5      5  0.200000\n",
       "4      4  0.000000\n",
       "6      6  0.000000"
      ]
     },
     "execution_count": 28,
     "metadata": {},
     "output_type": "execute_result"
    }
   ],
   "source": [
    "train_df[[\"Parch\", \"Survived\"]].groupby(['Parch'], as_index=False).mean().sort_values(by='Survived', ascending=False)"
   ]
  },
  {
   "cell_type": "markdown",
   "metadata": {},
   "source": [
    "**Observations**\n",
    "\n",
    "**Pclass**: We observe significant correlation (>0.5) among Pclass=1 and Survived (third classifying assumption). We decide to include this feature in our model.\n",
    "\n",
    "**Sex**: We confirm the observation during problem definition that Sex=female had very high survival rate at 74% (first classifying assumption).\n",
    "\n",
    "**SibSp and Parch**: These features have zero correlation for certain values. It may be best to derive a feature or a set of features from these individual features (First creating assumption)."
   ]
  },
  {
   "cell_type": "markdown",
   "metadata": {},
   "source": [
    "### Analyze via visualisation\n",
    "Now we can continue confirming some of our assumptions using visualizations for analyzing the data.\n",
    "\n",
    "**Correlating numerical features**\n",
    "\n",
    "Let us start by understanding correlations between numerical features and our solution goal (Survived).\n",
    "\n",
    "A histogram chart is useful for analyzing continous numerical variables like Age where banding or ranges will help identify useful patterns. The histogram can indicate distribution of samples using automatically defined bins or equally ranged bands. This helps us answer questions relating to specific bands (Did infants have better survival rate?)\n",
    "\n",
    "Note that x-axis in historgram visualizations represents the count of samples or passengers."
   ]
  },
  {
   "cell_type": "code",
   "execution_count": 29,
   "metadata": {},
   "outputs": [
    {
     "data": {
      "text/plain": [
       "<seaborn.axisgrid.FacetGrid at 0x1348ba9c0>"
      ]
     },
     "execution_count": 29,
     "metadata": {},
     "output_type": "execute_result"
    },
    {
     "data": {
      "image/png": "[encoded data removed]",
      "text/plain": [
       "<Figure size 600x300 with 2 Axes>"
      ]
     },
     "metadata": {},
     "output_type": "display_data"
    }
   ],
   "source": [
    "g = sns.FacetGrid(train_df, col='Survived')\n",
    "g.map(plt.hist, 'Age', bins=20)"
   ]
  },
  {
   "cell_type": "markdown",
   "metadata": {},
   "source": [
    "\n",
    "\n",
    "**Observations** \n",
    "\n",
    "- Infants (Age <=4) had high survival rate.\n",
    "- Oldest passengers (Age = 80) survived.\n",
    "- Large number of 15-30 year olds did not survive.\n",
    "- Most passengers are in 15-35 age range.\n",
    "\n",
    "**Decisions**\n",
    "\n",
    "This simple analysis confirms our assumptions as decisions for subsequent workflow stages.\n",
    "\n",
    "- We should consider Age (second classifying assumption) in our model training.\n",
    "- Complete the Age feature for null values (first completing assumption).\n",
    "- We have to try to band age groups (third creating assumption), which is often referred to as binning."
   ]
  },
  {
   "cell_type": "markdown",
   "metadata": {},
   "source": [
    "### Correlating numerical and ordinal features\n",
    "We can combine multiple features for identifying correlations using a single plot. This can be done with numerical and categorical features which have numeric values.\n",
    "\n"
   ]
  },
  {
   "cell_type": "code",
   "execution_count": 31,
   "metadata": {},
   "outputs": [
    {
     "data": {
      "image/png": "[encoded data removed]",
      "text/plain": [
       "<Figure size 715.111x660 with 6 Axes>"
      ]
     },
     "metadata": {},
     "output_type": "display_data"
    }
   ],
   "source": [
    "grid = sns.FacetGrid(train_df, col='Survived', row='Pclass', height=2.2, aspect=1.6)\n",
    "grid.map(plt.hist, 'Age', alpha=.5, bins=20)\n",
    "grid.add_legend();"
   ]
  },
  {
   "cell_type": "markdown",
   "metadata": {},
   "source": [
    "**Observations**\n",
    "- Pclass=3 had most passengers, however most did not survive. Confirms our second classifying assumption\n",
    "- Infant passengers in Pclass=2 mostly survived. Further qualifies our second classifying assumption.\n",
    "- Most passengers in Pclass=1 survived. Confirms our third classifying assumption.\n",
    "- Pclass varies in terms of Age distribution of passengers.\n",
    "\n",
    "**Decisions**\n",
    "\n",
    "Consider Pclass for model training."
   ]
  },
  {
   "cell_type": "markdown",
   "metadata": {},
   "source": [
    "### Correlating categorical features\n",
    "Now we can correlate categorical features with our solution goal.\n"
   ]
  },
  {
   "cell_type": "code",
   "execution_count": 33,
   "metadata": {},
   "outputs": [
    {
     "data": {
      "text/plain": [
       "<seaborn.axisgrid.FacetGrid at 0x134898a70>"
      ]
     },
     "execution_count": 33,
     "metadata": {},
     "output_type": "execute_result"
    },
    {
     "data": {
      "image/png": "[encoded data removed]",
      "text/plain": [
       "<Figure size 450x660 with 3 Axes>"
      ]
     },
     "metadata": {},
     "output_type": "display_data"
    }
   ],
   "source": [
    "grid = sns.FacetGrid(train_df, row='Embarked', height=2.2, aspect=1.6)\n",
    "grid.map(sns.pointplot, 'Pclass', 'Survived', 'Sex', palette='deep')\n",
    "grid.add_legend()"
   ]
  },
  {
   "cell_type": "markdown",
   "metadata": {},
   "source": [
    "\n",
    "**Observations**: \n",
    "- Female passengers had much better survival rate than males. Confirms first classifying assumption.\n",
    "- Exception in Embarked=C where males had higher survival rate. This could be a correlation between Pclass and Embarked and in turn Pclass and Survived, not necessarily direct correlation between Embarked and Survived.\n",
    "- Males had better survival rate in Pclass=3 when compared with Pclass=2 for C and Q ports. Confirms second Completing assumption.\n",
    "- Ports of embarkation have varying survival rates for Pclass=3 and among male passengers. Confirms first Correlating assumption.\n",
    "\n",
    "**Decisions**:\n",
    "- Add Sex feature to model training.\n",
    "- Complete and add Embarked feature to model training."
   ]
  },
  {
   "cell_type": "markdown",
   "metadata": {},
   "source": [
    "**Correlating categorical and numerical features**\n",
    "\n",
    "We may also want to correlate categorical features (with non-numeric values) and numeric features. We can consider correlating Embarked (Categorical non-numeric), Sex (Categorical non-numeric), Fare (Numeric continuous), with Survived (Categorical numeric)"
   ]
  },
  {
   "cell_type": "code",
   "execution_count": 35,
   "metadata": {},
   "outputs": [
    {
     "data": {
      "text/plain": [
       "<seaborn.axisgrid.FacetGrid at 0x1100eec00>"
      ]
     },
     "execution_count": 35,
     "metadata": {},
     "output_type": "execute_result"
    },
    {
     "data": {
      "image/png": "[encoded data removed]",
      "text/plain": [
       "<Figure size 715.111x660 with 6 Axes>"
      ]
     },
     "metadata": {},
     "output_type": "display_data"
    }
   ],
   "source": [
    "grid = sns.FacetGrid(train_df, row='Embarked', col='Survived', height=2.2, aspect=1.6)\n",
    "grid.map(sns.barplot, 'Sex', 'Fare', alpha=.5, ci=None)\n",
    "grid.add_legend()"
   ]
  },
  {
   "cell_type": "markdown",
   "metadata": {},
   "source": [
    "**Observations**\n",
    "\n",
    "- Higher fare paying passengers had better survival. Confirms our fourth assumption for creating fare ranges and our previous correlation observations.\n",
    "- Port of embarkment seems to correlate with survival rates. Confirms our first correlating and second completings assumptions. However, it is possible this is just the correlation of embarkment with fare: We see that in general the survivors had paid more than the non-survivors, except for those embarked in Q.\n",
    "\n",
    "**Decisions**\n",
    "\n",
    "Consider banding Fare feature.\n",
    "Look into predictive power of embarkment."
   ]
  },
  {
   "cell_type": "markdown",
   "metadata": {},
   "source": [
    "### Wrangle data\n",
    "We have collected several assumptions and decisions regarding our datasets and solution requirements. So far we did not have to change a single feature or value to arrive at these. Let us now execute our decisions and assumptions for correcting, creating, and completing goals.\n",
    "\n",
    "**Correcting by dropping features**\n",
    "\n",
    "This is a good starting goal to execute. By dropping features we are dealing with fewer data points. Speeds up our notebook and eases the analysis. Furthermore in some cases bad or correlated features confuse the algorithm resulting in a worse performance.\n",
    "\n",
    "_Based on our assumptions and decisions we want to drop the Cabin (second correcting assumption) and Ticket (first correcting assumption) features_, however we will not drop both features just yet, as we will use them later on to create a new feature.\n",
    "\n",
    "Note that where applicable we perform operations on both training and testing datasets together to stay consistent."
   ]
  },
  {
   "cell_type": "code",
   "execution_count": 36,
   "metadata": {},
   "outputs": [
    {
     "data": {
      "application/vnd.microsoft.datawrangler.viewer.v0+json": {
       "columns": [
        {
         "name": "index",
         "rawType": "int64",
         "type": "integer"
        },
        {
         "name": "PassengerId",
         "rawType": "int64",
         "type": "integer"
        },
        {
         "name": "Survived",
         "rawType": "int64",
         "type": "integer"
        },
        {
         "name": "Pclass",
         "rawType": "int64",
         "type": "integer"
        },
        {
         "name": "Name",
         "rawType": "object",
         "type": "string"
        },
        {
         "name": "Sex",
         "rawType": "object",
         "type": "string"
        },
        {
         "name": "Age",
         "rawType": "float64",
         "type": "float"
        },
        {
         "name": "SibSp",
         "rawType": "int64",
         "type": "integer"
        },
        {
         "name": "Parch",
         "rawType": "int64",
         "type": "integer"
        },
        {
         "name": "Ticket",
         "rawType": "object",
         "type": "string"
        },
        {
         "name": "Fare",
         "rawType": "float64",
         "type": "float"
        },
        {
         "name": "Cabin",
         "rawType": "object",
         "type": "unknown"
        },
        {
         "name": "Embarked",
         "rawType": "object",
         "type": "string"
        }
       ],
       "conversionMethod": "pd.DataFrame",
       "ref": "9ae64196-2566-4ad7-8245-75133de9b7b6",
       "rows": [
        [
         "0",
         "1",
         "0",
         "3",
         "Braund, Mr. Owen Harris",
         "male",
         "22.0",
         "1",
         "0",
         "A/5 21171",
         "7.25",
         null,
         "S"
        ],
        [
         "1",
         "2",
         "1",
         "1",
         "Cumings, Mrs. John Bradley (Florence Briggs Thayer)",
         "female",
         "38.0",
         "1",
         "0",
         "PC 17599",
         "71.2833",
         "C85",
         "C"
        ],
        [
         "2",
         "3",
         "1",
         "3",
         "Heikkinen, Miss. Laina",
         "female",
         "26.0",
         "0",
         "0",
         "STON/O2. 3101282",
         "7.925",
         null,
         "S"
        ],
        [
         "3",
         "4",
         "1",
         "1",
         "Futrelle, Mrs. Jacques Heath (Lily May Peel)",
         "female",
         "35.0",
         "1",
         "0",
         "113803",
         "53.1",
         "C123",
         "S"
        ],
        [
         "4",
         "5",
         "0",
         "3",
         "Allen, Mr. William Henry",
         "male",
         "35.0",
         "0",
         "0",
         "373450",
         "8.05",
         null,
         "S"
        ]
       ],
       "shape": {
        "columns": 12,
        "rows": 5
       }
      },
      "text/html": [
       "<div>\n",
       "<style scoped>\n",
       "    .dataframe tbody tr th:only-of-type {\n",
       "        vertical-align: middle;\n",
       "    }\n",
       "\n",
       "    .dataframe tbody tr th {\n",
       "        vertical-align: top;\n",
       "    }\n",
       "\n",
       "    .dataframe thead th {\n",
       "        text-align: right;\n",
       "    }\n",
       "</style>\n",
       "<table border=\"1\" class=\"dataframe\">\n",
       "  <thead>\n",
       "    <tr style=\"text-align: right;\">\n",
       "      <th></th>\n",
       "      <th>PassengerId</th>\n",
       "      <th>Survived</th>\n",
       "      <th>Pclass</th>\n",
       "      <th>Name</th>\n",
       "      <th>Sex</th>\n",
       "      <th>Age</th>\n",
       "      <th>SibSp</th>\n",
       "      <th>Parch</th>\n",
       "      <th>Ticket</th>\n",
       "      <th>Fare</th>\n",
       "      <th>Cabin</th>\n",
       "      <th>Embarked</th>\n",
       "    </tr>\n",
       "  </thead>\n",
       "  <tbody>\n",
       "    <tr>\n",
       "      <th>0</th>\n",
       "      <td>1</td>\n",
       "      <td>0</td>\n",
       "      <td>3</td>\n",
       "      <td>Braund, Mr. Owen Harris</td>\n",
       "      <td>male</td>\n",
       "      <td>22.0</td>\n",
       "      <td>1</td>\n",
       "      <td>0</td>\n",
       "      <td>A/5 21171</td>\n",
       "      <td>7.2500</td>\n",
       "      <td>NaN</td>\n",
       "      <td>S</td>\n",
       "    </tr>\n",
       "    <tr>\n",
       "      <th>1</th>\n",
       "      <td>2</td>\n",
       "      <td>1</td>\n",
       "      <td>1</td>\n",
       "      <td>Cumings, Mrs. John Bradley (Florence Briggs Th...</td>\n",
       "      <td>female</td>\n",
       "      <td>38.0</td>\n",
       "      <td>1</td>\n",
       "      <td>0</td>\n",
       "      <td>PC 17599</td>\n",
       "      <td>71.2833</td>\n",
       "      <td>C85</td>\n",
       "      <td>C</td>\n",
       "    </tr>\n",
       "    <tr>\n",
       "      <th>2</th>\n",
       "      <td>3</td>\n",
       "      <td>1</td>\n",
       "      <td>3</td>\n",
       "      <td>Heikkinen, Miss. Laina</td>\n",
       "      <td>female</td>\n",
       "      <td>26.0</td>\n",
       "      <td>0</td>\n",
       "      <td>0</td>\n",
       "      <td>STON/O2. 3101282</td>\n",
       "      <td>7.9250</td>\n",
       "      <td>NaN</td>\n",
       "      <td>S</td>\n",
       "    </tr>\n",
       "    <tr>\n",
       "      <th>3</th>\n",
       "      <td>4</td>\n",
       "      <td>1</td>\n",
       "      <td>1</td>\n",
       "      <td>Futrelle, Mrs. Jacques Heath (Lily May Peel)</td>\n",
       "      <td>female</td>\n",
       "      <td>35.0</td>\n",
       "      <td>1</td>\n",
       "      <td>0</td>\n",
       "      <td>113803</td>\n",
       "      <td>53.1000</td>\n",
       "      <td>C123</td>\n",
       "      <td>S</td>\n",
       "    </tr>\n",
       "    <tr>\n",
       "      <th>4</th>\n",
       "      <td>5</td>\n",
       "      <td>0</td>\n",
       "      <td>3</td>\n",
       "      <td>Allen, Mr. William Henry</td>\n",
       "      <td>male</td>\n",
       "      <td>35.0</td>\n",
       "      <td>0</td>\n",
       "      <td>0</td>\n",
       "      <td>373450</td>\n",
       "      <td>8.0500</td>\n",
       "      <td>NaN</td>\n",
       "      <td>S</td>\n",
       "    </tr>\n",
       "  </tbody>\n",
       "</table>\n",
       "</div>"
      ],
      "text/plain": [
       "   PassengerId  Survived  Pclass  \\\n",
       "0            1         0       3   \n",
       "1            2         1       1   \n",
       "2            3         1       3   \n",
       "3            4         1       1   \n",
       "4            5         0       3   \n",
       "\n",
       "                                                Name     Sex   Age  SibSp  \\\n",
       "0                            Braund, Mr. Owen Harris    male  22.0      1   \n",
       "1  Cumings, Mrs. John Bradley (Florence Briggs Th...  female  38.0      1   \n",
       "2                             Heikkinen, Miss. Laina  female  26.0      0   \n",
       "3       Futrelle, Mrs. Jacques Heath (Lily May Peel)  female  35.0      1   \n",
       "4                           Allen, Mr. William Henry    male  35.0      0   \n",
       "\n",
       "   Parch            Ticket     Fare Cabin Embarked  \n",
       "0      0         A/5 21171   7.2500   NaN        S  \n",
       "1      0          PC 17599  71.2833   C85        C  \n",
       "2      0  STON/O2. 3101282   7.9250   NaN        S  \n",
       "3      0            113803  53.1000  C123        S  \n",
       "4      0            373450   8.0500   NaN        S  "
      ]
     },
     "execution_count": 36,
     "metadata": {},
     "output_type": "execute_result"
    }
   ],
   "source": [
    "train_df.head()"
   ]
  },
  {
   "cell_type": "markdown",
   "metadata": {},
   "source": [
    "### Creating new feature extracting from existing\n",
    "We want to analyze if Name feature can be engineered to extract titles and test correlation between titles and survival, before dropping Name and PassengerId features.\n",
    "\n",
    "In the following code we extract Title feature using regular expressions. The RegEx pattern (\\w+\\.) matches the first word which ends with a dot character within Name feature. The expand=False flag returns a DataFrame."
   ]
  },
  {
   "cell_type": "code",
   "execution_count": 38,
   "metadata": {
    "scrolled": true
   },
   "outputs": [
    {
     "data": {
      "application/vnd.microsoft.datawrangler.viewer.v0+json": {
       "columns": [
        {
         "name": "Title",
         "rawType": "object",
         "type": "string"
        },
        {
         "name": "female",
         "rawType": "int64",
         "type": "integer"
        },
        {
         "name": "male",
         "rawType": "int64",
         "type": "integer"
        }
       ],
       "conversionMethod": "pd.DataFrame",
       "ref": "04a191ba-b78f-455e-95cb-4793e1c5b4c2",
       "rows": [
        [
         "Capt",
         "0",
         "1"
        ],
        [
         "Col",
         "0",
         "2"
        ],
        [
         "Countess",
         "1",
         "0"
        ],
        [
         "Don",
         "0",
         "1"
        ],
        [
         "Dr",
         "1",
         "6"
        ],
        [
         "Jonkheer",
         "0",
         "1"
        ],
        [
         "Lady",
         "1",
         "0"
        ],
        [
         "Major",
         "0",
         "2"
        ],
        [
         "Master",
         "0",
         "40"
        ],
        [
         "Miss",
         "182",
         "0"
        ],
        [
         "Mlle",
         "2",
         "0"
        ],
        [
         "Mme",
         "1",
         "0"
        ],
        [
         "Mr",
         "0",
         "517"
        ],
        [
         "Mrs",
         "125",
         "0"
        ],
        [
         "Ms",
         "1",
         "0"
        ],
        [
         "Rev",
         "0",
         "6"
        ],
        [
         "Sir",
         "0",
         "1"
        ]
       ],
       "shape": {
        "columns": 2,
        "rows": 17
       }
      },
      "text/html": [
       "<div>\n",
       "<style scoped>\n",
       "    .dataframe tbody tr th:only-of-type {\n",
       "        vertical-align: middle;\n",
       "    }\n",
       "\n",
       "    .dataframe tbody tr th {\n",
       "        vertical-align: top;\n",
       "    }\n",
       "\n",
       "    .dataframe thead th {\n",
       "        text-align: right;\n",
       "    }\n",
       "</style>\n",
       "<table border=\"1\" class=\"dataframe\">\n",
       "  <thead>\n",
       "    <tr style=\"text-align: right;\">\n",
       "      <th>Sex</th>\n",
       "      <th>female</th>\n",
       "      <th>male</th>\n",
       "    </tr>\n",
       "    <tr>\n",
       "      <th>Title</th>\n",
       "      <th></th>\n",
       "      <th></th>\n",
       "    </tr>\n",
       "  </thead>\n",
       "  <tbody>\n",
       "    <tr>\n",
       "      <th>Capt</th>\n",
       "      <td>0</td>\n",
       "      <td>1</td>\n",
       "    </tr>\n",
       "    <tr>\n",
       "      <th>Col</th>\n",
       "      <td>0</td>\n",
       "      <td>2</td>\n",
       "    </tr>\n",
       "    <tr>\n",
       "      <th>Countess</th>\n",
       "      <td>1</td>\n",
       "      <td>0</td>\n",
       "    </tr>\n",
       "    <tr>\n",
       "      <th>Don</th>\n",
       "      <td>0</td>\n",
       "      <td>1</td>\n",
       "    </tr>\n",
       "    <tr>\n",
       "      <th>Dr</th>\n",
       "      <td>1</td>\n",
       "      <td>6</td>\n",
       "    </tr>\n",
       "    <tr>\n",
       "      <th>Jonkheer</th>\n",
       "      <td>0</td>\n",
       "      <td>1</td>\n",
       "    </tr>\n",
       "    <tr>\n",
       "      <th>Lady</th>\n",
       "      <td>1</td>\n",
       "      <td>0</td>\n",
       "    </tr>\n",
       "    <tr>\n",
       "      <th>Major</th>\n",
       "      <td>0</td>\n",
       "      <td>2</td>\n",
       "    </tr>\n",
       "    <tr>\n",
       "      <th>Master</th>\n",
       "      <td>0</td>\n",
       "      <td>40</td>\n",
       "    </tr>\n",
       "    <tr>\n",
       "      <th>Miss</th>\n",
       "      <td>182</td>\n",
       "      <td>0</td>\n",
       "    </tr>\n",
       "    <tr>\n",
       "      <th>Mlle</th>\n",
       "      <td>2</td>\n",
       "      <td>0</td>\n",
       "    </tr>\n",
       "    <tr>\n",
       "      <th>Mme</th>\n",
       "      <td>1</td>\n",
       "      <td>0</td>\n",
       "    </tr>\n",
       "    <tr>\n",
       "      <th>Mr</th>\n",
       "      <td>0</td>\n",
       "      <td>517</td>\n",
       "    </tr>\n",
       "    <tr>\n",
       "      <th>Mrs</th>\n",
       "      <td>125</td>\n",
       "      <td>0</td>\n",
       "    </tr>\n",
       "    <tr>\n",
       "      <th>Ms</th>\n",
       "      <td>1</td>\n",
       "      <td>0</td>\n",
       "    </tr>\n",
       "    <tr>\n",
       "      <th>Rev</th>\n",
       "      <td>0</td>\n",
       "      <td>6</td>\n",
       "    </tr>\n",
       "    <tr>\n",
       "      <th>Sir</th>\n",
       "      <td>0</td>\n",
       "      <td>1</td>\n",
       "    </tr>\n",
       "  </tbody>\n",
       "</table>\n",
       "</div>"
      ],
      "text/plain": [
       "Sex       female  male\n",
       "Title                 \n",
       "Capt           0     1\n",
       "Col            0     2\n",
       "Countess       1     0\n",
       "Don            0     1\n",
       "Dr             1     6\n",
       "Jonkheer       0     1\n",
       "Lady           1     0\n",
       "Major          0     2\n",
       "Master         0    40\n",
       "Miss         182     0\n",
       "Mlle           2     0\n",
       "Mme            1     0\n",
       "Mr             0   517\n",
       "Mrs          125     0\n",
       "Ms             1     0\n",
       "Rev            0     6\n",
       "Sir            0     1"
      ]
     },
     "execution_count": 38,
     "metadata": {},
     "output_type": "execute_result"
    }
   ],
   "source": [
    "combined_df['Title'] = combined_df.Name.str.extract(' ([A-Za-z]+)\\.', expand=False)\n",
    "train_df['Title'] = combined_df['Title'][:891]\n",
    "test_df['Title'] = combined_df['Title'][891:]\n",
    "\n",
    "pd.crosstab(train_df['Title'], train_df['Sex'])"
   ]
  },
  {
   "cell_type": "markdown",
   "metadata": {},
   "source": [
    "We can replace many titles with a more common name or classify them as Rare:"
   ]
  },
  {
   "cell_type": "code",
   "execution_count": 39,
   "metadata": {
    "scrolled": true
   },
   "outputs": [
    {
     "data": {
      "application/vnd.microsoft.datawrangler.viewer.v0+json": {
       "columns": [
        {
         "name": "index",
         "rawType": "int64",
         "type": "integer"
        },
        {
         "name": "Title",
         "rawType": "object",
         "type": "string"
        },
        {
         "name": "Survived",
         "rawType": "float64",
         "type": "float"
        }
       ],
       "conversionMethod": "pd.DataFrame",
       "ref": "c29ec42a-ade5-47fc-896a-55e5ec24a79e",
       "rows": [
        [
         "0",
         "Master",
         "0.575"
        ],
        [
         "1",
         "Miss",
         "0.7027027027027027"
        ],
        [
         "2",
         "Mr",
         "0.15667311411992263"
        ],
        [
         "3",
         "Mrs",
         "0.7936507936507936"
        ],
        [
         "4",
         "Rare",
         "0.34782608695652173"
        ]
       ],
       "shape": {
        "columns": 2,
        "rows": 5
       }
      },
      "text/html": [
       "<div>\n",
       "<style scoped>\n",
       "    .dataframe tbody tr th:only-of-type {\n",
       "        vertical-align: middle;\n",
       "    }\n",
       "\n",
       "    .dataframe tbody tr th {\n",
       "        vertical-align: top;\n",
       "    }\n",
       "\n",
       "    .dataframe thead th {\n",
       "        text-align: right;\n",
       "    }\n",
       "</style>\n",
       "<table border=\"1\" class=\"dataframe\">\n",
       "  <thead>\n",
       "    <tr style=\"text-align: right;\">\n",
       "      <th></th>\n",
       "      <th>Title</th>\n",
       "      <th>Survived</th>\n",
       "    </tr>\n",
       "  </thead>\n",
       "  <tbody>\n",
       "    <tr>\n",
       "      <th>0</th>\n",
       "      <td>Master</td>\n",
       "      <td>0.575000</td>\n",
       "    </tr>\n",
       "    <tr>\n",
       "      <th>1</th>\n",
       "      <td>Miss</td>\n",
       "      <td>0.702703</td>\n",
       "    </tr>\n",
       "    <tr>\n",
       "      <th>2</th>\n",
       "      <td>Mr</td>\n",
       "      <td>0.156673</td>\n",
       "    </tr>\n",
       "    <tr>\n",
       "      <th>3</th>\n",
       "      <td>Mrs</td>\n",
       "      <td>0.793651</td>\n",
       "    </tr>\n",
       "    <tr>\n",
       "      <th>4</th>\n",
       "      <td>Rare</td>\n",
       "      <td>0.347826</td>\n",
       "    </tr>\n",
       "  </tbody>\n",
       "</table>\n",
       "</div>"
      ],
      "text/plain": [
       "    Title  Survived\n",
       "0  Master  0.575000\n",
       "1    Miss  0.702703\n",
       "2      Mr  0.156673\n",
       "3     Mrs  0.793651\n",
       "4    Rare  0.347826"
      ]
     },
     "execution_count": 39,
     "metadata": {},
     "output_type": "execute_result"
    }
   ],
   "source": [
    "combined_df['Title'] = combined_df['Title'].replace(['Lady', 'Countess','Capt', 'Col',\\\n",
    " 'Don', 'Dr', 'Major', 'Rev', 'Sir', 'Jonkheer', 'Dona'], 'Rare')\n",
    "\n",
    "combined_df['Title'] = combined_df['Title'].replace('Mlle', 'Miss')\n",
    "combined_df['Title'] = combined_df['Title'].replace('Ms', 'Miss')\n",
    "combined_df['Title'] = combined_df['Title'].replace('Mme', 'Mrs')\n",
    "\n",
    "\n",
    "train_df['Title'] = combined_df['Title'][:891]\n",
    "test_df['Title'] = combined_df['Title'][891:]\n",
    "\n",
    "train_df[['Title', 'Survived']].groupby(['Title'], as_index=False).mean()"
   ]
  },
  {
   "cell_type": "code",
   "execution_count": 40,
   "metadata": {
    "scrolled": true
   },
   "outputs": [
    {
     "data": {
      "application/vnd.microsoft.datawrangler.viewer.v0+json": {
       "columns": [
        {
         "name": "index",
         "rawType": "int64",
         "type": "integer"
        },
        {
         "name": "PassengerId",
         "rawType": "int64",
         "type": "integer"
        },
        {
         "name": "Survived",
         "rawType": "int64",
         "type": "integer"
        },
        {
         "name": "Pclass",
         "rawType": "int64",
         "type": "integer"
        },
        {
         "name": "Name",
         "rawType": "object",
         "type": "string"
        },
        {
         "name": "Sex",
         "rawType": "object",
         "type": "string"
        },
        {
         "name": "Age",
         "rawType": "float64",
         "type": "float"
        },
        {
         "name": "SibSp",
         "rawType": "int64",
         "type": "integer"
        },
        {
         "name": "Parch",
         "rawType": "int64",
         "type": "integer"
        },
        {
         "name": "Ticket",
         "rawType": "object",
         "type": "string"
        },
        {
         "name": "Fare",
         "rawType": "float64",
         "type": "float"
        },
        {
         "name": "Cabin",
         "rawType": "object",
         "type": "unknown"
        },
        {
         "name": "Embarked",
         "rawType": "object",
         "type": "string"
        },
        {
         "name": "Title",
         "rawType": "object",
         "type": "string"
        }
       ],
       "conversionMethod": "pd.DataFrame",
       "ref": "2394d2a2-e67c-4bbb-8f65-088408d8930b",
       "rows": [
        [
         "0",
         "1",
         "0",
         "3",
         "Braund, Mr. Owen Harris",
         "male",
         "22.0",
         "1",
         "0",
         "A/5 21171",
         "7.25",
         null,
         "S",
         "Mr"
        ],
        [
         "1",
         "2",
         "1",
         "1",
         "Cumings, Mrs. John Bradley (Florence Briggs Thayer)",
         "female",
         "38.0",
         "1",
         "0",
         "PC 17599",
         "71.2833",
         "C85",
         "C",
         "Mrs"
        ],
        [
         "2",
         "3",
         "1",
         "3",
         "Heikkinen, Miss. Laina",
         "female",
         "26.0",
         "0",
         "0",
         "STON/O2. 3101282",
         "7.925",
         null,
         "S",
         "Miss"
        ],
        [
         "3",
         "4",
         "1",
         "1",
         "Futrelle, Mrs. Jacques Heath (Lily May Peel)",
         "female",
         "35.0",
         "1",
         "0",
         "113803",
         "53.1",
         "C123",
         "S",
         "Mrs"
        ],
        [
         "4",
         "5",
         "0",
         "3",
         "Allen, Mr. William Henry",
         "male",
         "35.0",
         "0",
         "0",
         "373450",
         "8.05",
         null,
         "S",
         "Mr"
        ]
       ],
       "shape": {
        "columns": 13,
        "rows": 5
       }
      },
      "text/html": [
       "<div>\n",
       "<style scoped>\n",
       "    .dataframe tbody tr th:only-of-type {\n",
       "        vertical-align: middle;\n",
       "    }\n",
       "\n",
       "    .dataframe tbody tr th {\n",
       "        vertical-align: top;\n",
       "    }\n",
       "\n",
       "    .dataframe thead th {\n",
       "        text-align: right;\n",
       "    }\n",
       "</style>\n",
       "<table border=\"1\" class=\"dataframe\">\n",
       "  <thead>\n",
       "    <tr style=\"text-align: right;\">\n",
       "      <th></th>\n",
       "      <th>PassengerId</th>\n",
       "      <th>Survived</th>\n",
       "      <th>Pclass</th>\n",
       "      <th>Name</th>\n",
       "      <th>Sex</th>\n",
       "      <th>Age</th>\n",
       "      <th>SibSp</th>\n",
       "      <th>Parch</th>\n",
       "      <th>Ticket</th>\n",
       "      <th>Fare</th>\n",
       "      <th>Cabin</th>\n",
       "      <th>Embarked</th>\n",
       "      <th>Title</th>\n",
       "    </tr>\n",
       "  </thead>\n",
       "  <tbody>\n",
       "    <tr>\n",
       "      <th>0</th>\n",
       "      <td>1</td>\n",
       "      <td>0</td>\n",
       "      <td>3</td>\n",
       "      <td>Braund, Mr. Owen Harris</td>\n",
       "      <td>male</td>\n",
       "      <td>22.0</td>\n",
       "      <td>1</td>\n",
       "      <td>0</td>\n",
       "      <td>A/5 21171</td>\n",
       "      <td>7.2500</td>\n",
       "      <td>NaN</td>\n",
       "      <td>S</td>\n",
       "      <td>Mr</td>\n",
       "    </tr>\n",
       "    <tr>\n",
       "      <th>1</th>\n",
       "      <td>2</td>\n",
       "      <td>1</td>\n",
       "      <td>1</td>\n",
       "      <td>Cumings, Mrs. John Bradley (Florence Briggs Th...</td>\n",
       "      <td>female</td>\n",
       "      <td>38.0</td>\n",
       "      <td>1</td>\n",
       "      <td>0</td>\n",
       "      <td>PC 17599</td>\n",
       "      <td>71.2833</td>\n",
       "      <td>C85</td>\n",
       "      <td>C</td>\n",
       "      <td>Mrs</td>\n",
       "    </tr>\n",
       "    <tr>\n",
       "      <th>2</th>\n",
       "      <td>3</td>\n",
       "      <td>1</td>\n",
       "      <td>3</td>\n",
       "      <td>Heikkinen, Miss. Laina</td>\n",
       "      <td>female</td>\n",
       "      <td>26.0</td>\n",
       "      <td>0</td>\n",
       "      <td>0</td>\n",
       "      <td>STON/O2. 3101282</td>\n",
       "      <td>7.9250</td>\n",
       "      <td>NaN</td>\n",
       "      <td>S</td>\n",
       "      <td>Miss</td>\n",
       "    </tr>\n",
       "    <tr>\n",
       "      <th>3</th>\n",
       "      <td>4</td>\n",
       "      <td>1</td>\n",
       "      <td>1</td>\n",
       "      <td>Futrelle, Mrs. Jacques Heath (Lily May Peel)</td>\n",
       "      <td>female</td>\n",
       "      <td>35.0</td>\n",
       "      <td>1</td>\n",
       "      <td>0</td>\n",
       "      <td>113803</td>\n",
       "      <td>53.1000</td>\n",
       "      <td>C123</td>\n",
       "      <td>S</td>\n",
       "      <td>Mrs</td>\n",
       "    </tr>\n",
       "    <tr>\n",
       "      <th>4</th>\n",
       "      <td>5</td>\n",
       "      <td>0</td>\n",
       "      <td>3</td>\n",
       "      <td>Allen, Mr. William Henry</td>\n",
       "      <td>male</td>\n",
       "      <td>35.0</td>\n",
       "      <td>0</td>\n",
       "      <td>0</td>\n",
       "      <td>373450</td>\n",
       "      <td>8.0500</td>\n",
       "      <td>NaN</td>\n",
       "      <td>S</td>\n",
       "      <td>Mr</td>\n",
       "    </tr>\n",
       "  </tbody>\n",
       "</table>\n",
       "</div>"
      ],
      "text/plain": [
       "   PassengerId  Survived  Pclass  \\\n",
       "0            1         0       3   \n",
       "1            2         1       1   \n",
       "2            3         1       3   \n",
       "3            4         1       1   \n",
       "4            5         0       3   \n",
       "\n",
       "                                                Name     Sex   Age  SibSp  \\\n",
       "0                            Braund, Mr. Owen Harris    male  22.0      1   \n",
       "1  Cumings, Mrs. John Bradley (Florence Briggs Th...  female  38.0      1   \n",
       "2                             Heikkinen, Miss. Laina  female  26.0      0   \n",
       "3       Futrelle, Mrs. Jacques Heath (Lily May Peel)  female  35.0      1   \n",
       "4                           Allen, Mr. William Henry    male  35.0      0   \n",
       "\n",
       "   Parch            Ticket     Fare Cabin Embarked Title  \n",
       "0      0         A/5 21171   7.2500   NaN        S    Mr  \n",
       "1      0          PC 17599  71.2833   C85        C   Mrs  \n",
       "2      0  STON/O2. 3101282   7.9250   NaN        S  Miss  \n",
       "3      0            113803  53.1000  C123        S   Mrs  \n",
       "4      0            373450   8.0500   NaN        S    Mr  "
      ]
     },
     "execution_count": 40,
     "metadata": {},
     "output_type": "execute_result"
    }
   ],
   "source": [
    "train_df.head()"
   ]
  },
  {
   "cell_type": "code",
   "execution_count": 42,
   "metadata": {
    "scrolled": true
   },
   "outputs": [
    {
     "data": {
      "text/plain": [
       "<seaborn.axisgrid.FacetGrid at 0x141004710>"
      ]
     },
     "execution_count": 42,
     "metadata": {},
     "output_type": "execute_result"
    },
    {
     "data": {
      "image/png": "[encoded data removed]",
      "text/plain": [
       "<Figure size 715.111x1100 with 10 Axes>"
      ]
     },
     "metadata": {},
     "output_type": "display_data"
    }
   ],
   "source": [
    "grid = sns.FacetGrid(train_df, row='Title', col='Survived', height=2.2, aspect=1.6)\n",
    "grid.map(plt.hist, 'Age', alpha=.5, bins=20)\n",
    "grid.add_legend()"
   ]
  },
  {
   "cell_type": "markdown",
   "metadata": {},
   "source": [
    "**Observations**\n",
    "\n",
    "When we plot Title, Age, and Survived, we note the following observations.\n",
    "\n",
    "- Certain titles mostly survived (Master, Miss, Mrs) or did not (Mr, and Rare).\n",
    "\n",
    "**Decision**\n",
    "\n",
    "We decide to retain the new Title feature for model training."
   ]
  },
  {
   "cell_type": "markdown",
   "metadata": {},
   "source": [
    "We can convert the categorical titles to ordinal: the order DOES matter!!\n",
    "We follow the order based on the mean survival rate."
   ]
  },
  {
   "cell_type": "code",
   "execution_count": 43,
   "metadata": {
    "scrolled": false
   },
   "outputs": [
    {
     "data": {
      "application/vnd.microsoft.datawrangler.viewer.v0+json": {
       "columns": [
        {
         "name": "index",
         "rawType": "int64",
         "type": "integer"
        },
        {
         "name": "PassengerId",
         "rawType": "int64",
         "type": "integer"
        },
        {
         "name": "Survived",
         "rawType": "int64",
         "type": "integer"
        },
        {
         "name": "Pclass",
         "rawType": "int64",
         "type": "integer"
        },
        {
         "name": "Name",
         "rawType": "object",
         "type": "string"
        },
        {
         "name": "Sex",
         "rawType": "object",
         "type": "string"
        },
        {
         "name": "Age",
         "rawType": "float64",
         "type": "float"
        },
        {
         "name": "SibSp",
         "rawType": "int64",
         "type": "integer"
        },
        {
         "name": "Parch",
         "rawType": "int64",
         "type": "integer"
        },
        {
         "name": "Ticket",
         "rawType": "object",
         "type": "string"
        },
        {
         "name": "Fare",
         "rawType": "float64",
         "type": "float"
        },
        {
         "name": "Cabin",
         "rawType": "object",
         "type": "unknown"
        },
        {
         "name": "Embarked",
         "rawType": "object",
         "type": "string"
        },
        {
         "name": "Title",
         "rawType": "int64",
         "type": "integer"
        }
       ],
       "conversionMethod": "pd.DataFrame",
       "ref": "01a55216-0543-4d0d-b7b4-4cb88b16dbb2",
       "rows": [
        [
         "0",
         "1",
         "0",
         "3",
         "Braund, Mr. Owen Harris",
         "male",
         "22.0",
         "1",
         "0",
         "A/5 21171",
         "7.25",
         null,
         "S",
         "1"
        ],
        [
         "1",
         "2",
         "1",
         "1",
         "Cumings, Mrs. John Bradley (Florence Briggs Thayer)",
         "female",
         "38.0",
         "1",
         "0",
         "PC 17599",
         "71.2833",
         "C85",
         "C",
         "5"
        ],
        [
         "2",
         "3",
         "1",
         "3",
         "Heikkinen, Miss. Laina",
         "female",
         "26.0",
         "0",
         "0",
         "STON/O2. 3101282",
         "7.925",
         null,
         "S",
         "4"
        ],
        [
         "3",
         "4",
         "1",
         "1",
         "Futrelle, Mrs. Jacques Heath (Lily May Peel)",
         "female",
         "35.0",
         "1",
         "0",
         "113803",
         "53.1",
         "C123",
         "S",
         "5"
        ],
        [
         "4",
         "5",
         "0",
         "3",
         "Allen, Mr. William Henry",
         "male",
         "35.0",
         "0",
         "0",
         "373450",
         "8.05",
         null,
         "S",
         "1"
        ]
       ],
       "shape": {
        "columns": 13,
        "rows": 5
       }
      },
      "text/html": [
       "<div>\n",
       "<style scoped>\n",
       "    .dataframe tbody tr th:only-of-type {\n",
       "        vertical-align: middle;\n",
       "    }\n",
       "\n",
       "    .dataframe tbody tr th {\n",
       "        vertical-align: top;\n",
       "    }\n",
       "\n",
       "    .dataframe thead th {\n",
       "        text-align: right;\n",
       "    }\n",
       "</style>\n",
       "<table border=\"1\" class=\"dataframe\">\n",
       "  <thead>\n",
       "    <tr style=\"text-align: right;\">\n",
       "      <th></th>\n",
       "      <th>PassengerId</th>\n",
       "      <th>Survived</th>\n",
       "      <th>Pclass</th>\n",
       "      <th>Name</th>\n",
       "      <th>Sex</th>\n",
       "      <th>Age</th>\n",
       "      <th>SibSp</th>\n",
       "      <th>Parch</th>\n",
       "      <th>Ticket</th>\n",
       "      <th>Fare</th>\n",
       "      <th>Cabin</th>\n",
       "      <th>Embarked</th>\n",
       "      <th>Title</th>\n",
       "    </tr>\n",
       "  </thead>\n",
       "  <tbody>\n",
       "    <tr>\n",
       "      <th>0</th>\n",
       "      <td>1</td>\n",
       "      <td>0</td>\n",
       "      <td>3</td>\n",
       "      <td>Braund, Mr. Owen Harris</td>\n",
       "      <td>male</td>\n",
       "      <td>22.0</td>\n",
       "      <td>1</td>\n",
       "      <td>0</td>\n",
       "      <td>A/5 21171</td>\n",
       "      <td>7.2500</td>\n",
       "      <td>NaN</td>\n",
       "      <td>S</td>\n",
       "      <td>1</td>\n",
       "    </tr>\n",
       "    <tr>\n",
       "      <th>1</th>\n",
       "      <td>2</td>\n",
       "      <td>1</td>\n",
       "      <td>1</td>\n",
       "      <td>Cumings, Mrs. John Bradley (Florence Briggs Th...</td>\n",
       "      <td>female</td>\n",
       "      <td>38.0</td>\n",
       "      <td>1</td>\n",
       "      <td>0</td>\n",
       "      <td>PC 17599</td>\n",
       "      <td>71.2833</td>\n",
       "      <td>C85</td>\n",
       "      <td>C</td>\n",
       "      <td>5</td>\n",
       "    </tr>\n",
       "    <tr>\n",
       "      <th>2</th>\n",
       "      <td>3</td>\n",
       "      <td>1</td>\n",
       "      <td>3</td>\n",
       "      <td>Heikkinen, Miss. Laina</td>\n",
       "      <td>female</td>\n",
       "      <td>26.0</td>\n",
       "      <td>0</td>\n",
       "      <td>0</td>\n",
       "      <td>STON/O2. 3101282</td>\n",
       "      <td>7.9250</td>\n",
       "      <td>NaN</td>\n",
       "      <td>S</td>\n",
       "      <td>4</td>\n",
       "    </tr>\n",
       "    <tr>\n",
       "      <th>3</th>\n",
       "      <td>4</td>\n",
       "      <td>1</td>\n",
       "      <td>1</td>\n",
       "      <td>Futrelle, Mrs. Jacques Heath (Lily May Peel)</td>\n",
       "      <td>female</td>\n",
       "      <td>35.0</td>\n",
       "      <td>1</td>\n",
       "      <td>0</td>\n",
       "      <td>113803</td>\n",
       "      <td>53.1000</td>\n",
       "      <td>C123</td>\n",
       "      <td>S</td>\n",
       "      <td>5</td>\n",
       "    </tr>\n",
       "    <tr>\n",
       "      <th>4</th>\n",
       "      <td>5</td>\n",
       "      <td>0</td>\n",
       "      <td>3</td>\n",
       "      <td>Allen, Mr. William Henry</td>\n",
       "      <td>male</td>\n",
       "      <td>35.0</td>\n",
       "      <td>0</td>\n",
       "      <td>0</td>\n",
       "      <td>373450</td>\n",
       "      <td>8.0500</td>\n",
       "      <td>NaN</td>\n",
       "      <td>S</td>\n",
       "      <td>1</td>\n",
       "    </tr>\n",
       "  </tbody>\n",
       "</table>\n",
       "</div>"
      ],
      "text/plain": [
       "   PassengerId  Survived  Pclass  \\\n",
       "0            1         0       3   \n",
       "1            2         1       1   \n",
       "2            3         1       3   \n",
       "3            4         1       1   \n",
       "4            5         0       3   \n",
       "\n",
       "                                                Name     Sex   Age  SibSp  \\\n",
       "0                            Braund, Mr. Owen Harris    male  22.0      1   \n",
       "1  Cumings, Mrs. John Bradley (Florence Briggs Th...  female  38.0      1   \n",
       "2                             Heikkinen, Miss. Laina  female  26.0      0   \n",
       "3       Futrelle, Mrs. Jacques Heath (Lily May Peel)  female  35.0      1   \n",
       "4                           Allen, Mr. William Henry    male  35.0      0   \n",
       "\n",
       "   Parch            Ticket     Fare Cabin Embarked  Title  \n",
       "0      0         A/5 21171   7.2500   NaN        S      1  \n",
       "1      0          PC 17599  71.2833   C85        C      5  \n",
       "2      0  STON/O2. 3101282   7.9250   NaN        S      4  \n",
       "3      0            113803  53.1000  C123        S      5  \n",
       "4      0            373450   8.0500   NaN        S      1  "
      ]
     },
     "execution_count": 43,
     "metadata": {},
     "output_type": "execute_result"
    }
   ],
   "source": [
    "title_mapping = {\"Mr\": 1, \"Rare\": 2, \"Master\": 3, \"Miss\": 4, \"Mrs\": 5}\n",
    "combined_df['Title'] = combined_df['Title'].map(title_mapping)\n",
    "combined_df['Title'] = combined_df['Title'].fillna(0)\n",
    "\n",
    "train_df['Title'] = combined_df['Title'][:891]\n",
    "test_df['Title'] = combined_df['Title'][891:]\n",
    "\n",
    "train_df.head()"
   ]
  },
  {
   "cell_type": "code",
   "execution_count": 46,
   "metadata": {},
   "outputs": [
    {
     "data": {
      "text/plain": [
       "Survived       1.000000\n",
       "Title          0.565716\n",
       "Fare           0.257307\n",
       "Parch          0.081629\n",
       "PassengerId   -0.005007\n",
       "SibSp         -0.035322\n",
       "Age           -0.077221\n",
       "Pclass        -0.338481\n",
       "Name: Survived, dtype: float64"
      ]
     },
     "execution_count": 46,
     "metadata": {},
     "output_type": "execute_result"
    }
   ],
   "source": [
    "corr = train_df.select_dtypes(include='number').corr()\n",
    "corr[\"Survived\"].sort_values(ascending=False)"
   ]
  },
  {
   "cell_type": "markdown",
   "metadata": {},
   "source": [
    "There seems to be a significant positive correlation between survival and Title, double as strong as between fare and survival. Time to investigate."
   ]
  },
  {
   "cell_type": "code",
   "execution_count": 44,
   "metadata": {
    "scrolled": false
   },
   "outputs": [
    {
     "data": {
      "application/vnd.microsoft.datawrangler.viewer.v0+json": {
       "columns": [
        {
         "name": "index",
         "rawType": "int64",
         "type": "integer"
        },
        {
         "name": "Title",
         "rawType": "int64",
         "type": "integer"
        },
        {
         "name": "Fare",
         "rawType": "float64",
         "type": "float"
        }
       ],
       "conversionMethod": "pd.DataFrame",
       "ref": "b1d1bd80-a163-4ed8-b664-54d432cdb49e",
       "rows": [
        [
         "0",
         "1",
         "24.44155996131528"
        ],
        [
         "1",
         "2",
         "37.16974782608696"
        ],
        [
         "2",
         "3",
         "34.703125"
        ],
        [
         "3",
         "4",
         "43.80009189189189"
        ],
        [
         "4",
         "5",
         "45.33029047619048"
        ]
       ],
       "shape": {
        "columns": 2,
        "rows": 5
       }
      },
      "text/html": [
       "<div>\n",
       "<style scoped>\n",
       "    .dataframe tbody tr th:only-of-type {\n",
       "        vertical-align: middle;\n",
       "    }\n",
       "\n",
       "    .dataframe tbody tr th {\n",
       "        vertical-align: top;\n",
       "    }\n",
       "\n",
       "    .dataframe thead th {\n",
       "        text-align: right;\n",
       "    }\n",
       "</style>\n",
       "<table border=\"1\" class=\"dataframe\">\n",
       "  <thead>\n",
       "    <tr style=\"text-align: right;\">\n",
       "      <th></th>\n",
       "      <th>Title</th>\n",
       "      <th>Fare</th>\n",
       "    </tr>\n",
       "  </thead>\n",
       "  <tbody>\n",
       "    <tr>\n",
       "      <th>0</th>\n",
       "      <td>1</td>\n",
       "      <td>24.441560</td>\n",
       "    </tr>\n",
       "    <tr>\n",
       "      <th>1</th>\n",
       "      <td>2</td>\n",
       "      <td>37.169748</td>\n",
       "    </tr>\n",
       "    <tr>\n",
       "      <th>2</th>\n",
       "      <td>3</td>\n",
       "      <td>34.703125</td>\n",
       "    </tr>\n",
       "    <tr>\n",
       "      <th>3</th>\n",
       "      <td>4</td>\n",
       "      <td>43.800092</td>\n",
       "    </tr>\n",
       "    <tr>\n",
       "      <th>4</th>\n",
       "      <td>5</td>\n",
       "      <td>45.330290</td>\n",
       "    </tr>\n",
       "  </tbody>\n",
       "</table>\n",
       "</div>"
      ],
      "text/plain": [
       "   Title       Fare\n",
       "0      1  24.441560\n",
       "1      2  37.169748\n",
       "2      3  34.703125\n",
       "3      4  43.800092\n",
       "4      5  45.330290"
      ]
     },
     "execution_count": 44,
     "metadata": {},
     "output_type": "execute_result"
    }
   ],
   "source": [
    "train_df[['Title', 'Fare']].groupby(['Title'], as_index=False).mean()"
   ]
  },
  {
   "cell_type": "markdown",
   "metadata": {},
   "source": [
    "We can also see from the table above, that the average ticket price of a title class differs: the higher the class according to survival rate, the higher the mean fare price. If we combine this knowledge with the fact that the two most surviving title classes, Mrs and Miss, are both female, we might not be have a causal relation after all...\n",
    "It looks like Title just contains information about ticket price and sex.., which we know are also positively correlated to survival. However, this does not mean it is for certain a bad/good predictor of survival for all models."
   ]
  },
  {
   "cell_type": "markdown",
   "metadata": {},
   "source": [
    "### Converting a categorical feature\n",
    "Now we can convert features which contain strings to numerical values. This is required by most model algorithms. Doing so will also help us in achieving the feature completing goal.\n",
    "\n",
    "Let us start by converting Sex feature to a new feature called Gender where female=1 and male=0."
   ]
  },
  {
   "cell_type": "code",
   "execution_count": 47,
   "metadata": {
    "scrolled": false
   },
   "outputs": [
    {
     "data": {
      "application/vnd.microsoft.datawrangler.viewer.v0+json": {
       "columns": [
        {
         "name": "index",
         "rawType": "int64",
         "type": "integer"
        },
        {
         "name": "PassengerId",
         "rawType": "int64",
         "type": "integer"
        },
        {
         "name": "Survived",
         "rawType": "float64",
         "type": "float"
        },
        {
         "name": "Pclass",
         "rawType": "int64",
         "type": "integer"
        },
        {
         "name": "Name",
         "rawType": "object",
         "type": "string"
        },
        {
         "name": "Sex",
         "rawType": "int64",
         "type": "integer"
        },
        {
         "name": "Age",
         "rawType": "float64",
         "type": "float"
        },
        {
         "name": "SibSp",
         "rawType": "int64",
         "type": "integer"
        },
        {
         "name": "Parch",
         "rawType": "int64",
         "type": "integer"
        },
        {
         "name": "Ticket",
         "rawType": "object",
         "type": "string"
        },
        {
         "name": "Fare",
         "rawType": "float64",
         "type": "float"
        },
        {
         "name": "Cabin",
         "rawType": "object",
         "type": "unknown"
        },
        {
         "name": "Embarked",
         "rawType": "object",
         "type": "string"
        },
        {
         "name": "Title",
         "rawType": "int64",
         "type": "integer"
        }
       ],
       "conversionMethod": "pd.DataFrame",
       "ref": "0dc3954b-aa73-4174-9a5a-da4f6deb7a94",
       "rows": [
        [
         "0",
         "1",
         "0.0",
         "3",
         "Braund, Mr. Owen Harris",
         "0",
         "22.0",
         "1",
         "0",
         "A/5 21171",
         "7.25",
         null,
         "S",
         "1"
        ],
        [
         "1",
         "2",
         "1.0",
         "1",
         "Cumings, Mrs. John Bradley (Florence Briggs Thayer)",
         "1",
         "38.0",
         "1",
         "0",
         "PC 17599",
         "71.2833",
         "C85",
         "C",
         "5"
        ],
        [
         "2",
         "3",
         "1.0",
         "3",
         "Heikkinen, Miss. Laina",
         "1",
         "26.0",
         "0",
         "0",
         "STON/O2. 3101282",
         "7.925",
         null,
         "S",
         "4"
        ],
        [
         "3",
         "4",
         "1.0",
         "1",
         "Futrelle, Mrs. Jacques Heath (Lily May Peel)",
         "1",
         "35.0",
         "1",
         "0",
         "113803",
         "53.1",
         "C123",
         "S",
         "5"
        ],
        [
         "4",
         "5",
         "0.0",
         "3",
         "Allen, Mr. William Henry",
         "0",
         "35.0",
         "0",
         "0",
         "373450",
         "8.05",
         null,
         "S",
         "1"
        ]
       ],
       "shape": {
        "columns": 13,
        "rows": 5
       }
      },
      "text/html": [
       "<div>\n",
       "<style scoped>\n",
       "    .dataframe tbody tr th:only-of-type {\n",
       "        vertical-align: middle;\n",
       "    }\n",
       "\n",
       "    .dataframe tbody tr th {\n",
       "        vertical-align: top;\n",
       "    }\n",
       "\n",
       "    .dataframe thead th {\n",
       "        text-align: right;\n",
       "    }\n",
       "</style>\n",
       "<table border=\"1\" class=\"dataframe\">\n",
       "  <thead>\n",
       "    <tr style=\"text-align: right;\">\n",
       "      <th></th>\n",
       "      <th>PassengerId</th>\n",
       "      <th>Survived</th>\n",
       "      <th>Pclass</th>\n",
       "      <th>Name</th>\n",
       "      <th>Sex</th>\n",
       "      <th>Age</th>\n",
       "      <th>SibSp</th>\n",
       "      <th>Parch</th>\n",
       "      <th>Ticket</th>\n",
       "      <th>Fare</th>\n",
       "      <th>Cabin</th>\n",
       "      <th>Embarked</th>\n",
       "      <th>Title</th>\n",
       "    </tr>\n",
       "  </thead>\n",
       "  <tbody>\n",
       "    <tr>\n",
       "      <th>0</th>\n",
       "      <td>1</td>\n",
       "      <td>0.0</td>\n",
       "      <td>3</td>\n",
       "      <td>Braund, Mr. Owen Harris</td>\n",
       "      <td>0</td>\n",
       "      <td>22.0</td>\n",
       "      <td>1</td>\n",
       "      <td>0</td>\n",
       "      <td>A/5 21171</td>\n",
       "      <td>7.2500</td>\n",
       "      <td>NaN</td>\n",
       "      <td>S</td>\n",
       "      <td>1</td>\n",
       "    </tr>\n",
       "    <tr>\n",
       "      <th>1</th>\n",
       "      <td>2</td>\n",
       "      <td>1.0</td>\n",
       "      <td>1</td>\n",
       "      <td>Cumings, Mrs. John Bradley (Florence Briggs Th...</td>\n",
       "      <td>1</td>\n",
       "      <td>38.0</td>\n",
       "      <td>1</td>\n",
       "      <td>0</td>\n",
       "      <td>PC 17599</td>\n",
       "      <td>71.2833</td>\n",
       "      <td>C85</td>\n",
       "      <td>C</td>\n",
       "      <td>5</td>\n",
       "    </tr>\n",
       "    <tr>\n",
       "      <th>2</th>\n",
       "      <td>3</td>\n",
       "      <td>1.0</td>\n",
       "      <td>3</td>\n",
       "      <td>Heikkinen, Miss. Laina</td>\n",
       "      <td>1</td>\n",
       "      <td>26.0</td>\n",
       "      <td>0</td>\n",
       "      <td>0</td>\n",
       "      <td>STON/O2. 3101282</td>\n",
       "      <td>7.9250</td>\n",
       "      <td>NaN</td>\n",
       "      <td>S</td>\n",
       "      <td>4</td>\n",
       "    </tr>\n",
       "    <tr>\n",
       "      <th>3</th>\n",
       "      <td>4</td>\n",
       "      <td>1.0</td>\n",
       "      <td>1</td>\n",
       "      <td>Futrelle, Mrs. Jacques Heath (Lily May Peel)</td>\n",
       "      <td>1</td>\n",
       "      <td>35.0</td>\n",
       "      <td>1</td>\n",
       "      <td>0</td>\n",
       "      <td>113803</td>\n",
       "      <td>53.1000</td>\n",
       "      <td>C123</td>\n",
       "      <td>S</td>\n",
       "      <td>5</td>\n",
       "    </tr>\n",
       "    <tr>\n",
       "      <th>4</th>\n",
       "      <td>5</td>\n",
       "      <td>0.0</td>\n",
       "      <td>3</td>\n",
       "      <td>Allen, Mr. William Henry</td>\n",
       "      <td>0</td>\n",
       "      <td>35.0</td>\n",
       "      <td>0</td>\n",
       "      <td>0</td>\n",
       "      <td>373450</td>\n",
       "      <td>8.0500</td>\n",
       "      <td>NaN</td>\n",
       "      <td>S</td>\n",
       "      <td>1</td>\n",
       "    </tr>\n",
       "  </tbody>\n",
       "</table>\n",
       "</div>"
      ],
      "text/plain": [
       "   PassengerId  Survived  Pclass  \\\n",
       "0            1       0.0       3   \n",
       "1            2       1.0       1   \n",
       "2            3       1.0       3   \n",
       "3            4       1.0       1   \n",
       "4            5       0.0       3   \n",
       "\n",
       "                                                Name  Sex   Age  SibSp  Parch  \\\n",
       "0                            Braund, Mr. Owen Harris    0  22.0      1      0   \n",
       "1  Cumings, Mrs. John Bradley (Florence Briggs Th...    1  38.0      1      0   \n",
       "2                             Heikkinen, Miss. Laina    1  26.0      0      0   \n",
       "3       Futrelle, Mrs. Jacques Heath (Lily May Peel)    1  35.0      1      0   \n",
       "4                           Allen, Mr. William Henry    0  35.0      0      0   \n",
       "\n",
       "             Ticket     Fare Cabin Embarked  Title  \n",
       "0         A/5 21171   7.2500   NaN        S      1  \n",
       "1          PC 17599  71.2833   C85        C      5  \n",
       "2  STON/O2. 3101282   7.9250   NaN        S      4  \n",
       "3            113803  53.1000  C123        S      5  \n",
       "4            373450   8.0500   NaN        S      1  "
      ]
     },
     "execution_count": 47,
     "metadata": {},
     "output_type": "execute_result"
    }
   ],
   "source": [
    "combined_df.replace(['male','female'],[0,1],inplace=True)\n",
    "train_df = combined_df[:891]\n",
    "test_df = combined_df[891:]\n",
    "train_df.head()"
   ]
  },
  {
   "cell_type": "code",
   "execution_count": 49,
   "metadata": {
    "scrolled": false
   },
   "outputs": [
    {
     "data": {
      "text/plain": [
       "Survived       1.000000\n",
       "Title          0.565716\n",
       "Sex            0.543351\n",
       "Fare           0.257307\n",
       "Parch          0.081629\n",
       "PassengerId   -0.005007\n",
       "SibSp         -0.035322\n",
       "Age           -0.077221\n",
       "Pclass        -0.338481\n",
       "Name: Survived, dtype: float64"
      ]
     },
     "execution_count": 49,
     "metadata": {},
     "output_type": "execute_result"
    }
   ],
   "source": [
    "corr = train_df.select_dtypes(include='number').corr()\n",
    "corr[\"Survived\"].sort_values(ascending=False)"
   ]
  },
  {
   "cell_type": "markdown",
   "metadata": {},
   "source": [
    "We see that Sex is almost as correlated to survival as Title"
   ]
  },
  {
   "cell_type": "code",
   "execution_count": 50,
   "metadata": {
    "scrolled": false
   },
   "outputs": [
    {
     "data": {
      "text/plain": [
       "Sex            1.000000\n",
       "Title          0.944195\n",
       "Survived       0.543351\n",
       "Parch          0.245489\n",
       "Fare           0.182333\n",
       "SibSp          0.114631\n",
       "PassengerId   -0.042939\n",
       "Age           -0.093254\n",
       "Pclass        -0.131900\n",
       "Name: Sex, dtype: float64"
      ]
     },
     "execution_count": 50,
     "metadata": {},
     "output_type": "execute_result"
    }
   ],
   "source": [
    "corr[\"Sex\"].sort_values(ascending=False)"
   ]
  },
  {
   "cell_type": "markdown",
   "metadata": {},
   "source": [
    "In the table above, we can now clearly see that Sex is highly correlated to Title. Which means that they contain very similar information. (in this specific table, the correlation means, a higher value of Sex, thus female, is correlated to a higher value of Title, thus Miss and Mrs).\n",
    "For now, we assume that Title does not contain unique information about the survival chances of persons on the Titanic, however, we will keep the variable and verify this assumption in the modelling phase."
   ]
  },
  {
   "cell_type": "markdown",
   "metadata": {},
   "source": [
    "### Completing a numerical continuous feature\n",
    "Now we should start estimating and completing features with missing or null values. We will first do this for the Age feature.\n",
    "\n",
    "We can consider three methods to complete a numerical continuous feature.\n",
    "\n",
    "1. A simple way is to generate random numbers between mean and standard deviation.\n",
    "\n",
    "2. More accurate way of guessing missing values is to use other correlated features. In our case we note correlation among Age, and Title (as we saw that mean age differs between different titles). Guess Age values using median values for Age across various Titles. So, median Age for all the Title classes we made earlier.\n",
    "\n",
    "3. Combine methods 1 and 2. So instead of guessing age values based on median, use random numbers between mean and standard deviation, based on Titles.\n",
    "\n",
    "Method 1 and 3 will introduce random noise into our models. The results from multiple executions might vary. We will prefer method 2."
   ]
  },
  {
   "cell_type": "code",
   "execution_count": 52,
   "metadata": {
    "scrolled": true
   },
   "outputs": [
    {
     "data": {
      "text/plain": [
       "<seaborn.axisgrid.FacetGrid at 0x134890a70>"
      ]
     },
     "execution_count": 52,
     "metadata": {},
     "output_type": "execute_result"
    },
    {
     "data": {
      "image/png": "[encoded data removed]",
      "text/plain": [
       "<Figure size 715.111x660 with 6 Axes>"
      ]
     },
     "metadata": {},
     "output_type": "display_data"
    }
   ],
   "source": [
    "grid = sns.FacetGrid(train_df, row='Pclass', col='Sex', height=2.2, aspect=1.6)\n",
    "grid.map(plt.hist, 'Age', alpha=.5, bins=20)\n",
    "grid.add_legend()"
   ]
  },
  {
   "cell_type": "code",
   "execution_count": 53,
   "metadata": {},
   "outputs": [
    {
     "data": {
      "application/vnd.microsoft.datawrangler.viewer.v0+json": {
       "columns": [
        {
         "name": "index",
         "rawType": "int64",
         "type": "integer"
        },
        {
         "name": "Title",
         "rawType": "int64",
         "type": "integer"
        },
        {
         "name": "Age",
         "rawType": "float64",
         "type": "float"
        }
       ],
       "conversionMethod": "pd.DataFrame",
       "ref": "7406c2c0-bd63-471e-9912-710d3f1fff1a",
       "rows": [
        [
         "0",
         "1",
         "32.368090452261306"
        ],
        [
         "1",
         "2",
         "45.54545454545455"
        ],
        [
         "2",
         "3",
         "4.574166666666667"
        ],
        [
         "3",
         "4",
         "21.845637583892618"
        ],
        [
         "4",
         "5",
         "35.788990825688074"
        ]
       ],
       "shape": {
        "columns": 2,
        "rows": 5
       }
      },
      "text/html": [
       "<div>\n",
       "<style scoped>\n",
       "    .dataframe tbody tr th:only-of-type {\n",
       "        vertical-align: middle;\n",
       "    }\n",
       "\n",
       "    .dataframe tbody tr th {\n",
       "        vertical-align: top;\n",
       "    }\n",
       "\n",
       "    .dataframe thead th {\n",
       "        text-align: right;\n",
       "    }\n",
       "</style>\n",
       "<table border=\"1\" class=\"dataframe\">\n",
       "  <thead>\n",
       "    <tr style=\"text-align: right;\">\n",
       "      <th></th>\n",
       "      <th>Title</th>\n",
       "      <th>Age</th>\n",
       "    </tr>\n",
       "  </thead>\n",
       "  <tbody>\n",
       "    <tr>\n",
       "      <th>0</th>\n",
       "      <td>1</td>\n",
       "      <td>32.368090</td>\n",
       "    </tr>\n",
       "    <tr>\n",
       "      <th>1</th>\n",
       "      <td>2</td>\n",
       "      <td>45.545455</td>\n",
       "    </tr>\n",
       "    <tr>\n",
       "      <th>2</th>\n",
       "      <td>3</td>\n",
       "      <td>4.574167</td>\n",
       "    </tr>\n",
       "    <tr>\n",
       "      <th>3</th>\n",
       "      <td>4</td>\n",
       "      <td>21.845638</td>\n",
       "    </tr>\n",
       "    <tr>\n",
       "      <th>4</th>\n",
       "      <td>5</td>\n",
       "      <td>35.788991</td>\n",
       "    </tr>\n",
       "  </tbody>\n",
       "</table>\n",
       "</div>"
      ],
      "text/plain": [
       "   Title        Age\n",
       "0      1  32.368090\n",
       "1      2  45.545455\n",
       "2      3   4.574167\n",
       "3      4  21.845638\n",
       "4      5  35.788991"
      ]
     },
     "execution_count": 53,
     "metadata": {},
     "output_type": "execute_result"
    }
   ],
   "source": [
    "train_df[['Title', 'Age']].groupby(['Title'], as_index=False).mean()"
   ]
  },
  {
   "cell_type": "code",
   "execution_count": 54,
   "metadata": {
    "scrolled": true
   },
   "outputs": [
    {
     "data": {
      "application/vnd.microsoft.datawrangler.viewer.v0+json": {
       "columns": [
        {
         "name": "index",
         "rawType": "int64",
         "type": "integer"
        },
        {
         "name": "PassengerId",
         "rawType": "int64",
         "type": "integer"
        },
        {
         "name": "Survived",
         "rawType": "float64",
         "type": "float"
        },
        {
         "name": "Pclass",
         "rawType": "int64",
         "type": "integer"
        },
        {
         "name": "Name",
         "rawType": "object",
         "type": "string"
        },
        {
         "name": "Sex",
         "rawType": "int64",
         "type": "integer"
        },
        {
         "name": "Age",
         "rawType": "float64",
         "type": "float"
        },
        {
         "name": "SibSp",
         "rawType": "int64",
         "type": "integer"
        },
        {
         "name": "Parch",
         "rawType": "int64",
         "type": "integer"
        },
        {
         "name": "Ticket",
         "rawType": "object",
         "type": "string"
        },
        {
         "name": "Fare",
         "rawType": "float64",
         "type": "float"
        },
        {
         "name": "Cabin",
         "rawType": "object",
         "type": "unknown"
        },
        {
         "name": "Embarked",
         "rawType": "object",
         "type": "string"
        },
        {
         "name": "Title",
         "rawType": "int64",
         "type": "integer"
        }
       ],
       "conversionMethod": "pd.DataFrame",
       "ref": "f0a535dd-d1ae-42ca-b702-d57173256e3a",
       "rows": [
        [
         "0",
         "1",
         "0.0",
         "3",
         "Braund, Mr. Owen Harris",
         "0",
         "22.0",
         "1",
         "0",
         "A/5 21171",
         "7.25",
         null,
         "S",
         "1"
        ],
        [
         "1",
         "2",
         "1.0",
         "1",
         "Cumings, Mrs. John Bradley (Florence Briggs Thayer)",
         "1",
         "38.0",
         "1",
         "0",
         "PC 17599",
         "71.2833",
         "C85",
         "C",
         "5"
        ],
        [
         "2",
         "3",
         "1.0",
         "3",
         "Heikkinen, Miss. Laina",
         "1",
         "26.0",
         "0",
         "0",
         "STON/O2. 3101282",
         "7.925",
         null,
         "S",
         "4"
        ],
        [
         "3",
         "4",
         "1.0",
         "1",
         "Futrelle, Mrs. Jacques Heath (Lily May Peel)",
         "1",
         "35.0",
         "1",
         "0",
         "113803",
         "53.1",
         "C123",
         "S",
         "5"
        ],
        [
         "4",
         "5",
         "0.0",
         "3",
         "Allen, Mr. William Henry",
         "0",
         "35.0",
         "0",
         "0",
         "373450",
         "8.05",
         null,
         "S",
         "1"
        ],
        [
         "5",
         "6",
         "0.0",
         "3",
         "Moran, Mr. James",
         "0",
         "29.0",
         "0",
         "0",
         "330877",
         "8.4583",
         null,
         "Q",
         "1"
        ],
        [
         "6",
         "7",
         "0.0",
         "1",
         "McCarthy, Mr. Timothy J",
         "0",
         "54.0",
         "0",
         "0",
         "17463",
         "51.8625",
         "E46",
         "S",
         "1"
        ],
        [
         "7",
         "8",
         "0.0",
         "3",
         "Palsson, Master. Gosta Leonard",
         "0",
         "2.0",
         "3",
         "1",
         "349909",
         "21.075",
         null,
         "S",
         "3"
        ],
        [
         "8",
         "9",
         "1.0",
         "3",
         "Johnson, Mrs. Oscar W (Elisabeth Vilhelmina Berg)",
         "1",
         "27.0",
         "0",
         "2",
         "347742",
         "11.1333",
         null,
         "S",
         "5"
        ],
        [
         "9",
         "10",
         "1.0",
         "2",
         "Nasser, Mrs. Nicholas (Adele Achem)",
         "1",
         "14.0",
         "1",
         "0",
         "237736",
         "30.0708",
         null,
         "C",
         "5"
        ]
       ],
       "shape": {
        "columns": 13,
        "rows": 10
       }
      },
      "text/html": [
       "<div>\n",
       "<style scoped>\n",
       "    .dataframe tbody tr th:only-of-type {\n",
       "        vertical-align: middle;\n",
       "    }\n",
       "\n",
       "    .dataframe tbody tr th {\n",
       "        vertical-align: top;\n",
       "    }\n",
       "\n",
       "    .dataframe thead th {\n",
       "        text-align: right;\n",
       "    }\n",
       "</style>\n",
       "<table border=\"1\" class=\"dataframe\">\n",
       "  <thead>\n",
       "    <tr style=\"text-align: right;\">\n",
       "      <th></th>\n",
       "      <th>PassengerId</th>\n",
       "      <th>Survived</th>\n",
       "      <th>Pclass</th>\n",
       "      <th>Name</th>\n",
       "      <th>Sex</th>\n",
       "      <th>Age</th>\n",
       "      <th>SibSp</th>\n",
       "      <th>Parch</th>\n",
       "      <th>Ticket</th>\n",
       "      <th>Fare</th>\n",
       "      <th>Cabin</th>\n",
       "      <th>Embarked</th>\n",
       "      <th>Title</th>\n",
       "    </tr>\n",
       "  </thead>\n",
       "  <tbody>\n",
       "    <tr>\n",
       "      <th>0</th>\n",
       "      <td>1</td>\n",
       "      <td>0.0</td>\n",
       "      <td>3</td>\n",
       "      <td>Braund, Mr. Owen Harris</td>\n",
       "      <td>0</td>\n",
       "      <td>22.0</td>\n",
       "      <td>1</td>\n",
       "      <td>0</td>\n",
       "      <td>A/5 21171</td>\n",
       "      <td>7.2500</td>\n",
       "      <td>NaN</td>\n",
       "      <td>S</td>\n",
       "      <td>1</td>\n",
       "    </tr>\n",
       "    <tr>\n",
       "      <th>1</th>\n",
       "      <td>2</td>\n",
       "      <td>1.0</td>\n",
       "      <td>1</td>\n",
       "      <td>Cumings, Mrs. John Bradley (Florence Briggs Th...</td>\n",
       "      <td>1</td>\n",
       "      <td>38.0</td>\n",
       "      <td>1</td>\n",
       "      <td>0</td>\n",
       "      <td>PC 17599</td>\n",
       "      <td>71.2833</td>\n",
       "      <td>C85</td>\n",
       "      <td>C</td>\n",
       "      <td>5</td>\n",
       "    </tr>\n",
       "    <tr>\n",
       "      <th>2</th>\n",
       "      <td>3</td>\n",
       "      <td>1.0</td>\n",
       "      <td>3</td>\n",
       "      <td>Heikkinen, Miss. Laina</td>\n",
       "      <td>1</td>\n",
       "      <td>26.0</td>\n",
       "      <td>0</td>\n",
       "      <td>0</td>\n",
       "      <td>STON/O2. 3101282</td>\n",
       "      <td>7.9250</td>\n",
       "      <td>NaN</td>\n",
       "      <td>S</td>\n",
       "      <td>4</td>\n",
       "    </tr>\n",
       "    <tr>\n",
       "      <th>3</th>\n",
       "      <td>4</td>\n",
       "      <td>1.0</td>\n",
       "      <td>1</td>\n",
       "      <td>Futrelle, Mrs. Jacques Heath (Lily May Peel)</td>\n",
       "      <td>1</td>\n",
       "      <td>35.0</td>\n",
       "      <td>1</td>\n",
       "      <td>0</td>\n",
       "      <td>113803</td>\n",
       "      <td>53.1000</td>\n",
       "      <td>C123</td>\n",
       "      <td>S</td>\n",
       "      <td>5</td>\n",
       "    </tr>\n",
       "    <tr>\n",
       "      <th>4</th>\n",
       "      <td>5</td>\n",
       "      <td>0.0</td>\n",
       "      <td>3</td>\n",
       "      <td>Allen, Mr. William Henry</td>\n",
       "      <td>0</td>\n",
       "      <td>35.0</td>\n",
       "      <td>0</td>\n",
       "      <td>0</td>\n",
       "      <td>373450</td>\n",
       "      <td>8.0500</td>\n",
       "      <td>NaN</td>\n",
       "      <td>S</td>\n",
       "      <td>1</td>\n",
       "    </tr>\n",
       "    <tr>\n",
       "      <th>5</th>\n",
       "      <td>6</td>\n",
       "      <td>0.0</td>\n",
       "      <td>3</td>\n",
       "      <td>Moran, Mr. James</td>\n",
       "      <td>0</td>\n",
       "      <td>29.0</td>\n",
       "      <td>0</td>\n",
       "      <td>0</td>\n",
       "      <td>330877</td>\n",
       "      <td>8.4583</td>\n",
       "      <td>NaN</td>\n",
       "      <td>Q</td>\n",
       "      <td>1</td>\n",
       "    </tr>\n",
       "    <tr>\n",
       "      <th>6</th>\n",
       "      <td>7</td>\n",
       "      <td>0.0</td>\n",
       "      <td>1</td>\n",
       "      <td>McCarthy, Mr. Timothy J</td>\n",
       "      <td>0</td>\n",
       "      <td>54.0</td>\n",
       "      <td>0</td>\n",
       "      <td>0</td>\n",
       "      <td>17463</td>\n",
       "      <td>51.8625</td>\n",
       "      <td>E46</td>\n",
       "      <td>S</td>\n",
       "      <td>1</td>\n",
       "    </tr>\n",
       "    <tr>\n",
       "      <th>7</th>\n",
       "      <td>8</td>\n",
       "      <td>0.0</td>\n",
       "      <td>3</td>\n",
       "      <td>Palsson, Master. Gosta Leonard</td>\n",
       "      <td>0</td>\n",
       "      <td>2.0</td>\n",
       "      <td>3</td>\n",
       "      <td>1</td>\n",
       "      <td>349909</td>\n",
       "      <td>21.0750</td>\n",
       "      <td>NaN</td>\n",
       "      <td>S</td>\n",
       "      <td>3</td>\n",
       "    </tr>\n",
       "    <tr>\n",
       "      <th>8</th>\n",
       "      <td>9</td>\n",
       "      <td>1.0</td>\n",
       "      <td>3</td>\n",
       "      <td>Johnson, Mrs. Oscar W (Elisabeth Vilhelmina Berg)</td>\n",
       "      <td>1</td>\n",
       "      <td>27.0</td>\n",
       "      <td>0</td>\n",
       "      <td>2</td>\n",
       "      <td>347742</td>\n",
       "      <td>11.1333</td>\n",
       "      <td>NaN</td>\n",
       "      <td>S</td>\n",
       "      <td>5</td>\n",
       "    </tr>\n",
       "    <tr>\n",
       "      <th>9</th>\n",
       "      <td>10</td>\n",
       "      <td>1.0</td>\n",
       "      <td>2</td>\n",
       "      <td>Nasser, Mrs. Nicholas (Adele Achem)</td>\n",
       "      <td>1</td>\n",
       "      <td>14.0</td>\n",
       "      <td>1</td>\n",
       "      <td>0</td>\n",
       "      <td>237736</td>\n",
       "      <td>30.0708</td>\n",
       "      <td>NaN</td>\n",
       "      <td>C</td>\n",
       "      <td>5</td>\n",
       "    </tr>\n",
       "  </tbody>\n",
       "</table>\n",
       "</div>"
      ],
      "text/plain": [
       "   PassengerId  Survived  Pclass  \\\n",
       "0            1       0.0       3   \n",
       "1            2       1.0       1   \n",
       "2            3       1.0       3   \n",
       "3            4       1.0       1   \n",
       "4            5       0.0       3   \n",
       "5            6       0.0       3   \n",
       "6            7       0.0       1   \n",
       "7            8       0.0       3   \n",
       "8            9       1.0       3   \n",
       "9           10       1.0       2   \n",
       "\n",
       "                                                Name  Sex   Age  SibSp  Parch  \\\n",
       "0                            Braund, Mr. Owen Harris    0  22.0      1      0   \n",
       "1  Cumings, Mrs. John Bradley (Florence Briggs Th...    1  38.0      1      0   \n",
       "2                             Heikkinen, Miss. Laina    1  26.0      0      0   \n",
       "3       Futrelle, Mrs. Jacques Heath (Lily May Peel)    1  35.0      1      0   \n",
       "4                           Allen, Mr. William Henry    0  35.0      0      0   \n",
       "5                                   Moran, Mr. James    0  29.0      0      0   \n",
       "6                            McCarthy, Mr. Timothy J    0  54.0      0      0   \n",
       "7                     Palsson, Master. Gosta Leonard    0   2.0      3      1   \n",
       "8  Johnson, Mrs. Oscar W (Elisabeth Vilhelmina Berg)    1  27.0      0      2   \n",
       "9                Nasser, Mrs. Nicholas (Adele Achem)    1  14.0      1      0   \n",
       "\n",
       "             Ticket     Fare Cabin Embarked  Title  \n",
       "0         A/5 21171   7.2500   NaN        S      1  \n",
       "1          PC 17599  71.2833   C85        C      5  \n",
       "2  STON/O2. 3101282   7.9250   NaN        S      4  \n",
       "3            113803  53.1000  C123        S      5  \n",
       "4            373450   8.0500   NaN        S      1  \n",
       "5            330877   8.4583   NaN        Q      1  \n",
       "6             17463  51.8625   E46        S      1  \n",
       "7            349909  21.0750   NaN        S      3  \n",
       "8            347742  11.1333   NaN        S      5  \n",
       "9            237736  30.0708   NaN        C      5  "
      ]
     },
     "execution_count": 54,
     "metadata": {},
     "output_type": "execute_result"
    }
   ],
   "source": [
    "titles = list(train_df['Title'].unique())\n",
    "for title in titles:\n",
    "    age_to_impute = list(combined_df.groupby('Title')['Age'].median())[titles.index(title)]\n",
    "    mask = (combined_df['Title'] == title)\n",
    "    combined_df.loc[combined_df['Age'].isnull() & mask, 'Age'] = age_to_impute \n",
    "\n",
    "train_df['Age'] = combined_df['Age'][:891]\n",
    "test_df['Age'] = combined_df['Age'][891:]\n",
    "combined_df.head(10)"
   ]
  },
  {
   "cell_type": "markdown",
   "metadata": {},
   "source": [
    "Let us create Age bands and determine correlations with Survived."
   ]
  },
  {
   "cell_type": "code",
   "execution_count": null,
   "metadata": {},
   "outputs": [
    {
     "data": {
      "application/vnd.microsoft.datawrangler.viewer.v0+json": {
       "columns": [
        {
         "name": "index",
         "rawType": "int64",
         "type": "integer"
        },
        {
         "name": "PassengerId",
         "rawType": "int64",
         "type": "integer"
        },
        {
         "name": "Survived",
         "rawType": "float64",
         "type": "float"
        },
        {
         "name": "Pclass",
         "rawType": "int64",
         "type": "integer"
        },
        {
         "name": "Name",
         "rawType": "object",
         "type": "string"
        },
        {
         "name": "Sex",
         "rawType": "int64",
         "type": "integer"
        },
        {
         "name": "Age",
         "rawType": "float64",
         "type": "float"
        },
        {
         "name": "SibSp",
         "rawType": "int64",
         "type": "integer"
        },
        {
         "name": "Parch",
         "rawType": "int64",
         "type": "integer"
        },
        {
         "name": "Ticket",
         "rawType": "object",
         "type": "string"
        },
        {
         "name": "Fare",
         "rawType": "float64",
         "type": "float"
        },
        {
         "name": "Cabin",
         "rawType": "object",
         "type": "unknown"
        },
        {
         "name": "Embarked",
         "rawType": "object",
         "type": "string"
        },
        {
         "name": "Title",
         "rawType": "int64",
         "type": "integer"
        },
        {
         "name": "AgeBin_Code",
         "rawType": "int64",
         "type": "integer"
        }
       ],
       "conversionMethod": "pd.DataFrame",
       "ref": "577bcb85-0831-44a4-9e7f-3ec640ccfbc2",
       "rows": [
        [
         "0",
         "1",
         "0.0",
         "3",
         "Braund, Mr. Owen Harris",
         "0",
         "22.0",
         "1",
         "0",
         "A/5 21171",
         "7.25",
         null,
         "S",
         "1",
         "1"
        ],
        [
         "1",
         "2",
         "1.0",
         "1",
         "Cumings, Mrs. John Bradley (Florence Briggs Thayer)",
         "1",
         "38.0",
         "1",
         "0",
         "PC 17599",
         "71.2833",
         "C85",
         "C",
         "5",
         "3"
        ],
        [
         "2",
         "3",
         "1.0",
         "3",
         "Heikkinen, Miss. Laina",
         "1",
         "26.0",
         "0",
         "0",
         "STON/O2. 3101282",
         "7.925",
         null,
         "S",
         "4",
         "1"
        ],
        [
         "3",
         "4",
         "1.0",
         "1",
         "Futrelle, Mrs. Jacques Heath (Lily May Peel)",
         "1",
         "35.0",
         "1",
         "0",
         "113803",
         "53.1",
         "C123",
         "S",
         "5",
         "2"
        ],
        [
         "4",
         "5",
         "0.0",
         "3",
         "Allen, Mr. William Henry",
         "0",
         "35.0",
         "0",
         "0",
         "373450",
         "8.05",
         null,
         "S",
         "1",
         "2"
        ],
        [
         "5",
         "6",
         "0.0",
         "3",
         "Moran, Mr. James",
         "0",
         "29.0",
         "0",
         "0",
         "330877",
         "8.4583",
         null,
         "Q",
         "1",
         "1"
        ],
        [
         "6",
         "7",
         "0.0",
         "1",
         "McCarthy, Mr. Timothy J",
         "0",
         "54.0",
         "0",
         "0",
         "17463",
         "51.8625",
         "E46",
         "S",
         "1",
         "3"
        ],
        [
         "7",
         "8",
         "0.0",
         "3",
         "Palsson, Master. Gosta Leonard",
         "0",
         "2.0",
         "3",
         "1",
         "349909",
         "21.075",
         null,
         "S",
         "3",
         "0"
        ],
        [
         "8",
         "9",
         "1.0",
         "3",
         "Johnson, Mrs. Oscar W (Elisabeth Vilhelmina Berg)",
         "1",
         "27.0",
         "0",
         "2",
         "347742",
         "11.1333",
         null,
         "S",
         "5",
         "1"
        ],
        [
         "9",
         "10",
         "1.0",
         "2",
         "Nasser, Mrs. Nicholas (Adele Achem)",
         "1",
         "14.0",
         "1",
         "0",
         "237736",
         "30.0708",
         null,
         "C",
         "5",
         "0"
        ]
       ],
       "shape": {
        "columns": 14,
        "rows": 10
       }
      },
      "text/html": [
       "<div>\n",
       "<style scoped>\n",
       "    .dataframe tbody tr th:only-of-type {\n",
       "        vertical-align: middle;\n",
       "    }\n",
       "\n",
       "    .dataframe tbody tr th {\n",
       "        vertical-align: top;\n",
       "    }\n",
       "\n",
       "    .dataframe thead th {\n",
       "        text-align: right;\n",
       "    }\n",
       "</style>\n",
       "<table border=\"1\" class=\"dataframe\">\n",
       "  <thead>\n",
       "    <tr style=\"text-align: right;\">\n",
       "      <th></th>\n",
       "      <th>PassengerId</th>\n",
       "      <th>Survived</th>\n",
       "      <th>Pclass</th>\n",
       "      <th>Name</th>\n",
       "      <th>Sex</th>\n",
       "      <th>Age</th>\n",
       "      <th>SibSp</th>\n",
       "      <th>Parch</th>\n",
       "      <th>Ticket</th>\n",
       "      <th>Fare</th>\n",
       "      <th>Cabin</th>\n",
       "      <th>Embarked</th>\n",
       "      <th>Title</th>\n",
       "      <th>AgeBin_Code</th>\n",
       "    </tr>\n",
       "  </thead>\n",
       "  <tbody>\n",
       "    <tr>\n",
       "      <th>0</th>\n",
       "      <td>1</td>\n",
       "      <td>0.0</td>\n",
       "      <td>3</td>\n",
       "      <td>Braund, Mr. Owen Harris</td>\n",
       "      <td>0</td>\n",
       "      <td>22.0</td>\n",
       "      <td>1</td>\n",
       "      <td>0</td>\n",
       "      <td>A/5 21171</td>\n",
       "      <td>7.2500</td>\n",
       "      <td>NaN</td>\n",
       "      <td>S</td>\n",
       "      <td>1</td>\n",
       "      <td>1</td>\n",
       "    </tr>\n",
       "    <tr>\n",
       "      <th>1</th>\n",
       "      <td>2</td>\n",
       "      <td>1.0</td>\n",
       "      <td>1</td>\n",
       "      <td>Cumings, Mrs. John Bradley (Florence Briggs Th...</td>\n",
       "      <td>1</td>\n",
       "      <td>38.0</td>\n",
       "      <td>1</td>\n",
       "      <td>0</td>\n",
       "      <td>PC 17599</td>\n",
       "      <td>71.2833</td>\n",
       "      <td>C85</td>\n",
       "      <td>C</td>\n",
       "      <td>5</td>\n",
       "      <td>3</td>\n",
       "    </tr>\n",
       "    <tr>\n",
       "      <th>2</th>\n",
       "      <td>3</td>\n",
       "      <td>1.0</td>\n",
       "      <td>3</td>\n",
       "      <td>Heikkinen, Miss. Laina</td>\n",
       "      <td>1</td>\n",
       "      <td>26.0</td>\n",
       "      <td>0</td>\n",
       "      <td>0</td>\n",
       "      <td>STON/O2. 3101282</td>\n",
       "      <td>7.9250</td>\n",
       "      <td>NaN</td>\n",
       "      <td>S</td>\n",
       "      <td>4</td>\n",
       "      <td>1</td>\n",
       "    </tr>\n",
       "    <tr>\n",
       "      <th>3</th>\n",
       "      <td>4</td>\n",
       "      <td>1.0</td>\n",
       "      <td>1</td>\n",
       "      <td>Futrelle, Mrs. Jacques Heath (Lily May Peel)</td>\n",
       "      <td>1</td>\n",
       "      <td>35.0</td>\n",
       "      <td>1</td>\n",
       "      <td>0</td>\n",
       "      <td>113803</td>\n",
       "      <td>53.1000</td>\n",
       "      <td>C123</td>\n",
       "      <td>S</td>\n",
       "      <td>5</td>\n",
       "      <td>2</td>\n",
       "    </tr>\n",
       "    <tr>\n",
       "      <th>4</th>\n",
       "      <td>5</td>\n",
       "      <td>0.0</td>\n",
       "      <td>3</td>\n",
       "      <td>Allen, Mr. William Henry</td>\n",
       "      <td>0</td>\n",
       "      <td>35.0</td>\n",
       "      <td>0</td>\n",
       "      <td>0</td>\n",
       "      <td>373450</td>\n",
       "      <td>8.0500</td>\n",
       "      <td>NaN</td>\n",
       "      <td>S</td>\n",
       "      <td>1</td>\n",
       "      <td>2</td>\n",
       "    </tr>\n",
       "    <tr>\n",
       "      <th>5</th>\n",
       "      <td>6</td>\n",
       "      <td>0.0</td>\n",
       "      <td>3</td>\n",
       "      <td>Moran, Mr. James</td>\n",
       "      <td>0</td>\n",
       "      <td>29.0</td>\n",
       "      <td>0</td>\n",
       "      <td>0</td>\n",
       "      <td>330877</td>\n",
       "      <td>8.4583</td>\n",
       "      <td>NaN</td>\n",
       "      <td>Q</td>\n",
       "      <td>1</td>\n",
       "      <td>1</td>\n",
       "    </tr>\n",
       "    <tr>\n",
       "      <th>6</th>\n",
       "      <td>7</td>\n",
       "      <td>0.0</td>\n",
       "      <td>1</td>\n",
       "      <td>McCarthy, Mr. Timothy J</td>\n",
       "      <td>0</td>\n",
       "      <td>54.0</td>\n",
       "      <td>0</td>\n",
       "      <td>0</td>\n",
       "      <td>17463</td>\n",
       "      <td>51.8625</td>\n",
       "      <td>E46</td>\n",
       "      <td>S</td>\n",
       "      <td>1</td>\n",
       "      <td>3</td>\n",
       "    </tr>\n",
       "    <tr>\n",
       "      <th>7</th>\n",
       "      <td>8</td>\n",
       "      <td>0.0</td>\n",
       "      <td>3</td>\n",
       "      <td>Palsson, Master. Gosta Leonard</td>\n",
       "      <td>0</td>\n",
       "      <td>2.0</td>\n",
       "      <td>3</td>\n",
       "      <td>1</td>\n",
       "      <td>349909</td>\n",
       "      <td>21.0750</td>\n",
       "      <td>NaN</td>\n",
       "      <td>S</td>\n",
       "      <td>3</td>\n",
       "      <td>0</td>\n",
       "    </tr>\n",
       "    <tr>\n",
       "      <th>8</th>\n",
       "      <td>9</td>\n",
       "      <td>1.0</td>\n",
       "      <td>3</td>\n",
       "      <td>Johnson, Mrs. Oscar W (Elisabeth Vilhelmina Berg)</td>\n",
       "      <td>1</td>\n",
       "      <td>27.0</td>\n",
       "      <td>0</td>\n",
       "      <td>2</td>\n",
       "      <td>347742</td>\n",
       "      <td>11.1333</td>\n",
       "      <td>NaN</td>\n",
       "      <td>S</td>\n",
       "      <td>5</td>\n",
       "      <td>1</td>\n",
       "    </tr>\n",
       "    <tr>\n",
       "      <th>9</th>\n",
       "      <td>10</td>\n",
       "      <td>1.0</td>\n",
       "      <td>2</td>\n",
       "      <td>Nasser, Mrs. Nicholas (Adele Achem)</td>\n",
       "      <td>1</td>\n",
       "      <td>14.0</td>\n",
       "      <td>1</td>\n",
       "      <td>0</td>\n",
       "      <td>237736</td>\n",
       "      <td>30.0708</td>\n",
       "      <td>NaN</td>\n",
       "      <td>C</td>\n",
       "      <td>5</td>\n",
       "      <td>0</td>\n",
       "    </tr>\n",
       "  </tbody>\n",
       "</table>\n",
       "</div>"
      ],
      "text/plain": [
       "   PassengerId  Survived  Pclass  \\\n",
       "0            1       0.0       3   \n",
       "1            2       1.0       1   \n",
       "2            3       1.0       3   \n",
       "3            4       1.0       1   \n",
       "4            5       0.0       3   \n",
       "5            6       0.0       3   \n",
       "6            7       0.0       1   \n",
       "7            8       0.0       3   \n",
       "8            9       1.0       3   \n",
       "9           10       1.0       2   \n",
       "\n",
       "                                                Name  Sex   Age  SibSp  Parch  \\\n",
       "0                            Braund, Mr. Owen Harris    0  22.0      1      0   \n",
       "1  Cumings, Mrs. John Bradley (Florence Briggs Th...    1  38.0      1      0   \n",
       "2                             Heikkinen, Miss. Laina    1  26.0      0      0   \n",
       "3       Futrelle, Mrs. Jacques Heath (Lily May Peel)    1  35.0      1      0   \n",
       "4                           Allen, Mr. William Henry    0  35.0      0      0   \n",
       "5                                   Moran, Mr. James    0  29.0      0      0   \n",
       "6                            McCarthy, Mr. Timothy J    0  54.0      0      0   \n",
       "7                     Palsson, Master. Gosta Leonard    0   2.0      3      1   \n",
       "8  Johnson, Mrs. Oscar W (Elisabeth Vilhelmina Berg)    1  27.0      0      2   \n",
       "9                Nasser, Mrs. Nicholas (Adele Achem)    1  14.0      1      0   \n",
       "\n",
       "             Ticket     Fare Cabin Embarked  Title  AgeBin_Code  \n",
       "0         A/5 21171   7.2500   NaN        S      1            1  \n",
       "1          PC 17599  71.2833   C85        C      5            3  \n",
       "2  STON/O2. 3101282   7.9250   NaN        S      4            1  \n",
       "3            113803  53.1000  C123        S      5            2  \n",
       "4            373450   8.0500   NaN        S      1            2  \n",
       "5            330877   8.4583   NaN        Q      1            1  \n",
       "6             17463  51.8625   E46        S      1            3  \n",
       "7            349909  21.0750   NaN        S      3            0  \n",
       "8            347742  11.1333   NaN        S      5            1  \n",
       "9            237736  30.0708   NaN        C      5            0  "
      ]
     },
     "execution_count": 55,
     "metadata": {},
     "output_type": "execute_result"
    }
   ],
   "source": [
    "from sklearn.preprocessing import LabelEncoder\n",
    "\n",
    "## We will use the LabelEncoder to convert categorical variables into numerical ones\n",
    "combined_df['AgeBin'] = pd.qcut(combined_df['Age'], 4)\n",
    "\n",
    "label = LabelEncoder() \n",
    "combined_df['AgeBin_Code'] = label.fit_transform(combined_df['AgeBin'])\n",
    "\n",
    "train_df['AgeBin_Code'] = combined_df['AgeBin_Code'][:891]\n",
    "test_df['AgeBin_Code'] = combined_df['AgeBin_Code'][891:]\n",
    "train_df.head(10)"
   ]
  },
  {
   "cell_type": "code",
   "execution_count": 56,
   "metadata": {},
   "outputs": [
    {
     "data": {
      "application/vnd.microsoft.datawrangler.viewer.v0+json": {
       "columns": [
        {
         "name": "index",
         "rawType": "int64",
         "type": "integer"
        },
        {
         "name": "AgeBin_Code",
         "rawType": "int64",
         "type": "integer"
        },
        {
         "name": "Survived",
         "rawType": "float64",
         "type": "float"
        }
       ],
       "conversionMethod": "pd.DataFrame",
       "ref": "b1d18ddc-91fb-4414-ad92-7f66e2076a24",
       "rows": [
        [
         "0",
         "0",
         "0.45491803278688525"
        ],
        [
         "1",
         "1",
         "0.27759197324414714"
        ],
        [
         "2",
         "2",
         "0.45925925925925926"
        ],
        [
         "3",
         "3",
         "0.40375586854460094"
        ]
       ],
       "shape": {
        "columns": 2,
        "rows": 4
       }
      },
      "text/html": [
       "<div>\n",
       "<style scoped>\n",
       "    .dataframe tbody tr th:only-of-type {\n",
       "        vertical-align: middle;\n",
       "    }\n",
       "\n",
       "    .dataframe tbody tr th {\n",
       "        vertical-align: top;\n",
       "    }\n",
       "\n",
       "    .dataframe thead th {\n",
       "        text-align: right;\n",
       "    }\n",
       "</style>\n",
       "<table border=\"1\" class=\"dataframe\">\n",
       "  <thead>\n",
       "    <tr style=\"text-align: right;\">\n",
       "      <th></th>\n",
       "      <th>AgeBin_Code</th>\n",
       "      <th>Survived</th>\n",
       "    </tr>\n",
       "  </thead>\n",
       "  <tbody>\n",
       "    <tr>\n",
       "      <th>0</th>\n",
       "      <td>0</td>\n",
       "      <td>0.454918</td>\n",
       "    </tr>\n",
       "    <tr>\n",
       "      <th>1</th>\n",
       "      <td>1</td>\n",
       "      <td>0.277592</td>\n",
       "    </tr>\n",
       "    <tr>\n",
       "      <th>2</th>\n",
       "      <td>2</td>\n",
       "      <td>0.459259</td>\n",
       "    </tr>\n",
       "    <tr>\n",
       "      <th>3</th>\n",
       "      <td>3</td>\n",
       "      <td>0.403756</td>\n",
       "    </tr>\n",
       "  </tbody>\n",
       "</table>\n",
       "</div>"
      ],
      "text/plain": [
       "   AgeBin_Code  Survived\n",
       "0            0  0.454918\n",
       "1            1  0.277592\n",
       "2            2  0.459259\n",
       "3            3  0.403756"
      ]
     },
     "execution_count": 56,
     "metadata": {},
     "output_type": "execute_result"
    }
   ],
   "source": [
    "train_df[['AgeBin_Code', 'Survived']].groupby(['AgeBin_Code'], as_index=False).mean().sort_values(by='AgeBin_Code', ascending=True)"
   ]
  },
  {
   "cell_type": "markdown",
   "metadata": {},
   "source": [
    "Let us replace Age with ordinals based on these bands, but first we make a feature 'Age_original' to check whether the original, non-binned age, is a good predictor."
   ]
  },
  {
   "cell_type": "code",
   "execution_count": 57,
   "metadata": {
    "scrolled": true
   },
   "outputs": [
    {
     "data": {
      "application/vnd.microsoft.datawrangler.viewer.v0+json": {
       "columns": [
        {
         "name": "index",
         "rawType": "int64",
         "type": "integer"
        },
        {
         "name": "PassengerId",
         "rawType": "int64",
         "type": "integer"
        },
        {
         "name": "Survived",
         "rawType": "float64",
         "type": "float"
        },
        {
         "name": "Pclass",
         "rawType": "int64",
         "type": "integer"
        },
        {
         "name": "Name",
         "rawType": "object",
         "type": "string"
        },
        {
         "name": "Sex",
         "rawType": "int64",
         "type": "integer"
        },
        {
         "name": "Age",
         "rawType": "float64",
         "type": "float"
        },
        {
         "name": "SibSp",
         "rawType": "int64",
         "type": "integer"
        },
        {
         "name": "Parch",
         "rawType": "int64",
         "type": "integer"
        },
        {
         "name": "Ticket",
         "rawType": "object",
         "type": "string"
        },
        {
         "name": "Fare",
         "rawType": "float64",
         "type": "float"
        },
        {
         "name": "Cabin",
         "rawType": "object",
         "type": "unknown"
        },
        {
         "name": "Embarked",
         "rawType": "object",
         "type": "string"
        },
        {
         "name": "Title",
         "rawType": "int64",
         "type": "integer"
        },
        {
         "name": "AgeBin_Code",
         "rawType": "int64",
         "type": "integer"
        },
        {
         "name": "Age_original",
         "rawType": "float64",
         "type": "float"
        }
       ],
       "conversionMethod": "pd.DataFrame",
       "ref": "ea176c72-f273-401a-8600-aa4e064803d7",
       "rows": [
        [
         "0",
         "1",
         "0.0",
         "3",
         "Braund, Mr. Owen Harris",
         "0",
         "22.0",
         "1",
         "0",
         "A/5 21171",
         "7.25",
         null,
         "S",
         "1",
         "1",
         "22.0"
        ],
        [
         "1",
         "2",
         "1.0",
         "1",
         "Cumings, Mrs. John Bradley (Florence Briggs Thayer)",
         "1",
         "38.0",
         "1",
         "0",
         "PC 17599",
         "71.2833",
         "C85",
         "C",
         "5",
         "3",
         "38.0"
        ],
        [
         "2",
         "3",
         "1.0",
         "3",
         "Heikkinen, Miss. Laina",
         "1",
         "26.0",
         "0",
         "0",
         "STON/O2. 3101282",
         "7.925",
         null,
         "S",
         "4",
         "1",
         "26.0"
        ],
        [
         "3",
         "4",
         "1.0",
         "1",
         "Futrelle, Mrs. Jacques Heath (Lily May Peel)",
         "1",
         "35.0",
         "1",
         "0",
         "113803",
         "53.1",
         "C123",
         "S",
         "5",
         "2",
         "35.0"
        ],
        [
         "4",
         "5",
         "0.0",
         "3",
         "Allen, Mr. William Henry",
         "0",
         "35.0",
         "0",
         "0",
         "373450",
         "8.05",
         null,
         "S",
         "1",
         "2",
         "35.0"
        ],
        [
         "5",
         "6",
         "0.0",
         "3",
         "Moran, Mr. James",
         "0",
         "29.0",
         "0",
         "0",
         "330877",
         "8.4583",
         null,
         "Q",
         "1",
         "1",
         "29.0"
        ],
        [
         "6",
         "7",
         "0.0",
         "1",
         "McCarthy, Mr. Timothy J",
         "0",
         "54.0",
         "0",
         "0",
         "17463",
         "51.8625",
         "E46",
         "S",
         "1",
         "3",
         "54.0"
        ],
        [
         "7",
         "8",
         "0.0",
         "3",
         "Palsson, Master. Gosta Leonard",
         "0",
         "2.0",
         "3",
         "1",
         "349909",
         "21.075",
         null,
         "S",
         "3",
         "0",
         "2.0"
        ],
        [
         "8",
         "9",
         "1.0",
         "3",
         "Johnson, Mrs. Oscar W (Elisabeth Vilhelmina Berg)",
         "1",
         "27.0",
         "0",
         "2",
         "347742",
         "11.1333",
         null,
         "S",
         "5",
         "1",
         "27.0"
        ],
        [
         "9",
         "10",
         "1.0",
         "2",
         "Nasser, Mrs. Nicholas (Adele Achem)",
         "1",
         "14.0",
         "1",
         "0",
         "237736",
         "30.0708",
         null,
         "C",
         "5",
         "0",
         "14.0"
        ]
       ],
       "shape": {
        "columns": 15,
        "rows": 10
       }
      },
      "text/html": [
       "<div>\n",
       "<style scoped>\n",
       "    .dataframe tbody tr th:only-of-type {\n",
       "        vertical-align: middle;\n",
       "    }\n",
       "\n",
       "    .dataframe tbody tr th {\n",
       "        vertical-align: top;\n",
       "    }\n",
       "\n",
       "    .dataframe thead th {\n",
       "        text-align: right;\n",
       "    }\n",
       "</style>\n",
       "<table border=\"1\" class=\"dataframe\">\n",
       "  <thead>\n",
       "    <tr style=\"text-align: right;\">\n",
       "      <th></th>\n",
       "      <th>PassengerId</th>\n",
       "      <th>Survived</th>\n",
       "      <th>Pclass</th>\n",
       "      <th>Name</th>\n",
       "      <th>Sex</th>\n",
       "      <th>Age</th>\n",
       "      <th>SibSp</th>\n",
       "      <th>Parch</th>\n",
       "      <th>Ticket</th>\n",
       "      <th>Fare</th>\n",
       "      <th>Cabin</th>\n",
       "      <th>Embarked</th>\n",
       "      <th>Title</th>\n",
       "      <th>AgeBin_Code</th>\n",
       "      <th>Age_original</th>\n",
       "    </tr>\n",
       "  </thead>\n",
       "  <tbody>\n",
       "    <tr>\n",
       "      <th>0</th>\n",
       "      <td>1</td>\n",
       "      <td>0.0</td>\n",
       "      <td>3</td>\n",
       "      <td>Braund, Mr. Owen Harris</td>\n",
       "      <td>0</td>\n",
       "      <td>22.0</td>\n",
       "      <td>1</td>\n",
       "      <td>0</td>\n",
       "      <td>A/5 21171</td>\n",
       "      <td>7.2500</td>\n",
       "      <td>NaN</td>\n",
       "      <td>S</td>\n",
       "      <td>1</td>\n",
       "      <td>1</td>\n",
       "      <td>22.0</td>\n",
       "    </tr>\n",
       "    <tr>\n",
       "      <th>1</th>\n",
       "      <td>2</td>\n",
       "      <td>1.0</td>\n",
       "      <td>1</td>\n",
       "      <td>Cumings, Mrs. John Bradley (Florence Briggs Th...</td>\n",
       "      <td>1</td>\n",
       "      <td>38.0</td>\n",
       "      <td>1</td>\n",
       "      <td>0</td>\n",
       "      <td>PC 17599</td>\n",
       "      <td>71.2833</td>\n",
       "      <td>C85</td>\n",
       "      <td>C</td>\n",
       "      <td>5</td>\n",
       "      <td>3</td>\n",
       "      <td>38.0</td>\n",
       "    </tr>\n",
       "    <tr>\n",
       "      <th>2</th>\n",
       "      <td>3</td>\n",
       "      <td>1.0</td>\n",
       "      <td>3</td>\n",
       "      <td>Heikkinen, Miss. Laina</td>\n",
       "      <td>1</td>\n",
       "      <td>26.0</td>\n",
       "      <td>0</td>\n",
       "      <td>0</td>\n",
       "      <td>STON/O2. 3101282</td>\n",
       "      <td>7.9250</td>\n",
       "      <td>NaN</td>\n",
       "      <td>S</td>\n",
       "      <td>4</td>\n",
       "      <td>1</td>\n",
       "      <td>26.0</td>\n",
       "    </tr>\n",
       "    <tr>\n",
       "      <th>3</th>\n",
       "      <td>4</td>\n",
       "      <td>1.0</td>\n",
       "      <td>1</td>\n",
       "      <td>Futrelle, Mrs. Jacques Heath (Lily May Peel)</td>\n",
       "      <td>1</td>\n",
       "      <td>35.0</td>\n",
       "      <td>1</td>\n",
       "      <td>0</td>\n",
       "      <td>113803</td>\n",
       "      <td>53.1000</td>\n",
       "      <td>C123</td>\n",
       "      <td>S</td>\n",
       "      <td>5</td>\n",
       "      <td>2</td>\n",
       "      <td>35.0</td>\n",
       "    </tr>\n",
       "    <tr>\n",
       "      <th>4</th>\n",
       "      <td>5</td>\n",
       "      <td>0.0</td>\n",
       "      <td>3</td>\n",
       "      <td>Allen, Mr. William Henry</td>\n",
       "      <td>0</td>\n",
       "      <td>35.0</td>\n",
       "      <td>0</td>\n",
       "      <td>0</td>\n",
       "      <td>373450</td>\n",
       "      <td>8.0500</td>\n",
       "      <td>NaN</td>\n",
       "      <td>S</td>\n",
       "      <td>1</td>\n",
       "      <td>2</td>\n",
       "      <td>35.0</td>\n",
       "    </tr>\n",
       "    <tr>\n",
       "      <th>5</th>\n",
       "      <td>6</td>\n",
       "      <td>0.0</td>\n",
       "      <td>3</td>\n",
       "      <td>Moran, Mr. James</td>\n",
       "      <td>0</td>\n",
       "      <td>29.0</td>\n",
       "      <td>0</td>\n",
       "      <td>0</td>\n",
       "      <td>330877</td>\n",
       "      <td>8.4583</td>\n",
       "      <td>NaN</td>\n",
       "      <td>Q</td>\n",
       "      <td>1</td>\n",
       "      <td>1</td>\n",
       "      <td>29.0</td>\n",
       "    </tr>\n",
       "    <tr>\n",
       "      <th>6</th>\n",
       "      <td>7</td>\n",
       "      <td>0.0</td>\n",
       "      <td>1</td>\n",
       "      <td>McCarthy, Mr. Timothy J</td>\n",
       "      <td>0</td>\n",
       "      <td>54.0</td>\n",
       "      <td>0</td>\n",
       "      <td>0</td>\n",
       "      <td>17463</td>\n",
       "      <td>51.8625</td>\n",
       "      <td>E46</td>\n",
       "      <td>S</td>\n",
       "      <td>1</td>\n",
       "      <td>3</td>\n",
       "      <td>54.0</td>\n",
       "    </tr>\n",
       "    <tr>\n",
       "      <th>7</th>\n",
       "      <td>8</td>\n",
       "      <td>0.0</td>\n",
       "      <td>3</td>\n",
       "      <td>Palsson, Master. Gosta Leonard</td>\n",
       "      <td>0</td>\n",
       "      <td>2.0</td>\n",
       "      <td>3</td>\n",
       "      <td>1</td>\n",
       "      <td>349909</td>\n",
       "      <td>21.0750</td>\n",
       "      <td>NaN</td>\n",
       "      <td>S</td>\n",
       "      <td>3</td>\n",
       "      <td>0</td>\n",
       "      <td>2.0</td>\n",
       "    </tr>\n",
       "    <tr>\n",
       "      <th>8</th>\n",
       "      <td>9</td>\n",
       "      <td>1.0</td>\n",
       "      <td>3</td>\n",
       "      <td>Johnson, Mrs. Oscar W (Elisabeth Vilhelmina Berg)</td>\n",
       "      <td>1</td>\n",
       "      <td>27.0</td>\n",
       "      <td>0</td>\n",
       "      <td>2</td>\n",
       "      <td>347742</td>\n",
       "      <td>11.1333</td>\n",
       "      <td>NaN</td>\n",
       "      <td>S</td>\n",
       "      <td>5</td>\n",
       "      <td>1</td>\n",
       "      <td>27.0</td>\n",
       "    </tr>\n",
       "    <tr>\n",
       "      <th>9</th>\n",
       "      <td>10</td>\n",
       "      <td>1.0</td>\n",
       "      <td>2</td>\n",
       "      <td>Nasser, Mrs. Nicholas (Adele Achem)</td>\n",
       "      <td>1</td>\n",
       "      <td>14.0</td>\n",
       "      <td>1</td>\n",
       "      <td>0</td>\n",
       "      <td>237736</td>\n",
       "      <td>30.0708</td>\n",
       "      <td>NaN</td>\n",
       "      <td>C</td>\n",
       "      <td>5</td>\n",
       "      <td>0</td>\n",
       "      <td>14.0</td>\n",
       "    </tr>\n",
       "  </tbody>\n",
       "</table>\n",
       "</div>"
      ],
      "text/plain": [
       "   PassengerId  Survived  Pclass  \\\n",
       "0            1       0.0       3   \n",
       "1            2       1.0       1   \n",
       "2            3       1.0       3   \n",
       "3            4       1.0       1   \n",
       "4            5       0.0       3   \n",
       "5            6       0.0       3   \n",
       "6            7       0.0       1   \n",
       "7            8       0.0       3   \n",
       "8            9       1.0       3   \n",
       "9           10       1.0       2   \n",
       "\n",
       "                                                Name  Sex   Age  SibSp  Parch  \\\n",
       "0                            Braund, Mr. Owen Harris    0  22.0      1      0   \n",
       "1  Cumings, Mrs. John Bradley (Florence Briggs Th...    1  38.0      1      0   \n",
       "2                             Heikkinen, Miss. Laina    1  26.0      0      0   \n",
       "3       Futrelle, Mrs. Jacques Heath (Lily May Peel)    1  35.0      1      0   \n",
       "4                           Allen, Mr. William Henry    0  35.0      0      0   \n",
       "5                                   Moran, Mr. James    0  29.0      0      0   \n",
       "6                            McCarthy, Mr. Timothy J    0  54.0      0      0   \n",
       "7                     Palsson, Master. Gosta Leonard    0   2.0      3      1   \n",
       "8  Johnson, Mrs. Oscar W (Elisabeth Vilhelmina Berg)    1  27.0      0      2   \n",
       "9                Nasser, Mrs. Nicholas (Adele Achem)    1  14.0      1      0   \n",
       "\n",
       "             Ticket     Fare Cabin Embarked  Title  AgeBin_Code  Age_original  \n",
       "0         A/5 21171   7.2500   NaN        S      1            1          22.0  \n",
       "1          PC 17599  71.2833   C85        C      5            3          38.0  \n",
       "2  STON/O2. 3101282   7.9250   NaN        S      4            1          26.0  \n",
       "3            113803  53.1000  C123        S      5            2          35.0  \n",
       "4            373450   8.0500   NaN        S      1            2          35.0  \n",
       "5            330877   8.4583   NaN        Q      1            1          29.0  \n",
       "6             17463  51.8625   E46        S      1            3          54.0  \n",
       "7            349909  21.0750   NaN        S      3            0           2.0  \n",
       "8            347742  11.1333   NaN        S      5            1          27.0  \n",
       "9            237736  30.0708   NaN        C      5            0          14.0  "
      ]
     },
     "execution_count": 57,
     "metadata": {},
     "output_type": "execute_result"
    }
   ],
   "source": [
    "combined_df['Age_original'] = combined_df['Age']\n",
    "train_df['Age_original'] = combined_df['Age_original'][:891]\n",
    "test_df['Age_original'] = combined_df['Age_original'][891:]\n",
    "train_df.head(10)"
   ]
  },
  {
   "cell_type": "code",
   "execution_count": 58,
   "metadata": {
    "scrolled": true
   },
   "outputs": [
    {
     "data": {
      "application/vnd.microsoft.datawrangler.viewer.v0+json": {
       "columns": [
        {
         "name": "index",
         "rawType": "int64",
         "type": "integer"
        },
        {
         "name": "PassengerId",
         "rawType": "int64",
         "type": "integer"
        },
        {
         "name": "Survived",
         "rawType": "float64",
         "type": "float"
        },
        {
         "name": "Pclass",
         "rawType": "int64",
         "type": "integer"
        },
        {
         "name": "Name",
         "rawType": "object",
         "type": "string"
        },
        {
         "name": "Sex",
         "rawType": "int64",
         "type": "integer"
        },
        {
         "name": "Age",
         "rawType": "float64",
         "type": "float"
        },
        {
         "name": "SibSp",
         "rawType": "int64",
         "type": "integer"
        },
        {
         "name": "Parch",
         "rawType": "int64",
         "type": "integer"
        },
        {
         "name": "Ticket",
         "rawType": "object",
         "type": "string"
        },
        {
         "name": "Fare",
         "rawType": "float64",
         "type": "float"
        },
        {
         "name": "Cabin",
         "rawType": "object",
         "type": "unknown"
        },
        {
         "name": "Embarked",
         "rawType": "object",
         "type": "string"
        },
        {
         "name": "Title",
         "rawType": "int64",
         "type": "integer"
        },
        {
         "name": "AgeBin_Code",
         "rawType": "int64",
         "type": "integer"
        },
        {
         "name": "Age_original",
         "rawType": "float64",
         "type": "float"
        }
       ],
       "conversionMethod": "pd.DataFrame",
       "ref": "3f364960-389e-4829-9ad0-02b426750f7f",
       "rows": [
        [
         "0",
         "1",
         "0.0",
         "3",
         "Braund, Mr. Owen Harris",
         "0",
         "2.0",
         "1",
         "0",
         "A/5 21171",
         "7.25",
         null,
         "S",
         "1",
         "1",
         "22.0"
        ],
        [
         "1",
         "2",
         "1.0",
         "1",
         "Cumings, Mrs. John Bradley (Florence Briggs Thayer)",
         "1",
         "3.0",
         "1",
         "0",
         "PC 17599",
         "71.2833",
         "C85",
         "C",
         "5",
         "3",
         "38.0"
        ],
        [
         "2",
         "3",
         "1.0",
         "3",
         "Heikkinen, Miss. Laina",
         "1",
         "2.0",
         "0",
         "0",
         "STON/O2. 3101282",
         "7.925",
         null,
         "S",
         "4",
         "1",
         "26.0"
        ],
        [
         "3",
         "4",
         "1.0",
         "1",
         "Futrelle, Mrs. Jacques Heath (Lily May Peel)",
         "1",
         "2.0",
         "1",
         "0",
         "113803",
         "53.1",
         "C123",
         "S",
         "5",
         "2",
         "35.0"
        ],
        [
         "4",
         "5",
         "0.0",
         "3",
         "Allen, Mr. William Henry",
         "0",
         "2.0",
         "0",
         "0",
         "373450",
         "8.05",
         null,
         "S",
         "1",
         "2",
         "35.0"
        ],
        [
         "5",
         "6",
         "0.0",
         "3",
         "Moran, Mr. James",
         "0",
         "2.0",
         "0",
         "0",
         "330877",
         "8.4583",
         null,
         "Q",
         "1",
         "1",
         "29.0"
        ],
        [
         "6",
         "7",
         "0.0",
         "1",
         "McCarthy, Mr. Timothy J",
         "0",
         "3.0",
         "0",
         "0",
         "17463",
         "51.8625",
         "E46",
         "S",
         "1",
         "3",
         "54.0"
        ],
        [
         "7",
         "8",
         "0.0",
         "3",
         "Palsson, Master. Gosta Leonard",
         "0",
         "0.0",
         "3",
         "1",
         "349909",
         "21.075",
         null,
         "S",
         "3",
         "0",
         "2.0"
        ],
        [
         "8",
         "9",
         "1.0",
         "3",
         "Johnson, Mrs. Oscar W (Elisabeth Vilhelmina Berg)",
         "1",
         "2.0",
         "0",
         "2",
         "347742",
         "11.1333",
         null,
         "S",
         "5",
         "1",
         "27.0"
        ],
        [
         "9",
         "10",
         "1.0",
         "2",
         "Nasser, Mrs. Nicholas (Adele Achem)",
         "1",
         "1.0",
         "1",
         "0",
         "237736",
         "30.0708",
         null,
         "C",
         "5",
         "0",
         "14.0"
        ]
       ],
       "shape": {
        "columns": 15,
        "rows": 10
       }
      },
      "text/html": [
       "<div>\n",
       "<style scoped>\n",
       "    .dataframe tbody tr th:only-of-type {\n",
       "        vertical-align: middle;\n",
       "    }\n",
       "\n",
       "    .dataframe tbody tr th {\n",
       "        vertical-align: top;\n",
       "    }\n",
       "\n",
       "    .dataframe thead th {\n",
       "        text-align: right;\n",
       "    }\n",
       "</style>\n",
       "<table border=\"1\" class=\"dataframe\">\n",
       "  <thead>\n",
       "    <tr style=\"text-align: right;\">\n",
       "      <th></th>\n",
       "      <th>PassengerId</th>\n",
       "      <th>Survived</th>\n",
       "      <th>Pclass</th>\n",
       "      <th>Name</th>\n",
       "      <th>Sex</th>\n",
       "      <th>Age</th>\n",
       "      <th>SibSp</th>\n",
       "      <th>Parch</th>\n",
       "      <th>Ticket</th>\n",
       "      <th>Fare</th>\n",
       "      <th>Cabin</th>\n",
       "      <th>Embarked</th>\n",
       "      <th>Title</th>\n",
       "      <th>AgeBin_Code</th>\n",
       "      <th>Age_original</th>\n",
       "    </tr>\n",
       "  </thead>\n",
       "  <tbody>\n",
       "    <tr>\n",
       "      <th>0</th>\n",
       "      <td>1</td>\n",
       "      <td>0.0</td>\n",
       "      <td>3</td>\n",
       "      <td>Braund, Mr. Owen Harris</td>\n",
       "      <td>0</td>\n",
       "      <td>2.0</td>\n",
       "      <td>1</td>\n",
       "      <td>0</td>\n",
       "      <td>A/5 21171</td>\n",
       "      <td>7.2500</td>\n",
       "      <td>NaN</td>\n",
       "      <td>S</td>\n",
       "      <td>1</td>\n",
       "      <td>1</td>\n",
       "      <td>22.0</td>\n",
       "    </tr>\n",
       "    <tr>\n",
       "      <th>1</th>\n",
       "      <td>2</td>\n",
       "      <td>1.0</td>\n",
       "      <td>1</td>\n",
       "      <td>Cumings, Mrs. John Bradley (Florence Briggs Th...</td>\n",
       "      <td>1</td>\n",
       "      <td>3.0</td>\n",
       "      <td>1</td>\n",
       "      <td>0</td>\n",
       "      <td>PC 17599</td>\n",
       "      <td>71.2833</td>\n",
       "      <td>C85</td>\n",
       "      <td>C</td>\n",
       "      <td>5</td>\n",
       "      <td>3</td>\n",
       "      <td>38.0</td>\n",
       "    </tr>\n",
       "    <tr>\n",
       "      <th>2</th>\n",
       "      <td>3</td>\n",
       "      <td>1.0</td>\n",
       "      <td>3</td>\n",
       "      <td>Heikkinen, Miss. Laina</td>\n",
       "      <td>1</td>\n",
       "      <td>2.0</td>\n",
       "      <td>0</td>\n",
       "      <td>0</td>\n",
       "      <td>STON/O2. 3101282</td>\n",
       "      <td>7.9250</td>\n",
       "      <td>NaN</td>\n",
       "      <td>S</td>\n",
       "      <td>4</td>\n",
       "      <td>1</td>\n",
       "      <td>26.0</td>\n",
       "    </tr>\n",
       "    <tr>\n",
       "      <th>3</th>\n",
       "      <td>4</td>\n",
       "      <td>1.0</td>\n",
       "      <td>1</td>\n",
       "      <td>Futrelle, Mrs. Jacques Heath (Lily May Peel)</td>\n",
       "      <td>1</td>\n",
       "      <td>2.0</td>\n",
       "      <td>1</td>\n",
       "      <td>0</td>\n",
       "      <td>113803</td>\n",
       "      <td>53.1000</td>\n",
       "      <td>C123</td>\n",
       "      <td>S</td>\n",
       "      <td>5</td>\n",
       "      <td>2</td>\n",
       "      <td>35.0</td>\n",
       "    </tr>\n",
       "    <tr>\n",
       "      <th>4</th>\n",
       "      <td>5</td>\n",
       "      <td>0.0</td>\n",
       "      <td>3</td>\n",
       "      <td>Allen, Mr. William Henry</td>\n",
       "      <td>0</td>\n",
       "      <td>2.0</td>\n",
       "      <td>0</td>\n",
       "      <td>0</td>\n",
       "      <td>373450</td>\n",
       "      <td>8.0500</td>\n",
       "      <td>NaN</td>\n",
       "      <td>S</td>\n",
       "      <td>1</td>\n",
       "      <td>2</td>\n",
       "      <td>35.0</td>\n",
       "    </tr>\n",
       "    <tr>\n",
       "      <th>5</th>\n",
       "      <td>6</td>\n",
       "      <td>0.0</td>\n",
       "      <td>3</td>\n",
       "      <td>Moran, Mr. James</td>\n",
       "      <td>0</td>\n",
       "      <td>2.0</td>\n",
       "      <td>0</td>\n",
       "      <td>0</td>\n",
       "      <td>330877</td>\n",
       "      <td>8.4583</td>\n",
       "      <td>NaN</td>\n",
       "      <td>Q</td>\n",
       "      <td>1</td>\n",
       "      <td>1</td>\n",
       "      <td>29.0</td>\n",
       "    </tr>\n",
       "    <tr>\n",
       "      <th>6</th>\n",
       "      <td>7</td>\n",
       "      <td>0.0</td>\n",
       "      <td>1</td>\n",
       "      <td>McCarthy, Mr. Timothy J</td>\n",
       "      <td>0</td>\n",
       "      <td>3.0</td>\n",
       "      <td>0</td>\n",
       "      <td>0</td>\n",
       "      <td>17463</td>\n",
       "      <td>51.8625</td>\n",
       "      <td>E46</td>\n",
       "      <td>S</td>\n",
       "      <td>1</td>\n",
       "      <td>3</td>\n",
       "      <td>54.0</td>\n",
       "    </tr>\n",
       "    <tr>\n",
       "      <th>7</th>\n",
       "      <td>8</td>\n",
       "      <td>0.0</td>\n",
       "      <td>3</td>\n",
       "      <td>Palsson, Master. Gosta Leonard</td>\n",
       "      <td>0</td>\n",
       "      <td>0.0</td>\n",
       "      <td>3</td>\n",
       "      <td>1</td>\n",
       "      <td>349909</td>\n",
       "      <td>21.0750</td>\n",
       "      <td>NaN</td>\n",
       "      <td>S</td>\n",
       "      <td>3</td>\n",
       "      <td>0</td>\n",
       "      <td>2.0</td>\n",
       "    </tr>\n",
       "    <tr>\n",
       "      <th>8</th>\n",
       "      <td>9</td>\n",
       "      <td>1.0</td>\n",
       "      <td>3</td>\n",
       "      <td>Johnson, Mrs. Oscar W (Elisabeth Vilhelmina Berg)</td>\n",
       "      <td>1</td>\n",
       "      <td>2.0</td>\n",
       "      <td>0</td>\n",
       "      <td>2</td>\n",
       "      <td>347742</td>\n",
       "      <td>11.1333</td>\n",
       "      <td>NaN</td>\n",
       "      <td>S</td>\n",
       "      <td>5</td>\n",
       "      <td>1</td>\n",
       "      <td>27.0</td>\n",
       "    </tr>\n",
       "    <tr>\n",
       "      <th>9</th>\n",
       "      <td>10</td>\n",
       "      <td>1.0</td>\n",
       "      <td>2</td>\n",
       "      <td>Nasser, Mrs. Nicholas (Adele Achem)</td>\n",
       "      <td>1</td>\n",
       "      <td>1.0</td>\n",
       "      <td>1</td>\n",
       "      <td>0</td>\n",
       "      <td>237736</td>\n",
       "      <td>30.0708</td>\n",
       "      <td>NaN</td>\n",
       "      <td>C</td>\n",
       "      <td>5</td>\n",
       "      <td>0</td>\n",
       "      <td>14.0</td>\n",
       "    </tr>\n",
       "  </tbody>\n",
       "</table>\n",
       "</div>"
      ],
      "text/plain": [
       "   PassengerId  Survived  Pclass  \\\n",
       "0            1       0.0       3   \n",
       "1            2       1.0       1   \n",
       "2            3       1.0       3   \n",
       "3            4       1.0       1   \n",
       "4            5       0.0       3   \n",
       "5            6       0.0       3   \n",
       "6            7       0.0       1   \n",
       "7            8       0.0       3   \n",
       "8            9       1.0       3   \n",
       "9           10       1.0       2   \n",
       "\n",
       "                                                Name  Sex  Age  SibSp  Parch  \\\n",
       "0                            Braund, Mr. Owen Harris    0  2.0      1      0   \n",
       "1  Cumings, Mrs. John Bradley (Florence Briggs Th...    1  3.0      1      0   \n",
       "2                             Heikkinen, Miss. Laina    1  2.0      0      0   \n",
       "3       Futrelle, Mrs. Jacques Heath (Lily May Peel)    1  2.0      1      0   \n",
       "4                           Allen, Mr. William Henry    0  2.0      0      0   \n",
       "5                                   Moran, Mr. James    0  2.0      0      0   \n",
       "6                            McCarthy, Mr. Timothy J    0  3.0      0      0   \n",
       "7                     Palsson, Master. Gosta Leonard    0  0.0      3      1   \n",
       "8  Johnson, Mrs. Oscar W (Elisabeth Vilhelmina Berg)    1  2.0      0      2   \n",
       "9                Nasser, Mrs. Nicholas (Adele Achem)    1  1.0      1      0   \n",
       "\n",
       "             Ticket     Fare Cabin Embarked  Title  AgeBin_Code  Age_original  \n",
       "0         A/5 21171   7.2500   NaN        S      1            1          22.0  \n",
       "1          PC 17599  71.2833   C85        C      5            3          38.0  \n",
       "2  STON/O2. 3101282   7.9250   NaN        S      4            1          26.0  \n",
       "3            113803  53.1000  C123        S      5            2          35.0  \n",
       "4            373450   8.0500   NaN        S      1            2          35.0  \n",
       "5            330877   8.4583   NaN        Q      1            1          29.0  \n",
       "6             17463  51.8625   E46        S      1            3          54.0  \n",
       "7            349909  21.0750   NaN        S      3            0           2.0  \n",
       "8            347742  11.1333   NaN        S      5            1          27.0  \n",
       "9            237736  30.0708   NaN        C      5            0          14.0  "
      ]
     },
     "execution_count": 58,
     "metadata": {},
     "output_type": "execute_result"
    }
   ],
   "source": [
    "combined_df.loc[ combined_df['Age'] <= 4, 'Age'] = 0\n",
    "combined_df.loc[(combined_df['Age'] > 4) & (combined_df['Age'] <= 15), 'Age'] = 1\n",
    "combined_df.loc[(combined_df['Age'] > 15) & (combined_df['Age'] <= 35), 'Age'] = 2\n",
    "combined_df.loc[(combined_df['Age'] > 35) & (combined_df['Age'] <= 64), 'Age'] = 3\n",
    "combined_df.loc[(combined_df['Age'] > 64) & (combined_df['Age'] <= 75), 'Age'] = 4\n",
    "combined_df.loc[(combined_df['Age'] > 75), 'Age'] = 5\n",
    "\n",
    "train_df['Age'] = combined_df['Age'][:891]\n",
    "test_df['Age'] = combined_df['Age'][891:]\n",
    "train_df.head(10)"
   ]
  },
  {
   "cell_type": "code",
   "execution_count": 59,
   "metadata": {
    "scrolled": true
   },
   "outputs": [
    {
     "data": {
      "application/vnd.microsoft.datawrangler.viewer.v0+json": {
       "columns": [
        {
         "name": "index",
         "rawType": "int64",
         "type": "integer"
        },
        {
         "name": "Age",
         "rawType": "float64",
         "type": "float"
        },
        {
         "name": "Survived",
         "rawType": "float64",
         "type": "float"
        }
       ],
       "conversionMethod": "pd.DataFrame",
       "ref": "b4317520-a722-4719-a7b5-d6abfccac260",
       "rows": [
        [
         "0",
         "0.0",
         "0.6447368421052632"
        ],
        [
         "1",
         "1.0",
         "0.5116279069767442"
        ],
        [
         "2",
         "2.0",
         "0.3240223463687151"
        ],
        [
         "3",
         "3.0",
         "0.42857142857142855"
        ],
        [
         "4",
         "4.0",
         "0.0"
        ],
        [
         "5",
         "5.0",
         "1.0"
        ]
       ],
       "shape": {
        "columns": 2,
        "rows": 6
       }
      },
      "text/html": [
       "<div>\n",
       "<style scoped>\n",
       "    .dataframe tbody tr th:only-of-type {\n",
       "        vertical-align: middle;\n",
       "    }\n",
       "\n",
       "    .dataframe tbody tr th {\n",
       "        vertical-align: top;\n",
       "    }\n",
       "\n",
       "    .dataframe thead th {\n",
       "        text-align: right;\n",
       "    }\n",
       "</style>\n",
       "<table border=\"1\" class=\"dataframe\">\n",
       "  <thead>\n",
       "    <tr style=\"text-align: right;\">\n",
       "      <th></th>\n",
       "      <th>Age</th>\n",
       "      <th>Survived</th>\n",
       "    </tr>\n",
       "  </thead>\n",
       "  <tbody>\n",
       "    <tr>\n",
       "      <th>0</th>\n",
       "      <td>0.0</td>\n",
       "      <td>0.644737</td>\n",
       "    </tr>\n",
       "    <tr>\n",
       "      <th>1</th>\n",
       "      <td>1.0</td>\n",
       "      <td>0.511628</td>\n",
       "    </tr>\n",
       "    <tr>\n",
       "      <th>2</th>\n",
       "      <td>2.0</td>\n",
       "      <td>0.324022</td>\n",
       "    </tr>\n",
       "    <tr>\n",
       "      <th>3</th>\n",
       "      <td>3.0</td>\n",
       "      <td>0.428571</td>\n",
       "    </tr>\n",
       "    <tr>\n",
       "      <th>4</th>\n",
       "      <td>4.0</td>\n",
       "      <td>0.000000</td>\n",
       "    </tr>\n",
       "    <tr>\n",
       "      <th>5</th>\n",
       "      <td>5.0</td>\n",
       "      <td>1.000000</td>\n",
       "    </tr>\n",
       "  </tbody>\n",
       "</table>\n",
       "</div>"
      ],
      "text/plain": [
       "   Age  Survived\n",
       "0  0.0  0.644737\n",
       "1  1.0  0.511628\n",
       "2  2.0  0.324022\n",
       "3  3.0  0.428571\n",
       "4  4.0  0.000000\n",
       "5  5.0  1.000000"
      ]
     },
     "execution_count": 59,
     "metadata": {},
     "output_type": "execute_result"
    }
   ],
   "source": [
    "train_df[['Age', 'Survived']].groupby(['Age'], as_index=False).mean().sort_values(by='Age', ascending=True)"
   ]
  },
  {
   "cell_type": "markdown",
   "metadata": {},
   "source": [
    "### Create new feature combining existing features\n",
    "We can create a new feature for FamilySize which combines Parch and SibSp. This will enable us to drop Parch and SibSp from our datasets."
   ]
  },
  {
   "cell_type": "code",
   "execution_count": 60,
   "metadata": {
    "scrolled": true
   },
   "outputs": [
    {
     "data": {
      "application/vnd.microsoft.datawrangler.viewer.v0+json": {
       "columns": [
        {
         "name": "index",
         "rawType": "int64",
         "type": "integer"
        },
        {
         "name": "Family_Size",
         "rawType": "int64",
         "type": "integer"
        },
        {
         "name": "Survived",
         "rawType": "float64",
         "type": "float"
        }
       ],
       "conversionMethod": "pd.DataFrame",
       "ref": "e8ac6634-b004-4ab0-95b2-7cb6d47dea63",
       "rows": [
        [
         "3",
         "3",
         "0.7241379310344828"
        ],
        [
         "2",
         "2",
         "0.5784313725490197"
        ],
        [
         "1",
         "1",
         "0.5527950310559007"
        ],
        [
         "6",
         "6",
         "0.3333333333333333"
        ],
        [
         "0",
         "0",
         "0.30353817504655495"
        ],
        [
         "4",
         "4",
         "0.2"
        ],
        [
         "5",
         "5",
         "0.13636363636363635"
        ],
        [
         "7",
         "7",
         "0.0"
        ],
        [
         "8",
         "10",
         "0.0"
        ]
       ],
       "shape": {
        "columns": 2,
        "rows": 9
       }
      },
      "text/html": [
       "<div>\n",
       "<style scoped>\n",
       "    .dataframe tbody tr th:only-of-type {\n",
       "        vertical-align: middle;\n",
       "    }\n",
       "\n",
       "    .dataframe tbody tr th {\n",
       "        vertical-align: top;\n",
       "    }\n",
       "\n",
       "    .dataframe thead th {\n",
       "        text-align: right;\n",
       "    }\n",
       "</style>\n",
       "<table border=\"1\" class=\"dataframe\">\n",
       "  <thead>\n",
       "    <tr style=\"text-align: right;\">\n",
       "      <th></th>\n",
       "      <th>Family_Size</th>\n",
       "      <th>Survived</th>\n",
       "    </tr>\n",
       "  </thead>\n",
       "  <tbody>\n",
       "    <tr>\n",
       "      <th>3</th>\n",
       "      <td>3</td>\n",
       "      <td>0.724138</td>\n",
       "    </tr>\n",
       "    <tr>\n",
       "      <th>2</th>\n",
       "      <td>2</td>\n",
       "      <td>0.578431</td>\n",
       "    </tr>\n",
       "    <tr>\n",
       "      <th>1</th>\n",
       "      <td>1</td>\n",
       "      <td>0.552795</td>\n",
       "    </tr>\n",
       "    <tr>\n",
       "      <th>6</th>\n",
       "      <td>6</td>\n",
       "      <td>0.333333</td>\n",
       "    </tr>\n",
       "    <tr>\n",
       "      <th>0</th>\n",
       "      <td>0</td>\n",
       "      <td>0.303538</td>\n",
       "    </tr>\n",
       "    <tr>\n",
       "      <th>4</th>\n",
       "      <td>4</td>\n",
       "      <td>0.200000</td>\n",
       "    </tr>\n",
       "    <tr>\n",
       "      <th>5</th>\n",
       "      <td>5</td>\n",
       "      <td>0.136364</td>\n",
       "    </tr>\n",
       "    <tr>\n",
       "      <th>7</th>\n",
       "      <td>7</td>\n",
       "      <td>0.000000</td>\n",
       "    </tr>\n",
       "    <tr>\n",
       "      <th>8</th>\n",
       "      <td>10</td>\n",
       "      <td>0.000000</td>\n",
       "    </tr>\n",
       "  </tbody>\n",
       "</table>\n",
       "</div>"
      ],
      "text/plain": [
       "   Family_Size  Survived\n",
       "3            3  0.724138\n",
       "2            2  0.578431\n",
       "1            1  0.552795\n",
       "6            6  0.333333\n",
       "0            0  0.303538\n",
       "4            4  0.200000\n",
       "5            5  0.136364\n",
       "7            7  0.000000\n",
       "8           10  0.000000"
      ]
     },
     "execution_count": 60,
     "metadata": {},
     "output_type": "execute_result"
    }
   ],
   "source": [
    "combined_df['Family_Size'] = combined_df['Parch'] + combined_df['SibSp']\n",
    "\n",
    "# Substituting values in TRAIN_DF and TEST_DF:\n",
    "train_df['Family_Size'] = combined_df['Family_Size'][:891]\n",
    "test_df['Family_Size'] = combined_df['Family_Size'][891:]\n",
    "\n",
    "train_df[['Family_Size', 'Survived']].groupby(['Family_Size'], as_index=False).mean().sort_values(by='Survived', ascending=False)"
   ]
  },
  {
   "cell_type": "markdown",
   "metadata": {},
   "source": [
    "We can create another feature called IsAlone."
   ]
  },
  {
   "cell_type": "code",
   "execution_count": 61,
   "metadata": {
    "scrolled": false
   },
   "outputs": [
    {
     "data": {
      "application/vnd.microsoft.datawrangler.viewer.v0+json": {
       "columns": [
        {
         "name": "index",
         "rawType": "int64",
         "type": "integer"
        },
        {
         "name": "Is_Alone",
         "rawType": "int64",
         "type": "integer"
        },
        {
         "name": "Survived",
         "rawType": "float64",
         "type": "float"
        }
       ],
       "conversionMethod": "pd.DataFrame",
       "ref": "dfae580d-74a6-48fe-ac52-c59f63a0516f",
       "rows": [
        [
         "0",
         "0",
         "0.5056497175141242"
        ],
        [
         "1",
         "1",
         "0.30353817504655495"
        ]
       ],
       "shape": {
        "columns": 2,
        "rows": 2
       }
      },
      "text/html": [
       "<div>\n",
       "<style scoped>\n",
       "    .dataframe tbody tr th:only-of-type {\n",
       "        vertical-align: middle;\n",
       "    }\n",
       "\n",
       "    .dataframe tbody tr th {\n",
       "        vertical-align: top;\n",
       "    }\n",
       "\n",
       "    .dataframe thead th {\n",
       "        text-align: right;\n",
       "    }\n",
       "</style>\n",
       "<table border=\"1\" class=\"dataframe\">\n",
       "  <thead>\n",
       "    <tr style=\"text-align: right;\">\n",
       "      <th></th>\n",
       "      <th>Is_Alone</th>\n",
       "      <th>Survived</th>\n",
       "    </tr>\n",
       "  </thead>\n",
       "  <tbody>\n",
       "    <tr>\n",
       "      <th>0</th>\n",
       "      <td>0</td>\n",
       "      <td>0.505650</td>\n",
       "    </tr>\n",
       "    <tr>\n",
       "      <th>1</th>\n",
       "      <td>1</td>\n",
       "      <td>0.303538</td>\n",
       "    </tr>\n",
       "  </tbody>\n",
       "</table>\n",
       "</div>"
      ],
      "text/plain": [
       "   Is_Alone  Survived\n",
       "0         0  0.505650\n",
       "1         1  0.303538"
      ]
     },
     "execution_count": 61,
     "metadata": {},
     "output_type": "execute_result"
    }
   ],
   "source": [
    "combined_df['Is_Alone'] = 0\n",
    "combined_df.loc[combined_df['Family_Size'] == 0, 'Is_Alone'] = 1\n",
    "\n",
    "# Substituting values in TRAIN_DF and TEST_DF:\n",
    "train_df['Is_Alone'] = combined_df['Is_Alone'][:891]\n",
    "test_df['Is_Alone'] = combined_df['Is_Alone'][891:]\n",
    "\n",
    "train_df[['Is_Alone', 'Survived']].groupby(['Is_Alone'], as_index=False).mean().sort_values(by='Survived', ascending=False)"
   ]
  },
  {
   "cell_type": "markdown",
   "metadata": {},
   "source": [
    "We can also create a feature related to the survival of a family by creating family groups. As done by https://www.kaggle.com/shunjiangxu/blood-is-thicker-than-water-friendship-forever\n",
    "To show the difference between family survival and family group survival, take a look at the following code:"
   ]
  },
  {
   "cell_type": "code",
   "execution_count": 63,
   "metadata": {},
   "outputs": [
    {
     "name": "stdout",
     "output_type": "stream",
     "text": [
      "Number of passengers with family survival information: 420\n"
     ]
    }
   ],
   "source": [
    "combined_df['Last_Name'] = combined_df['Name'].apply(lambda x: str.split(x, \",\")[0])\n",
    "combined_df['Fare'].fillna(combined_df['Fare'].mean(), inplace=True)\n",
    "\n",
    "DEFAULT_SURVIVAL_VALUE = 0.5\n",
    "combined_df['Family_Survival'] = DEFAULT_SURVIVAL_VALUE\n",
    "\n",
    "for grp, grp_df in combined_df[['Survived','Name', 'Last_Name', 'Fare', 'Ticket', 'PassengerId',\n",
    "                           'SibSp', 'Parch', 'Age', 'Cabin']].groupby(['Last_Name', 'Fare']):\n",
    "    \n",
    "    if (len(grp_df) != 1):\n",
    "        # A Family group is found.\n",
    "        for ind, row in grp_df.iterrows():\n",
    "            smax = grp_df.drop(ind)['Survived'].max()\n",
    "            smin = grp_df.drop(ind)['Survived'].min()\n",
    "            passID = row['PassengerId']\n",
    "            if (smax == 1.0):\n",
    "                combined_df.loc[combined_df['PassengerId'] == passID, 'Family_Survival'] = 1\n",
    "            elif (smin==0.0):\n",
    "                combined_df.loc[combined_df['PassengerId'] == passID, 'Family_Survival'] = 0\n",
    "\n",
    "print(\"Number of passengers with family survival information:\", \n",
    "      combined_df.loc[combined_df['Family_Survival']!=0.5].shape[0])"
   ]
  },
  {
   "cell_type": "code",
   "execution_count": 64,
   "metadata": {},
   "outputs": [
    {
     "name": "stdout",
     "output_type": "stream",
     "text": [
      "Number of passenger with family/group survival information: 546\n"
     ]
    }
   ],
   "source": [
    "for _, grp_df in combined_df.groupby('Ticket'):\n",
    "    if (len(grp_df) != 1):\n",
    "        for ind, row in grp_df.iterrows():\n",
    "            if (row['Family_Survival'] == 0) | (row['Family_Survival']== 0.5):\n",
    "                smax = grp_df.drop(ind)['Survived'].max()\n",
    "                smin = grp_df.drop(ind)['Survived'].min()\n",
    "                passID = row['PassengerId']\n",
    "                if (smax == 1.0):\n",
    "                    combined_df.loc[combined_df['PassengerId'] == passID, 'Family_Survival'] = 1\n",
    "                elif (smin==0.0):\n",
    "                    combined_df.loc[combined_df['PassengerId'] == passID, 'Family_Survival'] = 0\n",
    "                        \n",
    "print(\"Number of passenger with family/group survival information: \" \n",
    "      +str(combined_df[combined_df['Family_Survival']!=0.5].shape[0]))\n",
    "\n",
    "# # Family_Survival in TRAIN_DF and TEST_DF:\n",
    "train_df['Family_Survival'] = combined_df['Family_Survival'][:891]\n",
    "test_df['Family_Survival'] = combined_df['Family_Survival'][891:]"
   ]
  },
  {
   "cell_type": "markdown",
   "metadata": {},
   "source": [
    "We can also create an artificial feature combining Pclass and Age."
   ]
  },
  {
   "cell_type": "code",
   "execution_count": 65,
   "metadata": {
    "scrolled": true
   },
   "outputs": [
    {
     "data": {
      "application/vnd.microsoft.datawrangler.viewer.v0+json": {
       "columns": [
        {
         "name": "index",
         "rawType": "int64",
         "type": "integer"
        },
        {
         "name": "AgeClass",
         "rawType": "float64",
         "type": "float"
        },
        {
         "name": "Age",
         "rawType": "float64",
         "type": "float"
        },
        {
         "name": "Pclass",
         "rawType": "int64",
         "type": "integer"
        }
       ],
       "conversionMethod": "pd.DataFrame",
       "ref": "b6bdfce5-ebba-43f8-b652-6fdbf4dd957c",
       "rows": [
        [
         "0",
         "6.0",
         "2.0",
         "3"
        ],
        [
         "1",
         "3.0",
         "3.0",
         "1"
        ],
        [
         "2",
         "6.0",
         "2.0",
         "3"
        ],
        [
         "3",
         "2.0",
         "2.0",
         "1"
        ],
        [
         "4",
         "6.0",
         "2.0",
         "3"
        ],
        [
         "5",
         "6.0",
         "2.0",
         "3"
        ],
        [
         "6",
         "3.0",
         "3.0",
         "1"
        ],
        [
         "7",
         "0.0",
         "0.0",
         "3"
        ],
        [
         "8",
         "6.0",
         "2.0",
         "3"
        ],
        [
         "9",
         "2.0",
         "1.0",
         "2"
        ]
       ],
       "shape": {
        "columns": 3,
        "rows": 10
       }
      },
      "text/html": [
       "<div>\n",
       "<style scoped>\n",
       "    .dataframe tbody tr th:only-of-type {\n",
       "        vertical-align: middle;\n",
       "    }\n",
       "\n",
       "    .dataframe tbody tr th {\n",
       "        vertical-align: top;\n",
       "    }\n",
       "\n",
       "    .dataframe thead th {\n",
       "        text-align: right;\n",
       "    }\n",
       "</style>\n",
       "<table border=\"1\" class=\"dataframe\">\n",
       "  <thead>\n",
       "    <tr style=\"text-align: right;\">\n",
       "      <th></th>\n",
       "      <th>AgeClass</th>\n",
       "      <th>Age</th>\n",
       "      <th>Pclass</th>\n",
       "    </tr>\n",
       "  </thead>\n",
       "  <tbody>\n",
       "    <tr>\n",
       "      <th>0</th>\n",
       "      <td>6.0</td>\n",
       "      <td>2.0</td>\n",
       "      <td>3</td>\n",
       "    </tr>\n",
       "    <tr>\n",
       "      <th>1</th>\n",
       "      <td>3.0</td>\n",
       "      <td>3.0</td>\n",
       "      <td>1</td>\n",
       "    </tr>\n",
       "    <tr>\n",
       "      <th>2</th>\n",
       "      <td>6.0</td>\n",
       "      <td>2.0</td>\n",
       "      <td>3</td>\n",
       "    </tr>\n",
       "    <tr>\n",
       "      <th>3</th>\n",
       "      <td>2.0</td>\n",
       "      <td>2.0</td>\n",
       "      <td>1</td>\n",
       "    </tr>\n",
       "    <tr>\n",
       "      <th>4</th>\n",
       "      <td>6.0</td>\n",
       "      <td>2.0</td>\n",
       "      <td>3</td>\n",
       "    </tr>\n",
       "    <tr>\n",
       "      <th>5</th>\n",
       "      <td>6.0</td>\n",
       "      <td>2.0</td>\n",
       "      <td>3</td>\n",
       "    </tr>\n",
       "    <tr>\n",
       "      <th>6</th>\n",
       "      <td>3.0</td>\n",
       "      <td>3.0</td>\n",
       "      <td>1</td>\n",
       "    </tr>\n",
       "    <tr>\n",
       "      <th>7</th>\n",
       "      <td>0.0</td>\n",
       "      <td>0.0</td>\n",
       "      <td>3</td>\n",
       "    </tr>\n",
       "    <tr>\n",
       "      <th>8</th>\n",
       "      <td>6.0</td>\n",
       "      <td>2.0</td>\n",
       "      <td>3</td>\n",
       "    </tr>\n",
       "    <tr>\n",
       "      <th>9</th>\n",
       "      <td>2.0</td>\n",
       "      <td>1.0</td>\n",
       "      <td>2</td>\n",
       "    </tr>\n",
       "  </tbody>\n",
       "</table>\n",
       "</div>"
      ],
      "text/plain": [
       "   AgeClass  Age  Pclass\n",
       "0       6.0  2.0       3\n",
       "1       3.0  3.0       1\n",
       "2       6.0  2.0       3\n",
       "3       2.0  2.0       1\n",
       "4       6.0  2.0       3\n",
       "5       6.0  2.0       3\n",
       "6       3.0  3.0       1\n",
       "7       0.0  0.0       3\n",
       "8       6.0  2.0       3\n",
       "9       2.0  1.0       2"
      ]
     },
     "execution_count": 65,
     "metadata": {},
     "output_type": "execute_result"
    }
   ],
   "source": [
    "combined_df['AgeClass'] = combined_df.Age * combined_df.Pclass\n",
    "\n",
    "# Substituting values in TRAIN_DF and TEST_DF:\n",
    "train_df['AgeClass'] = combined_df['AgeClass'][:891]\n",
    "test_df['AgeClass'] = combined_df['AgeClass'][891:]\n",
    "\n",
    "train_df.loc[:, ['AgeClass', 'Age', 'Pclass']].head(10)"
   ]
  },
  {
   "cell_type": "markdown",
   "metadata": {},
   "source": [
    "### Completing a categorical feature\n",
    "Embarked feature takes S, Q, C values based on port of embarkment. Our training dataset has two missing values. We simply fill these with the most common occurance."
   ]
  },
  {
   "cell_type": "code",
   "execution_count": 66,
   "metadata": {},
   "outputs": [
    {
     "data": {
      "application/vnd.microsoft.datawrangler.viewer.v0+json": {
       "columns": [
        {
         "name": "index",
         "rawType": "int64",
         "type": "integer"
        },
        {
         "name": "Embarked",
         "rawType": "object",
         "type": "string"
        },
        {
         "name": "Survived",
         "rawType": "float64",
         "type": "float"
        }
       ],
       "conversionMethod": "pd.DataFrame",
       "ref": "b68e4d50-d407-460f-8b45-9f342d8834f2",
       "rows": [
        [
         "0",
         "C",
         "0.5535714285714286"
        ],
        [
         "1",
         "Q",
         "0.38961038961038963"
        ],
        [
         "2",
         "S",
         "0.33900928792569657"
        ]
       ],
       "shape": {
        "columns": 2,
        "rows": 3
       }
      },
      "text/html": [
       "<div>\n",
       "<style scoped>\n",
       "    .dataframe tbody tr th:only-of-type {\n",
       "        vertical-align: middle;\n",
       "    }\n",
       "\n",
       "    .dataframe tbody tr th {\n",
       "        vertical-align: top;\n",
       "    }\n",
       "\n",
       "    .dataframe thead th {\n",
       "        text-align: right;\n",
       "    }\n",
       "</style>\n",
       "<table border=\"1\" class=\"dataframe\">\n",
       "  <thead>\n",
       "    <tr style=\"text-align: right;\">\n",
       "      <th></th>\n",
       "      <th>Embarked</th>\n",
       "      <th>Survived</th>\n",
       "    </tr>\n",
       "  </thead>\n",
       "  <tbody>\n",
       "    <tr>\n",
       "      <th>0</th>\n",
       "      <td>C</td>\n",
       "      <td>0.553571</td>\n",
       "    </tr>\n",
       "    <tr>\n",
       "      <th>1</th>\n",
       "      <td>Q</td>\n",
       "      <td>0.389610</td>\n",
       "    </tr>\n",
       "    <tr>\n",
       "      <th>2</th>\n",
       "      <td>S</td>\n",
       "      <td>0.339009</td>\n",
       "    </tr>\n",
       "  </tbody>\n",
       "</table>\n",
       "</div>"
      ],
      "text/plain": [
       "  Embarked  Survived\n",
       "0        C  0.553571\n",
       "1        Q  0.389610\n",
       "2        S  0.339009"
      ]
     },
     "execution_count": 66,
     "metadata": {},
     "output_type": "execute_result"
    }
   ],
   "source": [
    "freq_port = train_df.Embarked.dropna().mode()[0]\n",
    "\n",
    "combined_df['Embarked'] = combined_df['Embarked'].fillna(freq_port)\n",
    "\n",
    "# Substituting values in TRAIN_DF and TEST_DF:\n",
    "train_df['Embarked'] = combined_df['Embarked'][:891]\n",
    "test_df['Embarked'] = combined_df['Embarked'][891:]\n",
    "    \n",
    "train_df[['Embarked', 'Survived']].groupby(['Embarked'], as_index=False).mean().sort_values(by='Survived', ascending=False)"
   ]
  },
  {
   "cell_type": "markdown",
   "metadata": {},
   "source": [
    "### Converting categorical feature to numeric\n",
    "We can now convert the EmbarkedFill feature by creating a new numeric Port feature."
   ]
  },
  {
   "cell_type": "code",
   "execution_count": 67,
   "metadata": {},
   "outputs": [
    {
     "data": {
      "application/vnd.microsoft.datawrangler.viewer.v0+json": {
       "columns": [
        {
         "name": "index",
         "rawType": "int64",
         "type": "integer"
        },
        {
         "name": "PassengerId",
         "rawType": "int64",
         "type": "integer"
        },
        {
         "name": "Survived",
         "rawType": "float64",
         "type": "float"
        },
        {
         "name": "Pclass",
         "rawType": "int64",
         "type": "integer"
        },
        {
         "name": "Name",
         "rawType": "object",
         "type": "string"
        },
        {
         "name": "Sex",
         "rawType": "int64",
         "type": "integer"
        },
        {
         "name": "Age",
         "rawType": "float64",
         "type": "float"
        },
        {
         "name": "SibSp",
         "rawType": "int64",
         "type": "integer"
        },
        {
         "name": "Parch",
         "rawType": "int64",
         "type": "integer"
        },
        {
         "name": "Ticket",
         "rawType": "object",
         "type": "string"
        },
        {
         "name": "Fare",
         "rawType": "float64",
         "type": "float"
        },
        {
         "name": "Cabin",
         "rawType": "object",
         "type": "unknown"
        },
        {
         "name": "Embarked",
         "rawType": "int64",
         "type": "integer"
        },
        {
         "name": "Title",
         "rawType": "int64",
         "type": "integer"
        },
        {
         "name": "AgeBin_Code",
         "rawType": "int64",
         "type": "integer"
        },
        {
         "name": "Age_original",
         "rawType": "float64",
         "type": "float"
        },
        {
         "name": "Family_Size",
         "rawType": "int64",
         "type": "integer"
        },
        {
         "name": "Is_Alone",
         "rawType": "int64",
         "type": "integer"
        },
        {
         "name": "Family_Survival",
         "rawType": "float64",
         "type": "float"
        },
        {
         "name": "AgeClass",
         "rawType": "float64",
         "type": "float"
        }
       ],
       "conversionMethod": "pd.DataFrame",
       "ref": "36340b8f-cca9-42c5-9498-d32f99cd4d0a",
       "rows": [
        [
         "0",
         "1",
         "0.0",
         "3",
         "Braund, Mr. Owen Harris",
         "0",
         "2.0",
         "1",
         "0",
         "A/5 21171",
         "7.25",
         null,
         "1",
         "1",
         "1",
         "22.0",
         "1",
         "0",
         "0.5",
         "6.0"
        ],
        [
         "1",
         "2",
         "1.0",
         "1",
         "Cumings, Mrs. John Bradley (Florence Briggs Thayer)",
         "1",
         "3.0",
         "1",
         "0",
         "PC 17599",
         "71.2833",
         "C85",
         "3",
         "5",
         "3",
         "38.0",
         "1",
         "0",
         "0.5",
         "3.0"
        ],
        [
         "2",
         "3",
         "1.0",
         "3",
         "Heikkinen, Miss. Laina",
         "1",
         "2.0",
         "0",
         "0",
         "STON/O2. 3101282",
         "7.925",
         null,
         "1",
         "4",
         "1",
         "26.0",
         "0",
         "1",
         "0.5",
         "6.0"
        ],
        [
         "3",
         "4",
         "1.0",
         "1",
         "Futrelle, Mrs. Jacques Heath (Lily May Peel)",
         "1",
         "2.0",
         "1",
         "0",
         "113803",
         "53.1",
         "C123",
         "1",
         "5",
         "2",
         "35.0",
         "1",
         "0",
         "0.0",
         "2.0"
        ],
        [
         "4",
         "5",
         "0.0",
         "3",
         "Allen, Mr. William Henry",
         "0",
         "2.0",
         "0",
         "0",
         "373450",
         "8.05",
         null,
         "1",
         "1",
         "2",
         "35.0",
         "0",
         "1",
         "0.5",
         "6.0"
        ]
       ],
       "shape": {
        "columns": 19,
        "rows": 5
       }
      },
      "text/html": [
       "<div>\n",
       "<style scoped>\n",
       "    .dataframe tbody tr th:only-of-type {\n",
       "        vertical-align: middle;\n",
       "    }\n",
       "\n",
       "    .dataframe tbody tr th {\n",
       "        vertical-align: top;\n",
       "    }\n",
       "\n",
       "    .dataframe thead th {\n",
       "        text-align: right;\n",
       "    }\n",
       "</style>\n",
       "<table border=\"1\" class=\"dataframe\">\n",
       "  <thead>\n",
       "    <tr style=\"text-align: right;\">\n",
       "      <th></th>\n",
       "      <th>PassengerId</th>\n",
       "      <th>Survived</th>\n",
       "      <th>Pclass</th>\n",
       "      <th>Name</th>\n",
       "      <th>Sex</th>\n",
       "      <th>Age</th>\n",
       "      <th>SibSp</th>\n",
       "      <th>Parch</th>\n",
       "      <th>Ticket</th>\n",
       "      <th>Fare</th>\n",
       "      <th>Cabin</th>\n",
       "      <th>Embarked</th>\n",
       "      <th>Title</th>\n",
       "      <th>AgeBin_Code</th>\n",
       "      <th>Age_original</th>\n",
       "      <th>Family_Size</th>\n",
       "      <th>Is_Alone</th>\n",
       "      <th>Family_Survival</th>\n",
       "      <th>AgeClass</th>\n",
       "    </tr>\n",
       "  </thead>\n",
       "  <tbody>\n",
       "    <tr>\n",
       "      <th>0</th>\n",
       "      <td>1</td>\n",
       "      <td>0.0</td>\n",
       "      <td>3</td>\n",
       "      <td>Braund, Mr. Owen Harris</td>\n",
       "      <td>0</td>\n",
       "      <td>2.0</td>\n",
       "      <td>1</td>\n",
       "      <td>0</td>\n",
       "      <td>A/5 21171</td>\n",
       "      <td>7.2500</td>\n",
       "      <td>NaN</td>\n",
       "      <td>1</td>\n",
       "      <td>1</td>\n",
       "      <td>1</td>\n",
       "      <td>22.0</td>\n",
       "      <td>1</td>\n",
       "      <td>0</td>\n",
       "      <td>0.5</td>\n",
       "      <td>6.0</td>\n",
       "    </tr>\n",
       "    <tr>\n",
       "      <th>1</th>\n",
       "      <td>2</td>\n",
       "      <td>1.0</td>\n",
       "      <td>1</td>\n",
       "      <td>Cumings, Mrs. John Bradley (Florence Briggs Th...</td>\n",
       "      <td>1</td>\n",
       "      <td>3.0</td>\n",
       "      <td>1</td>\n",
       "      <td>0</td>\n",
       "      <td>PC 17599</td>\n",
       "      <td>71.2833</td>\n",
       "      <td>C85</td>\n",
       "      <td>3</td>\n",
       "      <td>5</td>\n",
       "      <td>3</td>\n",
       "      <td>38.0</td>\n",
       "      <td>1</td>\n",
       "      <td>0</td>\n",
       "      <td>0.5</td>\n",
       "      <td>3.0</td>\n",
       "    </tr>\n",
       "    <tr>\n",
       "      <th>2</th>\n",
       "      <td>3</td>\n",
       "      <td>1.0</td>\n",
       "      <td>3</td>\n",
       "      <td>Heikkinen, Miss. Laina</td>\n",
       "      <td>1</td>\n",
       "      <td>2.0</td>\n",
       "      <td>0</td>\n",
       "      <td>0</td>\n",
       "      <td>STON/O2. 3101282</td>\n",
       "      <td>7.9250</td>\n",
       "      <td>NaN</td>\n",
       "      <td>1</td>\n",
       "      <td>4</td>\n",
       "      <td>1</td>\n",
       "      <td>26.0</td>\n",
       "      <td>0</td>\n",
       "      <td>1</td>\n",
       "      <td>0.5</td>\n",
       "      <td>6.0</td>\n",
       "    </tr>\n",
       "    <tr>\n",
       "      <th>3</th>\n",
       "      <td>4</td>\n",
       "      <td>1.0</td>\n",
       "      <td>1</td>\n",
       "      <td>Futrelle, Mrs. Jacques Heath (Lily May Peel)</td>\n",
       "      <td>1</td>\n",
       "      <td>2.0</td>\n",
       "      <td>1</td>\n",
       "      <td>0</td>\n",
       "      <td>113803</td>\n",
       "      <td>53.1000</td>\n",
       "      <td>C123</td>\n",
       "      <td>1</td>\n",
       "      <td>5</td>\n",
       "      <td>2</td>\n",
       "      <td>35.0</td>\n",
       "      <td>1</td>\n",
       "      <td>0</td>\n",
       "      <td>0.0</td>\n",
       "      <td>2.0</td>\n",
       "    </tr>\n",
       "    <tr>\n",
       "      <th>4</th>\n",
       "      <td>5</td>\n",
       "      <td>0.0</td>\n",
       "      <td>3</td>\n",
       "      <td>Allen, Mr. William Henry</td>\n",
       "      <td>0</td>\n",
       "      <td>2.0</td>\n",
       "      <td>0</td>\n",
       "      <td>0</td>\n",
       "      <td>373450</td>\n",
       "      <td>8.0500</td>\n",
       "      <td>NaN</td>\n",
       "      <td>1</td>\n",
       "      <td>1</td>\n",
       "      <td>2</td>\n",
       "      <td>35.0</td>\n",
       "      <td>0</td>\n",
       "      <td>1</td>\n",
       "      <td>0.5</td>\n",
       "      <td>6.0</td>\n",
       "    </tr>\n",
       "  </tbody>\n",
       "</table>\n",
       "</div>"
      ],
      "text/plain": [
       "   PassengerId  Survived  Pclass  \\\n",
       "0            1       0.0       3   \n",
       "1            2       1.0       1   \n",
       "2            3       1.0       3   \n",
       "3            4       1.0       1   \n",
       "4            5       0.0       3   \n",
       "\n",
       "                                                Name  Sex  Age  SibSp  Parch  \\\n",
       "0                            Braund, Mr. Owen Harris    0  2.0      1      0   \n",
       "1  Cumings, Mrs. John Bradley (Florence Briggs Th...    1  3.0      1      0   \n",
       "2                             Heikkinen, Miss. Laina    1  2.0      0      0   \n",
       "3       Futrelle, Mrs. Jacques Heath (Lily May Peel)    1  2.0      1      0   \n",
       "4                           Allen, Mr. William Henry    0  2.0      0      0   \n",
       "\n",
       "             Ticket     Fare Cabin  Embarked  Title  AgeBin_Code  \\\n",
       "0         A/5 21171   7.2500   NaN         1      1            1   \n",
       "1          PC 17599  71.2833   C85         3      5            3   \n",
       "2  STON/O2. 3101282   7.9250   NaN         1      4            1   \n",
       "3            113803  53.1000  C123         1      5            2   \n",
       "4            373450   8.0500   NaN         1      1            2   \n",
       "\n",
       "   Age_original  Family_Size  Is_Alone  Family_Survival  AgeClass  \n",
       "0          22.0            1         0              0.5       6.0  \n",
       "1          38.0            1         0              0.5       3.0  \n",
       "2          26.0            0         1              0.5       6.0  \n",
       "3          35.0            1         0              0.0       2.0  \n",
       "4          35.0            0         1              0.5       6.0  "
      ]
     },
     "execution_count": 67,
     "metadata": {},
     "output_type": "execute_result"
    }
   ],
   "source": [
    "combined_df['Embarked'] = combined_df['Embarked'].map( {'S': 1, 'Q': 2, 'C': 3} ).astype(int)\n",
    "# Substituting values in TRAIN_DF and TEST_DF:\n",
    "train_df['Embarked'] = combined_df['Embarked'][:891]\n",
    "test_df['Embarked'] = combined_df['Embarked'][891:]\n",
    "\n",
    "train_df.head()"
   ]
  },
  {
   "cell_type": "markdown",
   "metadata": {},
   "source": [
    "### Quick completing and converting a numeric feature\n",
    "We can now complete the Fare feature for single missing value in test dataset using mode to get the value that occurs most frequently for this feature. We do this in a single line of code.\n",
    "\n",
    "Note that we are not creating an intermediate new feature or doing any further analysis for correlation to guess missing feature as we are replacing only a single value. The completion goal achieves desired requirement for model algorithm to operate on non-null values.\n",
    "\n",
    "We may also want round off the fare to two decimals as it represents currency."
   ]
  },
  {
   "cell_type": "markdown",
   "metadata": {},
   "source": [
    "We save the original Fare in another column, just for the sake of testing whether the original fare values have good predictive power."
   ]
  },
  {
   "cell_type": "markdown",
   "metadata": {},
   "source": [
    "We first impute the missing Fare values.\n",
    "We can now create FareBand. We make 5 bins of fare. "
   ]
  },
  {
   "cell_type": "code",
   "execution_count": 68,
   "metadata": {
    "scrolled": true
   },
   "outputs": [
    {
     "data": {
      "application/vnd.microsoft.datawrangler.viewer.v0+json": {
       "columns": [
        {
         "name": "index",
         "rawType": "int64",
         "type": "integer"
        },
        {
         "name": "PassengerId",
         "rawType": "int64",
         "type": "integer"
        },
        {
         "name": "Survived",
         "rawType": "float64",
         "type": "float"
        },
        {
         "name": "Pclass",
         "rawType": "int64",
         "type": "integer"
        },
        {
         "name": "Name",
         "rawType": "object",
         "type": "string"
        },
        {
         "name": "Sex",
         "rawType": "int64",
         "type": "integer"
        },
        {
         "name": "Age",
         "rawType": "float64",
         "type": "float"
        },
        {
         "name": "SibSp",
         "rawType": "int64",
         "type": "integer"
        },
        {
         "name": "Parch",
         "rawType": "int64",
         "type": "integer"
        },
        {
         "name": "Ticket",
         "rawType": "object",
         "type": "string"
        },
        {
         "name": "Fare",
         "rawType": "float64",
         "type": "float"
        },
        {
         "name": "Cabin",
         "rawType": "object",
         "type": "unknown"
        },
        {
         "name": "Embarked",
         "rawType": "int64",
         "type": "integer"
        },
        {
         "name": "Title",
         "rawType": "int64",
         "type": "integer"
        },
        {
         "name": "AgeBin_Code",
         "rawType": "int64",
         "type": "integer"
        },
        {
         "name": "Age_original",
         "rawType": "float64",
         "type": "float"
        },
        {
         "name": "Family_Size",
         "rawType": "int64",
         "type": "integer"
        },
        {
         "name": "Is_Alone",
         "rawType": "int64",
         "type": "integer"
        },
        {
         "name": "Family_Survival",
         "rawType": "float64",
         "type": "float"
        },
        {
         "name": "AgeClass",
         "rawType": "float64",
         "type": "float"
        },
        {
         "name": "FareBin_Code",
         "rawType": "int64",
         "type": "integer"
        }
       ],
       "conversionMethod": "pd.DataFrame",
       "ref": "c96f7226-2727-4529-9315-1ad42d0ccd57",
       "rows": [
        [
         "0",
         "1",
         "0.0",
         "3",
         "Braund, Mr. Owen Harris",
         "0",
         "2.0",
         "1",
         "0",
         "A/5 21171",
         "7.25",
         null,
         "1",
         "1",
         "1",
         "22.0",
         "1",
         "0",
         "0.5",
         "6.0",
         "0"
        ],
        [
         "1",
         "2",
         "1.0",
         "1",
         "Cumings, Mrs. John Bradley (Florence Briggs Thayer)",
         "1",
         "3.0",
         "1",
         "0",
         "PC 17599",
         "71.2833",
         "C85",
         "3",
         "5",
         "3",
         "38.0",
         "1",
         "0",
         "0.5",
         "3.0",
         "4"
        ],
        [
         "2",
         "3",
         "1.0",
         "3",
         "Heikkinen, Miss. Laina",
         "1",
         "2.0",
         "0",
         "0",
         "STON/O2. 3101282",
         "7.925",
         null,
         "1",
         "4",
         "1",
         "26.0",
         "0",
         "1",
         "0.5",
         "6.0",
         "1"
        ],
        [
         "3",
         "4",
         "1.0",
         "1",
         "Futrelle, Mrs. Jacques Heath (Lily May Peel)",
         "1",
         "2.0",
         "1",
         "0",
         "113803",
         "53.1",
         "C123",
         "1",
         "5",
         "2",
         "35.0",
         "1",
         "0",
         "0.0",
         "2.0",
         "4"
        ],
        [
         "4",
         "5",
         "0.0",
         "3",
         "Allen, Mr. William Henry",
         "0",
         "2.0",
         "0",
         "0",
         "373450",
         "8.05",
         null,
         "1",
         "1",
         "2",
         "35.0",
         "0",
         "1",
         "0.5",
         "6.0",
         "1"
        ],
        [
         "5",
         "6",
         "0.0",
         "3",
         "Moran, Mr. James",
         "0",
         "2.0",
         "0",
         "0",
         "330877",
         "8.4583",
         null,
         "2",
         "1",
         "1",
         "29.0",
         "0",
         "1",
         "0.5",
         "6.0",
         "1"
        ],
        [
         "6",
         "7",
         "0.0",
         "1",
         "McCarthy, Mr. Timothy J",
         "0",
         "3.0",
         "0",
         "0",
         "17463",
         "51.8625",
         "E46",
         "1",
         "1",
         "3",
         "54.0",
         "0",
         "1",
         "0.5",
         "3.0",
         "4"
        ],
        [
         "7",
         "8",
         "0.0",
         "3",
         "Palsson, Master. Gosta Leonard",
         "0",
         "0.0",
         "3",
         "1",
         "349909",
         "21.075",
         null,
         "1",
         "3",
         "0",
         "2.0",
         "4",
         "0",
         "0.0",
         "0.0",
         "2"
        ],
        [
         "8",
         "9",
         "1.0",
         "3",
         "Johnson, Mrs. Oscar W (Elisabeth Vilhelmina Berg)",
         "1",
         "2.0",
         "0",
         "2",
         "347742",
         "11.1333",
         null,
         "1",
         "5",
         "1",
         "27.0",
         "2",
         "0",
         "1.0",
         "6.0",
         "2"
        ],
        [
         "9",
         "10",
         "1.0",
         "2",
         "Nasser, Mrs. Nicholas (Adele Achem)",
         "1",
         "1.0",
         "1",
         "0",
         "237736",
         "30.0708",
         null,
         "3",
         "5",
         "0",
         "14.0",
         "1",
         "0",
         "0.0",
         "2.0",
         "3"
        ]
       ],
       "shape": {
        "columns": 20,
        "rows": 10
       }
      },
      "text/html": [
       "<div>\n",
       "<style scoped>\n",
       "    .dataframe tbody tr th:only-of-type {\n",
       "        vertical-align: middle;\n",
       "    }\n",
       "\n",
       "    .dataframe tbody tr th {\n",
       "        vertical-align: top;\n",
       "    }\n",
       "\n",
       "    .dataframe thead th {\n",
       "        text-align: right;\n",
       "    }\n",
       "</style>\n",
       "<table border=\"1\" class=\"dataframe\">\n",
       "  <thead>\n",
       "    <tr style=\"text-align: right;\">\n",
       "      <th></th>\n",
       "      <th>PassengerId</th>\n",
       "      <th>Survived</th>\n",
       "      <th>Pclass</th>\n",
       "      <th>Name</th>\n",
       "      <th>Sex</th>\n",
       "      <th>Age</th>\n",
       "      <th>SibSp</th>\n",
       "      <th>Parch</th>\n",
       "      <th>Ticket</th>\n",
       "      <th>Fare</th>\n",
       "      <th>Cabin</th>\n",
       "      <th>Embarked</th>\n",
       "      <th>Title</th>\n",
       "      <th>AgeBin_Code</th>\n",
       "      <th>Age_original</th>\n",
       "      <th>Family_Size</th>\n",
       "      <th>Is_Alone</th>\n",
       "      <th>Family_Survival</th>\n",
       "      <th>AgeClass</th>\n",
       "      <th>FareBin_Code</th>\n",
       "    </tr>\n",
       "  </thead>\n",
       "  <tbody>\n",
       "    <tr>\n",
       "      <th>0</th>\n",
       "      <td>1</td>\n",
       "      <td>0.0</td>\n",
       "      <td>3</td>\n",
       "      <td>Braund, Mr. Owen Harris</td>\n",
       "      <td>0</td>\n",
       "      <td>2.0</td>\n",
       "      <td>1</td>\n",
       "      <td>0</td>\n",
       "      <td>A/5 21171</td>\n",
       "      <td>7.2500</td>\n",
       "      <td>NaN</td>\n",
       "      <td>1</td>\n",
       "      <td>1</td>\n",
       "      <td>1</td>\n",
       "      <td>22.0</td>\n",
       "      <td>1</td>\n",
       "      <td>0</td>\n",
       "      <td>0.5</td>\n",
       "      <td>6.0</td>\n",
       "      <td>0</td>\n",
       "    </tr>\n",
       "    <tr>\n",
       "      <th>1</th>\n",
       "      <td>2</td>\n",
       "      <td>1.0</td>\n",
       "      <td>1</td>\n",
       "      <td>Cumings, Mrs. John Bradley (Florence Briggs Th...</td>\n",
       "      <td>1</td>\n",
       "      <td>3.0</td>\n",
       "      <td>1</td>\n",
       "      <td>0</td>\n",
       "      <td>PC 17599</td>\n",
       "      <td>71.2833</td>\n",
       "      <td>C85</td>\n",
       "      <td>3</td>\n",
       "      <td>5</td>\n",
       "      <td>3</td>\n",
       "      <td>38.0</td>\n",
       "      <td>1</td>\n",
       "      <td>0</td>\n",
       "      <td>0.5</td>\n",
       "      <td>3.0</td>\n",
       "      <td>4</td>\n",
       "    </tr>\n",
       "    <tr>\n",
       "      <th>2</th>\n",
       "      <td>3</td>\n",
       "      <td>1.0</td>\n",
       "      <td>3</td>\n",
       "      <td>Heikkinen, Miss. Laina</td>\n",
       "      <td>1</td>\n",
       "      <td>2.0</td>\n",
       "      <td>0</td>\n",
       "      <td>0</td>\n",
       "      <td>STON/O2. 3101282</td>\n",
       "      <td>7.9250</td>\n",
       "      <td>NaN</td>\n",
       "      <td>1</td>\n",
       "      <td>4</td>\n",
       "      <td>1</td>\n",
       "      <td>26.0</td>\n",
       "      <td>0</td>\n",
       "      <td>1</td>\n",
       "      <td>0.5</td>\n",
       "      <td>6.0</td>\n",
       "      <td>1</td>\n",
       "    </tr>\n",
       "    <tr>\n",
       "      <th>3</th>\n",
       "      <td>4</td>\n",
       "      <td>1.0</td>\n",
       "      <td>1</td>\n",
       "      <td>Futrelle, Mrs. Jacques Heath (Lily May Peel)</td>\n",
       "      <td>1</td>\n",
       "      <td>2.0</td>\n",
       "      <td>1</td>\n",
       "      <td>0</td>\n",
       "      <td>113803</td>\n",
       "      <td>53.1000</td>\n",
       "      <td>C123</td>\n",
       "      <td>1</td>\n",
       "      <td>5</td>\n",
       "      <td>2</td>\n",
       "      <td>35.0</td>\n",
       "      <td>1</td>\n",
       "      <td>0</td>\n",
       "      <td>0.0</td>\n",
       "      <td>2.0</td>\n",
       "      <td>4</td>\n",
       "    </tr>\n",
       "    <tr>\n",
       "      <th>4</th>\n",
       "      <td>5</td>\n",
       "      <td>0.0</td>\n",
       "      <td>3</td>\n",
       "      <td>Allen, Mr. William Henry</td>\n",
       "      <td>0</td>\n",
       "      <td>2.0</td>\n",
       "      <td>0</td>\n",
       "      <td>0</td>\n",
       "      <td>373450</td>\n",
       "      <td>8.0500</td>\n",
       "      <td>NaN</td>\n",
       "      <td>1</td>\n",
       "      <td>1</td>\n",
       "      <td>2</td>\n",
       "      <td>35.0</td>\n",
       "      <td>0</td>\n",
       "      <td>1</td>\n",
       "      <td>0.5</td>\n",
       "      <td>6.0</td>\n",
       "      <td>1</td>\n",
       "    </tr>\n",
       "    <tr>\n",
       "      <th>5</th>\n",
       "      <td>6</td>\n",
       "      <td>0.0</td>\n",
       "      <td>3</td>\n",
       "      <td>Moran, Mr. James</td>\n",
       "      <td>0</td>\n",
       "      <td>2.0</td>\n",
       "      <td>0</td>\n",
       "      <td>0</td>\n",
       "      <td>330877</td>\n",
       "      <td>8.4583</td>\n",
       "      <td>NaN</td>\n",
       "      <td>2</td>\n",
       "      <td>1</td>\n",
       "      <td>1</td>\n",
       "      <td>29.0</td>\n",
       "      <td>0</td>\n",
       "      <td>1</td>\n",
       "      <td>0.5</td>\n",
       "      <td>6.0</td>\n",
       "      <td>1</td>\n",
       "    </tr>\n",
       "    <tr>\n",
       "      <th>6</th>\n",
       "      <td>7</td>\n",
       "      <td>0.0</td>\n",
       "      <td>1</td>\n",
       "      <td>McCarthy, Mr. Timothy J</td>\n",
       "      <td>0</td>\n",
       "      <td>3.0</td>\n",
       "      <td>0</td>\n",
       "      <td>0</td>\n",
       "      <td>17463</td>\n",
       "      <td>51.8625</td>\n",
       "      <td>E46</td>\n",
       "      <td>1</td>\n",
       "      <td>1</td>\n",
       "      <td>3</td>\n",
       "      <td>54.0</td>\n",
       "      <td>0</td>\n",
       "      <td>1</td>\n",
       "      <td>0.5</td>\n",
       "      <td>3.0</td>\n",
       "      <td>4</td>\n",
       "    </tr>\n",
       "    <tr>\n",
       "      <th>7</th>\n",
       "      <td>8</td>\n",
       "      <td>0.0</td>\n",
       "      <td>3</td>\n",
       "      <td>Palsson, Master. Gosta Leonard</td>\n",
       "      <td>0</td>\n",
       "      <td>0.0</td>\n",
       "      <td>3</td>\n",
       "      <td>1</td>\n",
       "      <td>349909</td>\n",
       "      <td>21.0750</td>\n",
       "      <td>NaN</td>\n",
       "      <td>1</td>\n",
       "      <td>3</td>\n",
       "      <td>0</td>\n",
       "      <td>2.0</td>\n",
       "      <td>4</td>\n",
       "      <td>0</td>\n",
       "      <td>0.0</td>\n",
       "      <td>0.0</td>\n",
       "      <td>2</td>\n",
       "    </tr>\n",
       "    <tr>\n",
       "      <th>8</th>\n",
       "      <td>9</td>\n",
       "      <td>1.0</td>\n",
       "      <td>3</td>\n",
       "      <td>Johnson, Mrs. Oscar W (Elisabeth Vilhelmina Berg)</td>\n",
       "      <td>1</td>\n",
       "      <td>2.0</td>\n",
       "      <td>0</td>\n",
       "      <td>2</td>\n",
       "      <td>347742</td>\n",
       "      <td>11.1333</td>\n",
       "      <td>NaN</td>\n",
       "      <td>1</td>\n",
       "      <td>5</td>\n",
       "      <td>1</td>\n",
       "      <td>27.0</td>\n",
       "      <td>2</td>\n",
       "      <td>0</td>\n",
       "      <td>1.0</td>\n",
       "      <td>6.0</td>\n",
       "      <td>2</td>\n",
       "    </tr>\n",
       "    <tr>\n",
       "      <th>9</th>\n",
       "      <td>10</td>\n",
       "      <td>1.0</td>\n",
       "      <td>2</td>\n",
       "      <td>Nasser, Mrs. Nicholas (Adele Achem)</td>\n",
       "      <td>1</td>\n",
       "      <td>1.0</td>\n",
       "      <td>1</td>\n",
       "      <td>0</td>\n",
       "      <td>237736</td>\n",
       "      <td>30.0708</td>\n",
       "      <td>NaN</td>\n",
       "      <td>3</td>\n",
       "      <td>5</td>\n",
       "      <td>0</td>\n",
       "      <td>14.0</td>\n",
       "      <td>1</td>\n",
       "      <td>0</td>\n",
       "      <td>0.0</td>\n",
       "      <td>2.0</td>\n",
       "      <td>3</td>\n",
       "    </tr>\n",
       "  </tbody>\n",
       "</table>\n",
       "</div>"
      ],
      "text/plain": [
       "   PassengerId  Survived  Pclass  \\\n",
       "0            1       0.0       3   \n",
       "1            2       1.0       1   \n",
       "2            3       1.0       3   \n",
       "3            4       1.0       1   \n",
       "4            5       0.0       3   \n",
       "5            6       0.0       3   \n",
       "6            7       0.0       1   \n",
       "7            8       0.0       3   \n",
       "8            9       1.0       3   \n",
       "9           10       1.0       2   \n",
       "\n",
       "                                                Name  Sex  Age  SibSp  Parch  \\\n",
       "0                            Braund, Mr. Owen Harris    0  2.0      1      0   \n",
       "1  Cumings, Mrs. John Bradley (Florence Briggs Th...    1  3.0      1      0   \n",
       "2                             Heikkinen, Miss. Laina    1  2.0      0      0   \n",
       "3       Futrelle, Mrs. Jacques Heath (Lily May Peel)    1  2.0      1      0   \n",
       "4                           Allen, Mr. William Henry    0  2.0      0      0   \n",
       "5                                   Moran, Mr. James    0  2.0      0      0   \n",
       "6                            McCarthy, Mr. Timothy J    0  3.0      0      0   \n",
       "7                     Palsson, Master. Gosta Leonard    0  0.0      3      1   \n",
       "8  Johnson, Mrs. Oscar W (Elisabeth Vilhelmina Berg)    1  2.0      0      2   \n",
       "9                Nasser, Mrs. Nicholas (Adele Achem)    1  1.0      1      0   \n",
       "\n",
       "             Ticket     Fare Cabin  Embarked  Title  AgeBin_Code  \\\n",
       "0         A/5 21171   7.2500   NaN         1      1            1   \n",
       "1          PC 17599  71.2833   C85         3      5            3   \n",
       "2  STON/O2. 3101282   7.9250   NaN         1      4            1   \n",
       "3            113803  53.1000  C123         1      5            2   \n",
       "4            373450   8.0500   NaN         1      1            2   \n",
       "5            330877   8.4583   NaN         2      1            1   \n",
       "6             17463  51.8625   E46         1      1            3   \n",
       "7            349909  21.0750   NaN         1      3            0   \n",
       "8            347742  11.1333   NaN         1      5            1   \n",
       "9            237736  30.0708   NaN         3      5            0   \n",
       "\n",
       "   Age_original  Family_Size  Is_Alone  Family_Survival  AgeClass  \\\n",
       "0          22.0            1         0              0.5       6.0   \n",
       "1          38.0            1         0              0.5       3.0   \n",
       "2          26.0            0         1              0.5       6.0   \n",
       "3          35.0            1         0              0.0       2.0   \n",
       "4          35.0            0         1              0.5       6.0   \n",
       "5          29.0            0         1              0.5       6.0   \n",
       "6          54.0            0         1              0.5       3.0   \n",
       "7           2.0            4         0              0.0       0.0   \n",
       "8          27.0            2         0              1.0       6.0   \n",
       "9          14.0            1         0              0.0       2.0   \n",
       "\n",
       "   FareBin_Code  \n",
       "0             0  \n",
       "1             4  \n",
       "2             1  \n",
       "3             4  \n",
       "4             1  \n",
       "5             1  \n",
       "6             4  \n",
       "7             2  \n",
       "8             2  \n",
       "9             3  "
      ]
     },
     "execution_count": 68,
     "metadata": {},
     "output_type": "execute_result"
    }
   ],
   "source": [
    "combined_df['Fare'].fillna(combined_df['Fare'].median(), inplace = True)\n",
    "\n",
    "# Making Bins\n",
    "combined_df['FareBin'] = pd.qcut(combined_df['Fare'], 5)\n",
    "\n",
    "label = LabelEncoder()\n",
    "combined_df['FareBin_Code'] = label.fit_transform(combined_df['FareBin'])\n",
    "\n",
    "train_df['FareBin_Code'] = combined_df['FareBin_Code'][:891]\n",
    "test_df['FareBin_Code'] = combined_df['FareBin_Code'][891:]\n",
    "\n",
    "\n",
    "train_df.head(10)"
   ]
  },
  {
   "cell_type": "markdown",
   "metadata": {},
   "source": [
    "### Data Cleaning\n",
    "We remove some features and normalize the remaining features and create training and test sets.\n"
   ]
  },
  {
   "cell_type": "code",
   "execution_count": 69,
   "metadata": {},
   "outputs": [],
   "source": [
    "combined_df.drop(['Name', 'PassengerId', 'Ticket', 'Cabin','AgeBin', 'FareBin','Last_Name'], axis = 1, inplace = True)\n",
    "train_df = combined_df[:891]\n",
    "test_df = combined_df[891:]"
   ]
  },
  {
   "cell_type": "code",
   "execution_count": null,
   "metadata": {},
   "outputs": [
    {
     "data": {
      "text/html": [
       "<div>\n",
       "<style scoped>\n",
       "    .dataframe tbody tr th:only-of-type {\n",
       "        vertical-align: middle;\n",
       "    }\n",
       "\n",
       "    .dataframe tbody tr th {\n",
       "        vertical-align: top;\n",
       "    }\n",
       "\n",
       "    .dataframe thead th {\n",
       "        text-align: right;\n",
       "    }\n",
       "</style>\n",
       "<table border=\"1\" class=\"dataframe\">\n",
       "  <thead>\n",
       "    <tr style=\"text-align: right;\">\n",
       "      <th></th>\n",
       "      <th>Survived</th>\n",
       "      <th>Pclass</th>\n",
       "      <th>Sex</th>\n",
       "      <th>Age</th>\n",
       "      <th>SibSp</th>\n",
       "      <th>Parch</th>\n",
       "      <th>Fare</th>\n",
       "      <th>Embarked</th>\n",
       "      <th>Title</th>\n",
       "      <th>AgeBin_Code</th>\n",
       "      <th>Age_original</th>\n",
       "      <th>Family_Size</th>\n",
       "      <th>Is_Alone</th>\n",
       "      <th>Family_Survival</th>\n",
       "      <th>AgeClass</th>\n",
       "      <th>FareBin_Code</th>\n",
       "    </tr>\n",
       "  </thead>\n",
       "  <tbody>\n",
       "    <tr>\n",
       "      <th>0</th>\n",
       "      <td>0.0</td>\n",
       "      <td>3</td>\n",
       "      <td>0</td>\n",
       "      <td>2.0</td>\n",
       "      <td>1</td>\n",
       "      <td>0</td>\n",
       "      <td>7.2500</td>\n",
       "      <td>1</td>\n",
       "      <td>1</td>\n",
       "      <td>1</td>\n",
       "      <td>22.0</td>\n",
       "      <td>1</td>\n",
       "      <td>0</td>\n",
       "      <td>0.5</td>\n",
       "      <td>6.0</td>\n",
       "      <td>0</td>\n",
       "    </tr>\n",
       "    <tr>\n",
       "      <th>1</th>\n",
       "      <td>1.0</td>\n",
       "      <td>1</td>\n",
       "      <td>1</td>\n",
       "      <td>3.0</td>\n",
       "      <td>1</td>\n",
       "      <td>0</td>\n",
       "      <td>71.2833</td>\n",
       "      <td>3</td>\n",
       "      <td>5</td>\n",
       "      <td>3</td>\n",
       "      <td>38.0</td>\n",
       "      <td>1</td>\n",
       "      <td>0</td>\n",
       "      <td>0.5</td>\n",
       "      <td>3.0</td>\n",
       "      <td>4</td>\n",
       "    </tr>\n",
       "    <tr>\n",
       "      <th>2</th>\n",
       "      <td>1.0</td>\n",
       "      <td>3</td>\n",
       "      <td>1</td>\n",
       "      <td>2.0</td>\n",
       "      <td>0</td>\n",
       "      <td>0</td>\n",
       "      <td>7.9250</td>\n",
       "      <td>1</td>\n",
       "      <td>4</td>\n",
       "      <td>1</td>\n",
       "      <td>26.0</td>\n",
       "      <td>0</td>\n",
       "      <td>1</td>\n",
       "      <td>0.5</td>\n",
       "      <td>6.0</td>\n",
       "      <td>1</td>\n",
       "    </tr>\n",
       "    <tr>\n",
       "      <th>3</th>\n",
       "      <td>1.0</td>\n",
       "      <td>1</td>\n",
       "      <td>1</td>\n",
       "      <td>2.0</td>\n",
       "      <td>1</td>\n",
       "      <td>0</td>\n",
       "      <td>53.1000</td>\n",
       "      <td>1</td>\n",
       "      <td>5</td>\n",
       "      <td>2</td>\n",
       "      <td>35.0</td>\n",
       "      <td>1</td>\n",
       "      <td>0</td>\n",
       "      <td>0.0</td>\n",
       "      <td>2.0</td>\n",
       "      <td>4</td>\n",
       "    </tr>\n",
       "    <tr>\n",
       "      <th>4</th>\n",
       "      <td>0.0</td>\n",
       "      <td>3</td>\n",
       "      <td>0</td>\n",
       "      <td>2.0</td>\n",
       "      <td>0</td>\n",
       "      <td>0</td>\n",
       "      <td>8.0500</td>\n",
       "      <td>1</td>\n",
       "      <td>1</td>\n",
       "      <td>2</td>\n",
       "      <td>35.0</td>\n",
       "      <td>0</td>\n",
       "      <td>1</td>\n",
       "      <td>0.5</td>\n",
       "      <td>6.0</td>\n",
       "      <td>1</td>\n",
       "    </tr>\n",
       "  </tbody>\n",
       "</table>\n",
       "</div>"
      ],
      "text/plain": [
       "   Survived  Pclass  Sex  Age  SibSp  Parch     Fare  Embarked  Title  \\\n",
       "0       0.0       3    0  2.0      1      0   7.2500         1      1   \n",
       "1       1.0       1    1  3.0      1      0  71.2833         3      5   \n",
       "2       1.0       3    1  2.0      0      0   7.9250         1      4   \n",
       "3       1.0       1    1  2.0      1      0  53.1000         1      5   \n",
       "4       0.0       3    0  2.0      0      0   8.0500         1      1   \n",
       "\n",
       "   AgeBin_Code  Age_original  Family_Size  Is_Alone  Family_Survival  \\\n",
       "0            1          22.0            1         0              0.5   \n",
       "1            3          38.0            1         0              0.5   \n",
       "2            1          26.0            0         1              0.5   \n",
       "3            2          35.0            1         0              0.0   \n",
       "4            2          35.0            0         1              0.5   \n",
       "\n",
       "   AgeClass  FareBin_Code  \n",
       "0       6.0             0  \n",
       "1       3.0             4  \n",
       "2       6.0             1  \n",
       "3       2.0             4  \n",
       "4       6.0             1  "
      ]
     },
     "execution_count": 50,
     "metadata": {},
     "output_type": "execute_result"
    }
   ],
   "source": [
    "combined_df.head()"
   ]
  },
  {
   "cell_type": "markdown",
   "metadata": {},
   "source": [
    "### Split data into training and testing\n",
    "\n",
    "Learning the parameters of a prediction function and testing it on the same data is a methodological mistake: a model that would just repeat the labels of the samples that it has just seen would have a perfect score but would fail to predict anything useful on yet-unseen data. This situation is called overfitting. To avoid it, it is common practice when performing a (supervised) machine learning experiment to hold out part of the available data as a test set.\n",
    "\n",
    "Furthermore, we need to normalise the numerical features. For some classifiers, it is very important that every feature is of similar size. Therefore we employ a type of data normalization: Z- standardisation. This works by transforming every datapoint like this: (datapoint- mean(column))/std(column)."
   ]
  },
  {
   "cell_type": "code",
   "execution_count": 70,
   "metadata": {
    "scrolled": false
   },
   "outputs": [
    {
     "data": {
      "text/plain": [
       "((891, 15), (891,))"
      ]
     },
     "execution_count": 70,
     "metadata": {},
     "output_type": "execute_result"
    }
   ],
   "source": [
    "from sklearn.preprocessing import StandardScaler\n",
    "y = train_df[\"Survived\"] #separate labels y from the dataframe, because we don't want them to be normalised\n",
    "scaler = StandardScaler()\n",
    "# Fit your data on the scaler object\n",
    "scaled_df = scaler.fit_transform(train_df)\n",
    "train_df = pd.DataFrame(scaled_df, columns=train_df.columns)\n",
    "X = train_df.drop([\"Survived\"], axis=1)\n",
    "X.shape, y.shape"
   ]
  },
  {
   "cell_type": "code",
   "execution_count": 71,
   "metadata": {},
   "outputs": [
    {
     "data": {
      "application/vnd.microsoft.datawrangler.viewer.v0+json": {
       "columns": [
        {
         "name": "index",
         "rawType": "int64",
         "type": "integer"
        },
        {
         "name": "Pclass",
         "rawType": "float64",
         "type": "float"
        },
        {
         "name": "Sex",
         "rawType": "float64",
         "type": "float"
        },
        {
         "name": "Age",
         "rawType": "float64",
         "type": "float"
        },
        {
         "name": "SibSp",
         "rawType": "float64",
         "type": "float"
        },
        {
         "name": "Parch",
         "rawType": "float64",
         "type": "float"
        },
        {
         "name": "Fare",
         "rawType": "float64",
         "type": "float"
        },
        {
         "name": "Embarked",
         "rawType": "float64",
         "type": "float"
        },
        {
         "name": "Title",
         "rawType": "float64",
         "type": "float"
        },
        {
         "name": "AgeBin_Code",
         "rawType": "float64",
         "type": "float"
        },
        {
         "name": "Age_original",
         "rawType": "float64",
         "type": "float"
        },
        {
         "name": "Family_Size",
         "rawType": "float64",
         "type": "float"
        },
        {
         "name": "Is_Alone",
         "rawType": "float64",
         "type": "float"
        },
        {
         "name": "Family_Survival",
         "rawType": "float64",
         "type": "float"
        },
        {
         "name": "AgeClass",
         "rawType": "float64",
         "type": "float"
        },
        {
         "name": "FareBin_Code",
         "rawType": "float64",
         "type": "float"
        }
       ],
       "conversionMethod": "pd.DataFrame",
       "ref": "eb55d877-2801-4db5-a4ee-788d29ff96dd",
       "rows": [
        [
         "0",
         "0.8273772438659699",
         "-0.7376951317802901",
         "-0.07013489558916301",
         "0.4327933656785018",
         "-0.4736736092984604",
         "-0.5024451714361923",
         "-0.5859541426526597",
         "-0.8032765576515494",
         "-0.317582982275364",
         "-0.48351421885184354",
         "0.059159876663617696",
         "-1.2316448970959013",
         "-0.06066122088150282",
         "0.6211234988556654",
         "-1.4071438871996134"
        ],
        [
         "1",
         "-1.5661069258891576",
         "1.3555735383351193",
         "1.1315995653712996",
         "0.4327933656785018",
         "-0.4736736092984604",
         "0.7868452935884461",
         "1.942303199253005",
         "1.6604735727013953",
         "1.4676942240801523",
         "0.6432184594312091",
         "0.059159876663617696",
         "-1.2316448970959013",
         "-0.06066122088150282",
         "-0.6452861978958171",
         "1.4294289713860326"
        ],
        [
         "2",
         "0.8273772438659699",
         "1.3555735383351193",
         "-0.07013489558916301",
         "-0.47454519624983954",
         "-0.4736736092984604",
         "-0.4888542575852486",
         "-0.5859541426526597",
         "1.0445360401131591",
         "-0.317582982275364",
         "-0.20183104928108037",
         "-0.5609748304808925",
         "0.8119223343984152",
         "-0.06066122088150282",
         "0.6211234988556654",
         "-0.6980006725532019"
        ],
        [
         "3",
         "-1.5661069258891576",
         "1.3555735383351193",
         "-0.07013489558916301",
         "0.4327933656785018",
         "-0.4736736092984604",
         "0.4207302360686478",
         "-0.5859541426526597",
         "1.6604735727013953",
         "0.575055620902394",
         "0.4319560822531368",
         "0.059159876663617696",
         "-1.2316448970959013",
         "-1.60492258675062",
         "-1.0674227634796445",
         "1.4294289713860326"
        ],
        [
         "4",
         "0.8273772438659699",
         "-0.7376951317802901",
         "-0.07013489558916301",
         "-0.47454519624983954",
         "-0.4736736092984604",
         "-0.4863374216869257",
         "-0.5859541426526597",
         "-0.8032765576515494",
         "0.575055620902394",
         "0.4319560822531368",
         "-0.5609748304808925",
         "0.8119223343984152",
         "-0.06066122088150282",
         "0.6211234988556654",
         "-0.6980006725532019"
        ]
       ],
       "shape": {
        "columns": 15,
        "rows": 5
       }
      },
      "text/html": [
       "<div>\n",
       "<style scoped>\n",
       "    .dataframe tbody tr th:only-of-type {\n",
       "        vertical-align: middle;\n",
       "    }\n",
       "\n",
       "    .dataframe tbody tr th {\n",
       "        vertical-align: top;\n",
       "    }\n",
       "\n",
       "    .dataframe thead th {\n",
       "        text-align: right;\n",
       "    }\n",
       "</style>\n",
       "<table border=\"1\" class=\"dataframe\">\n",
       "  <thead>\n",
       "    <tr style=\"text-align: right;\">\n",
       "      <th></th>\n",
       "      <th>Pclass</th>\n",
       "      <th>Sex</th>\n",
       "      <th>Age</th>\n",
       "      <th>SibSp</th>\n",
       "      <th>Parch</th>\n",
       "      <th>Fare</th>\n",
       "      <th>Embarked</th>\n",
       "      <th>Title</th>\n",
       "      <th>AgeBin_Code</th>\n",
       "      <th>Age_original</th>\n",
       "      <th>Family_Size</th>\n",
       "      <th>Is_Alone</th>\n",
       "      <th>Family_Survival</th>\n",
       "      <th>AgeClass</th>\n",
       "      <th>FareBin_Code</th>\n",
       "    </tr>\n",
       "  </thead>\n",
       "  <tbody>\n",
       "    <tr>\n",
       "      <th>0</th>\n",
       "      <td>0.827377</td>\n",
       "      <td>-0.737695</td>\n",
       "      <td>-0.070135</td>\n",
       "      <td>0.432793</td>\n",
       "      <td>-0.473674</td>\n",
       "      <td>-0.502445</td>\n",
       "      <td>-0.585954</td>\n",
       "      <td>-0.803277</td>\n",
       "      <td>-0.317583</td>\n",
       "      <td>-0.483514</td>\n",
       "      <td>0.059160</td>\n",
       "      <td>-1.231645</td>\n",
       "      <td>-0.060661</td>\n",
       "      <td>0.621123</td>\n",
       "      <td>-1.407144</td>\n",
       "    </tr>\n",
       "    <tr>\n",
       "      <th>1</th>\n",
       "      <td>-1.566107</td>\n",
       "      <td>1.355574</td>\n",
       "      <td>1.131600</td>\n",
       "      <td>0.432793</td>\n",
       "      <td>-0.473674</td>\n",
       "      <td>0.786845</td>\n",
       "      <td>1.942303</td>\n",
       "      <td>1.660474</td>\n",
       "      <td>1.467694</td>\n",
       "      <td>0.643218</td>\n",
       "      <td>0.059160</td>\n",
       "      <td>-1.231645</td>\n",
       "      <td>-0.060661</td>\n",
       "      <td>-0.645286</td>\n",
       "      <td>1.429429</td>\n",
       "    </tr>\n",
       "    <tr>\n",
       "      <th>2</th>\n",
       "      <td>0.827377</td>\n",
       "      <td>1.355574</td>\n",
       "      <td>-0.070135</td>\n",
       "      <td>-0.474545</td>\n",
       "      <td>-0.473674</td>\n",
       "      <td>-0.488854</td>\n",
       "      <td>-0.585954</td>\n",
       "      <td>1.044536</td>\n",
       "      <td>-0.317583</td>\n",
       "      <td>-0.201831</td>\n",
       "      <td>-0.560975</td>\n",
       "      <td>0.811922</td>\n",
       "      <td>-0.060661</td>\n",
       "      <td>0.621123</td>\n",
       "      <td>-0.698001</td>\n",
       "    </tr>\n",
       "    <tr>\n",
       "      <th>3</th>\n",
       "      <td>-1.566107</td>\n",
       "      <td>1.355574</td>\n",
       "      <td>-0.070135</td>\n",
       "      <td>0.432793</td>\n",
       "      <td>-0.473674</td>\n",
       "      <td>0.420730</td>\n",
       "      <td>-0.585954</td>\n",
       "      <td>1.660474</td>\n",
       "      <td>0.575056</td>\n",
       "      <td>0.431956</td>\n",
       "      <td>0.059160</td>\n",
       "      <td>-1.231645</td>\n",
       "      <td>-1.604923</td>\n",
       "      <td>-1.067423</td>\n",
       "      <td>1.429429</td>\n",
       "    </tr>\n",
       "    <tr>\n",
       "      <th>4</th>\n",
       "      <td>0.827377</td>\n",
       "      <td>-0.737695</td>\n",
       "      <td>-0.070135</td>\n",
       "      <td>-0.474545</td>\n",
       "      <td>-0.473674</td>\n",
       "      <td>-0.486337</td>\n",
       "      <td>-0.585954</td>\n",
       "      <td>-0.803277</td>\n",
       "      <td>0.575056</td>\n",
       "      <td>0.431956</td>\n",
       "      <td>-0.560975</td>\n",
       "      <td>0.811922</td>\n",
       "      <td>-0.060661</td>\n",
       "      <td>0.621123</td>\n",
       "      <td>-0.698001</td>\n",
       "    </tr>\n",
       "  </tbody>\n",
       "</table>\n",
       "</div>"
      ],
      "text/plain": [
       "     Pclass       Sex       Age     SibSp     Parch      Fare  Embarked  \\\n",
       "0  0.827377 -0.737695 -0.070135  0.432793 -0.473674 -0.502445 -0.585954   \n",
       "1 -1.566107  1.355574  1.131600  0.432793 -0.473674  0.786845  1.942303   \n",
       "2  0.827377  1.355574 -0.070135 -0.474545 -0.473674 -0.488854 -0.585954   \n",
       "3 -1.566107  1.355574 -0.070135  0.432793 -0.473674  0.420730 -0.585954   \n",
       "4  0.827377 -0.737695 -0.070135 -0.474545 -0.473674 -0.486337 -0.585954   \n",
       "\n",
       "      Title  AgeBin_Code  Age_original  Family_Size  Is_Alone  \\\n",
       "0 -0.803277    -0.317583     -0.483514     0.059160 -1.231645   \n",
       "1  1.660474     1.467694      0.643218     0.059160 -1.231645   \n",
       "2  1.044536    -0.317583     -0.201831    -0.560975  0.811922   \n",
       "3  1.660474     0.575056      0.431956     0.059160 -1.231645   \n",
       "4 -0.803277     0.575056      0.431956    -0.560975  0.811922   \n",
       "\n",
       "   Family_Survival  AgeClass  FareBin_Code  \n",
       "0        -0.060661  0.621123     -1.407144  \n",
       "1        -0.060661 -0.645286      1.429429  \n",
       "2        -0.060661  0.621123     -0.698001  \n",
       "3        -1.604923 -1.067423      1.429429  \n",
       "4        -0.060661  0.621123     -0.698001  "
      ]
     },
     "execution_count": 71,
     "metadata": {},
     "output_type": "execute_result"
    }
   ],
   "source": [
    "X.head()"
   ]
  },
  {
   "cell_type": "code",
   "execution_count": 72,
   "metadata": {},
   "outputs": [
    {
     "data": {
      "text/plain": [
       "0    0.0\n",
       "1    1.0\n",
       "2    1.0\n",
       "3    1.0\n",
       "4    0.0\n",
       "Name: Survived, dtype: float64"
      ]
     },
     "execution_count": 72,
     "metadata": {},
     "output_type": "execute_result"
    }
   ],
   "source": [
    "y.head()"
   ]
  },
  {
   "cell_type": "code",
   "execution_count": 73,
   "metadata": {
    "scrolled": true
   },
   "outputs": [
    {
     "data": {
      "application/vnd.microsoft.datawrangler.viewer.v0+json": {
       "columns": [
        {
         "name": "index",
         "rawType": "int64",
         "type": "integer"
        },
        {
         "name": "Survived",
         "rawType": "float64",
         "type": "float"
        },
        {
         "name": "Pclass",
         "rawType": "int64",
         "type": "integer"
        },
        {
         "name": "Sex",
         "rawType": "int64",
         "type": "integer"
        },
        {
         "name": "Age",
         "rawType": "float64",
         "type": "float"
        },
        {
         "name": "SibSp",
         "rawType": "int64",
         "type": "integer"
        },
        {
         "name": "Parch",
         "rawType": "int64",
         "type": "integer"
        },
        {
         "name": "Fare",
         "rawType": "float64",
         "type": "float"
        },
        {
         "name": "Embarked",
         "rawType": "int64",
         "type": "integer"
        },
        {
         "name": "Title",
         "rawType": "int64",
         "type": "integer"
        },
        {
         "name": "AgeBin_Code",
         "rawType": "int64",
         "type": "integer"
        },
        {
         "name": "Age_original",
         "rawType": "float64",
         "type": "float"
        },
        {
         "name": "Family_Size",
         "rawType": "int64",
         "type": "integer"
        },
        {
         "name": "Is_Alone",
         "rawType": "int64",
         "type": "integer"
        },
        {
         "name": "Family_Survival",
         "rawType": "float64",
         "type": "float"
        },
        {
         "name": "AgeClass",
         "rawType": "float64",
         "type": "float"
        },
        {
         "name": "FareBin_Code",
         "rawType": "int64",
         "type": "integer"
        }
       ],
       "conversionMethod": "pd.DataFrame",
       "ref": "334d30b4-8a0c-44f6-88cc-8bfadc148aef",
       "rows": [
        [
         "0",
         null,
         "3",
         "0",
         "2.0",
         "0",
         "0",
         "7.8292",
         "2",
         "1",
         "2",
         "34.5",
         "0",
         "1",
         "0.5",
         "6.0",
         "0"
        ],
        [
         "1",
         null,
         "3",
         "1",
         "3.0",
         "1",
         "0",
         "7.0",
         "1",
         "5",
         "3",
         "47.0",
         "1",
         "0",
         "0.5",
         "9.0",
         "0"
        ],
        [
         "2",
         null,
         "2",
         "0",
         "3.0",
         "0",
         "0",
         "9.6875",
         "2",
         "1",
         "3",
         "62.0",
         "0",
         "1",
         "0.5",
         "6.0",
         "1"
        ],
        [
         "3",
         null,
         "3",
         "0",
         "2.0",
         "0",
         "0",
         "8.6625",
         "1",
         "1",
         "1",
         "27.0",
         "0",
         "1",
         "0.5",
         "6.0",
         "1"
        ],
        [
         "4",
         null,
         "3",
         "1",
         "2.0",
         "1",
         "1",
         "12.2875",
         "1",
         "5",
         "1",
         "22.0",
         "2",
         "0",
         "1.0",
         "6.0",
         "2"
        ]
       ],
       "shape": {
        "columns": 16,
        "rows": 5
       }
      },
      "text/html": [
       "<div>\n",
       "<style scoped>\n",
       "    .dataframe tbody tr th:only-of-type {\n",
       "        vertical-align: middle;\n",
       "    }\n",
       "\n",
       "    .dataframe tbody tr th {\n",
       "        vertical-align: top;\n",
       "    }\n",
       "\n",
       "    .dataframe thead th {\n",
       "        text-align: right;\n",
       "    }\n",
       "</style>\n",
       "<table border=\"1\" class=\"dataframe\">\n",
       "  <thead>\n",
       "    <tr style=\"text-align: right;\">\n",
       "      <th></th>\n",
       "      <th>Survived</th>\n",
       "      <th>Pclass</th>\n",
       "      <th>Sex</th>\n",
       "      <th>Age</th>\n",
       "      <th>SibSp</th>\n",
       "      <th>Parch</th>\n",
       "      <th>Fare</th>\n",
       "      <th>Embarked</th>\n",
       "      <th>Title</th>\n",
       "      <th>AgeBin_Code</th>\n",
       "      <th>Age_original</th>\n",
       "      <th>Family_Size</th>\n",
       "      <th>Is_Alone</th>\n",
       "      <th>Family_Survival</th>\n",
       "      <th>AgeClass</th>\n",
       "      <th>FareBin_Code</th>\n",
       "    </tr>\n",
       "  </thead>\n",
       "  <tbody>\n",
       "    <tr>\n",
       "      <th>0</th>\n",
       "      <td>NaN</td>\n",
       "      <td>3</td>\n",
       "      <td>0</td>\n",
       "      <td>2.0</td>\n",
       "      <td>0</td>\n",
       "      <td>0</td>\n",
       "      <td>7.8292</td>\n",
       "      <td>2</td>\n",
       "      <td>1</td>\n",
       "      <td>2</td>\n",
       "      <td>34.5</td>\n",
       "      <td>0</td>\n",
       "      <td>1</td>\n",
       "      <td>0.5</td>\n",
       "      <td>6.0</td>\n",
       "      <td>0</td>\n",
       "    </tr>\n",
       "    <tr>\n",
       "      <th>1</th>\n",
       "      <td>NaN</td>\n",
       "      <td>3</td>\n",
       "      <td>1</td>\n",
       "      <td>3.0</td>\n",
       "      <td>1</td>\n",
       "      <td>0</td>\n",
       "      <td>7.0000</td>\n",
       "      <td>1</td>\n",
       "      <td>5</td>\n",
       "      <td>3</td>\n",
       "      <td>47.0</td>\n",
       "      <td>1</td>\n",
       "      <td>0</td>\n",
       "      <td>0.5</td>\n",
       "      <td>9.0</td>\n",
       "      <td>0</td>\n",
       "    </tr>\n",
       "    <tr>\n",
       "      <th>2</th>\n",
       "      <td>NaN</td>\n",
       "      <td>2</td>\n",
       "      <td>0</td>\n",
       "      <td>3.0</td>\n",
       "      <td>0</td>\n",
       "      <td>0</td>\n",
       "      <td>9.6875</td>\n",
       "      <td>2</td>\n",
       "      <td>1</td>\n",
       "      <td>3</td>\n",
       "      <td>62.0</td>\n",
       "      <td>0</td>\n",
       "      <td>1</td>\n",
       "      <td>0.5</td>\n",
       "      <td>6.0</td>\n",
       "      <td>1</td>\n",
       "    </tr>\n",
       "    <tr>\n",
       "      <th>3</th>\n",
       "      <td>NaN</td>\n",
       "      <td>3</td>\n",
       "      <td>0</td>\n",
       "      <td>2.0</td>\n",
       "      <td>0</td>\n",
       "      <td>0</td>\n",
       "      <td>8.6625</td>\n",
       "      <td>1</td>\n",
       "      <td>1</td>\n",
       "      <td>1</td>\n",
       "      <td>27.0</td>\n",
       "      <td>0</td>\n",
       "      <td>1</td>\n",
       "      <td>0.5</td>\n",
       "      <td>6.0</td>\n",
       "      <td>1</td>\n",
       "    </tr>\n",
       "    <tr>\n",
       "      <th>4</th>\n",
       "      <td>NaN</td>\n",
       "      <td>3</td>\n",
       "      <td>1</td>\n",
       "      <td>2.0</td>\n",
       "      <td>1</td>\n",
       "      <td>1</td>\n",
       "      <td>12.2875</td>\n",
       "      <td>1</td>\n",
       "      <td>5</td>\n",
       "      <td>1</td>\n",
       "      <td>22.0</td>\n",
       "      <td>2</td>\n",
       "      <td>0</td>\n",
       "      <td>1.0</td>\n",
       "      <td>6.0</td>\n",
       "      <td>2</td>\n",
       "    </tr>\n",
       "  </tbody>\n",
       "</table>\n",
       "</div>"
      ],
      "text/plain": [
       "   Survived  Pclass  Sex  Age  SibSp  Parch     Fare  Embarked  Title  \\\n",
       "0       NaN       3    0  2.0      0      0   7.8292         2      1   \n",
       "1       NaN       3    1  3.0      1      0   7.0000         1      5   \n",
       "2       NaN       2    0  3.0      0      0   9.6875         2      1   \n",
       "3       NaN       3    0  2.0      0      0   8.6625         1      1   \n",
       "4       NaN       3    1  2.0      1      1  12.2875         1      5   \n",
       "\n",
       "   AgeBin_Code  Age_original  Family_Size  Is_Alone  Family_Survival  \\\n",
       "0            2          34.5            0         1              0.5   \n",
       "1            3          47.0            1         0              0.5   \n",
       "2            3          62.0            0         1              0.5   \n",
       "3            1          27.0            0         1              0.5   \n",
       "4            1          22.0            2         0              1.0   \n",
       "\n",
       "   AgeClass  FareBin_Code  \n",
       "0       6.0             0  \n",
       "1       9.0             0  \n",
       "2       6.0             1  \n",
       "3       6.0             1  \n",
       "4       6.0             2  "
      ]
     },
     "execution_count": 73,
     "metadata": {},
     "output_type": "execute_result"
    }
   ],
   "source": [
    "test_df.head() #no survived column!"
   ]
  },
  {
   "cell_type": "code",
   "execution_count": 74,
   "metadata": {
    "scrolled": true
   },
   "outputs": [
    {
     "data": {
      "application/vnd.microsoft.datawrangler.viewer.v0+json": {
       "columns": [
        {
         "name": "index",
         "rawType": "int64",
         "type": "integer"
        },
        {
         "name": "Pclass",
         "rawType": "float64",
         "type": "float"
        },
        {
         "name": "Sex",
         "rawType": "float64",
         "type": "float"
        },
        {
         "name": "Age",
         "rawType": "float64",
         "type": "float"
        },
        {
         "name": "SibSp",
         "rawType": "float64",
         "type": "float"
        },
        {
         "name": "Parch",
         "rawType": "float64",
         "type": "float"
        },
        {
         "name": "Fare",
         "rawType": "float64",
         "type": "float"
        },
        {
         "name": "Embarked",
         "rawType": "float64",
         "type": "float"
        },
        {
         "name": "Title",
         "rawType": "float64",
         "type": "float"
        },
        {
         "name": "AgeBin_Code",
         "rawType": "float64",
         "type": "float"
        },
        {
         "name": "Age_original",
         "rawType": "float64",
         "type": "float"
        },
        {
         "name": "Family_Size",
         "rawType": "float64",
         "type": "float"
        },
        {
         "name": "Is_Alone",
         "rawType": "float64",
         "type": "float"
        },
        {
         "name": "Family_Survival",
         "rawType": "float64",
         "type": "float"
        },
        {
         "name": "AgeClass",
         "rawType": "float64",
         "type": "float"
        },
        {
         "name": "FareBin_Code",
         "rawType": "float64",
         "type": "float"
        }
       ],
       "conversionMethod": "pd.DataFrame",
       "ref": "9c70d5a3-1528-4043-b252-03be66d68a9d",
       "rows": [
        [
         "0",
         "0.873481905063612",
         "-0.7559289460184545",
         "-0.14028770120909487",
         "-0.49947001653571804",
         "-0.40024770163856355",
         "-0.49830600087694193",
         "0.4709153503627178",
         "-0.8202261042837248",
         "0.5575292792003521",
         "0.3641611296910214",
         "-0.5534426017272933",
         "0.8075728530872482",
         "-0.09392060617763028",
         "0.6790461500922303",
         "-1.3629413955581353"
        ],
        [
         "1",
         "0.873481905063612",
         "1.3228756555322954",
         "1.1628291677998315",
         "0.6169923733676517",
         "-0.40024770163856355",
         "-0.5131732013966512",
         "-0.7007668904207107",
         "1.5731736275878074",
         "1.4538648126839953",
         "1.2661482842942857",
         "0.10564288978840071",
         "-1.2382783747337807",
         "-0.09392060617763028",
         "2.0524717504400636",
         "-1.3629413955581353"
        ],
        [
         "2",
         "-0.3158191904301659",
         "-0.7559289460184545",
         "1.1628291677998315",
         "-0.49947001653571804",
         "-0.40024770163856355",
         "-0.4649874785351959",
         "0.4709153503627178",
         "-0.8202261042837248",
         "1.4538648126839953",
         "2.3485328698182033",
         "-0.5534426017272933",
         "0.8075728530872482",
         "-0.09392060617763028",
         "0.6790461500922303",
         "-0.6740544507657527"
        ],
        [
         "3",
         "0.873481905063612",
         "-0.7559289460184545",
         "-0.14028770120909487",
         "-0.49947001653571804",
         "-0.40024770163856355",
         "-0.4833652891149137",
         "-0.7007668904207107",
         "-0.8202261042837248",
         "-0.33880625428329103",
         "-0.17703116307093725",
         "-0.5534426017272933",
         "0.8075728530872482",
         "-0.09392060617763028",
         "0.6790461500922303",
         "-0.6740544507657527"
        ],
        [
         "4",
         "0.873481905063612",
         "1.3228756555322954",
         "-0.14028770120909487",
         "0.6169923733676517",
         "0.6198958305865556",
         "-0.418370593162253",
         "-0.7007668904207107",
         "1.5731736275878074",
         "-0.33880625428329103",
         "-0.5378260249122431",
         "0.7647283813040948",
         "-1.2382783747337807",
         "1.47643192911235",
         "0.6790461500922303",
         "0.014832494026630215"
        ]
       ],
       "shape": {
        "columns": 15,
        "rows": 5
       }
      },
      "text/html": [
       "<div>\n",
       "<style scoped>\n",
       "    .dataframe tbody tr th:only-of-type {\n",
       "        vertical-align: middle;\n",
       "    }\n",
       "\n",
       "    .dataframe tbody tr th {\n",
       "        vertical-align: top;\n",
       "    }\n",
       "\n",
       "    .dataframe thead th {\n",
       "        text-align: right;\n",
       "    }\n",
       "</style>\n",
       "<table border=\"1\" class=\"dataframe\">\n",
       "  <thead>\n",
       "    <tr style=\"text-align: right;\">\n",
       "      <th></th>\n",
       "      <th>Pclass</th>\n",
       "      <th>Sex</th>\n",
       "      <th>Age</th>\n",
       "      <th>SibSp</th>\n",
       "      <th>Parch</th>\n",
       "      <th>Fare</th>\n",
       "      <th>Embarked</th>\n",
       "      <th>Title</th>\n",
       "      <th>AgeBin_Code</th>\n",
       "      <th>Age_original</th>\n",
       "      <th>Family_Size</th>\n",
       "      <th>Is_Alone</th>\n",
       "      <th>Family_Survival</th>\n",
       "      <th>AgeClass</th>\n",
       "      <th>FareBin_Code</th>\n",
       "    </tr>\n",
       "  </thead>\n",
       "  <tbody>\n",
       "    <tr>\n",
       "      <th>0</th>\n",
       "      <td>0.873482</td>\n",
       "      <td>-0.755929</td>\n",
       "      <td>-0.140288</td>\n",
       "      <td>-0.499470</td>\n",
       "      <td>-0.400248</td>\n",
       "      <td>-0.498306</td>\n",
       "      <td>0.470915</td>\n",
       "      <td>-0.820226</td>\n",
       "      <td>0.557529</td>\n",
       "      <td>0.364161</td>\n",
       "      <td>-0.553443</td>\n",
       "      <td>0.807573</td>\n",
       "      <td>-0.093921</td>\n",
       "      <td>0.679046</td>\n",
       "      <td>-1.362941</td>\n",
       "    </tr>\n",
       "    <tr>\n",
       "      <th>1</th>\n",
       "      <td>0.873482</td>\n",
       "      <td>1.322876</td>\n",
       "      <td>1.162829</td>\n",
       "      <td>0.616992</td>\n",
       "      <td>-0.400248</td>\n",
       "      <td>-0.513173</td>\n",
       "      <td>-0.700767</td>\n",
       "      <td>1.573174</td>\n",
       "      <td>1.453865</td>\n",
       "      <td>1.266148</td>\n",
       "      <td>0.105643</td>\n",
       "      <td>-1.238278</td>\n",
       "      <td>-0.093921</td>\n",
       "      <td>2.052472</td>\n",
       "      <td>-1.362941</td>\n",
       "    </tr>\n",
       "    <tr>\n",
       "      <th>2</th>\n",
       "      <td>-0.315819</td>\n",
       "      <td>-0.755929</td>\n",
       "      <td>1.162829</td>\n",
       "      <td>-0.499470</td>\n",
       "      <td>-0.400248</td>\n",
       "      <td>-0.464987</td>\n",
       "      <td>0.470915</td>\n",
       "      <td>-0.820226</td>\n",
       "      <td>1.453865</td>\n",
       "      <td>2.348533</td>\n",
       "      <td>-0.553443</td>\n",
       "      <td>0.807573</td>\n",
       "      <td>-0.093921</td>\n",
       "      <td>0.679046</td>\n",
       "      <td>-0.674054</td>\n",
       "    </tr>\n",
       "    <tr>\n",
       "      <th>3</th>\n",
       "      <td>0.873482</td>\n",
       "      <td>-0.755929</td>\n",
       "      <td>-0.140288</td>\n",
       "      <td>-0.499470</td>\n",
       "      <td>-0.400248</td>\n",
       "      <td>-0.483365</td>\n",
       "      <td>-0.700767</td>\n",
       "      <td>-0.820226</td>\n",
       "      <td>-0.338806</td>\n",
       "      <td>-0.177031</td>\n",
       "      <td>-0.553443</td>\n",
       "      <td>0.807573</td>\n",
       "      <td>-0.093921</td>\n",
       "      <td>0.679046</td>\n",
       "      <td>-0.674054</td>\n",
       "    </tr>\n",
       "    <tr>\n",
       "      <th>4</th>\n",
       "      <td>0.873482</td>\n",
       "      <td>1.322876</td>\n",
       "      <td>-0.140288</td>\n",
       "      <td>0.616992</td>\n",
       "      <td>0.619896</td>\n",
       "      <td>-0.418371</td>\n",
       "      <td>-0.700767</td>\n",
       "      <td>1.573174</td>\n",
       "      <td>-0.338806</td>\n",
       "      <td>-0.537826</td>\n",
       "      <td>0.764728</td>\n",
       "      <td>-1.238278</td>\n",
       "      <td>1.476432</td>\n",
       "      <td>0.679046</td>\n",
       "      <td>0.014832</td>\n",
       "    </tr>\n",
       "  </tbody>\n",
       "</table>\n",
       "</div>"
      ],
      "text/plain": [
       "     Pclass       Sex       Age     SibSp     Parch      Fare  Embarked  \\\n",
       "0  0.873482 -0.755929 -0.140288 -0.499470 -0.400248 -0.498306  0.470915   \n",
       "1  0.873482  1.322876  1.162829  0.616992 -0.400248 -0.513173 -0.700767   \n",
       "2 -0.315819 -0.755929  1.162829 -0.499470 -0.400248 -0.464987  0.470915   \n",
       "3  0.873482 -0.755929 -0.140288 -0.499470 -0.400248 -0.483365 -0.700767   \n",
       "4  0.873482  1.322876 -0.140288  0.616992  0.619896 -0.418371 -0.700767   \n",
       "\n",
       "      Title  AgeBin_Code  Age_original  Family_Size  Is_Alone  \\\n",
       "0 -0.820226     0.557529      0.364161    -0.553443  0.807573   \n",
       "1  1.573174     1.453865      1.266148     0.105643 -1.238278   \n",
       "2 -0.820226     1.453865      2.348533    -0.553443  0.807573   \n",
       "3 -0.820226    -0.338806     -0.177031    -0.553443  0.807573   \n",
       "4  1.573174    -0.338806     -0.537826     0.764728 -1.238278   \n",
       "\n",
       "   Family_Survival  AgeClass  FareBin_Code  \n",
       "0        -0.093921  0.679046     -1.362941  \n",
       "1        -0.093921  2.052472     -1.362941  \n",
       "2        -0.093921  0.679046     -0.674054  \n",
       "3        -0.093921  0.679046     -0.674054  \n",
       "4         1.476432  0.679046      0.014832  "
      ]
     },
     "execution_count": 74,
     "metadata": {},
     "output_type": "execute_result"
    }
   ],
   "source": [
    "scaled_df = scaler.fit_transform(test_df)\n",
    "test_df = pd.DataFrame(scaled_df, columns=test_df.columns)\n",
    "X_test = test_df.drop(['Survived'], axis=1).copy()\n",
    "X_test.head()"
   ]
  },
  {
   "cell_type": "markdown",
   "metadata": {},
   "source": [
    "## Model, Crossvalidate, Fit and Predict\n",
    "\n",
    "We will use four models to solve the problem: k-nearest neighbours, Logistic regression, decision tree and random forest.\n",
    "Furthermore we will optimize the hyperparameters using GridSearch cross validation.\n",
    "For more information, see: https://scikit-learn.org/stable/modules/generated/sklearn.model_selection.GridSearchCV.html?highlight=gridsearchcv#sklearn.model_selection.GridSearchCV\n",
    "\n",
    "\n",
    "When evaluating different settings (“hyperparameters”) for estimators, such as the amount of neighbours that must be manually set for K-NN, there is still a risk of overfitting on the test set because the parameters can be tweaked until the estimator performs optimally. This way, knowledge about the test set can “leak” into the model and evaluation metrics no longer report on generalization performance. To solve this problem, yet another part of the dataset can be held out as a so-called “validation set”: training proceeds on the training set, after which evaluation is done on the validation set, and when the experiment seems to be successful, final evaluation can be done on the test set. However, by partitioning the available data into three sets, we drastically reduce the number of samples which can be used for learning the model, and the results can depend on a particular random choice for the pair of (train, validation) sets.\n",
    "A solution to this problem is a procedure called cross-validation (CV for short). A test set should still be held out for final evaluation, but the validation set is no longer needed when doing CV. In the basic approach, called k-fold CV, the training set is split into k smaller sets (other approaches are described below, but generally follow the same principles). The following procedure is followed for each of the k “folds”:\n",
    "\n",
    "- A model is trained using  of the folds as training data;\n",
    "\n",
    "- the resulting model is validated on the remaining part of the data (i.e., it is used as a test set to compute a performance measure such as accuracy).\n",
    "\n",
    "The performance measure reported by k-fold cross-validation is then the average of the values computed in the loop. This approach can be computationally expensive, but does not waste too much data (as is the case when fixing an arbitrary validation set), which is a major advantage in problems where the number of samples is very small.\n",
    "\n",
    "See: https://scikit-learn.org/stable/modules/cross_validation.html"
   ]
  },
  {
   "cell_type": "markdown",
   "metadata": {},
   "source": [
    "### K-NN"
   ]
  },
  {
   "cell_type": "code",
   "execution_count": 75,
   "metadata": {},
   "outputs": [
    {
     "name": "stdout",
     "output_type": "stream",
     "text": [
      "Fitting 10 folds for each of 240 candidates, totalling 2400 fits\n",
      "0.8117951220892398\n",
      "KNeighborsClassifier(leaf_size=1, n_neighbors=22)\n"
     ]
    }
   ],
   "source": [
    "from sklearn.model_selection import GridSearchCV\n",
    "\n",
    "n_neighbors = [6, 7, 8, 9, 10, 11, 12, 14, 16, 18, 20, 22]\n",
    "algorithm = [\"auto\"]\n",
    "weights = [\"uniform\", \"distance\"]\n",
    "leaf_size = list(range(1, 50, 5))\n",
    "hyperparams = {\n",
    "    \"algorithm\": algorithm,\n",
    "    \"weights\": weights,\n",
    "    \"leaf_size\": leaf_size,\n",
    "    \"n_neighbors\": n_neighbors,\n",
    "}\n",
    "\n",
    "clf = GridSearchCV(\n",
    "    estimator=KNeighborsClassifier(),\n",
    "    param_grid=hyperparams,\n",
    "    verbose=True,\n",
    "    cv=10,\n",
    "    scoring=\"balanced_accuracy\",\n",
    "    n_jobs=-1,\n",
    ")\n",
    "clf.fit(X, y)\n",
    "print(clf.best_score_)\n",
    "print(clf.best_estimator_)"
   ]
  },
  {
   "cell_type": "markdown",
   "metadata": {},
   "source": [
    "**Extra**: \n",
    "If you want to go fancy, and try different scoring metrics at once:"
   ]
  },
  {
   "cell_type": "code",
   "execution_count": 76,
   "metadata": {
    "scrolled": true
   },
   "outputs": [
    {
     "name": "stdout",
     "output_type": "stream",
     "text": [
      "# Tuning hyper-parameters for accuracy\n",
      "\n",
      "Fitting 10 folds for each of 240 candidates, totalling 2400 fits\n",
      "Best parameters set found on development set:\n",
      "\n",
      "{'algorithm': 'auto', 'leaf_size': 1, 'n_neighbors': 22, 'weights': 'uniform'}\n",
      "\n",
      "Grid scores on development set:\n",
      "\n",
      "0.835 (+/-0.086) for {'algorithm': 'auto', 'leaf_size': 1, 'n_neighbors': 6, 'weights': 'uniform'}\n",
      "0.818 (+/-0.067) for {'algorithm': 'auto', 'leaf_size': 1, 'n_neighbors': 6, 'weights': 'distance'}\n",
      "0.820 (+/-0.093) for {'algorithm': 'auto', 'leaf_size': 1, 'n_neighbors': 7, 'weights': 'uniform'}\n",
      "0.816 (+/-0.075) for {'algorithm': 'auto', 'leaf_size': 1, 'n_neighbors': 7, 'weights': 'distance'}\n",
      "0.828 (+/-0.077) for {'algorithm': 'auto', 'leaf_size': 1, 'n_neighbors': 8, 'weights': 'uniform'}\n",
      "0.822 (+/-0.079) for {'algorithm': 'auto', 'leaf_size': 1, 'n_neighbors': 8, 'weights': 'distance'}\n",
      "0.822 (+/-0.092) for {'algorithm': 'auto', 'leaf_size': 1, 'n_neighbors': 9, 'weights': 'uniform'}\n",
      "0.814 (+/-0.075) for {'algorithm': 'auto', 'leaf_size': 1, 'n_neighbors': 9, 'weights': 'distance'}\n",
      "0.832 (+/-0.083) for {'algorithm': 'auto', 'leaf_size': 1, 'n_neighbors': 10, 'weights': 'uniform'}\n",
      "0.817 (+/-0.077) for {'algorithm': 'auto', 'leaf_size': 1, 'n_neighbors': 10, 'weights': 'distance'}\n",
      "0.832 (+/-0.079) for {'algorithm': 'auto', 'leaf_size': 1, 'n_neighbors': 11, 'weights': 'uniform'}\n",
      "0.816 (+/-0.064) for {'algorithm': 'auto', 'leaf_size': 1, 'n_neighbors': 11, 'weights': 'distance'}\n",
      "0.833 (+/-0.081) for {'algorithm': 'auto', 'leaf_size': 1, 'n_neighbors': 12, 'weights': 'uniform'}\n",
      "0.818 (+/-0.074) for {'algorithm': 'auto', 'leaf_size': 1, 'n_neighbors': 12, 'weights': 'distance'}\n",
      "0.833 (+/-0.073) for {'algorithm': 'auto', 'leaf_size': 1, 'n_neighbors': 14, 'weights': 'uniform'}\n",
      "0.816 (+/-0.075) for {'algorithm': 'auto', 'leaf_size': 1, 'n_neighbors': 14, 'weights': 'distance'}\n",
      "0.836 (+/-0.081) for {'algorithm': 'auto', 'leaf_size': 1, 'n_neighbors': 16, 'weights': 'uniform'}\n",
      "0.819 (+/-0.078) for {'algorithm': 'auto', 'leaf_size': 1, 'n_neighbors': 16, 'weights': 'distance'}\n",
      "0.835 (+/-0.060) for {'algorithm': 'auto', 'leaf_size': 1, 'n_neighbors': 18, 'weights': 'uniform'}\n",
      "0.820 (+/-0.075) for {'algorithm': 'auto', 'leaf_size': 1, 'n_neighbors': 18, 'weights': 'distance'}\n",
      "0.835 (+/-0.073) for {'algorithm': 'auto', 'leaf_size': 1, 'n_neighbors': 20, 'weights': 'uniform'}\n",
      "0.819 (+/-0.078) for {'algorithm': 'auto', 'leaf_size': 1, 'n_neighbors': 20, 'weights': 'distance'}\n",
      "0.836 (+/-0.084) for {'algorithm': 'auto', 'leaf_size': 1, 'n_neighbors': 22, 'weights': 'uniform'}\n",
      "0.822 (+/-0.073) for {'algorithm': 'auto', 'leaf_size': 1, 'n_neighbors': 22, 'weights': 'distance'}\n",
      "0.836 (+/-0.086) for {'algorithm': 'auto', 'leaf_size': 6, 'n_neighbors': 6, 'weights': 'uniform'}\n",
      "0.819 (+/-0.070) for {'algorithm': 'auto', 'leaf_size': 6, 'n_neighbors': 6, 'weights': 'distance'}\n",
      "0.820 (+/-0.093) for {'algorithm': 'auto', 'leaf_size': 6, 'n_neighbors': 7, 'weights': 'uniform'}\n",
      "0.816 (+/-0.075) for {'algorithm': 'auto', 'leaf_size': 6, 'n_neighbors': 7, 'weights': 'distance'}\n",
      "0.828 (+/-0.077) for {'algorithm': 'auto', 'leaf_size': 6, 'n_neighbors': 8, 'weights': 'uniform'}\n",
      "0.822 (+/-0.079) for {'algorithm': 'auto', 'leaf_size': 6, 'n_neighbors': 8, 'weights': 'distance'}\n",
      "0.823 (+/-0.091) for {'algorithm': 'auto', 'leaf_size': 6, 'n_neighbors': 9, 'weights': 'uniform'}\n",
      "0.814 (+/-0.075) for {'algorithm': 'auto', 'leaf_size': 6, 'n_neighbors': 9, 'weights': 'distance'}\n",
      "0.831 (+/-0.082) for {'algorithm': 'auto', 'leaf_size': 6, 'n_neighbors': 10, 'weights': 'uniform'}\n",
      "0.816 (+/-0.076) for {'algorithm': 'auto', 'leaf_size': 6, 'n_neighbors': 10, 'weights': 'distance'}\n",
      "0.832 (+/-0.079) for {'algorithm': 'auto', 'leaf_size': 6, 'n_neighbors': 11, 'weights': 'uniform'}\n",
      "0.816 (+/-0.064) for {'algorithm': 'auto', 'leaf_size': 6, 'n_neighbors': 11, 'weights': 'distance'}\n",
      "0.833 (+/-0.081) for {'algorithm': 'auto', 'leaf_size': 6, 'n_neighbors': 12, 'weights': 'uniform'}\n",
      "0.818 (+/-0.074) for {'algorithm': 'auto', 'leaf_size': 6, 'n_neighbors': 12, 'weights': 'distance'}\n",
      "0.833 (+/-0.073) for {'algorithm': 'auto', 'leaf_size': 6, 'n_neighbors': 14, 'weights': 'uniform'}\n",
      "0.816 (+/-0.075) for {'algorithm': 'auto', 'leaf_size': 6, 'n_neighbors': 14, 'weights': 'distance'}\n",
      "0.836 (+/-0.081) for {'algorithm': 'auto', 'leaf_size': 6, 'n_neighbors': 16, 'weights': 'uniform'}\n",
      "0.819 (+/-0.078) for {'algorithm': 'auto', 'leaf_size': 6, 'n_neighbors': 16, 'weights': 'distance'}\n",
      "0.835 (+/-0.060) for {'algorithm': 'auto', 'leaf_size': 6, 'n_neighbors': 18, 'weights': 'uniform'}\n",
      "0.820 (+/-0.075) for {'algorithm': 'auto', 'leaf_size': 6, 'n_neighbors': 18, 'weights': 'distance'}\n",
      "0.835 (+/-0.073) for {'algorithm': 'auto', 'leaf_size': 6, 'n_neighbors': 20, 'weights': 'uniform'}\n",
      "0.819 (+/-0.078) for {'algorithm': 'auto', 'leaf_size': 6, 'n_neighbors': 20, 'weights': 'distance'}\n",
      "0.836 (+/-0.084) for {'algorithm': 'auto', 'leaf_size': 6, 'n_neighbors': 22, 'weights': 'uniform'}\n",
      "0.822 (+/-0.073) for {'algorithm': 'auto', 'leaf_size': 6, 'n_neighbors': 22, 'weights': 'distance'}\n",
      "0.835 (+/-0.092) for {'algorithm': 'auto', 'leaf_size': 11, 'n_neighbors': 6, 'weights': 'uniform'}\n",
      "0.817 (+/-0.073) for {'algorithm': 'auto', 'leaf_size': 11, 'n_neighbors': 6, 'weights': 'distance'}\n",
      "0.823 (+/-0.087) for {'algorithm': 'auto', 'leaf_size': 11, 'n_neighbors': 7, 'weights': 'uniform'}\n",
      "0.816 (+/-0.075) for {'algorithm': 'auto', 'leaf_size': 11, 'n_neighbors': 7, 'weights': 'distance'}\n",
      "0.828 (+/-0.077) for {'algorithm': 'auto', 'leaf_size': 11, 'n_neighbors': 8, 'weights': 'uniform'}\n",
      "0.822 (+/-0.079) for {'algorithm': 'auto', 'leaf_size': 11, 'n_neighbors': 8, 'weights': 'distance'}\n",
      "0.823 (+/-0.091) for {'algorithm': 'auto', 'leaf_size': 11, 'n_neighbors': 9, 'weights': 'uniform'}\n",
      "0.814 (+/-0.075) for {'algorithm': 'auto', 'leaf_size': 11, 'n_neighbors': 9, 'weights': 'distance'}\n",
      "0.832 (+/-0.083) for {'algorithm': 'auto', 'leaf_size': 11, 'n_neighbors': 10, 'weights': 'uniform'}\n",
      "0.817 (+/-0.077) for {'algorithm': 'auto', 'leaf_size': 11, 'n_neighbors': 10, 'weights': 'distance'}\n",
      "0.832 (+/-0.079) for {'algorithm': 'auto', 'leaf_size': 11, 'n_neighbors': 11, 'weights': 'uniform'}\n",
      "0.816 (+/-0.064) for {'algorithm': 'auto', 'leaf_size': 11, 'n_neighbors': 11, 'weights': 'distance'}\n",
      "0.833 (+/-0.081) for {'algorithm': 'auto', 'leaf_size': 11, 'n_neighbors': 12, 'weights': 'uniform'}\n",
      "0.818 (+/-0.074) for {'algorithm': 'auto', 'leaf_size': 11, 'n_neighbors': 12, 'weights': 'distance'}\n",
      "0.833 (+/-0.073) for {'algorithm': 'auto', 'leaf_size': 11, 'n_neighbors': 14, 'weights': 'uniform'}\n",
      "0.816 (+/-0.075) for {'algorithm': 'auto', 'leaf_size': 11, 'n_neighbors': 14, 'weights': 'distance'}\n",
      "0.836 (+/-0.081) for {'algorithm': 'auto', 'leaf_size': 11, 'n_neighbors': 16, 'weights': 'uniform'}\n",
      "0.819 (+/-0.078) for {'algorithm': 'auto', 'leaf_size': 11, 'n_neighbors': 16, 'weights': 'distance'}\n",
      "0.835 (+/-0.060) for {'algorithm': 'auto', 'leaf_size': 11, 'n_neighbors': 18, 'weights': 'uniform'}\n",
      "0.820 (+/-0.075) for {'algorithm': 'auto', 'leaf_size': 11, 'n_neighbors': 18, 'weights': 'distance'}\n",
      "0.835 (+/-0.073) for {'algorithm': 'auto', 'leaf_size': 11, 'n_neighbors': 20, 'weights': 'uniform'}\n",
      "0.818 (+/-0.077) for {'algorithm': 'auto', 'leaf_size': 11, 'n_neighbors': 20, 'weights': 'distance'}\n",
      "0.836 (+/-0.084) for {'algorithm': 'auto', 'leaf_size': 11, 'n_neighbors': 22, 'weights': 'uniform'}\n",
      "0.822 (+/-0.073) for {'algorithm': 'auto', 'leaf_size': 11, 'n_neighbors': 22, 'weights': 'distance'}\n",
      "0.834 (+/-0.092) for {'algorithm': 'auto', 'leaf_size': 16, 'n_neighbors': 6, 'weights': 'uniform'}\n",
      "0.817 (+/-0.073) for {'algorithm': 'auto', 'leaf_size': 16, 'n_neighbors': 6, 'weights': 'distance'}\n",
      "0.819 (+/-0.091) for {'algorithm': 'auto', 'leaf_size': 16, 'n_neighbors': 7, 'weights': 'uniform'}\n",
      "0.816 (+/-0.075) for {'algorithm': 'auto', 'leaf_size': 16, 'n_neighbors': 7, 'weights': 'distance'}\n",
      "0.828 (+/-0.077) for {'algorithm': 'auto', 'leaf_size': 16, 'n_neighbors': 8, 'weights': 'uniform'}\n",
      "0.822 (+/-0.079) for {'algorithm': 'auto', 'leaf_size': 16, 'n_neighbors': 8, 'weights': 'distance'}\n",
      "0.823 (+/-0.091) for {'algorithm': 'auto', 'leaf_size': 16, 'n_neighbors': 9, 'weights': 'uniform'}\n",
      "0.814 (+/-0.075) for {'algorithm': 'auto', 'leaf_size': 16, 'n_neighbors': 9, 'weights': 'distance'}\n",
      "0.831 (+/-0.082) for {'algorithm': 'auto', 'leaf_size': 16, 'n_neighbors': 10, 'weights': 'uniform'}\n",
      "0.816 (+/-0.076) for {'algorithm': 'auto', 'leaf_size': 16, 'n_neighbors': 10, 'weights': 'distance'}\n",
      "0.832 (+/-0.079) for {'algorithm': 'auto', 'leaf_size': 16, 'n_neighbors': 11, 'weights': 'uniform'}\n",
      "0.816 (+/-0.064) for {'algorithm': 'auto', 'leaf_size': 16, 'n_neighbors': 11, 'weights': 'distance'}\n",
      "0.833 (+/-0.081) for {'algorithm': 'auto', 'leaf_size': 16, 'n_neighbors': 12, 'weights': 'uniform'}\n",
      "0.818 (+/-0.074) for {'algorithm': 'auto', 'leaf_size': 16, 'n_neighbors': 12, 'weights': 'distance'}\n",
      "0.833 (+/-0.073) for {'algorithm': 'auto', 'leaf_size': 16, 'n_neighbors': 14, 'weights': 'uniform'}\n",
      "0.816 (+/-0.075) for {'algorithm': 'auto', 'leaf_size': 16, 'n_neighbors': 14, 'weights': 'distance'}\n",
      "0.836 (+/-0.081) for {'algorithm': 'auto', 'leaf_size': 16, 'n_neighbors': 16, 'weights': 'uniform'}\n",
      "0.819 (+/-0.078) for {'algorithm': 'auto', 'leaf_size': 16, 'n_neighbors': 16, 'weights': 'distance'}\n",
      "0.835 (+/-0.060) for {'algorithm': 'auto', 'leaf_size': 16, 'n_neighbors': 18, 'weights': 'uniform'}\n",
      "0.822 (+/-0.077) for {'algorithm': 'auto', 'leaf_size': 16, 'n_neighbors': 18, 'weights': 'distance'}\n",
      "0.835 (+/-0.073) for {'algorithm': 'auto', 'leaf_size': 16, 'n_neighbors': 20, 'weights': 'uniform'}\n",
      "0.818 (+/-0.077) for {'algorithm': 'auto', 'leaf_size': 16, 'n_neighbors': 20, 'weights': 'distance'}\n",
      "0.836 (+/-0.084) for {'algorithm': 'auto', 'leaf_size': 16, 'n_neighbors': 22, 'weights': 'uniform'}\n",
      "0.822 (+/-0.073) for {'algorithm': 'auto', 'leaf_size': 16, 'n_neighbors': 22, 'weights': 'distance'}\n",
      "0.834 (+/-0.092) for {'algorithm': 'auto', 'leaf_size': 21, 'n_neighbors': 6, 'weights': 'uniform'}\n",
      "0.817 (+/-0.073) for {'algorithm': 'auto', 'leaf_size': 21, 'n_neighbors': 6, 'weights': 'distance'}\n",
      "0.819 (+/-0.091) for {'algorithm': 'auto', 'leaf_size': 21, 'n_neighbors': 7, 'weights': 'uniform'}\n",
      "0.816 (+/-0.075) for {'algorithm': 'auto', 'leaf_size': 21, 'n_neighbors': 7, 'weights': 'distance'}\n",
      "0.828 (+/-0.077) for {'algorithm': 'auto', 'leaf_size': 21, 'n_neighbors': 8, 'weights': 'uniform'}\n",
      "0.822 (+/-0.079) for {'algorithm': 'auto', 'leaf_size': 21, 'n_neighbors': 8, 'weights': 'distance'}\n",
      "0.823 (+/-0.091) for {'algorithm': 'auto', 'leaf_size': 21, 'n_neighbors': 9, 'weights': 'uniform'}\n",
      "0.814 (+/-0.075) for {'algorithm': 'auto', 'leaf_size': 21, 'n_neighbors': 9, 'weights': 'distance'}\n",
      "0.831 (+/-0.082) for {'algorithm': 'auto', 'leaf_size': 21, 'n_neighbors': 10, 'weights': 'uniform'}\n",
      "0.816 (+/-0.076) for {'algorithm': 'auto', 'leaf_size': 21, 'n_neighbors': 10, 'weights': 'distance'}\n",
      "0.832 (+/-0.079) for {'algorithm': 'auto', 'leaf_size': 21, 'n_neighbors': 11, 'weights': 'uniform'}\n",
      "0.816 (+/-0.064) for {'algorithm': 'auto', 'leaf_size': 21, 'n_neighbors': 11, 'weights': 'distance'}\n",
      "0.833 (+/-0.081) for {'algorithm': 'auto', 'leaf_size': 21, 'n_neighbors': 12, 'weights': 'uniform'}\n",
      "0.818 (+/-0.074) for {'algorithm': 'auto', 'leaf_size': 21, 'n_neighbors': 12, 'weights': 'distance'}\n",
      "0.833 (+/-0.073) for {'algorithm': 'auto', 'leaf_size': 21, 'n_neighbors': 14, 'weights': 'uniform'}\n",
      "0.816 (+/-0.075) for {'algorithm': 'auto', 'leaf_size': 21, 'n_neighbors': 14, 'weights': 'distance'}\n",
      "0.836 (+/-0.081) for {'algorithm': 'auto', 'leaf_size': 21, 'n_neighbors': 16, 'weights': 'uniform'}\n",
      "0.819 (+/-0.078) for {'algorithm': 'auto', 'leaf_size': 21, 'n_neighbors': 16, 'weights': 'distance'}\n",
      "0.835 (+/-0.060) for {'algorithm': 'auto', 'leaf_size': 21, 'n_neighbors': 18, 'weights': 'uniform'}\n",
      "0.822 (+/-0.077) for {'algorithm': 'auto', 'leaf_size': 21, 'n_neighbors': 18, 'weights': 'distance'}\n",
      "0.835 (+/-0.073) for {'algorithm': 'auto', 'leaf_size': 21, 'n_neighbors': 20, 'weights': 'uniform'}\n",
      "0.818 (+/-0.077) for {'algorithm': 'auto', 'leaf_size': 21, 'n_neighbors': 20, 'weights': 'distance'}\n",
      "0.836 (+/-0.084) for {'algorithm': 'auto', 'leaf_size': 21, 'n_neighbors': 22, 'weights': 'uniform'}\n",
      "0.822 (+/-0.073) for {'algorithm': 'auto', 'leaf_size': 21, 'n_neighbors': 22, 'weights': 'distance'}\n",
      "0.836 (+/-0.086) for {'algorithm': 'auto', 'leaf_size': 26, 'n_neighbors': 6, 'weights': 'uniform'}\n",
      "0.818 (+/-0.067) for {'algorithm': 'auto', 'leaf_size': 26, 'n_neighbors': 6, 'weights': 'distance'}\n",
      "0.820 (+/-0.093) for {'algorithm': 'auto', 'leaf_size': 26, 'n_neighbors': 7, 'weights': 'uniform'}\n",
      "0.816 (+/-0.075) for {'algorithm': 'auto', 'leaf_size': 26, 'n_neighbors': 7, 'weights': 'distance'}\n",
      "0.828 (+/-0.077) for {'algorithm': 'auto', 'leaf_size': 26, 'n_neighbors': 8, 'weights': 'uniform'}\n",
      "0.822 (+/-0.079) for {'algorithm': 'auto', 'leaf_size': 26, 'n_neighbors': 8, 'weights': 'distance'}\n",
      "0.822 (+/-0.092) for {'algorithm': 'auto', 'leaf_size': 26, 'n_neighbors': 9, 'weights': 'uniform'}\n",
      "0.814 (+/-0.075) for {'algorithm': 'auto', 'leaf_size': 26, 'n_neighbors': 9, 'weights': 'distance'}\n",
      "0.831 (+/-0.082) for {'algorithm': 'auto', 'leaf_size': 26, 'n_neighbors': 10, 'weights': 'uniform'}\n",
      "0.815 (+/-0.074) for {'algorithm': 'auto', 'leaf_size': 26, 'n_neighbors': 10, 'weights': 'distance'}\n",
      "0.832 (+/-0.079) for {'algorithm': 'auto', 'leaf_size': 26, 'n_neighbors': 11, 'weights': 'uniform'}\n",
      "0.816 (+/-0.064) for {'algorithm': 'auto', 'leaf_size': 26, 'n_neighbors': 11, 'weights': 'distance'}\n",
      "0.833 (+/-0.081) for {'algorithm': 'auto', 'leaf_size': 26, 'n_neighbors': 12, 'weights': 'uniform'}\n",
      "0.818 (+/-0.074) for {'algorithm': 'auto', 'leaf_size': 26, 'n_neighbors': 12, 'weights': 'distance'}\n",
      "0.833 (+/-0.073) for {'algorithm': 'auto', 'leaf_size': 26, 'n_neighbors': 14, 'weights': 'uniform'}\n",
      "0.816 (+/-0.075) for {'algorithm': 'auto', 'leaf_size': 26, 'n_neighbors': 14, 'weights': 'distance'}\n",
      "0.836 (+/-0.081) for {'algorithm': 'auto', 'leaf_size': 26, 'n_neighbors': 16, 'weights': 'uniform'}\n",
      "0.819 (+/-0.078) for {'algorithm': 'auto', 'leaf_size': 26, 'n_neighbors': 16, 'weights': 'distance'}\n",
      "0.835 (+/-0.060) for {'algorithm': 'auto', 'leaf_size': 26, 'n_neighbors': 18, 'weights': 'uniform'}\n",
      "0.820 (+/-0.075) for {'algorithm': 'auto', 'leaf_size': 26, 'n_neighbors': 18, 'weights': 'distance'}\n",
      "0.835 (+/-0.073) for {'algorithm': 'auto', 'leaf_size': 26, 'n_neighbors': 20, 'weights': 'uniform'}\n",
      "0.819 (+/-0.078) for {'algorithm': 'auto', 'leaf_size': 26, 'n_neighbors': 20, 'weights': 'distance'}\n",
      "0.836 (+/-0.084) for {'algorithm': 'auto', 'leaf_size': 26, 'n_neighbors': 22, 'weights': 'uniform'}\n",
      "0.822 (+/-0.073) for {'algorithm': 'auto', 'leaf_size': 26, 'n_neighbors': 22, 'weights': 'distance'}\n",
      "0.836 (+/-0.086) for {'algorithm': 'auto', 'leaf_size': 31, 'n_neighbors': 6, 'weights': 'uniform'}\n",
      "0.818 (+/-0.067) for {'algorithm': 'auto', 'leaf_size': 31, 'n_neighbors': 6, 'weights': 'distance'}\n",
      "0.820 (+/-0.093) for {'algorithm': 'auto', 'leaf_size': 31, 'n_neighbors': 7, 'weights': 'uniform'}\n",
      "0.816 (+/-0.075) for {'algorithm': 'auto', 'leaf_size': 31, 'n_neighbors': 7, 'weights': 'distance'}\n",
      "0.828 (+/-0.077) for {'algorithm': 'auto', 'leaf_size': 31, 'n_neighbors': 8, 'weights': 'uniform'}\n",
      "0.822 (+/-0.079) for {'algorithm': 'auto', 'leaf_size': 31, 'n_neighbors': 8, 'weights': 'distance'}\n",
      "0.822 (+/-0.092) for {'algorithm': 'auto', 'leaf_size': 31, 'n_neighbors': 9, 'weights': 'uniform'}\n",
      "0.814 (+/-0.075) for {'algorithm': 'auto', 'leaf_size': 31, 'n_neighbors': 9, 'weights': 'distance'}\n",
      "0.831 (+/-0.082) for {'algorithm': 'auto', 'leaf_size': 31, 'n_neighbors': 10, 'weights': 'uniform'}\n",
      "0.815 (+/-0.074) for {'algorithm': 'auto', 'leaf_size': 31, 'n_neighbors': 10, 'weights': 'distance'}\n",
      "0.832 (+/-0.079) for {'algorithm': 'auto', 'leaf_size': 31, 'n_neighbors': 11, 'weights': 'uniform'}\n",
      "0.816 (+/-0.064) for {'algorithm': 'auto', 'leaf_size': 31, 'n_neighbors': 11, 'weights': 'distance'}\n",
      "0.833 (+/-0.081) for {'algorithm': 'auto', 'leaf_size': 31, 'n_neighbors': 12, 'weights': 'uniform'}\n",
      "0.818 (+/-0.074) for {'algorithm': 'auto', 'leaf_size': 31, 'n_neighbors': 12, 'weights': 'distance'}\n",
      "0.833 (+/-0.073) for {'algorithm': 'auto', 'leaf_size': 31, 'n_neighbors': 14, 'weights': 'uniform'}\n",
      "0.816 (+/-0.075) for {'algorithm': 'auto', 'leaf_size': 31, 'n_neighbors': 14, 'weights': 'distance'}\n",
      "0.836 (+/-0.081) for {'algorithm': 'auto', 'leaf_size': 31, 'n_neighbors': 16, 'weights': 'uniform'}\n",
      "0.819 (+/-0.078) for {'algorithm': 'auto', 'leaf_size': 31, 'n_neighbors': 16, 'weights': 'distance'}\n",
      "0.835 (+/-0.060) for {'algorithm': 'auto', 'leaf_size': 31, 'n_neighbors': 18, 'weights': 'uniform'}\n",
      "0.820 (+/-0.075) for {'algorithm': 'auto', 'leaf_size': 31, 'n_neighbors': 18, 'weights': 'distance'}\n",
      "0.835 (+/-0.073) for {'algorithm': 'auto', 'leaf_size': 31, 'n_neighbors': 20, 'weights': 'uniform'}\n",
      "0.819 (+/-0.078) for {'algorithm': 'auto', 'leaf_size': 31, 'n_neighbors': 20, 'weights': 'distance'}\n",
      "0.836 (+/-0.084) for {'algorithm': 'auto', 'leaf_size': 31, 'n_neighbors': 22, 'weights': 'uniform'}\n",
      "0.822 (+/-0.073) for {'algorithm': 'auto', 'leaf_size': 31, 'n_neighbors': 22, 'weights': 'distance'}\n",
      "0.836 (+/-0.086) for {'algorithm': 'auto', 'leaf_size': 36, 'n_neighbors': 6, 'weights': 'uniform'}\n",
      "0.818 (+/-0.067) for {'algorithm': 'auto', 'leaf_size': 36, 'n_neighbors': 6, 'weights': 'distance'}\n",
      "0.820 (+/-0.093) for {'algorithm': 'auto', 'leaf_size': 36, 'n_neighbors': 7, 'weights': 'uniform'}\n",
      "0.816 (+/-0.075) for {'algorithm': 'auto', 'leaf_size': 36, 'n_neighbors': 7, 'weights': 'distance'}\n",
      "0.828 (+/-0.077) for {'algorithm': 'auto', 'leaf_size': 36, 'n_neighbors': 8, 'weights': 'uniform'}\n",
      "0.822 (+/-0.079) for {'algorithm': 'auto', 'leaf_size': 36, 'n_neighbors': 8, 'weights': 'distance'}\n",
      "0.822 (+/-0.092) for {'algorithm': 'auto', 'leaf_size': 36, 'n_neighbors': 9, 'weights': 'uniform'}\n",
      "0.814 (+/-0.075) for {'algorithm': 'auto', 'leaf_size': 36, 'n_neighbors': 9, 'weights': 'distance'}\n",
      "0.831 (+/-0.082) for {'algorithm': 'auto', 'leaf_size': 36, 'n_neighbors': 10, 'weights': 'uniform'}\n",
      "0.815 (+/-0.074) for {'algorithm': 'auto', 'leaf_size': 36, 'n_neighbors': 10, 'weights': 'distance'}\n",
      "0.832 (+/-0.079) for {'algorithm': 'auto', 'leaf_size': 36, 'n_neighbors': 11, 'weights': 'uniform'}\n",
      "0.816 (+/-0.064) for {'algorithm': 'auto', 'leaf_size': 36, 'n_neighbors': 11, 'weights': 'distance'}\n",
      "0.833 (+/-0.081) for {'algorithm': 'auto', 'leaf_size': 36, 'n_neighbors': 12, 'weights': 'uniform'}\n",
      "0.818 (+/-0.074) for {'algorithm': 'auto', 'leaf_size': 36, 'n_neighbors': 12, 'weights': 'distance'}\n",
      "0.833 (+/-0.073) for {'algorithm': 'auto', 'leaf_size': 36, 'n_neighbors': 14, 'weights': 'uniform'}\n",
      "0.816 (+/-0.075) for {'algorithm': 'auto', 'leaf_size': 36, 'n_neighbors': 14, 'weights': 'distance'}\n",
      "0.836 (+/-0.081) for {'algorithm': 'auto', 'leaf_size': 36, 'n_neighbors': 16, 'weights': 'uniform'}\n",
      "0.819 (+/-0.078) for {'algorithm': 'auto', 'leaf_size': 36, 'n_neighbors': 16, 'weights': 'distance'}\n",
      "0.835 (+/-0.060) for {'algorithm': 'auto', 'leaf_size': 36, 'n_neighbors': 18, 'weights': 'uniform'}\n",
      "0.820 (+/-0.075) for {'algorithm': 'auto', 'leaf_size': 36, 'n_neighbors': 18, 'weights': 'distance'}\n",
      "0.835 (+/-0.073) for {'algorithm': 'auto', 'leaf_size': 36, 'n_neighbors': 20, 'weights': 'uniform'}\n",
      "0.819 (+/-0.078) for {'algorithm': 'auto', 'leaf_size': 36, 'n_neighbors': 20, 'weights': 'distance'}\n",
      "0.836 (+/-0.084) for {'algorithm': 'auto', 'leaf_size': 36, 'n_neighbors': 22, 'weights': 'uniform'}\n",
      "0.822 (+/-0.073) for {'algorithm': 'auto', 'leaf_size': 36, 'n_neighbors': 22, 'weights': 'distance'}\n",
      "0.836 (+/-0.086) for {'algorithm': 'auto', 'leaf_size': 41, 'n_neighbors': 6, 'weights': 'uniform'}\n",
      "0.818 (+/-0.067) for {'algorithm': 'auto', 'leaf_size': 41, 'n_neighbors': 6, 'weights': 'distance'}\n",
      "0.820 (+/-0.093) for {'algorithm': 'auto', 'leaf_size': 41, 'n_neighbors': 7, 'weights': 'uniform'}\n",
      "0.816 (+/-0.075) for {'algorithm': 'auto', 'leaf_size': 41, 'n_neighbors': 7, 'weights': 'distance'}\n",
      "0.828 (+/-0.077) for {'algorithm': 'auto', 'leaf_size': 41, 'n_neighbors': 8, 'weights': 'uniform'}\n",
      "0.822 (+/-0.079) for {'algorithm': 'auto', 'leaf_size': 41, 'n_neighbors': 8, 'weights': 'distance'}\n",
      "0.822 (+/-0.092) for {'algorithm': 'auto', 'leaf_size': 41, 'n_neighbors': 9, 'weights': 'uniform'}\n",
      "0.814 (+/-0.075) for {'algorithm': 'auto', 'leaf_size': 41, 'n_neighbors': 9, 'weights': 'distance'}\n",
      "0.831 (+/-0.082) for {'algorithm': 'auto', 'leaf_size': 41, 'n_neighbors': 10, 'weights': 'uniform'}\n",
      "0.815 (+/-0.074) for {'algorithm': 'auto', 'leaf_size': 41, 'n_neighbors': 10, 'weights': 'distance'}\n",
      "0.832 (+/-0.079) for {'algorithm': 'auto', 'leaf_size': 41, 'n_neighbors': 11, 'weights': 'uniform'}\n",
      "0.816 (+/-0.064) for {'algorithm': 'auto', 'leaf_size': 41, 'n_neighbors': 11, 'weights': 'distance'}\n",
      "0.833 (+/-0.081) for {'algorithm': 'auto', 'leaf_size': 41, 'n_neighbors': 12, 'weights': 'uniform'}\n",
      "0.818 (+/-0.074) for {'algorithm': 'auto', 'leaf_size': 41, 'n_neighbors': 12, 'weights': 'distance'}\n",
      "0.833 (+/-0.073) for {'algorithm': 'auto', 'leaf_size': 41, 'n_neighbors': 14, 'weights': 'uniform'}\n",
      "0.816 (+/-0.075) for {'algorithm': 'auto', 'leaf_size': 41, 'n_neighbors': 14, 'weights': 'distance'}\n",
      "0.836 (+/-0.081) for {'algorithm': 'auto', 'leaf_size': 41, 'n_neighbors': 16, 'weights': 'uniform'}\n",
      "0.819 (+/-0.078) for {'algorithm': 'auto', 'leaf_size': 41, 'n_neighbors': 16, 'weights': 'distance'}\n",
      "0.835 (+/-0.060) for {'algorithm': 'auto', 'leaf_size': 41, 'n_neighbors': 18, 'weights': 'uniform'}\n",
      "0.820 (+/-0.075) for {'algorithm': 'auto', 'leaf_size': 41, 'n_neighbors': 18, 'weights': 'distance'}\n",
      "0.835 (+/-0.073) for {'algorithm': 'auto', 'leaf_size': 41, 'n_neighbors': 20, 'weights': 'uniform'}\n",
      "0.819 (+/-0.078) for {'algorithm': 'auto', 'leaf_size': 41, 'n_neighbors': 20, 'weights': 'distance'}\n",
      "0.836 (+/-0.084) for {'algorithm': 'auto', 'leaf_size': 41, 'n_neighbors': 22, 'weights': 'uniform'}\n",
      "0.822 (+/-0.073) for {'algorithm': 'auto', 'leaf_size': 41, 'n_neighbors': 22, 'weights': 'distance'}\n",
      "0.836 (+/-0.086) for {'algorithm': 'auto', 'leaf_size': 46, 'n_neighbors': 6, 'weights': 'uniform'}\n",
      "0.818 (+/-0.067) for {'algorithm': 'auto', 'leaf_size': 46, 'n_neighbors': 6, 'weights': 'distance'}\n",
      "0.820 (+/-0.093) for {'algorithm': 'auto', 'leaf_size': 46, 'n_neighbors': 7, 'weights': 'uniform'}\n",
      "0.816 (+/-0.075) for {'algorithm': 'auto', 'leaf_size': 46, 'n_neighbors': 7, 'weights': 'distance'}\n",
      "0.828 (+/-0.077) for {'algorithm': 'auto', 'leaf_size': 46, 'n_neighbors': 8, 'weights': 'uniform'}\n",
      "0.822 (+/-0.079) for {'algorithm': 'auto', 'leaf_size': 46, 'n_neighbors': 8, 'weights': 'distance'}\n",
      "0.822 (+/-0.092) for {'algorithm': 'auto', 'leaf_size': 46, 'n_neighbors': 9, 'weights': 'uniform'}\n",
      "0.814 (+/-0.075) for {'algorithm': 'auto', 'leaf_size': 46, 'n_neighbors': 9, 'weights': 'distance'}\n",
      "0.831 (+/-0.082) for {'algorithm': 'auto', 'leaf_size': 46, 'n_neighbors': 10, 'weights': 'uniform'}\n",
      "0.815 (+/-0.074) for {'algorithm': 'auto', 'leaf_size': 46, 'n_neighbors': 10, 'weights': 'distance'}\n",
      "0.832 (+/-0.079) for {'algorithm': 'auto', 'leaf_size': 46, 'n_neighbors': 11, 'weights': 'uniform'}\n",
      "0.816 (+/-0.064) for {'algorithm': 'auto', 'leaf_size': 46, 'n_neighbors': 11, 'weights': 'distance'}\n",
      "0.833 (+/-0.081) for {'algorithm': 'auto', 'leaf_size': 46, 'n_neighbors': 12, 'weights': 'uniform'}\n",
      "0.818 (+/-0.074) for {'algorithm': 'auto', 'leaf_size': 46, 'n_neighbors': 12, 'weights': 'distance'}\n",
      "0.833 (+/-0.073) for {'algorithm': 'auto', 'leaf_size': 46, 'n_neighbors': 14, 'weights': 'uniform'}\n",
      "0.816 (+/-0.075) for {'algorithm': 'auto', 'leaf_size': 46, 'n_neighbors': 14, 'weights': 'distance'}\n",
      "0.836 (+/-0.081) for {'algorithm': 'auto', 'leaf_size': 46, 'n_neighbors': 16, 'weights': 'uniform'}\n",
      "0.819 (+/-0.078) for {'algorithm': 'auto', 'leaf_size': 46, 'n_neighbors': 16, 'weights': 'distance'}\n",
      "0.835 (+/-0.060) for {'algorithm': 'auto', 'leaf_size': 46, 'n_neighbors': 18, 'weights': 'uniform'}\n",
      "0.820 (+/-0.075) for {'algorithm': 'auto', 'leaf_size': 46, 'n_neighbors': 18, 'weights': 'distance'}\n",
      "0.835 (+/-0.073) for {'algorithm': 'auto', 'leaf_size': 46, 'n_neighbors': 20, 'weights': 'uniform'}\n",
      "0.819 (+/-0.078) for {'algorithm': 'auto', 'leaf_size': 46, 'n_neighbors': 20, 'weights': 'distance'}\n",
      "0.836 (+/-0.084) for {'algorithm': 'auto', 'leaf_size': 46, 'n_neighbors': 22, 'weights': 'uniform'}\n",
      "0.822 (+/-0.073) for {'algorithm': 'auto', 'leaf_size': 46, 'n_neighbors': 22, 'weights': 'distance'}\n",
      "\n",
      "# Tuning hyper-parameters for f1\n",
      "\n",
      "Fitting 10 folds for each of 240 candidates, totalling 2400 fits\n",
      "Best parameters set found on development set:\n",
      "\n",
      "{'algorithm': 'auto', 'leaf_size': 1, 'n_neighbors': 22, 'weights': 'uniform'}\n",
      "\n",
      "Grid scores on development set:\n",
      "\n",
      "0.754 (+/-0.148) for {'algorithm': 'auto', 'leaf_size': 1, 'n_neighbors': 6, 'weights': 'uniform'}\n",
      "0.753 (+/-0.118) for {'algorithm': 'auto', 'leaf_size': 1, 'n_neighbors': 6, 'weights': 'distance'}\n",
      "0.749 (+/-0.148) for {'algorithm': 'auto', 'leaf_size': 1, 'n_neighbors': 7, 'weights': 'uniform'}\n",
      "0.751 (+/-0.125) for {'algorithm': 'auto', 'leaf_size': 1, 'n_neighbors': 7, 'weights': 'distance'}\n",
      "0.746 (+/-0.135) for {'algorithm': 'auto', 'leaf_size': 1, 'n_neighbors': 8, 'weights': 'uniform'}\n",
      "0.758 (+/-0.129) for {'algorithm': 'auto', 'leaf_size': 1, 'n_neighbors': 8, 'weights': 'distance'}\n",
      "0.750 (+/-0.148) for {'algorithm': 'auto', 'leaf_size': 1, 'n_neighbors': 9, 'weights': 'uniform'}\n",
      "0.747 (+/-0.125) for {'algorithm': 'auto', 'leaf_size': 1, 'n_neighbors': 9, 'weights': 'distance'}\n",
      "0.756 (+/-0.139) for {'algorithm': 'auto', 'leaf_size': 1, 'n_neighbors': 10, 'weights': 'uniform'}\n",
      "0.751 (+/-0.126) for {'algorithm': 'auto', 'leaf_size': 1, 'n_neighbors': 10, 'weights': 'distance'}\n",
      "0.762 (+/-0.133) for {'algorithm': 'auto', 'leaf_size': 1, 'n_neighbors': 11, 'weights': 'uniform'}\n",
      "0.749 (+/-0.115) for {'algorithm': 'auto', 'leaf_size': 1, 'n_neighbors': 11, 'weights': 'distance'}\n",
      "0.755 (+/-0.134) for {'algorithm': 'auto', 'leaf_size': 1, 'n_neighbors': 12, 'weights': 'uniform'}\n",
      "0.752 (+/-0.126) for {'algorithm': 'auto', 'leaf_size': 1, 'n_neighbors': 12, 'weights': 'distance'}\n",
      "0.759 (+/-0.125) for {'algorithm': 'auto', 'leaf_size': 1, 'n_neighbors': 14, 'weights': 'uniform'}\n",
      "0.748 (+/-0.125) for {'algorithm': 'auto', 'leaf_size': 1, 'n_neighbors': 14, 'weights': 'distance'}\n",
      "0.764 (+/-0.132) for {'algorithm': 'auto', 'leaf_size': 1, 'n_neighbors': 16, 'weights': 'uniform'}\n",
      "0.752 (+/-0.125) for {'algorithm': 'auto', 'leaf_size': 1, 'n_neighbors': 16, 'weights': 'distance'}\n",
      "0.764 (+/-0.113) for {'algorithm': 'auto', 'leaf_size': 1, 'n_neighbors': 18, 'weights': 'uniform'}\n",
      "0.754 (+/-0.124) for {'algorithm': 'auto', 'leaf_size': 1, 'n_neighbors': 18, 'weights': 'distance'}\n",
      "0.765 (+/-0.124) for {'algorithm': 'auto', 'leaf_size': 1, 'n_neighbors': 20, 'weights': 'uniform'}\n",
      "0.753 (+/-0.125) for {'algorithm': 'auto', 'leaf_size': 1, 'n_neighbors': 20, 'weights': 'distance'}\n",
      "0.765 (+/-0.136) for {'algorithm': 'auto', 'leaf_size': 1, 'n_neighbors': 22, 'weights': 'uniform'}\n",
      "0.757 (+/-0.117) for {'algorithm': 'auto', 'leaf_size': 1, 'n_neighbors': 22, 'weights': 'distance'}\n",
      "0.756 (+/-0.148) for {'algorithm': 'auto', 'leaf_size': 6, 'n_neighbors': 6, 'weights': 'uniform'}\n",
      "0.754 (+/-0.120) for {'algorithm': 'auto', 'leaf_size': 6, 'n_neighbors': 6, 'weights': 'distance'}\n",
      "0.749 (+/-0.148) for {'algorithm': 'auto', 'leaf_size': 6, 'n_neighbors': 7, 'weights': 'uniform'}\n",
      "0.751 (+/-0.125) for {'algorithm': 'auto', 'leaf_size': 6, 'n_neighbors': 7, 'weights': 'distance'}\n",
      "0.746 (+/-0.135) for {'algorithm': 'auto', 'leaf_size': 6, 'n_neighbors': 8, 'weights': 'uniform'}\n",
      "0.758 (+/-0.129) for {'algorithm': 'auto', 'leaf_size': 6, 'n_neighbors': 8, 'weights': 'distance'}\n",
      "0.751 (+/-0.147) for {'algorithm': 'auto', 'leaf_size': 6, 'n_neighbors': 9, 'weights': 'uniform'}\n",
      "0.747 (+/-0.125) for {'algorithm': 'auto', 'leaf_size': 6, 'n_neighbors': 9, 'weights': 'distance'}\n",
      "0.755 (+/-0.138) for {'algorithm': 'auto', 'leaf_size': 6, 'n_neighbors': 10, 'weights': 'uniform'}\n",
      "0.750 (+/-0.124) for {'algorithm': 'auto', 'leaf_size': 6, 'n_neighbors': 10, 'weights': 'distance'}\n",
      "0.762 (+/-0.133) for {'algorithm': 'auto', 'leaf_size': 6, 'n_neighbors': 11, 'weights': 'uniform'}\n",
      "0.749 (+/-0.115) for {'algorithm': 'auto', 'leaf_size': 6, 'n_neighbors': 11, 'weights': 'distance'}\n",
      "0.755 (+/-0.134) for {'algorithm': 'auto', 'leaf_size': 6, 'n_neighbors': 12, 'weights': 'uniform'}\n",
      "0.752 (+/-0.126) for {'algorithm': 'auto', 'leaf_size': 6, 'n_neighbors': 12, 'weights': 'distance'}\n",
      "0.759 (+/-0.125) for {'algorithm': 'auto', 'leaf_size': 6, 'n_neighbors': 14, 'weights': 'uniform'}\n",
      "0.748 (+/-0.125) for {'algorithm': 'auto', 'leaf_size': 6, 'n_neighbors': 14, 'weights': 'distance'}\n",
      "0.764 (+/-0.132) for {'algorithm': 'auto', 'leaf_size': 6, 'n_neighbors': 16, 'weights': 'uniform'}\n",
      "0.752 (+/-0.125) for {'algorithm': 'auto', 'leaf_size': 6, 'n_neighbors': 16, 'weights': 'distance'}\n",
      "0.764 (+/-0.113) for {'algorithm': 'auto', 'leaf_size': 6, 'n_neighbors': 18, 'weights': 'uniform'}\n",
      "0.754 (+/-0.124) for {'algorithm': 'auto', 'leaf_size': 6, 'n_neighbors': 18, 'weights': 'distance'}\n",
      "0.765 (+/-0.124) for {'algorithm': 'auto', 'leaf_size': 6, 'n_neighbors': 20, 'weights': 'uniform'}\n",
      "0.753 (+/-0.125) for {'algorithm': 'auto', 'leaf_size': 6, 'n_neighbors': 20, 'weights': 'distance'}\n",
      "0.765 (+/-0.136) for {'algorithm': 'auto', 'leaf_size': 6, 'n_neighbors': 22, 'weights': 'uniform'}\n",
      "0.757 (+/-0.117) for {'algorithm': 'auto', 'leaf_size': 6, 'n_neighbors': 22, 'weights': 'distance'}\n",
      "0.755 (+/-0.153) for {'algorithm': 'auto', 'leaf_size': 11, 'n_neighbors': 6, 'weights': 'uniform'}\n",
      "0.752 (+/-0.123) for {'algorithm': 'auto', 'leaf_size': 11, 'n_neighbors': 6, 'weights': 'distance'}\n",
      "0.751 (+/-0.142) for {'algorithm': 'auto', 'leaf_size': 11, 'n_neighbors': 7, 'weights': 'uniform'}\n",
      "0.751 (+/-0.125) for {'algorithm': 'auto', 'leaf_size': 11, 'n_neighbors': 7, 'weights': 'distance'}\n",
      "0.746 (+/-0.135) for {'algorithm': 'auto', 'leaf_size': 11, 'n_neighbors': 8, 'weights': 'uniform'}\n",
      "0.758 (+/-0.129) for {'algorithm': 'auto', 'leaf_size': 11, 'n_neighbors': 8, 'weights': 'distance'}\n",
      "0.751 (+/-0.147) for {'algorithm': 'auto', 'leaf_size': 11, 'n_neighbors': 9, 'weights': 'uniform'}\n",
      "0.747 (+/-0.125) for {'algorithm': 'auto', 'leaf_size': 11, 'n_neighbors': 9, 'weights': 'distance'}\n",
      "0.756 (+/-0.139) for {'algorithm': 'auto', 'leaf_size': 11, 'n_neighbors': 10, 'weights': 'uniform'}\n",
      "0.751 (+/-0.126) for {'algorithm': 'auto', 'leaf_size': 11, 'n_neighbors': 10, 'weights': 'distance'}\n",
      "0.762 (+/-0.133) for {'algorithm': 'auto', 'leaf_size': 11, 'n_neighbors': 11, 'weights': 'uniform'}\n",
      "0.749 (+/-0.115) for {'algorithm': 'auto', 'leaf_size': 11, 'n_neighbors': 11, 'weights': 'distance'}\n",
      "0.755 (+/-0.134) for {'algorithm': 'auto', 'leaf_size': 11, 'n_neighbors': 12, 'weights': 'uniform'}\n",
      "0.752 (+/-0.126) for {'algorithm': 'auto', 'leaf_size': 11, 'n_neighbors': 12, 'weights': 'distance'}\n",
      "0.759 (+/-0.125) for {'algorithm': 'auto', 'leaf_size': 11, 'n_neighbors': 14, 'weights': 'uniform'}\n",
      "0.748 (+/-0.125) for {'algorithm': 'auto', 'leaf_size': 11, 'n_neighbors': 14, 'weights': 'distance'}\n",
      "0.764 (+/-0.132) for {'algorithm': 'auto', 'leaf_size': 11, 'n_neighbors': 16, 'weights': 'uniform'}\n",
      "0.752 (+/-0.125) for {'algorithm': 'auto', 'leaf_size': 11, 'n_neighbors': 16, 'weights': 'distance'}\n",
      "0.764 (+/-0.113) for {'algorithm': 'auto', 'leaf_size': 11, 'n_neighbors': 18, 'weights': 'uniform'}\n",
      "0.754 (+/-0.124) for {'algorithm': 'auto', 'leaf_size': 11, 'n_neighbors': 18, 'weights': 'distance'}\n",
      "0.765 (+/-0.124) for {'algorithm': 'auto', 'leaf_size': 11, 'n_neighbors': 20, 'weights': 'uniform'}\n",
      "0.751 (+/-0.124) for {'algorithm': 'auto', 'leaf_size': 11, 'n_neighbors': 20, 'weights': 'distance'}\n",
      "0.765 (+/-0.136) for {'algorithm': 'auto', 'leaf_size': 11, 'n_neighbors': 22, 'weights': 'uniform'}\n",
      "0.757 (+/-0.117) for {'algorithm': 'auto', 'leaf_size': 11, 'n_neighbors': 22, 'weights': 'distance'}\n",
      "0.753 (+/-0.153) for {'algorithm': 'auto', 'leaf_size': 16, 'n_neighbors': 6, 'weights': 'uniform'}\n",
      "0.752 (+/-0.123) for {'algorithm': 'auto', 'leaf_size': 16, 'n_neighbors': 6, 'weights': 'distance'}\n",
      "0.748 (+/-0.146) for {'algorithm': 'auto', 'leaf_size': 16, 'n_neighbors': 7, 'weights': 'uniform'}\n",
      "0.751 (+/-0.125) for {'algorithm': 'auto', 'leaf_size': 16, 'n_neighbors': 7, 'weights': 'distance'}\n",
      "0.746 (+/-0.135) for {'algorithm': 'auto', 'leaf_size': 16, 'n_neighbors': 8, 'weights': 'uniform'}\n",
      "0.758 (+/-0.129) for {'algorithm': 'auto', 'leaf_size': 16, 'n_neighbors': 8, 'weights': 'distance'}\n",
      "0.751 (+/-0.147) for {'algorithm': 'auto', 'leaf_size': 16, 'n_neighbors': 9, 'weights': 'uniform'}\n",
      "0.747 (+/-0.125) for {'algorithm': 'auto', 'leaf_size': 16, 'n_neighbors': 9, 'weights': 'distance'}\n",
      "0.755 (+/-0.138) for {'algorithm': 'auto', 'leaf_size': 16, 'n_neighbors': 10, 'weights': 'uniform'}\n",
      "0.750 (+/-0.124) for {'algorithm': 'auto', 'leaf_size': 16, 'n_neighbors': 10, 'weights': 'distance'}\n",
      "0.762 (+/-0.133) for {'algorithm': 'auto', 'leaf_size': 16, 'n_neighbors': 11, 'weights': 'uniform'}\n",
      "0.749 (+/-0.115) for {'algorithm': 'auto', 'leaf_size': 16, 'n_neighbors': 11, 'weights': 'distance'}\n",
      "0.755 (+/-0.134) for {'algorithm': 'auto', 'leaf_size': 16, 'n_neighbors': 12, 'weights': 'uniform'}\n",
      "0.752 (+/-0.126) for {'algorithm': 'auto', 'leaf_size': 16, 'n_neighbors': 12, 'weights': 'distance'}\n",
      "0.759 (+/-0.125) for {'algorithm': 'auto', 'leaf_size': 16, 'n_neighbors': 14, 'weights': 'uniform'}\n",
      "0.748 (+/-0.125) for {'algorithm': 'auto', 'leaf_size': 16, 'n_neighbors': 14, 'weights': 'distance'}\n",
      "0.764 (+/-0.132) for {'algorithm': 'auto', 'leaf_size': 16, 'n_neighbors': 16, 'weights': 'uniform'}\n",
      "0.752 (+/-0.125) for {'algorithm': 'auto', 'leaf_size': 16, 'n_neighbors': 16, 'weights': 'distance'}\n",
      "0.764 (+/-0.113) for {'algorithm': 'auto', 'leaf_size': 16, 'n_neighbors': 18, 'weights': 'uniform'}\n",
      "0.755 (+/-0.126) for {'algorithm': 'auto', 'leaf_size': 16, 'n_neighbors': 18, 'weights': 'distance'}\n",
      "0.765 (+/-0.124) for {'algorithm': 'auto', 'leaf_size': 16, 'n_neighbors': 20, 'weights': 'uniform'}\n",
      "0.751 (+/-0.124) for {'algorithm': 'auto', 'leaf_size': 16, 'n_neighbors': 20, 'weights': 'distance'}\n",
      "0.765 (+/-0.136) for {'algorithm': 'auto', 'leaf_size': 16, 'n_neighbors': 22, 'weights': 'uniform'}\n",
      "0.757 (+/-0.117) for {'algorithm': 'auto', 'leaf_size': 16, 'n_neighbors': 22, 'weights': 'distance'}\n",
      "0.753 (+/-0.153) for {'algorithm': 'auto', 'leaf_size': 21, 'n_neighbors': 6, 'weights': 'uniform'}\n",
      "0.752 (+/-0.123) for {'algorithm': 'auto', 'leaf_size': 21, 'n_neighbors': 6, 'weights': 'distance'}\n",
      "0.748 (+/-0.146) for {'algorithm': 'auto', 'leaf_size': 21, 'n_neighbors': 7, 'weights': 'uniform'}\n",
      "0.751 (+/-0.125) for {'algorithm': 'auto', 'leaf_size': 21, 'n_neighbors': 7, 'weights': 'distance'}\n",
      "0.746 (+/-0.135) for {'algorithm': 'auto', 'leaf_size': 21, 'n_neighbors': 8, 'weights': 'uniform'}\n",
      "0.758 (+/-0.129) for {'algorithm': 'auto', 'leaf_size': 21, 'n_neighbors': 8, 'weights': 'distance'}\n",
      "0.751 (+/-0.147) for {'algorithm': 'auto', 'leaf_size': 21, 'n_neighbors': 9, 'weights': 'uniform'}\n",
      "0.747 (+/-0.125) for {'algorithm': 'auto', 'leaf_size': 21, 'n_neighbors': 9, 'weights': 'distance'}\n",
      "0.755 (+/-0.138) for {'algorithm': 'auto', 'leaf_size': 21, 'n_neighbors': 10, 'weights': 'uniform'}\n",
      "0.750 (+/-0.124) for {'algorithm': 'auto', 'leaf_size': 21, 'n_neighbors': 10, 'weights': 'distance'}\n",
      "0.762 (+/-0.133) for {'algorithm': 'auto', 'leaf_size': 21, 'n_neighbors': 11, 'weights': 'uniform'}\n",
      "0.749 (+/-0.115) for {'algorithm': 'auto', 'leaf_size': 21, 'n_neighbors': 11, 'weights': 'distance'}\n",
      "0.755 (+/-0.134) for {'algorithm': 'auto', 'leaf_size': 21, 'n_neighbors': 12, 'weights': 'uniform'}\n",
      "0.752 (+/-0.126) for {'algorithm': 'auto', 'leaf_size': 21, 'n_neighbors': 12, 'weights': 'distance'}\n",
      "0.759 (+/-0.125) for {'algorithm': 'auto', 'leaf_size': 21, 'n_neighbors': 14, 'weights': 'uniform'}\n",
      "0.748 (+/-0.125) for {'algorithm': 'auto', 'leaf_size': 21, 'n_neighbors': 14, 'weights': 'distance'}\n",
      "0.764 (+/-0.132) for {'algorithm': 'auto', 'leaf_size': 21, 'n_neighbors': 16, 'weights': 'uniform'}\n",
      "0.752 (+/-0.125) for {'algorithm': 'auto', 'leaf_size': 21, 'n_neighbors': 16, 'weights': 'distance'}\n",
      "0.764 (+/-0.113) for {'algorithm': 'auto', 'leaf_size': 21, 'n_neighbors': 18, 'weights': 'uniform'}\n",
      "0.755 (+/-0.126) for {'algorithm': 'auto', 'leaf_size': 21, 'n_neighbors': 18, 'weights': 'distance'}\n",
      "0.765 (+/-0.124) for {'algorithm': 'auto', 'leaf_size': 21, 'n_neighbors': 20, 'weights': 'uniform'}\n",
      "0.751 (+/-0.124) for {'algorithm': 'auto', 'leaf_size': 21, 'n_neighbors': 20, 'weights': 'distance'}\n",
      "0.765 (+/-0.136) for {'algorithm': 'auto', 'leaf_size': 21, 'n_neighbors': 22, 'weights': 'uniform'}\n",
      "0.757 (+/-0.117) for {'algorithm': 'auto', 'leaf_size': 21, 'n_neighbors': 22, 'weights': 'distance'}\n",
      "0.756 (+/-0.148) for {'algorithm': 'auto', 'leaf_size': 26, 'n_neighbors': 6, 'weights': 'uniform'}\n",
      "0.753 (+/-0.118) for {'algorithm': 'auto', 'leaf_size': 26, 'n_neighbors': 6, 'weights': 'distance'}\n",
      "0.749 (+/-0.148) for {'algorithm': 'auto', 'leaf_size': 26, 'n_neighbors': 7, 'weights': 'uniform'}\n",
      "0.751 (+/-0.125) for {'algorithm': 'auto', 'leaf_size': 26, 'n_neighbors': 7, 'weights': 'distance'}\n",
      "0.746 (+/-0.135) for {'algorithm': 'auto', 'leaf_size': 26, 'n_neighbors': 8, 'weights': 'uniform'}\n",
      "0.758 (+/-0.129) for {'algorithm': 'auto', 'leaf_size': 26, 'n_neighbors': 8, 'weights': 'distance'}\n",
      "0.750 (+/-0.148) for {'algorithm': 'auto', 'leaf_size': 26, 'n_neighbors': 9, 'weights': 'uniform'}\n",
      "0.747 (+/-0.125) for {'algorithm': 'auto', 'leaf_size': 26, 'n_neighbors': 9, 'weights': 'distance'}\n",
      "0.755 (+/-0.138) for {'algorithm': 'auto', 'leaf_size': 26, 'n_neighbors': 10, 'weights': 'uniform'}\n",
      "0.749 (+/-0.123) for {'algorithm': 'auto', 'leaf_size': 26, 'n_neighbors': 10, 'weights': 'distance'}\n",
      "0.762 (+/-0.133) for {'algorithm': 'auto', 'leaf_size': 26, 'n_neighbors': 11, 'weights': 'uniform'}\n",
      "0.749 (+/-0.115) for {'algorithm': 'auto', 'leaf_size': 26, 'n_neighbors': 11, 'weights': 'distance'}\n",
      "0.755 (+/-0.134) for {'algorithm': 'auto', 'leaf_size': 26, 'n_neighbors': 12, 'weights': 'uniform'}\n",
      "0.752 (+/-0.126) for {'algorithm': 'auto', 'leaf_size': 26, 'n_neighbors': 12, 'weights': 'distance'}\n",
      "0.759 (+/-0.125) for {'algorithm': 'auto', 'leaf_size': 26, 'n_neighbors': 14, 'weights': 'uniform'}\n",
      "0.748 (+/-0.125) for {'algorithm': 'auto', 'leaf_size': 26, 'n_neighbors': 14, 'weights': 'distance'}\n",
      "0.764 (+/-0.132) for {'algorithm': 'auto', 'leaf_size': 26, 'n_neighbors': 16, 'weights': 'uniform'}\n",
      "0.752 (+/-0.125) for {'algorithm': 'auto', 'leaf_size': 26, 'n_neighbors': 16, 'weights': 'distance'}\n",
      "0.764 (+/-0.113) for {'algorithm': 'auto', 'leaf_size': 26, 'n_neighbors': 18, 'weights': 'uniform'}\n",
      "0.754 (+/-0.124) for {'algorithm': 'auto', 'leaf_size': 26, 'n_neighbors': 18, 'weights': 'distance'}\n",
      "0.765 (+/-0.124) for {'algorithm': 'auto', 'leaf_size': 26, 'n_neighbors': 20, 'weights': 'uniform'}\n",
      "0.753 (+/-0.125) for {'algorithm': 'auto', 'leaf_size': 26, 'n_neighbors': 20, 'weights': 'distance'}\n",
      "0.765 (+/-0.136) for {'algorithm': 'auto', 'leaf_size': 26, 'n_neighbors': 22, 'weights': 'uniform'}\n",
      "0.757 (+/-0.117) for {'algorithm': 'auto', 'leaf_size': 26, 'n_neighbors': 22, 'weights': 'distance'}\n",
      "0.756 (+/-0.148) for {'algorithm': 'auto', 'leaf_size': 31, 'n_neighbors': 6, 'weights': 'uniform'}\n",
      "0.753 (+/-0.118) for {'algorithm': 'auto', 'leaf_size': 31, 'n_neighbors': 6, 'weights': 'distance'}\n",
      "0.749 (+/-0.148) for {'algorithm': 'auto', 'leaf_size': 31, 'n_neighbors': 7, 'weights': 'uniform'}\n",
      "0.751 (+/-0.125) for {'algorithm': 'auto', 'leaf_size': 31, 'n_neighbors': 7, 'weights': 'distance'}\n",
      "0.746 (+/-0.135) for {'algorithm': 'auto', 'leaf_size': 31, 'n_neighbors': 8, 'weights': 'uniform'}\n",
      "0.758 (+/-0.129) for {'algorithm': 'auto', 'leaf_size': 31, 'n_neighbors': 8, 'weights': 'distance'}\n",
      "0.750 (+/-0.148) for {'algorithm': 'auto', 'leaf_size': 31, 'n_neighbors': 9, 'weights': 'uniform'}\n",
      "0.747 (+/-0.125) for {'algorithm': 'auto', 'leaf_size': 31, 'n_neighbors': 9, 'weights': 'distance'}\n",
      "0.755 (+/-0.138) for {'algorithm': 'auto', 'leaf_size': 31, 'n_neighbors': 10, 'weights': 'uniform'}\n",
      "0.749 (+/-0.123) for {'algorithm': 'auto', 'leaf_size': 31, 'n_neighbors': 10, 'weights': 'distance'}\n",
      "0.762 (+/-0.133) for {'algorithm': 'auto', 'leaf_size': 31, 'n_neighbors': 11, 'weights': 'uniform'}\n",
      "0.749 (+/-0.115) for {'algorithm': 'auto', 'leaf_size': 31, 'n_neighbors': 11, 'weights': 'distance'}\n",
      "0.755 (+/-0.134) for {'algorithm': 'auto', 'leaf_size': 31, 'n_neighbors': 12, 'weights': 'uniform'}\n",
      "0.752 (+/-0.126) for {'algorithm': 'auto', 'leaf_size': 31, 'n_neighbors': 12, 'weights': 'distance'}\n",
      "0.759 (+/-0.125) for {'algorithm': 'auto', 'leaf_size': 31, 'n_neighbors': 14, 'weights': 'uniform'}\n",
      "0.748 (+/-0.125) for {'algorithm': 'auto', 'leaf_size': 31, 'n_neighbors': 14, 'weights': 'distance'}\n",
      "0.764 (+/-0.132) for {'algorithm': 'auto', 'leaf_size': 31, 'n_neighbors': 16, 'weights': 'uniform'}\n",
      "0.752 (+/-0.125) for {'algorithm': 'auto', 'leaf_size': 31, 'n_neighbors': 16, 'weights': 'distance'}\n",
      "0.764 (+/-0.113) for {'algorithm': 'auto', 'leaf_size': 31, 'n_neighbors': 18, 'weights': 'uniform'}\n",
      "0.754 (+/-0.124) for {'algorithm': 'auto', 'leaf_size': 31, 'n_neighbors': 18, 'weights': 'distance'}\n",
      "0.765 (+/-0.124) for {'algorithm': 'auto', 'leaf_size': 31, 'n_neighbors': 20, 'weights': 'uniform'}\n",
      "0.753 (+/-0.125) for {'algorithm': 'auto', 'leaf_size': 31, 'n_neighbors': 20, 'weights': 'distance'}\n",
      "0.765 (+/-0.136) for {'algorithm': 'auto', 'leaf_size': 31, 'n_neighbors': 22, 'weights': 'uniform'}\n",
      "0.757 (+/-0.117) for {'algorithm': 'auto', 'leaf_size': 31, 'n_neighbors': 22, 'weights': 'distance'}\n",
      "0.756 (+/-0.148) for {'algorithm': 'auto', 'leaf_size': 36, 'n_neighbors': 6, 'weights': 'uniform'}\n",
      "0.753 (+/-0.118) for {'algorithm': 'auto', 'leaf_size': 36, 'n_neighbors': 6, 'weights': 'distance'}\n",
      "0.749 (+/-0.148) for {'algorithm': 'auto', 'leaf_size': 36, 'n_neighbors': 7, 'weights': 'uniform'}\n",
      "0.751 (+/-0.125) for {'algorithm': 'auto', 'leaf_size': 36, 'n_neighbors': 7, 'weights': 'distance'}\n",
      "0.746 (+/-0.135) for {'algorithm': 'auto', 'leaf_size': 36, 'n_neighbors': 8, 'weights': 'uniform'}\n",
      "0.758 (+/-0.129) for {'algorithm': 'auto', 'leaf_size': 36, 'n_neighbors': 8, 'weights': 'distance'}\n",
      "0.750 (+/-0.148) for {'algorithm': 'auto', 'leaf_size': 36, 'n_neighbors': 9, 'weights': 'uniform'}\n",
      "0.747 (+/-0.125) for {'algorithm': 'auto', 'leaf_size': 36, 'n_neighbors': 9, 'weights': 'distance'}\n",
      "0.755 (+/-0.138) for {'algorithm': 'auto', 'leaf_size': 36, 'n_neighbors': 10, 'weights': 'uniform'}\n",
      "0.749 (+/-0.123) for {'algorithm': 'auto', 'leaf_size': 36, 'n_neighbors': 10, 'weights': 'distance'}\n",
      "0.762 (+/-0.133) for {'algorithm': 'auto', 'leaf_size': 36, 'n_neighbors': 11, 'weights': 'uniform'}\n",
      "0.749 (+/-0.115) for {'algorithm': 'auto', 'leaf_size': 36, 'n_neighbors': 11, 'weights': 'distance'}\n",
      "0.755 (+/-0.134) for {'algorithm': 'auto', 'leaf_size': 36, 'n_neighbors': 12, 'weights': 'uniform'}\n",
      "0.752 (+/-0.126) for {'algorithm': 'auto', 'leaf_size': 36, 'n_neighbors': 12, 'weights': 'distance'}\n",
      "0.759 (+/-0.125) for {'algorithm': 'auto', 'leaf_size': 36, 'n_neighbors': 14, 'weights': 'uniform'}\n",
      "0.748 (+/-0.125) for {'algorithm': 'auto', 'leaf_size': 36, 'n_neighbors': 14, 'weights': 'distance'}\n",
      "0.764 (+/-0.132) for {'algorithm': 'auto', 'leaf_size': 36, 'n_neighbors': 16, 'weights': 'uniform'}\n",
      "0.752 (+/-0.125) for {'algorithm': 'auto', 'leaf_size': 36, 'n_neighbors': 16, 'weights': 'distance'}\n",
      "0.764 (+/-0.113) for {'algorithm': 'auto', 'leaf_size': 36, 'n_neighbors': 18, 'weights': 'uniform'}\n",
      "0.754 (+/-0.124) for {'algorithm': 'auto', 'leaf_size': 36, 'n_neighbors': 18, 'weights': 'distance'}\n",
      "0.765 (+/-0.124) for {'algorithm': 'auto', 'leaf_size': 36, 'n_neighbors': 20, 'weights': 'uniform'}\n",
      "0.753 (+/-0.125) for {'algorithm': 'auto', 'leaf_size': 36, 'n_neighbors': 20, 'weights': 'distance'}\n",
      "0.765 (+/-0.136) for {'algorithm': 'auto', 'leaf_size': 36, 'n_neighbors': 22, 'weights': 'uniform'}\n",
      "0.757 (+/-0.117) for {'algorithm': 'auto', 'leaf_size': 36, 'n_neighbors': 22, 'weights': 'distance'}\n",
      "0.756 (+/-0.148) for {'algorithm': 'auto', 'leaf_size': 41, 'n_neighbors': 6, 'weights': 'uniform'}\n",
      "0.753 (+/-0.118) for {'algorithm': 'auto', 'leaf_size': 41, 'n_neighbors': 6, 'weights': 'distance'}\n",
      "0.749 (+/-0.148) for {'algorithm': 'auto', 'leaf_size': 41, 'n_neighbors': 7, 'weights': 'uniform'}\n",
      "0.751 (+/-0.125) for {'algorithm': 'auto', 'leaf_size': 41, 'n_neighbors': 7, 'weights': 'distance'}\n",
      "0.746 (+/-0.135) for {'algorithm': 'auto', 'leaf_size': 41, 'n_neighbors': 8, 'weights': 'uniform'}\n",
      "0.758 (+/-0.129) for {'algorithm': 'auto', 'leaf_size': 41, 'n_neighbors': 8, 'weights': 'distance'}\n",
      "0.750 (+/-0.148) for {'algorithm': 'auto', 'leaf_size': 41, 'n_neighbors': 9, 'weights': 'uniform'}\n",
      "0.747 (+/-0.125) for {'algorithm': 'auto', 'leaf_size': 41, 'n_neighbors': 9, 'weights': 'distance'}\n",
      "0.755 (+/-0.138) for {'algorithm': 'auto', 'leaf_size': 41, 'n_neighbors': 10, 'weights': 'uniform'}\n",
      "0.749 (+/-0.123) for {'algorithm': 'auto', 'leaf_size': 41, 'n_neighbors': 10, 'weights': 'distance'}\n",
      "0.762 (+/-0.133) for {'algorithm': 'auto', 'leaf_size': 41, 'n_neighbors': 11, 'weights': 'uniform'}\n",
      "0.749 (+/-0.115) for {'algorithm': 'auto', 'leaf_size': 41, 'n_neighbors': 11, 'weights': 'distance'}\n",
      "0.755 (+/-0.134) for {'algorithm': 'auto', 'leaf_size': 41, 'n_neighbors': 12, 'weights': 'uniform'}\n",
      "0.752 (+/-0.126) for {'algorithm': 'auto', 'leaf_size': 41, 'n_neighbors': 12, 'weights': 'distance'}\n",
      "0.759 (+/-0.125) for {'algorithm': 'auto', 'leaf_size': 41, 'n_neighbors': 14, 'weights': 'uniform'}\n",
      "0.748 (+/-0.125) for {'algorithm': 'auto', 'leaf_size': 41, 'n_neighbors': 14, 'weights': 'distance'}\n",
      "0.764 (+/-0.132) for {'algorithm': 'auto', 'leaf_size': 41, 'n_neighbors': 16, 'weights': 'uniform'}\n",
      "0.752 (+/-0.125) for {'algorithm': 'auto', 'leaf_size': 41, 'n_neighbors': 16, 'weights': 'distance'}\n",
      "0.764 (+/-0.113) for {'algorithm': 'auto', 'leaf_size': 41, 'n_neighbors': 18, 'weights': 'uniform'}\n",
      "0.754 (+/-0.124) for {'algorithm': 'auto', 'leaf_size': 41, 'n_neighbors': 18, 'weights': 'distance'}\n",
      "0.765 (+/-0.124) for {'algorithm': 'auto', 'leaf_size': 41, 'n_neighbors': 20, 'weights': 'uniform'}\n",
      "0.753 (+/-0.125) for {'algorithm': 'auto', 'leaf_size': 41, 'n_neighbors': 20, 'weights': 'distance'}\n",
      "0.765 (+/-0.136) for {'algorithm': 'auto', 'leaf_size': 41, 'n_neighbors': 22, 'weights': 'uniform'}\n",
      "0.757 (+/-0.117) for {'algorithm': 'auto', 'leaf_size': 41, 'n_neighbors': 22, 'weights': 'distance'}\n",
      "0.756 (+/-0.148) for {'algorithm': 'auto', 'leaf_size': 46, 'n_neighbors': 6, 'weights': 'uniform'}\n",
      "0.753 (+/-0.118) for {'algorithm': 'auto', 'leaf_size': 46, 'n_neighbors': 6, 'weights': 'distance'}\n",
      "0.749 (+/-0.148) for {'algorithm': 'auto', 'leaf_size': 46, 'n_neighbors': 7, 'weights': 'uniform'}\n",
      "0.751 (+/-0.125) for {'algorithm': 'auto', 'leaf_size': 46, 'n_neighbors': 7, 'weights': 'distance'}\n",
      "0.746 (+/-0.135) for {'algorithm': 'auto', 'leaf_size': 46, 'n_neighbors': 8, 'weights': 'uniform'}\n",
      "0.758 (+/-0.129) for {'algorithm': 'auto', 'leaf_size': 46, 'n_neighbors': 8, 'weights': 'distance'}\n",
      "0.750 (+/-0.148) for {'algorithm': 'auto', 'leaf_size': 46, 'n_neighbors': 9, 'weights': 'uniform'}\n",
      "0.747 (+/-0.125) for {'algorithm': 'auto', 'leaf_size': 46, 'n_neighbors': 9, 'weights': 'distance'}\n",
      "0.755 (+/-0.138) for {'algorithm': 'auto', 'leaf_size': 46, 'n_neighbors': 10, 'weights': 'uniform'}\n",
      "0.749 (+/-0.123) for {'algorithm': 'auto', 'leaf_size': 46, 'n_neighbors': 10, 'weights': 'distance'}\n",
      "0.762 (+/-0.133) for {'algorithm': 'auto', 'leaf_size': 46, 'n_neighbors': 11, 'weights': 'uniform'}\n",
      "0.749 (+/-0.115) for {'algorithm': 'auto', 'leaf_size': 46, 'n_neighbors': 11, 'weights': 'distance'}\n",
      "0.755 (+/-0.134) for {'algorithm': 'auto', 'leaf_size': 46, 'n_neighbors': 12, 'weights': 'uniform'}\n",
      "0.752 (+/-0.126) for {'algorithm': 'auto', 'leaf_size': 46, 'n_neighbors': 12, 'weights': 'distance'}\n",
      "0.759 (+/-0.125) for {'algorithm': 'auto', 'leaf_size': 46, 'n_neighbors': 14, 'weights': 'uniform'}\n",
      "0.748 (+/-0.125) for {'algorithm': 'auto', 'leaf_size': 46, 'n_neighbors': 14, 'weights': 'distance'}\n",
      "0.764 (+/-0.132) for {'algorithm': 'auto', 'leaf_size': 46, 'n_neighbors': 16, 'weights': 'uniform'}\n",
      "0.752 (+/-0.125) for {'algorithm': 'auto', 'leaf_size': 46, 'n_neighbors': 16, 'weights': 'distance'}\n",
      "0.764 (+/-0.113) for {'algorithm': 'auto', 'leaf_size': 46, 'n_neighbors': 18, 'weights': 'uniform'}\n",
      "0.754 (+/-0.124) for {'algorithm': 'auto', 'leaf_size': 46, 'n_neighbors': 18, 'weights': 'distance'}\n",
      "0.765 (+/-0.124) for {'algorithm': 'auto', 'leaf_size': 46, 'n_neighbors': 20, 'weights': 'uniform'}\n",
      "0.753 (+/-0.125) for {'algorithm': 'auto', 'leaf_size': 46, 'n_neighbors': 20, 'weights': 'distance'}\n",
      "0.765 (+/-0.136) for {'algorithm': 'auto', 'leaf_size': 46, 'n_neighbors': 22, 'weights': 'uniform'}\n",
      "0.757 (+/-0.117) for {'algorithm': 'auto', 'leaf_size': 46, 'n_neighbors': 22, 'weights': 'distance'}\n",
      "\n",
      "# Tuning hyper-parameters for balanced_accuracy\n",
      "\n",
      "Fitting 10 folds for each of 240 candidates, totalling 2400 fits\n",
      "Best parameters set found on development set:\n",
      "\n",
      "{'algorithm': 'auto', 'leaf_size': 1, 'n_neighbors': 22, 'weights': 'uniform'}\n",
      "\n",
      "Grid scores on development set:\n",
      "\n",
      "0.804 (+/-0.104) for {'algorithm': 'auto', 'leaf_size': 1, 'n_neighbors': 6, 'weights': 'uniform'}\n",
      "0.802 (+/-0.086) for {'algorithm': 'auto', 'leaf_size': 1, 'n_neighbors': 6, 'weights': 'distance'}\n",
      "0.799 (+/-0.109) for {'algorithm': 'auto', 'leaf_size': 1, 'n_neighbors': 7, 'weights': 'uniform'}\n",
      "0.800 (+/-0.093) for {'algorithm': 'auto', 'leaf_size': 1, 'n_neighbors': 7, 'weights': 'distance'}\n",
      "0.798 (+/-0.098) for {'algorithm': 'auto', 'leaf_size': 1, 'n_neighbors': 8, 'weights': 'uniform'}\n",
      "0.806 (+/-0.096) for {'algorithm': 'auto', 'leaf_size': 1, 'n_neighbors': 8, 'weights': 'distance'}\n",
      "0.801 (+/-0.113) for {'algorithm': 'auto', 'leaf_size': 1, 'n_neighbors': 9, 'weights': 'uniform'}\n",
      "0.797 (+/-0.093) for {'algorithm': 'auto', 'leaf_size': 1, 'n_neighbors': 9, 'weights': 'distance'}\n",
      "0.806 (+/-0.103) for {'algorithm': 'auto', 'leaf_size': 1, 'n_neighbors': 10, 'weights': 'uniform'}\n",
      "0.800 (+/-0.093) for {'algorithm': 'auto', 'leaf_size': 1, 'n_neighbors': 10, 'weights': 'distance'}\n",
      "0.810 (+/-0.099) for {'algorithm': 'auto', 'leaf_size': 1, 'n_neighbors': 11, 'weights': 'uniform'}\n",
      "0.799 (+/-0.085) for {'algorithm': 'auto', 'leaf_size': 1, 'n_neighbors': 11, 'weights': 'distance'}\n",
      "0.804 (+/-0.099) for {'algorithm': 'auto', 'leaf_size': 1, 'n_neighbors': 12, 'weights': 'uniform'}\n",
      "0.802 (+/-0.093) for {'algorithm': 'auto', 'leaf_size': 1, 'n_neighbors': 12, 'weights': 'distance'}\n",
      "0.807 (+/-0.092) for {'algorithm': 'auto', 'leaf_size': 1, 'n_neighbors': 14, 'weights': 'uniform'}\n",
      "0.798 (+/-0.092) for {'algorithm': 'auto', 'leaf_size': 1, 'n_neighbors': 14, 'weights': 'distance'}\n",
      "0.811 (+/-0.100) for {'algorithm': 'auto', 'leaf_size': 1, 'n_neighbors': 16, 'weights': 'uniform'}\n",
      "0.801 (+/-0.093) for {'algorithm': 'auto', 'leaf_size': 1, 'n_neighbors': 16, 'weights': 'distance'}\n",
      "0.811 (+/-0.085) for {'algorithm': 'auto', 'leaf_size': 1, 'n_neighbors': 18, 'weights': 'uniform'}\n",
      "0.802 (+/-0.092) for {'algorithm': 'auto', 'leaf_size': 1, 'n_neighbors': 18, 'weights': 'distance'}\n",
      "0.811 (+/-0.094) for {'algorithm': 'auto', 'leaf_size': 1, 'n_neighbors': 20, 'weights': 'uniform'}\n",
      "0.801 (+/-0.093) for {'algorithm': 'auto', 'leaf_size': 1, 'n_neighbors': 20, 'weights': 'distance'}\n",
      "0.812 (+/-0.103) for {'algorithm': 'auto', 'leaf_size': 1, 'n_neighbors': 22, 'weights': 'uniform'}\n",
      "0.804 (+/-0.088) for {'algorithm': 'auto', 'leaf_size': 1, 'n_neighbors': 22, 'weights': 'distance'}\n",
      "0.805 (+/-0.104) for {'algorithm': 'auto', 'leaf_size': 6, 'n_neighbors': 6, 'weights': 'uniform'}\n",
      "0.803 (+/-0.088) for {'algorithm': 'auto', 'leaf_size': 6, 'n_neighbors': 6, 'weights': 'distance'}\n",
      "0.799 (+/-0.109) for {'algorithm': 'auto', 'leaf_size': 6, 'n_neighbors': 7, 'weights': 'uniform'}\n",
      "0.800 (+/-0.093) for {'algorithm': 'auto', 'leaf_size': 6, 'n_neighbors': 7, 'weights': 'distance'}\n",
      "0.798 (+/-0.098) for {'algorithm': 'auto', 'leaf_size': 6, 'n_neighbors': 8, 'weights': 'uniform'}\n",
      "0.806 (+/-0.096) for {'algorithm': 'auto', 'leaf_size': 6, 'n_neighbors': 8, 'weights': 'distance'}\n",
      "0.802 (+/-0.112) for {'algorithm': 'auto', 'leaf_size': 6, 'n_neighbors': 9, 'weights': 'uniform'}\n",
      "0.797 (+/-0.093) for {'algorithm': 'auto', 'leaf_size': 6, 'n_neighbors': 9, 'weights': 'distance'}\n",
      "0.805 (+/-0.102) for {'algorithm': 'auto', 'leaf_size': 6, 'n_neighbors': 10, 'weights': 'uniform'}\n",
      "0.799 (+/-0.092) for {'algorithm': 'auto', 'leaf_size': 6, 'n_neighbors': 10, 'weights': 'distance'}\n",
      "0.810 (+/-0.099) for {'algorithm': 'auto', 'leaf_size': 6, 'n_neighbors': 11, 'weights': 'uniform'}\n",
      "0.799 (+/-0.085) for {'algorithm': 'auto', 'leaf_size': 6, 'n_neighbors': 11, 'weights': 'distance'}\n",
      "0.804 (+/-0.099) for {'algorithm': 'auto', 'leaf_size': 6, 'n_neighbors': 12, 'weights': 'uniform'}\n",
      "0.802 (+/-0.093) for {'algorithm': 'auto', 'leaf_size': 6, 'n_neighbors': 12, 'weights': 'distance'}\n",
      "0.807 (+/-0.092) for {'algorithm': 'auto', 'leaf_size': 6, 'n_neighbors': 14, 'weights': 'uniform'}\n",
      "0.798 (+/-0.092) for {'algorithm': 'auto', 'leaf_size': 6, 'n_neighbors': 14, 'weights': 'distance'}\n",
      "0.811 (+/-0.100) for {'algorithm': 'auto', 'leaf_size': 6, 'n_neighbors': 16, 'weights': 'uniform'}\n",
      "0.801 (+/-0.093) for {'algorithm': 'auto', 'leaf_size': 6, 'n_neighbors': 16, 'weights': 'distance'}\n",
      "0.811 (+/-0.085) for {'algorithm': 'auto', 'leaf_size': 6, 'n_neighbors': 18, 'weights': 'uniform'}\n",
      "0.802 (+/-0.092) for {'algorithm': 'auto', 'leaf_size': 6, 'n_neighbors': 18, 'weights': 'distance'}\n",
      "0.811 (+/-0.094) for {'algorithm': 'auto', 'leaf_size': 6, 'n_neighbors': 20, 'weights': 'uniform'}\n",
      "0.801 (+/-0.093) for {'algorithm': 'auto', 'leaf_size': 6, 'n_neighbors': 20, 'weights': 'distance'}\n",
      "0.812 (+/-0.103) for {'algorithm': 'auto', 'leaf_size': 6, 'n_neighbors': 22, 'weights': 'uniform'}\n",
      "0.804 (+/-0.088) for {'algorithm': 'auto', 'leaf_size': 6, 'n_neighbors': 22, 'weights': 'distance'}\n",
      "0.804 (+/-0.108) for {'algorithm': 'auto', 'leaf_size': 11, 'n_neighbors': 6, 'weights': 'uniform'}\n",
      "0.801 (+/-0.091) for {'algorithm': 'auto', 'leaf_size': 11, 'n_neighbors': 6, 'weights': 'distance'}\n",
      "0.801 (+/-0.104) for {'algorithm': 'auto', 'leaf_size': 11, 'n_neighbors': 7, 'weights': 'uniform'}\n",
      "0.800 (+/-0.093) for {'algorithm': 'auto', 'leaf_size': 11, 'n_neighbors': 7, 'weights': 'distance'}\n",
      "0.798 (+/-0.098) for {'algorithm': 'auto', 'leaf_size': 11, 'n_neighbors': 8, 'weights': 'uniform'}\n",
      "0.806 (+/-0.096) for {'algorithm': 'auto', 'leaf_size': 11, 'n_neighbors': 8, 'weights': 'distance'}\n",
      "0.802 (+/-0.112) for {'algorithm': 'auto', 'leaf_size': 11, 'n_neighbors': 9, 'weights': 'uniform'}\n",
      "0.797 (+/-0.093) for {'algorithm': 'auto', 'leaf_size': 11, 'n_neighbors': 9, 'weights': 'distance'}\n",
      "0.806 (+/-0.103) for {'algorithm': 'auto', 'leaf_size': 11, 'n_neighbors': 10, 'weights': 'uniform'}\n",
      "0.800 (+/-0.093) for {'algorithm': 'auto', 'leaf_size': 11, 'n_neighbors': 10, 'weights': 'distance'}\n",
      "0.810 (+/-0.099) for {'algorithm': 'auto', 'leaf_size': 11, 'n_neighbors': 11, 'weights': 'uniform'}\n",
      "0.799 (+/-0.085) for {'algorithm': 'auto', 'leaf_size': 11, 'n_neighbors': 11, 'weights': 'distance'}\n",
      "0.804 (+/-0.099) for {'algorithm': 'auto', 'leaf_size': 11, 'n_neighbors': 12, 'weights': 'uniform'}\n",
      "0.802 (+/-0.093) for {'algorithm': 'auto', 'leaf_size': 11, 'n_neighbors': 12, 'weights': 'distance'}\n",
      "0.807 (+/-0.092) for {'algorithm': 'auto', 'leaf_size': 11, 'n_neighbors': 14, 'weights': 'uniform'}\n",
      "0.798 (+/-0.092) for {'algorithm': 'auto', 'leaf_size': 11, 'n_neighbors': 14, 'weights': 'distance'}\n",
      "0.811 (+/-0.100) for {'algorithm': 'auto', 'leaf_size': 11, 'n_neighbors': 16, 'weights': 'uniform'}\n",
      "0.801 (+/-0.093) for {'algorithm': 'auto', 'leaf_size': 11, 'n_neighbors': 16, 'weights': 'distance'}\n",
      "0.811 (+/-0.085) for {'algorithm': 'auto', 'leaf_size': 11, 'n_neighbors': 18, 'weights': 'uniform'}\n",
      "0.802 (+/-0.092) for {'algorithm': 'auto', 'leaf_size': 11, 'n_neighbors': 18, 'weights': 'distance'}\n",
      "0.811 (+/-0.094) for {'algorithm': 'auto', 'leaf_size': 11, 'n_neighbors': 20, 'weights': 'uniform'}\n",
      "0.800 (+/-0.092) for {'algorithm': 'auto', 'leaf_size': 11, 'n_neighbors': 20, 'weights': 'distance'}\n",
      "0.812 (+/-0.103) for {'algorithm': 'auto', 'leaf_size': 11, 'n_neighbors': 22, 'weights': 'uniform'}\n",
      "0.804 (+/-0.088) for {'algorithm': 'auto', 'leaf_size': 11, 'n_neighbors': 22, 'weights': 'distance'}\n",
      "0.803 (+/-0.109) for {'algorithm': 'auto', 'leaf_size': 16, 'n_neighbors': 6, 'weights': 'uniform'}\n",
      "0.801 (+/-0.091) for {'algorithm': 'auto', 'leaf_size': 16, 'n_neighbors': 6, 'weights': 'distance'}\n",
      "0.798 (+/-0.108) for {'algorithm': 'auto', 'leaf_size': 16, 'n_neighbors': 7, 'weights': 'uniform'}\n",
      "0.800 (+/-0.093) for {'algorithm': 'auto', 'leaf_size': 16, 'n_neighbors': 7, 'weights': 'distance'}\n",
      "0.798 (+/-0.098) for {'algorithm': 'auto', 'leaf_size': 16, 'n_neighbors': 8, 'weights': 'uniform'}\n",
      "0.806 (+/-0.096) for {'algorithm': 'auto', 'leaf_size': 16, 'n_neighbors': 8, 'weights': 'distance'}\n",
      "0.802 (+/-0.112) for {'algorithm': 'auto', 'leaf_size': 16, 'n_neighbors': 9, 'weights': 'uniform'}\n",
      "0.797 (+/-0.093) for {'algorithm': 'auto', 'leaf_size': 16, 'n_neighbors': 9, 'weights': 'distance'}\n",
      "0.805 (+/-0.102) for {'algorithm': 'auto', 'leaf_size': 16, 'n_neighbors': 10, 'weights': 'uniform'}\n",
      "0.799 (+/-0.092) for {'algorithm': 'auto', 'leaf_size': 16, 'n_neighbors': 10, 'weights': 'distance'}\n",
      "0.810 (+/-0.099) for {'algorithm': 'auto', 'leaf_size': 16, 'n_neighbors': 11, 'weights': 'uniform'}\n",
      "0.799 (+/-0.085) for {'algorithm': 'auto', 'leaf_size': 16, 'n_neighbors': 11, 'weights': 'distance'}\n",
      "0.804 (+/-0.099) for {'algorithm': 'auto', 'leaf_size': 16, 'n_neighbors': 12, 'weights': 'uniform'}\n",
      "0.802 (+/-0.093) for {'algorithm': 'auto', 'leaf_size': 16, 'n_neighbors': 12, 'weights': 'distance'}\n",
      "0.807 (+/-0.092) for {'algorithm': 'auto', 'leaf_size': 16, 'n_neighbors': 14, 'weights': 'uniform'}\n",
      "0.798 (+/-0.092) for {'algorithm': 'auto', 'leaf_size': 16, 'n_neighbors': 14, 'weights': 'distance'}\n",
      "0.811 (+/-0.100) for {'algorithm': 'auto', 'leaf_size': 16, 'n_neighbors': 16, 'weights': 'uniform'}\n",
      "0.801 (+/-0.093) for {'algorithm': 'auto', 'leaf_size': 16, 'n_neighbors': 16, 'weights': 'distance'}\n",
      "0.811 (+/-0.085) for {'algorithm': 'auto', 'leaf_size': 16, 'n_neighbors': 18, 'weights': 'uniform'}\n",
      "0.803 (+/-0.093) for {'algorithm': 'auto', 'leaf_size': 16, 'n_neighbors': 18, 'weights': 'distance'}\n",
      "0.811 (+/-0.094) for {'algorithm': 'auto', 'leaf_size': 16, 'n_neighbors': 20, 'weights': 'uniform'}\n",
      "0.800 (+/-0.092) for {'algorithm': 'auto', 'leaf_size': 16, 'n_neighbors': 20, 'weights': 'distance'}\n",
      "0.812 (+/-0.103) for {'algorithm': 'auto', 'leaf_size': 16, 'n_neighbors': 22, 'weights': 'uniform'}\n",
      "0.804 (+/-0.088) for {'algorithm': 'auto', 'leaf_size': 16, 'n_neighbors': 22, 'weights': 'distance'}\n",
      "0.803 (+/-0.109) for {'algorithm': 'auto', 'leaf_size': 21, 'n_neighbors': 6, 'weights': 'uniform'}\n",
      "0.801 (+/-0.091) for {'algorithm': 'auto', 'leaf_size': 21, 'n_neighbors': 6, 'weights': 'distance'}\n",
      "0.798 (+/-0.108) for {'algorithm': 'auto', 'leaf_size': 21, 'n_neighbors': 7, 'weights': 'uniform'}\n",
      "0.800 (+/-0.093) for {'algorithm': 'auto', 'leaf_size': 21, 'n_neighbors': 7, 'weights': 'distance'}\n",
      "0.798 (+/-0.098) for {'algorithm': 'auto', 'leaf_size': 21, 'n_neighbors': 8, 'weights': 'uniform'}\n",
      "0.806 (+/-0.096) for {'algorithm': 'auto', 'leaf_size': 21, 'n_neighbors': 8, 'weights': 'distance'}\n",
      "0.802 (+/-0.112) for {'algorithm': 'auto', 'leaf_size': 21, 'n_neighbors': 9, 'weights': 'uniform'}\n",
      "0.797 (+/-0.093) for {'algorithm': 'auto', 'leaf_size': 21, 'n_neighbors': 9, 'weights': 'distance'}\n",
      "0.805 (+/-0.102) for {'algorithm': 'auto', 'leaf_size': 21, 'n_neighbors': 10, 'weights': 'uniform'}\n",
      "0.799 (+/-0.092) for {'algorithm': 'auto', 'leaf_size': 21, 'n_neighbors': 10, 'weights': 'distance'}\n",
      "0.810 (+/-0.099) for {'algorithm': 'auto', 'leaf_size': 21, 'n_neighbors': 11, 'weights': 'uniform'}\n",
      "0.799 (+/-0.085) for {'algorithm': 'auto', 'leaf_size': 21, 'n_neighbors': 11, 'weights': 'distance'}\n",
      "0.804 (+/-0.099) for {'algorithm': 'auto', 'leaf_size': 21, 'n_neighbors': 12, 'weights': 'uniform'}\n",
      "0.802 (+/-0.093) for {'algorithm': 'auto', 'leaf_size': 21, 'n_neighbors': 12, 'weights': 'distance'}\n",
      "0.807 (+/-0.092) for {'algorithm': 'auto', 'leaf_size': 21, 'n_neighbors': 14, 'weights': 'uniform'}\n",
      "0.798 (+/-0.092) for {'algorithm': 'auto', 'leaf_size': 21, 'n_neighbors': 14, 'weights': 'distance'}\n",
      "0.811 (+/-0.100) for {'algorithm': 'auto', 'leaf_size': 21, 'n_neighbors': 16, 'weights': 'uniform'}\n",
      "0.801 (+/-0.093) for {'algorithm': 'auto', 'leaf_size': 21, 'n_neighbors': 16, 'weights': 'distance'}\n",
      "0.811 (+/-0.085) for {'algorithm': 'auto', 'leaf_size': 21, 'n_neighbors': 18, 'weights': 'uniform'}\n",
      "0.803 (+/-0.093) for {'algorithm': 'auto', 'leaf_size': 21, 'n_neighbors': 18, 'weights': 'distance'}\n",
      "0.811 (+/-0.094) for {'algorithm': 'auto', 'leaf_size': 21, 'n_neighbors': 20, 'weights': 'uniform'}\n",
      "0.800 (+/-0.092) for {'algorithm': 'auto', 'leaf_size': 21, 'n_neighbors': 20, 'weights': 'distance'}\n",
      "0.812 (+/-0.103) for {'algorithm': 'auto', 'leaf_size': 21, 'n_neighbors': 22, 'weights': 'uniform'}\n",
      "0.804 (+/-0.088) for {'algorithm': 'auto', 'leaf_size': 21, 'n_neighbors': 22, 'weights': 'distance'}\n",
      "0.805 (+/-0.104) for {'algorithm': 'auto', 'leaf_size': 26, 'n_neighbors': 6, 'weights': 'uniform'}\n",
      "0.802 (+/-0.086) for {'algorithm': 'auto', 'leaf_size': 26, 'n_neighbors': 6, 'weights': 'distance'}\n",
      "0.799 (+/-0.109) for {'algorithm': 'auto', 'leaf_size': 26, 'n_neighbors': 7, 'weights': 'uniform'}\n",
      "0.800 (+/-0.093) for {'algorithm': 'auto', 'leaf_size': 26, 'n_neighbors': 7, 'weights': 'distance'}\n",
      "0.798 (+/-0.098) for {'algorithm': 'auto', 'leaf_size': 26, 'n_neighbors': 8, 'weights': 'uniform'}\n",
      "0.806 (+/-0.096) for {'algorithm': 'auto', 'leaf_size': 26, 'n_neighbors': 8, 'weights': 'distance'}\n",
      "0.801 (+/-0.113) for {'algorithm': 'auto', 'leaf_size': 26, 'n_neighbors': 9, 'weights': 'uniform'}\n",
      "0.797 (+/-0.093) for {'algorithm': 'auto', 'leaf_size': 26, 'n_neighbors': 9, 'weights': 'distance'}\n",
      "0.805 (+/-0.102) for {'algorithm': 'auto', 'leaf_size': 26, 'n_neighbors': 10, 'weights': 'uniform'}\n",
      "0.798 (+/-0.091) for {'algorithm': 'auto', 'leaf_size': 26, 'n_neighbors': 10, 'weights': 'distance'}\n",
      "0.810 (+/-0.099) for {'algorithm': 'auto', 'leaf_size': 26, 'n_neighbors': 11, 'weights': 'uniform'}\n",
      "0.799 (+/-0.085) for {'algorithm': 'auto', 'leaf_size': 26, 'n_neighbors': 11, 'weights': 'distance'}\n",
      "0.804 (+/-0.099) for {'algorithm': 'auto', 'leaf_size': 26, 'n_neighbors': 12, 'weights': 'uniform'}\n",
      "0.802 (+/-0.093) for {'algorithm': 'auto', 'leaf_size': 26, 'n_neighbors': 12, 'weights': 'distance'}\n",
      "0.807 (+/-0.092) for {'algorithm': 'auto', 'leaf_size': 26, 'n_neighbors': 14, 'weights': 'uniform'}\n",
      "0.798 (+/-0.092) for {'algorithm': 'auto', 'leaf_size': 26, 'n_neighbors': 14, 'weights': 'distance'}\n",
      "0.811 (+/-0.100) for {'algorithm': 'auto', 'leaf_size': 26, 'n_neighbors': 16, 'weights': 'uniform'}\n",
      "0.801 (+/-0.093) for {'algorithm': 'auto', 'leaf_size': 26, 'n_neighbors': 16, 'weights': 'distance'}\n",
      "0.811 (+/-0.085) for {'algorithm': 'auto', 'leaf_size': 26, 'n_neighbors': 18, 'weights': 'uniform'}\n",
      "0.802 (+/-0.092) for {'algorithm': 'auto', 'leaf_size': 26, 'n_neighbors': 18, 'weights': 'distance'}\n",
      "0.811 (+/-0.094) for {'algorithm': 'auto', 'leaf_size': 26, 'n_neighbors': 20, 'weights': 'uniform'}\n",
      "0.801 (+/-0.093) for {'algorithm': 'auto', 'leaf_size': 26, 'n_neighbors': 20, 'weights': 'distance'}\n",
      "0.812 (+/-0.103) for {'algorithm': 'auto', 'leaf_size': 26, 'n_neighbors': 22, 'weights': 'uniform'}\n",
      "0.804 (+/-0.088) for {'algorithm': 'auto', 'leaf_size': 26, 'n_neighbors': 22, 'weights': 'distance'}\n",
      "0.805 (+/-0.104) for {'algorithm': 'auto', 'leaf_size': 31, 'n_neighbors': 6, 'weights': 'uniform'}\n",
      "0.802 (+/-0.086) for {'algorithm': 'auto', 'leaf_size': 31, 'n_neighbors': 6, 'weights': 'distance'}\n",
      "0.799 (+/-0.109) for {'algorithm': 'auto', 'leaf_size': 31, 'n_neighbors': 7, 'weights': 'uniform'}\n",
      "0.800 (+/-0.093) for {'algorithm': 'auto', 'leaf_size': 31, 'n_neighbors': 7, 'weights': 'distance'}\n",
      "0.798 (+/-0.098) for {'algorithm': 'auto', 'leaf_size': 31, 'n_neighbors': 8, 'weights': 'uniform'}\n",
      "0.806 (+/-0.096) for {'algorithm': 'auto', 'leaf_size': 31, 'n_neighbors': 8, 'weights': 'distance'}\n",
      "0.801 (+/-0.113) for {'algorithm': 'auto', 'leaf_size': 31, 'n_neighbors': 9, 'weights': 'uniform'}\n",
      "0.797 (+/-0.093) for {'algorithm': 'auto', 'leaf_size': 31, 'n_neighbors': 9, 'weights': 'distance'}\n",
      "0.805 (+/-0.102) for {'algorithm': 'auto', 'leaf_size': 31, 'n_neighbors': 10, 'weights': 'uniform'}\n",
      "0.798 (+/-0.091) for {'algorithm': 'auto', 'leaf_size': 31, 'n_neighbors': 10, 'weights': 'distance'}\n",
      "0.810 (+/-0.099) for {'algorithm': 'auto', 'leaf_size': 31, 'n_neighbors': 11, 'weights': 'uniform'}\n",
      "0.799 (+/-0.085) for {'algorithm': 'auto', 'leaf_size': 31, 'n_neighbors': 11, 'weights': 'distance'}\n",
      "0.804 (+/-0.099) for {'algorithm': 'auto', 'leaf_size': 31, 'n_neighbors': 12, 'weights': 'uniform'}\n",
      "0.802 (+/-0.093) for {'algorithm': 'auto', 'leaf_size': 31, 'n_neighbors': 12, 'weights': 'distance'}\n",
      "0.807 (+/-0.092) for {'algorithm': 'auto', 'leaf_size': 31, 'n_neighbors': 14, 'weights': 'uniform'}\n",
      "0.798 (+/-0.092) for {'algorithm': 'auto', 'leaf_size': 31, 'n_neighbors': 14, 'weights': 'distance'}\n",
      "0.811 (+/-0.100) for {'algorithm': 'auto', 'leaf_size': 31, 'n_neighbors': 16, 'weights': 'uniform'}\n",
      "0.801 (+/-0.093) for {'algorithm': 'auto', 'leaf_size': 31, 'n_neighbors': 16, 'weights': 'distance'}\n",
      "0.811 (+/-0.085) for {'algorithm': 'auto', 'leaf_size': 31, 'n_neighbors': 18, 'weights': 'uniform'}\n",
      "0.802 (+/-0.092) for {'algorithm': 'auto', 'leaf_size': 31, 'n_neighbors': 18, 'weights': 'distance'}\n",
      "0.811 (+/-0.094) for {'algorithm': 'auto', 'leaf_size': 31, 'n_neighbors': 20, 'weights': 'uniform'}\n",
      "0.801 (+/-0.093) for {'algorithm': 'auto', 'leaf_size': 31, 'n_neighbors': 20, 'weights': 'distance'}\n",
      "0.812 (+/-0.103) for {'algorithm': 'auto', 'leaf_size': 31, 'n_neighbors': 22, 'weights': 'uniform'}\n",
      "0.804 (+/-0.088) for {'algorithm': 'auto', 'leaf_size': 31, 'n_neighbors': 22, 'weights': 'distance'}\n",
      "0.805 (+/-0.104) for {'algorithm': 'auto', 'leaf_size': 36, 'n_neighbors': 6, 'weights': 'uniform'}\n",
      "0.802 (+/-0.086) for {'algorithm': 'auto', 'leaf_size': 36, 'n_neighbors': 6, 'weights': 'distance'}\n",
      "0.799 (+/-0.109) for {'algorithm': 'auto', 'leaf_size': 36, 'n_neighbors': 7, 'weights': 'uniform'}\n",
      "0.800 (+/-0.093) for {'algorithm': 'auto', 'leaf_size': 36, 'n_neighbors': 7, 'weights': 'distance'}\n",
      "0.798 (+/-0.098) for {'algorithm': 'auto', 'leaf_size': 36, 'n_neighbors': 8, 'weights': 'uniform'}\n",
      "0.806 (+/-0.096) for {'algorithm': 'auto', 'leaf_size': 36, 'n_neighbors': 8, 'weights': 'distance'}\n",
      "0.801 (+/-0.113) for {'algorithm': 'auto', 'leaf_size': 36, 'n_neighbors': 9, 'weights': 'uniform'}\n",
      "0.797 (+/-0.093) for {'algorithm': 'auto', 'leaf_size': 36, 'n_neighbors': 9, 'weights': 'distance'}\n",
      "0.805 (+/-0.102) for {'algorithm': 'auto', 'leaf_size': 36, 'n_neighbors': 10, 'weights': 'uniform'}\n",
      "0.798 (+/-0.091) for {'algorithm': 'auto', 'leaf_size': 36, 'n_neighbors': 10, 'weights': 'distance'}\n",
      "0.810 (+/-0.099) for {'algorithm': 'auto', 'leaf_size': 36, 'n_neighbors': 11, 'weights': 'uniform'}\n",
      "0.799 (+/-0.085) for {'algorithm': 'auto', 'leaf_size': 36, 'n_neighbors': 11, 'weights': 'distance'}\n",
      "0.804 (+/-0.099) for {'algorithm': 'auto', 'leaf_size': 36, 'n_neighbors': 12, 'weights': 'uniform'}\n",
      "0.802 (+/-0.093) for {'algorithm': 'auto', 'leaf_size': 36, 'n_neighbors': 12, 'weights': 'distance'}\n",
      "0.807 (+/-0.092) for {'algorithm': 'auto', 'leaf_size': 36, 'n_neighbors': 14, 'weights': 'uniform'}\n",
      "0.798 (+/-0.092) for {'algorithm': 'auto', 'leaf_size': 36, 'n_neighbors': 14, 'weights': 'distance'}\n",
      "0.811 (+/-0.100) for {'algorithm': 'auto', 'leaf_size': 36, 'n_neighbors': 16, 'weights': 'uniform'}\n",
      "0.801 (+/-0.093) for {'algorithm': 'auto', 'leaf_size': 36, 'n_neighbors': 16, 'weights': 'distance'}\n",
      "0.811 (+/-0.085) for {'algorithm': 'auto', 'leaf_size': 36, 'n_neighbors': 18, 'weights': 'uniform'}\n",
      "0.802 (+/-0.092) for {'algorithm': 'auto', 'leaf_size': 36, 'n_neighbors': 18, 'weights': 'distance'}\n",
      "0.811 (+/-0.094) for {'algorithm': 'auto', 'leaf_size': 36, 'n_neighbors': 20, 'weights': 'uniform'}\n",
      "0.801 (+/-0.093) for {'algorithm': 'auto', 'leaf_size': 36, 'n_neighbors': 20, 'weights': 'distance'}\n",
      "0.812 (+/-0.103) for {'algorithm': 'auto', 'leaf_size': 36, 'n_neighbors': 22, 'weights': 'uniform'}\n",
      "0.804 (+/-0.088) for {'algorithm': 'auto', 'leaf_size': 36, 'n_neighbors': 22, 'weights': 'distance'}\n",
      "0.805 (+/-0.104) for {'algorithm': 'auto', 'leaf_size': 41, 'n_neighbors': 6, 'weights': 'uniform'}\n",
      "0.802 (+/-0.086) for {'algorithm': 'auto', 'leaf_size': 41, 'n_neighbors': 6, 'weights': 'distance'}\n",
      "0.799 (+/-0.109) for {'algorithm': 'auto', 'leaf_size': 41, 'n_neighbors': 7, 'weights': 'uniform'}\n",
      "0.800 (+/-0.093) for {'algorithm': 'auto', 'leaf_size': 41, 'n_neighbors': 7, 'weights': 'distance'}\n",
      "0.798 (+/-0.098) for {'algorithm': 'auto', 'leaf_size': 41, 'n_neighbors': 8, 'weights': 'uniform'}\n",
      "0.806 (+/-0.096) for {'algorithm': 'auto', 'leaf_size': 41, 'n_neighbors': 8, 'weights': 'distance'}\n",
      "0.801 (+/-0.113) for {'algorithm': 'auto', 'leaf_size': 41, 'n_neighbors': 9, 'weights': 'uniform'}\n",
      "0.797 (+/-0.093) for {'algorithm': 'auto', 'leaf_size': 41, 'n_neighbors': 9, 'weights': 'distance'}\n",
      "0.805 (+/-0.102) for {'algorithm': 'auto', 'leaf_size': 41, 'n_neighbors': 10, 'weights': 'uniform'}\n",
      "0.798 (+/-0.091) for {'algorithm': 'auto', 'leaf_size': 41, 'n_neighbors': 10, 'weights': 'distance'}\n",
      "0.810 (+/-0.099) for {'algorithm': 'auto', 'leaf_size': 41, 'n_neighbors': 11, 'weights': 'uniform'}\n",
      "0.799 (+/-0.085) for {'algorithm': 'auto', 'leaf_size': 41, 'n_neighbors': 11, 'weights': 'distance'}\n",
      "0.804 (+/-0.099) for {'algorithm': 'auto', 'leaf_size': 41, 'n_neighbors': 12, 'weights': 'uniform'}\n",
      "0.802 (+/-0.093) for {'algorithm': 'auto', 'leaf_size': 41, 'n_neighbors': 12, 'weights': 'distance'}\n",
      "0.807 (+/-0.092) for {'algorithm': 'auto', 'leaf_size': 41, 'n_neighbors': 14, 'weights': 'uniform'}\n",
      "0.798 (+/-0.092) for {'algorithm': 'auto', 'leaf_size': 41, 'n_neighbors': 14, 'weights': 'distance'}\n",
      "0.811 (+/-0.100) for {'algorithm': 'auto', 'leaf_size': 41, 'n_neighbors': 16, 'weights': 'uniform'}\n",
      "0.801 (+/-0.093) for {'algorithm': 'auto', 'leaf_size': 41, 'n_neighbors': 16, 'weights': 'distance'}\n",
      "0.811 (+/-0.085) for {'algorithm': 'auto', 'leaf_size': 41, 'n_neighbors': 18, 'weights': 'uniform'}\n",
      "0.802 (+/-0.092) for {'algorithm': 'auto', 'leaf_size': 41, 'n_neighbors': 18, 'weights': 'distance'}\n",
      "0.811 (+/-0.094) for {'algorithm': 'auto', 'leaf_size': 41, 'n_neighbors': 20, 'weights': 'uniform'}\n",
      "0.801 (+/-0.093) for {'algorithm': 'auto', 'leaf_size': 41, 'n_neighbors': 20, 'weights': 'distance'}\n",
      "0.812 (+/-0.103) for {'algorithm': 'auto', 'leaf_size': 41, 'n_neighbors': 22, 'weights': 'uniform'}\n",
      "0.804 (+/-0.088) for {'algorithm': 'auto', 'leaf_size': 41, 'n_neighbors': 22, 'weights': 'distance'}\n",
      "0.805 (+/-0.104) for {'algorithm': 'auto', 'leaf_size': 46, 'n_neighbors': 6, 'weights': 'uniform'}\n",
      "0.802 (+/-0.086) for {'algorithm': 'auto', 'leaf_size': 46, 'n_neighbors': 6, 'weights': 'distance'}\n",
      "0.799 (+/-0.109) for {'algorithm': 'auto', 'leaf_size': 46, 'n_neighbors': 7, 'weights': 'uniform'}\n",
      "0.800 (+/-0.093) for {'algorithm': 'auto', 'leaf_size': 46, 'n_neighbors': 7, 'weights': 'distance'}\n",
      "0.798 (+/-0.098) for {'algorithm': 'auto', 'leaf_size': 46, 'n_neighbors': 8, 'weights': 'uniform'}\n",
      "0.806 (+/-0.096) for {'algorithm': 'auto', 'leaf_size': 46, 'n_neighbors': 8, 'weights': 'distance'}\n",
      "0.801 (+/-0.113) for {'algorithm': 'auto', 'leaf_size': 46, 'n_neighbors': 9, 'weights': 'uniform'}\n",
      "0.797 (+/-0.093) for {'algorithm': 'auto', 'leaf_size': 46, 'n_neighbors': 9, 'weights': 'distance'}\n",
      "0.805 (+/-0.102) for {'algorithm': 'auto', 'leaf_size': 46, 'n_neighbors': 10, 'weights': 'uniform'}\n",
      "0.798 (+/-0.091) for {'algorithm': 'auto', 'leaf_size': 46, 'n_neighbors': 10, 'weights': 'distance'}\n",
      "0.810 (+/-0.099) for {'algorithm': 'auto', 'leaf_size': 46, 'n_neighbors': 11, 'weights': 'uniform'}\n",
      "0.799 (+/-0.085) for {'algorithm': 'auto', 'leaf_size': 46, 'n_neighbors': 11, 'weights': 'distance'}\n",
      "0.804 (+/-0.099) for {'algorithm': 'auto', 'leaf_size': 46, 'n_neighbors': 12, 'weights': 'uniform'}\n",
      "0.802 (+/-0.093) for {'algorithm': 'auto', 'leaf_size': 46, 'n_neighbors': 12, 'weights': 'distance'}\n",
      "0.807 (+/-0.092) for {'algorithm': 'auto', 'leaf_size': 46, 'n_neighbors': 14, 'weights': 'uniform'}\n",
      "0.798 (+/-0.092) for {'algorithm': 'auto', 'leaf_size': 46, 'n_neighbors': 14, 'weights': 'distance'}\n",
      "0.811 (+/-0.100) for {'algorithm': 'auto', 'leaf_size': 46, 'n_neighbors': 16, 'weights': 'uniform'}\n",
      "0.801 (+/-0.093) for {'algorithm': 'auto', 'leaf_size': 46, 'n_neighbors': 16, 'weights': 'distance'}\n",
      "0.811 (+/-0.085) for {'algorithm': 'auto', 'leaf_size': 46, 'n_neighbors': 18, 'weights': 'uniform'}\n",
      "0.802 (+/-0.092) for {'algorithm': 'auto', 'leaf_size': 46, 'n_neighbors': 18, 'weights': 'distance'}\n",
      "0.811 (+/-0.094) for {'algorithm': 'auto', 'leaf_size': 46, 'n_neighbors': 20, 'weights': 'uniform'}\n",
      "0.801 (+/-0.093) for {'algorithm': 'auto', 'leaf_size': 46, 'n_neighbors': 20, 'weights': 'distance'}\n",
      "0.812 (+/-0.103) for {'algorithm': 'auto', 'leaf_size': 46, 'n_neighbors': 22, 'weights': 'uniform'}\n",
      "0.804 (+/-0.088) for {'algorithm': 'auto', 'leaf_size': 46, 'n_neighbors': 22, 'weights': 'distance'}\n",
      "\n",
      "# Tuning hyper-parameters for roc_auc\n",
      "\n",
      "Fitting 10 folds for each of 240 candidates, totalling 2400 fits\n",
      "Best parameters set found on development set:\n",
      "\n",
      "{'algorithm': 'auto', 'leaf_size': 11, 'n_neighbors': 12, 'weights': 'uniform'}\n",
      "\n",
      "Grid scores on development set:\n",
      "\n",
      "0.873 (+/-0.111) for {'algorithm': 'auto', 'leaf_size': 1, 'n_neighbors': 6, 'weights': 'uniform'}\n",
      "0.855 (+/-0.097) for {'algorithm': 'auto', 'leaf_size': 1, 'n_neighbors': 6, 'weights': 'distance'}\n",
      "0.874 (+/-0.104) for {'algorithm': 'auto', 'leaf_size': 1, 'n_neighbors': 7, 'weights': 'uniform'}\n",
      "0.855 (+/-0.093) for {'algorithm': 'auto', 'leaf_size': 1, 'n_neighbors': 7, 'weights': 'distance'}\n",
      "0.878 (+/-0.101) for {'algorithm': 'auto', 'leaf_size': 1, 'n_neighbors': 8, 'weights': 'uniform'}\n",
      "0.856 (+/-0.084) for {'algorithm': 'auto', 'leaf_size': 1, 'n_neighbors': 8, 'weights': 'distance'}\n",
      "0.880 (+/-0.106) for {'algorithm': 'auto', 'leaf_size': 1, 'n_neighbors': 9, 'weights': 'uniform'}\n",
      "0.857 (+/-0.089) for {'algorithm': 'auto', 'leaf_size': 1, 'n_neighbors': 9, 'weights': 'distance'}\n",
      "0.880 (+/-0.106) for {'algorithm': 'auto', 'leaf_size': 1, 'n_neighbors': 10, 'weights': 'uniform'}\n",
      "0.856 (+/-0.092) for {'algorithm': 'auto', 'leaf_size': 1, 'n_neighbors': 10, 'weights': 'distance'}\n",
      "0.884 (+/-0.104) for {'algorithm': 'auto', 'leaf_size': 1, 'n_neighbors': 11, 'weights': 'uniform'}\n",
      "0.858 (+/-0.091) for {'algorithm': 'auto', 'leaf_size': 1, 'n_neighbors': 11, 'weights': 'distance'}\n",
      "0.884 (+/-0.105) for {'algorithm': 'auto', 'leaf_size': 1, 'n_neighbors': 12, 'weights': 'uniform'}\n",
      "0.858 (+/-0.092) for {'algorithm': 'auto', 'leaf_size': 1, 'n_neighbors': 12, 'weights': 'distance'}\n",
      "0.884 (+/-0.102) for {'algorithm': 'auto', 'leaf_size': 1, 'n_neighbors': 14, 'weights': 'uniform'}\n",
      "0.859 (+/-0.091) for {'algorithm': 'auto', 'leaf_size': 1, 'n_neighbors': 14, 'weights': 'distance'}\n",
      "0.884 (+/-0.099) for {'algorithm': 'auto', 'leaf_size': 1, 'n_neighbors': 16, 'weights': 'uniform'}\n",
      "0.858 (+/-0.085) for {'algorithm': 'auto', 'leaf_size': 1, 'n_neighbors': 16, 'weights': 'distance'}\n",
      "0.880 (+/-0.099) for {'algorithm': 'auto', 'leaf_size': 1, 'n_neighbors': 18, 'weights': 'uniform'}\n",
      "0.856 (+/-0.089) for {'algorithm': 'auto', 'leaf_size': 1, 'n_neighbors': 18, 'weights': 'distance'}\n",
      "0.879 (+/-0.100) for {'algorithm': 'auto', 'leaf_size': 1, 'n_neighbors': 20, 'weights': 'uniform'}\n",
      "0.856 (+/-0.088) for {'algorithm': 'auto', 'leaf_size': 1, 'n_neighbors': 20, 'weights': 'distance'}\n",
      "0.880 (+/-0.097) for {'algorithm': 'auto', 'leaf_size': 1, 'n_neighbors': 22, 'weights': 'uniform'}\n",
      "0.856 (+/-0.086) for {'algorithm': 'auto', 'leaf_size': 1, 'n_neighbors': 22, 'weights': 'distance'}\n",
      "0.874 (+/-0.110) for {'algorithm': 'auto', 'leaf_size': 6, 'n_neighbors': 6, 'weights': 'uniform'}\n",
      "0.856 (+/-0.096) for {'algorithm': 'auto', 'leaf_size': 6, 'n_neighbors': 6, 'weights': 'distance'}\n",
      "0.873 (+/-0.105) for {'algorithm': 'auto', 'leaf_size': 6, 'n_neighbors': 7, 'weights': 'uniform'}\n",
      "0.854 (+/-0.093) for {'algorithm': 'auto', 'leaf_size': 6, 'n_neighbors': 7, 'weights': 'distance'}\n",
      "0.878 (+/-0.102) for {'algorithm': 'auto', 'leaf_size': 6, 'n_neighbors': 8, 'weights': 'uniform'}\n",
      "0.855 (+/-0.085) for {'algorithm': 'auto', 'leaf_size': 6, 'n_neighbors': 8, 'weights': 'distance'}\n",
      "0.879 (+/-0.108) for {'algorithm': 'auto', 'leaf_size': 6, 'n_neighbors': 9, 'weights': 'uniform'}\n",
      "0.856 (+/-0.090) for {'algorithm': 'auto', 'leaf_size': 6, 'n_neighbors': 9, 'weights': 'distance'}\n",
      "0.880 (+/-0.106) for {'algorithm': 'auto', 'leaf_size': 6, 'n_neighbors': 10, 'weights': 'uniform'}\n",
      "0.856 (+/-0.092) for {'algorithm': 'auto', 'leaf_size': 6, 'n_neighbors': 10, 'weights': 'distance'}\n",
      "0.884 (+/-0.104) for {'algorithm': 'auto', 'leaf_size': 6, 'n_neighbors': 11, 'weights': 'uniform'}\n",
      "0.858 (+/-0.091) for {'algorithm': 'auto', 'leaf_size': 6, 'n_neighbors': 11, 'weights': 'distance'}\n",
      "0.885 (+/-0.106) for {'algorithm': 'auto', 'leaf_size': 6, 'n_neighbors': 12, 'weights': 'uniform'}\n",
      "0.858 (+/-0.092) for {'algorithm': 'auto', 'leaf_size': 6, 'n_neighbors': 12, 'weights': 'distance'}\n",
      "0.884 (+/-0.102) for {'algorithm': 'auto', 'leaf_size': 6, 'n_neighbors': 14, 'weights': 'uniform'}\n",
      "0.859 (+/-0.091) for {'algorithm': 'auto', 'leaf_size': 6, 'n_neighbors': 14, 'weights': 'distance'}\n",
      "0.883 (+/-0.102) for {'algorithm': 'auto', 'leaf_size': 6, 'n_neighbors': 16, 'weights': 'uniform'}\n",
      "0.857 (+/-0.088) for {'algorithm': 'auto', 'leaf_size': 6, 'n_neighbors': 16, 'weights': 'distance'}\n",
      "0.880 (+/-0.099) for {'algorithm': 'auto', 'leaf_size': 6, 'n_neighbors': 18, 'weights': 'uniform'}\n",
      "0.856 (+/-0.089) for {'algorithm': 'auto', 'leaf_size': 6, 'n_neighbors': 18, 'weights': 'distance'}\n",
      "0.879 (+/-0.100) for {'algorithm': 'auto', 'leaf_size': 6, 'n_neighbors': 20, 'weights': 'uniform'}\n",
      "0.856 (+/-0.088) for {'algorithm': 'auto', 'leaf_size': 6, 'n_neighbors': 20, 'weights': 'distance'}\n",
      "0.880 (+/-0.098) for {'algorithm': 'auto', 'leaf_size': 6, 'n_neighbors': 22, 'weights': 'uniform'}\n",
      "0.856 (+/-0.086) for {'algorithm': 'auto', 'leaf_size': 6, 'n_neighbors': 22, 'weights': 'distance'}\n",
      "0.874 (+/-0.111) for {'algorithm': 'auto', 'leaf_size': 11, 'n_neighbors': 6, 'weights': 'uniform'}\n",
      "0.856 (+/-0.097) for {'algorithm': 'auto', 'leaf_size': 11, 'n_neighbors': 6, 'weights': 'distance'}\n",
      "0.873 (+/-0.104) for {'algorithm': 'auto', 'leaf_size': 11, 'n_neighbors': 7, 'weights': 'uniform'}\n",
      "0.854 (+/-0.093) for {'algorithm': 'auto', 'leaf_size': 11, 'n_neighbors': 7, 'weights': 'distance'}\n",
      "0.879 (+/-0.101) for {'algorithm': 'auto', 'leaf_size': 11, 'n_neighbors': 8, 'weights': 'uniform'}\n",
      "0.856 (+/-0.083) for {'algorithm': 'auto', 'leaf_size': 11, 'n_neighbors': 8, 'weights': 'distance'}\n",
      "0.881 (+/-0.104) for {'algorithm': 'auto', 'leaf_size': 11, 'n_neighbors': 9, 'weights': 'uniform'}\n",
      "0.857 (+/-0.088) for {'algorithm': 'auto', 'leaf_size': 11, 'n_neighbors': 9, 'weights': 'distance'}\n",
      "0.880 (+/-0.106) for {'algorithm': 'auto', 'leaf_size': 11, 'n_neighbors': 10, 'weights': 'uniform'}\n",
      "0.856 (+/-0.093) for {'algorithm': 'auto', 'leaf_size': 11, 'n_neighbors': 10, 'weights': 'distance'}\n",
      "0.884 (+/-0.104) for {'algorithm': 'auto', 'leaf_size': 11, 'n_neighbors': 11, 'weights': 'uniform'}\n",
      "0.858 (+/-0.091) for {'algorithm': 'auto', 'leaf_size': 11, 'n_neighbors': 11, 'weights': 'distance'}\n",
      "0.885 (+/-0.106) for {'algorithm': 'auto', 'leaf_size': 11, 'n_neighbors': 12, 'weights': 'uniform'}\n",
      "0.859 (+/-0.091) for {'algorithm': 'auto', 'leaf_size': 11, 'n_neighbors': 12, 'weights': 'distance'}\n",
      "0.884 (+/-0.102) for {'algorithm': 'auto', 'leaf_size': 11, 'n_neighbors': 14, 'weights': 'uniform'}\n",
      "0.859 (+/-0.091) for {'algorithm': 'auto', 'leaf_size': 11, 'n_neighbors': 14, 'weights': 'distance'}\n",
      "0.884 (+/-0.099) for {'algorithm': 'auto', 'leaf_size': 11, 'n_neighbors': 16, 'weights': 'uniform'}\n",
      "0.858 (+/-0.085) for {'algorithm': 'auto', 'leaf_size': 11, 'n_neighbors': 16, 'weights': 'distance'}\n",
      "0.880 (+/-0.099) for {'algorithm': 'auto', 'leaf_size': 11, 'n_neighbors': 18, 'weights': 'uniform'}\n",
      "0.856 (+/-0.089) for {'algorithm': 'auto', 'leaf_size': 11, 'n_neighbors': 18, 'weights': 'distance'}\n",
      "0.879 (+/-0.101) for {'algorithm': 'auto', 'leaf_size': 11, 'n_neighbors': 20, 'weights': 'uniform'}\n",
      "0.856 (+/-0.088) for {'algorithm': 'auto', 'leaf_size': 11, 'n_neighbors': 20, 'weights': 'distance'}\n",
      "0.880 (+/-0.098) for {'algorithm': 'auto', 'leaf_size': 11, 'n_neighbors': 22, 'weights': 'uniform'}\n",
      "0.856 (+/-0.086) for {'algorithm': 'auto', 'leaf_size': 11, 'n_neighbors': 22, 'weights': 'distance'}\n",
      "0.873 (+/-0.110) for {'algorithm': 'auto', 'leaf_size': 16, 'n_neighbors': 6, 'weights': 'uniform'}\n",
      "0.854 (+/-0.095) for {'algorithm': 'auto', 'leaf_size': 16, 'n_neighbors': 6, 'weights': 'distance'}\n",
      "0.873 (+/-0.105) for {'algorithm': 'auto', 'leaf_size': 16, 'n_neighbors': 7, 'weights': 'uniform'}\n",
      "0.854 (+/-0.094) for {'algorithm': 'auto', 'leaf_size': 16, 'n_neighbors': 7, 'weights': 'distance'}\n",
      "0.878 (+/-0.103) for {'algorithm': 'auto', 'leaf_size': 16, 'n_neighbors': 8, 'weights': 'uniform'}\n",
      "0.855 (+/-0.086) for {'algorithm': 'auto', 'leaf_size': 16, 'n_neighbors': 8, 'weights': 'distance'}\n",
      "0.879 (+/-0.106) for {'algorithm': 'auto', 'leaf_size': 16, 'n_neighbors': 9, 'weights': 'uniform'}\n",
      "0.856 (+/-0.089) for {'algorithm': 'auto', 'leaf_size': 16, 'n_neighbors': 9, 'weights': 'distance'}\n",
      "0.880 (+/-0.106) for {'algorithm': 'auto', 'leaf_size': 16, 'n_neighbors': 10, 'weights': 'uniform'}\n",
      "0.856 (+/-0.093) for {'algorithm': 'auto', 'leaf_size': 16, 'n_neighbors': 10, 'weights': 'distance'}\n",
      "0.884 (+/-0.104) for {'algorithm': 'auto', 'leaf_size': 16, 'n_neighbors': 11, 'weights': 'uniform'}\n",
      "0.858 (+/-0.092) for {'algorithm': 'auto', 'leaf_size': 16, 'n_neighbors': 11, 'weights': 'distance'}\n",
      "0.885 (+/-0.105) for {'algorithm': 'auto', 'leaf_size': 16, 'n_neighbors': 12, 'weights': 'uniform'}\n",
      "0.859 (+/-0.091) for {'algorithm': 'auto', 'leaf_size': 16, 'n_neighbors': 12, 'weights': 'distance'}\n",
      "0.883 (+/-0.104) for {'algorithm': 'auto', 'leaf_size': 16, 'n_neighbors': 14, 'weights': 'uniform'}\n",
      "0.859 (+/-0.092) for {'algorithm': 'auto', 'leaf_size': 16, 'n_neighbors': 14, 'weights': 'distance'}\n",
      "0.884 (+/-0.099) for {'algorithm': 'auto', 'leaf_size': 16, 'n_neighbors': 16, 'weights': 'uniform'}\n",
      "0.858 (+/-0.085) for {'algorithm': 'auto', 'leaf_size': 16, 'n_neighbors': 16, 'weights': 'distance'}\n",
      "0.880 (+/-0.100) for {'algorithm': 'auto', 'leaf_size': 16, 'n_neighbors': 18, 'weights': 'uniform'}\n",
      "0.856 (+/-0.089) for {'algorithm': 'auto', 'leaf_size': 16, 'n_neighbors': 18, 'weights': 'distance'}\n",
      "0.878 (+/-0.100) for {'algorithm': 'auto', 'leaf_size': 16, 'n_neighbors': 20, 'weights': 'uniform'}\n",
      "0.856 (+/-0.088) for {'algorithm': 'auto', 'leaf_size': 16, 'n_neighbors': 20, 'weights': 'distance'}\n",
      "0.880 (+/-0.097) for {'algorithm': 'auto', 'leaf_size': 16, 'n_neighbors': 22, 'weights': 'uniform'}\n",
      "0.856 (+/-0.086) for {'algorithm': 'auto', 'leaf_size': 16, 'n_neighbors': 22, 'weights': 'distance'}\n",
      "0.873 (+/-0.110) for {'algorithm': 'auto', 'leaf_size': 21, 'n_neighbors': 6, 'weights': 'uniform'}\n",
      "0.854 (+/-0.095) for {'algorithm': 'auto', 'leaf_size': 21, 'n_neighbors': 6, 'weights': 'distance'}\n",
      "0.873 (+/-0.105) for {'algorithm': 'auto', 'leaf_size': 21, 'n_neighbors': 7, 'weights': 'uniform'}\n",
      "0.854 (+/-0.094) for {'algorithm': 'auto', 'leaf_size': 21, 'n_neighbors': 7, 'weights': 'distance'}\n",
      "0.878 (+/-0.103) for {'algorithm': 'auto', 'leaf_size': 21, 'n_neighbors': 8, 'weights': 'uniform'}\n",
      "0.855 (+/-0.086) for {'algorithm': 'auto', 'leaf_size': 21, 'n_neighbors': 8, 'weights': 'distance'}\n",
      "0.879 (+/-0.106) for {'algorithm': 'auto', 'leaf_size': 21, 'n_neighbors': 9, 'weights': 'uniform'}\n",
      "0.856 (+/-0.089) for {'algorithm': 'auto', 'leaf_size': 21, 'n_neighbors': 9, 'weights': 'distance'}\n",
      "0.880 (+/-0.106) for {'algorithm': 'auto', 'leaf_size': 21, 'n_neighbors': 10, 'weights': 'uniform'}\n",
      "0.856 (+/-0.093) for {'algorithm': 'auto', 'leaf_size': 21, 'n_neighbors': 10, 'weights': 'distance'}\n",
      "0.884 (+/-0.104) for {'algorithm': 'auto', 'leaf_size': 21, 'n_neighbors': 11, 'weights': 'uniform'}\n",
      "0.858 (+/-0.092) for {'algorithm': 'auto', 'leaf_size': 21, 'n_neighbors': 11, 'weights': 'distance'}\n",
      "0.885 (+/-0.105) for {'algorithm': 'auto', 'leaf_size': 21, 'n_neighbors': 12, 'weights': 'uniform'}\n",
      "0.859 (+/-0.091) for {'algorithm': 'auto', 'leaf_size': 21, 'n_neighbors': 12, 'weights': 'distance'}\n",
      "0.883 (+/-0.104) for {'algorithm': 'auto', 'leaf_size': 21, 'n_neighbors': 14, 'weights': 'uniform'}\n",
      "0.859 (+/-0.092) for {'algorithm': 'auto', 'leaf_size': 21, 'n_neighbors': 14, 'weights': 'distance'}\n",
      "0.884 (+/-0.099) for {'algorithm': 'auto', 'leaf_size': 21, 'n_neighbors': 16, 'weights': 'uniform'}\n",
      "0.858 (+/-0.085) for {'algorithm': 'auto', 'leaf_size': 21, 'n_neighbors': 16, 'weights': 'distance'}\n",
      "0.880 (+/-0.100) for {'algorithm': 'auto', 'leaf_size': 21, 'n_neighbors': 18, 'weights': 'uniform'}\n",
      "0.856 (+/-0.089) for {'algorithm': 'auto', 'leaf_size': 21, 'n_neighbors': 18, 'weights': 'distance'}\n",
      "0.878 (+/-0.100) for {'algorithm': 'auto', 'leaf_size': 21, 'n_neighbors': 20, 'weights': 'uniform'}\n",
      "0.856 (+/-0.088) for {'algorithm': 'auto', 'leaf_size': 21, 'n_neighbors': 20, 'weights': 'distance'}\n",
      "0.880 (+/-0.097) for {'algorithm': 'auto', 'leaf_size': 21, 'n_neighbors': 22, 'weights': 'uniform'}\n",
      "0.856 (+/-0.086) for {'algorithm': 'auto', 'leaf_size': 21, 'n_neighbors': 22, 'weights': 'distance'}\n",
      "0.875 (+/-0.111) for {'algorithm': 'auto', 'leaf_size': 26, 'n_neighbors': 6, 'weights': 'uniform'}\n",
      "0.856 (+/-0.096) for {'algorithm': 'auto', 'leaf_size': 26, 'n_neighbors': 6, 'weights': 'distance'}\n",
      "0.875 (+/-0.105) for {'algorithm': 'auto', 'leaf_size': 26, 'n_neighbors': 7, 'weights': 'uniform'}\n",
      "0.855 (+/-0.093) for {'algorithm': 'auto', 'leaf_size': 26, 'n_neighbors': 7, 'weights': 'distance'}\n",
      "0.878 (+/-0.102) for {'algorithm': 'auto', 'leaf_size': 26, 'n_neighbors': 8, 'weights': 'uniform'}\n",
      "0.855 (+/-0.085) for {'algorithm': 'auto', 'leaf_size': 26, 'n_neighbors': 8, 'weights': 'distance'}\n",
      "0.880 (+/-0.104) for {'algorithm': 'auto', 'leaf_size': 26, 'n_neighbors': 9, 'weights': 'uniform'}\n",
      "0.856 (+/-0.089) for {'algorithm': 'auto', 'leaf_size': 26, 'n_neighbors': 9, 'weights': 'distance'}\n",
      "0.880 (+/-0.106) for {'algorithm': 'auto', 'leaf_size': 26, 'n_neighbors': 10, 'weights': 'uniform'}\n",
      "0.856 (+/-0.093) for {'algorithm': 'auto', 'leaf_size': 26, 'n_neighbors': 10, 'weights': 'distance'}\n",
      "0.883 (+/-0.104) for {'algorithm': 'auto', 'leaf_size': 26, 'n_neighbors': 11, 'weights': 'uniform'}\n",
      "0.858 (+/-0.091) for {'algorithm': 'auto', 'leaf_size': 26, 'n_neighbors': 11, 'weights': 'distance'}\n",
      "0.884 (+/-0.105) for {'algorithm': 'auto', 'leaf_size': 26, 'n_neighbors': 12, 'weights': 'uniform'}\n",
      "0.858 (+/-0.091) for {'algorithm': 'auto', 'leaf_size': 26, 'n_neighbors': 12, 'weights': 'distance'}\n",
      "0.883 (+/-0.104) for {'algorithm': 'auto', 'leaf_size': 26, 'n_neighbors': 14, 'weights': 'uniform'}\n",
      "0.859 (+/-0.092) for {'algorithm': 'auto', 'leaf_size': 26, 'n_neighbors': 14, 'weights': 'distance'}\n",
      "0.884 (+/-0.102) for {'algorithm': 'auto', 'leaf_size': 26, 'n_neighbors': 16, 'weights': 'uniform'}\n",
      "0.857 (+/-0.089) for {'algorithm': 'auto', 'leaf_size': 26, 'n_neighbors': 16, 'weights': 'distance'}\n",
      "0.880 (+/-0.099) for {'algorithm': 'auto', 'leaf_size': 26, 'n_neighbors': 18, 'weights': 'uniform'}\n",
      "0.856 (+/-0.088) for {'algorithm': 'auto', 'leaf_size': 26, 'n_neighbors': 18, 'weights': 'distance'}\n",
      "0.879 (+/-0.101) for {'algorithm': 'auto', 'leaf_size': 26, 'n_neighbors': 20, 'weights': 'uniform'}\n",
      "0.856 (+/-0.088) for {'algorithm': 'auto', 'leaf_size': 26, 'n_neighbors': 20, 'weights': 'distance'}\n",
      "0.880 (+/-0.097) for {'algorithm': 'auto', 'leaf_size': 26, 'n_neighbors': 22, 'weights': 'uniform'}\n",
      "0.856 (+/-0.086) for {'algorithm': 'auto', 'leaf_size': 26, 'n_neighbors': 22, 'weights': 'distance'}\n",
      "0.875 (+/-0.111) for {'algorithm': 'auto', 'leaf_size': 31, 'n_neighbors': 6, 'weights': 'uniform'}\n",
      "0.856 (+/-0.096) for {'algorithm': 'auto', 'leaf_size': 31, 'n_neighbors': 6, 'weights': 'distance'}\n",
      "0.875 (+/-0.105) for {'algorithm': 'auto', 'leaf_size': 31, 'n_neighbors': 7, 'weights': 'uniform'}\n",
      "0.855 (+/-0.093) for {'algorithm': 'auto', 'leaf_size': 31, 'n_neighbors': 7, 'weights': 'distance'}\n",
      "0.878 (+/-0.102) for {'algorithm': 'auto', 'leaf_size': 31, 'n_neighbors': 8, 'weights': 'uniform'}\n",
      "0.855 (+/-0.085) for {'algorithm': 'auto', 'leaf_size': 31, 'n_neighbors': 8, 'weights': 'distance'}\n",
      "0.880 (+/-0.104) for {'algorithm': 'auto', 'leaf_size': 31, 'n_neighbors': 9, 'weights': 'uniform'}\n",
      "0.856 (+/-0.089) for {'algorithm': 'auto', 'leaf_size': 31, 'n_neighbors': 9, 'weights': 'distance'}\n",
      "0.880 (+/-0.106) for {'algorithm': 'auto', 'leaf_size': 31, 'n_neighbors': 10, 'weights': 'uniform'}\n",
      "0.856 (+/-0.093) for {'algorithm': 'auto', 'leaf_size': 31, 'n_neighbors': 10, 'weights': 'distance'}\n",
      "0.883 (+/-0.104) for {'algorithm': 'auto', 'leaf_size': 31, 'n_neighbors': 11, 'weights': 'uniform'}\n",
      "0.858 (+/-0.091) for {'algorithm': 'auto', 'leaf_size': 31, 'n_neighbors': 11, 'weights': 'distance'}\n",
      "0.884 (+/-0.105) for {'algorithm': 'auto', 'leaf_size': 31, 'n_neighbors': 12, 'weights': 'uniform'}\n",
      "0.858 (+/-0.091) for {'algorithm': 'auto', 'leaf_size': 31, 'n_neighbors': 12, 'weights': 'distance'}\n",
      "0.883 (+/-0.104) for {'algorithm': 'auto', 'leaf_size': 31, 'n_neighbors': 14, 'weights': 'uniform'}\n",
      "0.859 (+/-0.092) for {'algorithm': 'auto', 'leaf_size': 31, 'n_neighbors': 14, 'weights': 'distance'}\n",
      "0.884 (+/-0.102) for {'algorithm': 'auto', 'leaf_size': 31, 'n_neighbors': 16, 'weights': 'uniform'}\n",
      "0.857 (+/-0.089) for {'algorithm': 'auto', 'leaf_size': 31, 'n_neighbors': 16, 'weights': 'distance'}\n",
      "0.880 (+/-0.099) for {'algorithm': 'auto', 'leaf_size': 31, 'n_neighbors': 18, 'weights': 'uniform'}\n",
      "0.856 (+/-0.088) for {'algorithm': 'auto', 'leaf_size': 31, 'n_neighbors': 18, 'weights': 'distance'}\n",
      "0.879 (+/-0.101) for {'algorithm': 'auto', 'leaf_size': 31, 'n_neighbors': 20, 'weights': 'uniform'}\n",
      "0.856 (+/-0.088) for {'algorithm': 'auto', 'leaf_size': 31, 'n_neighbors': 20, 'weights': 'distance'}\n",
      "0.880 (+/-0.097) for {'algorithm': 'auto', 'leaf_size': 31, 'n_neighbors': 22, 'weights': 'uniform'}\n",
      "0.856 (+/-0.086) for {'algorithm': 'auto', 'leaf_size': 31, 'n_neighbors': 22, 'weights': 'distance'}\n",
      "0.875 (+/-0.111) for {'algorithm': 'auto', 'leaf_size': 36, 'n_neighbors': 6, 'weights': 'uniform'}\n",
      "0.856 (+/-0.096) for {'algorithm': 'auto', 'leaf_size': 36, 'n_neighbors': 6, 'weights': 'distance'}\n",
      "0.875 (+/-0.105) for {'algorithm': 'auto', 'leaf_size': 36, 'n_neighbors': 7, 'weights': 'uniform'}\n",
      "0.855 (+/-0.093) for {'algorithm': 'auto', 'leaf_size': 36, 'n_neighbors': 7, 'weights': 'distance'}\n",
      "0.878 (+/-0.102) for {'algorithm': 'auto', 'leaf_size': 36, 'n_neighbors': 8, 'weights': 'uniform'}\n",
      "0.855 (+/-0.085) for {'algorithm': 'auto', 'leaf_size': 36, 'n_neighbors': 8, 'weights': 'distance'}\n",
      "0.880 (+/-0.104) for {'algorithm': 'auto', 'leaf_size': 36, 'n_neighbors': 9, 'weights': 'uniform'}\n",
      "0.856 (+/-0.089) for {'algorithm': 'auto', 'leaf_size': 36, 'n_neighbors': 9, 'weights': 'distance'}\n",
      "0.880 (+/-0.106) for {'algorithm': 'auto', 'leaf_size': 36, 'n_neighbors': 10, 'weights': 'uniform'}\n",
      "0.856 (+/-0.093) for {'algorithm': 'auto', 'leaf_size': 36, 'n_neighbors': 10, 'weights': 'distance'}\n",
      "0.883 (+/-0.104) for {'algorithm': 'auto', 'leaf_size': 36, 'n_neighbors': 11, 'weights': 'uniform'}\n",
      "0.858 (+/-0.091) for {'algorithm': 'auto', 'leaf_size': 36, 'n_neighbors': 11, 'weights': 'distance'}\n",
      "0.884 (+/-0.105) for {'algorithm': 'auto', 'leaf_size': 36, 'n_neighbors': 12, 'weights': 'uniform'}\n",
      "0.858 (+/-0.091) for {'algorithm': 'auto', 'leaf_size': 36, 'n_neighbors': 12, 'weights': 'distance'}\n",
      "0.883 (+/-0.104) for {'algorithm': 'auto', 'leaf_size': 36, 'n_neighbors': 14, 'weights': 'uniform'}\n",
      "0.859 (+/-0.092) for {'algorithm': 'auto', 'leaf_size': 36, 'n_neighbors': 14, 'weights': 'distance'}\n",
      "0.884 (+/-0.102) for {'algorithm': 'auto', 'leaf_size': 36, 'n_neighbors': 16, 'weights': 'uniform'}\n",
      "0.857 (+/-0.089) for {'algorithm': 'auto', 'leaf_size': 36, 'n_neighbors': 16, 'weights': 'distance'}\n",
      "0.880 (+/-0.099) for {'algorithm': 'auto', 'leaf_size': 36, 'n_neighbors': 18, 'weights': 'uniform'}\n",
      "0.856 (+/-0.088) for {'algorithm': 'auto', 'leaf_size': 36, 'n_neighbors': 18, 'weights': 'distance'}\n",
      "0.879 (+/-0.101) for {'algorithm': 'auto', 'leaf_size': 36, 'n_neighbors': 20, 'weights': 'uniform'}\n",
      "0.856 (+/-0.088) for {'algorithm': 'auto', 'leaf_size': 36, 'n_neighbors': 20, 'weights': 'distance'}\n",
      "0.880 (+/-0.097) for {'algorithm': 'auto', 'leaf_size': 36, 'n_neighbors': 22, 'weights': 'uniform'}\n",
      "0.856 (+/-0.086) for {'algorithm': 'auto', 'leaf_size': 36, 'n_neighbors': 22, 'weights': 'distance'}\n",
      "0.875 (+/-0.111) for {'algorithm': 'auto', 'leaf_size': 41, 'n_neighbors': 6, 'weights': 'uniform'}\n",
      "0.856 (+/-0.096) for {'algorithm': 'auto', 'leaf_size': 41, 'n_neighbors': 6, 'weights': 'distance'}\n",
      "0.875 (+/-0.105) for {'algorithm': 'auto', 'leaf_size': 41, 'n_neighbors': 7, 'weights': 'uniform'}\n",
      "0.855 (+/-0.093) for {'algorithm': 'auto', 'leaf_size': 41, 'n_neighbors': 7, 'weights': 'distance'}\n",
      "0.878 (+/-0.102) for {'algorithm': 'auto', 'leaf_size': 41, 'n_neighbors': 8, 'weights': 'uniform'}\n",
      "0.855 (+/-0.085) for {'algorithm': 'auto', 'leaf_size': 41, 'n_neighbors': 8, 'weights': 'distance'}\n",
      "0.880 (+/-0.104) for {'algorithm': 'auto', 'leaf_size': 41, 'n_neighbors': 9, 'weights': 'uniform'}\n",
      "0.856 (+/-0.089) for {'algorithm': 'auto', 'leaf_size': 41, 'n_neighbors': 9, 'weights': 'distance'}\n",
      "0.880 (+/-0.106) for {'algorithm': 'auto', 'leaf_size': 41, 'n_neighbors': 10, 'weights': 'uniform'}\n",
      "0.856 (+/-0.093) for {'algorithm': 'auto', 'leaf_size': 41, 'n_neighbors': 10, 'weights': 'distance'}\n",
      "0.883 (+/-0.104) for {'algorithm': 'auto', 'leaf_size': 41, 'n_neighbors': 11, 'weights': 'uniform'}\n",
      "0.858 (+/-0.091) for {'algorithm': 'auto', 'leaf_size': 41, 'n_neighbors': 11, 'weights': 'distance'}\n",
      "0.884 (+/-0.105) for {'algorithm': 'auto', 'leaf_size': 41, 'n_neighbors': 12, 'weights': 'uniform'}\n",
      "0.858 (+/-0.091) for {'algorithm': 'auto', 'leaf_size': 41, 'n_neighbors': 12, 'weights': 'distance'}\n",
      "0.883 (+/-0.104) for {'algorithm': 'auto', 'leaf_size': 41, 'n_neighbors': 14, 'weights': 'uniform'}\n",
      "0.859 (+/-0.092) for {'algorithm': 'auto', 'leaf_size': 41, 'n_neighbors': 14, 'weights': 'distance'}\n",
      "0.884 (+/-0.102) for {'algorithm': 'auto', 'leaf_size': 41, 'n_neighbors': 16, 'weights': 'uniform'}\n",
      "0.857 (+/-0.089) for {'algorithm': 'auto', 'leaf_size': 41, 'n_neighbors': 16, 'weights': 'distance'}\n",
      "0.880 (+/-0.099) for {'algorithm': 'auto', 'leaf_size': 41, 'n_neighbors': 18, 'weights': 'uniform'}\n",
      "0.856 (+/-0.088) for {'algorithm': 'auto', 'leaf_size': 41, 'n_neighbors': 18, 'weights': 'distance'}\n",
      "0.879 (+/-0.101) for {'algorithm': 'auto', 'leaf_size': 41, 'n_neighbors': 20, 'weights': 'uniform'}\n",
      "0.856 (+/-0.088) for {'algorithm': 'auto', 'leaf_size': 41, 'n_neighbors': 20, 'weights': 'distance'}\n",
      "0.880 (+/-0.097) for {'algorithm': 'auto', 'leaf_size': 41, 'n_neighbors': 22, 'weights': 'uniform'}\n",
      "0.856 (+/-0.086) for {'algorithm': 'auto', 'leaf_size': 41, 'n_neighbors': 22, 'weights': 'distance'}\n",
      "0.875 (+/-0.111) for {'algorithm': 'auto', 'leaf_size': 46, 'n_neighbors': 6, 'weights': 'uniform'}\n",
      "0.856 (+/-0.096) for {'algorithm': 'auto', 'leaf_size': 46, 'n_neighbors': 6, 'weights': 'distance'}\n",
      "0.875 (+/-0.105) for {'algorithm': 'auto', 'leaf_size': 46, 'n_neighbors': 7, 'weights': 'uniform'}\n",
      "0.855 (+/-0.093) for {'algorithm': 'auto', 'leaf_size': 46, 'n_neighbors': 7, 'weights': 'distance'}\n",
      "0.878 (+/-0.102) for {'algorithm': 'auto', 'leaf_size': 46, 'n_neighbors': 8, 'weights': 'uniform'}\n",
      "0.855 (+/-0.085) for {'algorithm': 'auto', 'leaf_size': 46, 'n_neighbors': 8, 'weights': 'distance'}\n",
      "0.880 (+/-0.104) for {'algorithm': 'auto', 'leaf_size': 46, 'n_neighbors': 9, 'weights': 'uniform'}\n",
      "0.856 (+/-0.089) for {'algorithm': 'auto', 'leaf_size': 46, 'n_neighbors': 9, 'weights': 'distance'}\n",
      "0.880 (+/-0.106) for {'algorithm': 'auto', 'leaf_size': 46, 'n_neighbors': 10, 'weights': 'uniform'}\n",
      "0.856 (+/-0.093) for {'algorithm': 'auto', 'leaf_size': 46, 'n_neighbors': 10, 'weights': 'distance'}\n",
      "0.883 (+/-0.104) for {'algorithm': 'auto', 'leaf_size': 46, 'n_neighbors': 11, 'weights': 'uniform'}\n",
      "0.858 (+/-0.091) for {'algorithm': 'auto', 'leaf_size': 46, 'n_neighbors': 11, 'weights': 'distance'}\n",
      "0.884 (+/-0.105) for {'algorithm': 'auto', 'leaf_size': 46, 'n_neighbors': 12, 'weights': 'uniform'}\n",
      "0.858 (+/-0.091) for {'algorithm': 'auto', 'leaf_size': 46, 'n_neighbors': 12, 'weights': 'distance'}\n",
      "0.883 (+/-0.104) for {'algorithm': 'auto', 'leaf_size': 46, 'n_neighbors': 14, 'weights': 'uniform'}\n",
      "0.859 (+/-0.092) for {'algorithm': 'auto', 'leaf_size': 46, 'n_neighbors': 14, 'weights': 'distance'}\n",
      "0.884 (+/-0.102) for {'algorithm': 'auto', 'leaf_size': 46, 'n_neighbors': 16, 'weights': 'uniform'}\n",
      "0.857 (+/-0.089) for {'algorithm': 'auto', 'leaf_size': 46, 'n_neighbors': 16, 'weights': 'distance'}\n",
      "0.880 (+/-0.099) for {'algorithm': 'auto', 'leaf_size': 46, 'n_neighbors': 18, 'weights': 'uniform'}\n",
      "0.856 (+/-0.088) for {'algorithm': 'auto', 'leaf_size': 46, 'n_neighbors': 18, 'weights': 'distance'}\n",
      "0.879 (+/-0.101) for {'algorithm': 'auto', 'leaf_size': 46, 'n_neighbors': 20, 'weights': 'uniform'}\n",
      "0.856 (+/-0.088) for {'algorithm': 'auto', 'leaf_size': 46, 'n_neighbors': 20, 'weights': 'distance'}\n",
      "0.880 (+/-0.097) for {'algorithm': 'auto', 'leaf_size': 46, 'n_neighbors': 22, 'weights': 'uniform'}\n",
      "0.856 (+/-0.086) for {'algorithm': 'auto', 'leaf_size': 46, 'n_neighbors': 22, 'weights': 'distance'}\n",
      "\n"
     ]
    }
   ],
   "source": [
    "scoring = [\"accuracy\", \"f1\", \"balanced_accuracy\", \"roc_auc\"]\n",
    "for score in scoring:\n",
    "    print(\"# Tuning hyper-parameters for %s\" % score)\n",
    "    print()\n",
    "\n",
    "    clf = GridSearchCV(\n",
    "        estimator=KNeighborsClassifier(),\n",
    "        param_grid=hyperparams,\n",
    "        verbose=True,\n",
    "        cv=10,\n",
    "        scoring=\"%s\" % score,\n",
    "        refit=\"roc_auc\",\n",
    "        n_jobs=-1,\n",
    "    )\n",
    "    clf.fit(X, y)\n",
    "\n",
    "    print(\"Best parameters set found on development set:\")\n",
    "    print()\n",
    "    print(clf.best_params_)\n",
    "    print()\n",
    "    print(\"Grid scores on development set:\")\n",
    "    print()\n",
    "    means = clf.cv_results_[\"mean_test_score\"]\n",
    "    stds = clf.cv_results_[\"std_test_score\"]\n",
    "    for mean, std, params in zip(means, stds, clf.cv_results_[\"params\"]):\n",
    "        print(\"%0.3f (+/-%0.03f) for %r\" % (mean, std * 2, params))\n",
    "    print()"
   ]
  },
  {
   "cell_type": "markdown",
   "metadata": {},
   "source": [
    "### Logistic Regression"
   ]
  },
  {
   "cell_type": "code",
   "execution_count": 77,
   "metadata": {},
   "outputs": [
    {
     "name": "stdout",
     "output_type": "stream",
     "text": [
      "Fitting 10 folds for each of 45 candidates, totalling 450 fits\n",
      "0.8210884757943582\n",
      "LogisticRegression(C=0.1, solver='newton-cg', tol=0.01)\n"
     ]
    }
   ],
   "source": [
    "solver= ['lbfgs', 'sag', 'newton-cg']\n",
    "tol = [1e-4, 1e-3, 1e-2]\n",
    "C = [1e-2, 0.1, 1, 5, 10]\n",
    "hyperparams = {'solver': solver, 'tol': tol, 'C': C}\n",
    "clf = GridSearchCV(estimator = LogisticRegression(), param_grid=hyperparams, verbose=True, cv=10,\n",
    "                   scoring = 'balanced_accuracy', n_jobs=-1)\n",
    "                   \n",
    "clf.fit(X,y)\n",
    "print(clf.best_score_)\n",
    "print(clf.best_estimator_)"
   ]
  },
  {
   "cell_type": "code",
   "execution_count": 78,
   "metadata": {},
   "outputs": [
    {
     "data": {
      "application/vnd.microsoft.datawrangler.viewer.v0+json": {
       "columns": [
        {
         "name": "index",
         "rawType": "int64",
         "type": "integer"
        },
        {
         "name": "Feature",
         "rawType": "object",
         "type": "string"
        },
        {
         "name": "Correlation",
         "rawType": "float64",
         "type": "float"
        }
       ],
       "conversionMethod": "pd.DataFrame",
       "ref": "0432e50b-b11e-41ec-92a3-072cc7b00eae",
       "rows": [
        [
         "7",
         "Title",
         "0.8060001003555339"
        ],
        [
         "12",
         "Family_Survival",
         "0.7416997364609226"
        ],
        [
         "1",
         "Sex",
         "0.6208053639555017"
        ],
        [
         "14",
         "FareBin_Code",
         "0.1992643341517256"
        ],
        [
         "6",
         "Embarked",
         "0.09718340924855307"
        ],
        [
         "5",
         "Fare",
         "0.04337218535022555"
        ],
        [
         "8",
         "AgeBin_Code",
         "-0.0001285171843190139"
        ],
        [
         "11",
         "Is_Alone",
         "-0.05040679461757813"
        ],
        [
         "2",
         "Age",
         "-0.09396300698989887"
        ],
        [
         "9",
         "Age_original",
         "-0.1085099273476812"
        ],
        [
         "4",
         "Parch",
         "-0.11738915386281842"
        ],
        [
         "10",
         "Family_Size",
         "-0.22826261704471323"
        ],
        [
         "3",
         "SibSp",
         "-0.2481718648010745"
        ],
        [
         "13",
         "AgeClass",
         "-0.27889082153877087"
        ],
        [
         "0",
         "Pclass",
         "-0.3279728636381425"
        ]
       ],
       "shape": {
        "columns": 2,
        "rows": 15
       }
      },
      "text/html": [
       "<div>\n",
       "<style scoped>\n",
       "    .dataframe tbody tr th:only-of-type {\n",
       "        vertical-align: middle;\n",
       "    }\n",
       "\n",
       "    .dataframe tbody tr th {\n",
       "        vertical-align: top;\n",
       "    }\n",
       "\n",
       "    .dataframe thead th {\n",
       "        text-align: right;\n",
       "    }\n",
       "</style>\n",
       "<table border=\"1\" class=\"dataframe\">\n",
       "  <thead>\n",
       "    <tr style=\"text-align: right;\">\n",
       "      <th></th>\n",
       "      <th>Feature</th>\n",
       "      <th>Correlation</th>\n",
       "    </tr>\n",
       "  </thead>\n",
       "  <tbody>\n",
       "    <tr>\n",
       "      <th>7</th>\n",
       "      <td>Title</td>\n",
       "      <td>0.806000</td>\n",
       "    </tr>\n",
       "    <tr>\n",
       "      <th>12</th>\n",
       "      <td>Family_Survival</td>\n",
       "      <td>0.741700</td>\n",
       "    </tr>\n",
       "    <tr>\n",
       "      <th>1</th>\n",
       "      <td>Sex</td>\n",
       "      <td>0.620805</td>\n",
       "    </tr>\n",
       "    <tr>\n",
       "      <th>14</th>\n",
       "      <td>FareBin_Code</td>\n",
       "      <td>0.199264</td>\n",
       "    </tr>\n",
       "    <tr>\n",
       "      <th>6</th>\n",
       "      <td>Embarked</td>\n",
       "      <td>0.097183</td>\n",
       "    </tr>\n",
       "    <tr>\n",
       "      <th>5</th>\n",
       "      <td>Fare</td>\n",
       "      <td>0.043372</td>\n",
       "    </tr>\n",
       "    <tr>\n",
       "      <th>8</th>\n",
       "      <td>AgeBin_Code</td>\n",
       "      <td>-0.000129</td>\n",
       "    </tr>\n",
       "    <tr>\n",
       "      <th>11</th>\n",
       "      <td>Is_Alone</td>\n",
       "      <td>-0.050407</td>\n",
       "    </tr>\n",
       "    <tr>\n",
       "      <th>2</th>\n",
       "      <td>Age</td>\n",
       "      <td>-0.093963</td>\n",
       "    </tr>\n",
       "    <tr>\n",
       "      <th>9</th>\n",
       "      <td>Age_original</td>\n",
       "      <td>-0.108510</td>\n",
       "    </tr>\n",
       "    <tr>\n",
       "      <th>4</th>\n",
       "      <td>Parch</td>\n",
       "      <td>-0.117389</td>\n",
       "    </tr>\n",
       "    <tr>\n",
       "      <th>10</th>\n",
       "      <td>Family_Size</td>\n",
       "      <td>-0.228263</td>\n",
       "    </tr>\n",
       "    <tr>\n",
       "      <th>3</th>\n",
       "      <td>SibSp</td>\n",
       "      <td>-0.248172</td>\n",
       "    </tr>\n",
       "    <tr>\n",
       "      <th>13</th>\n",
       "      <td>AgeClass</td>\n",
       "      <td>-0.278891</td>\n",
       "    </tr>\n",
       "    <tr>\n",
       "      <th>0</th>\n",
       "      <td>Pclass</td>\n",
       "      <td>-0.327973</td>\n",
       "    </tr>\n",
       "  </tbody>\n",
       "</table>\n",
       "</div>"
      ],
      "text/plain": [
       "            Feature  Correlation\n",
       "7             Title     0.806000\n",
       "12  Family_Survival     0.741700\n",
       "1               Sex     0.620805\n",
       "14     FareBin_Code     0.199264\n",
       "6          Embarked     0.097183\n",
       "5              Fare     0.043372\n",
       "8       AgeBin_Code    -0.000129\n",
       "11         Is_Alone    -0.050407\n",
       "2               Age    -0.093963\n",
       "9      Age_original    -0.108510\n",
       "4             Parch    -0.117389\n",
       "10      Family_Size    -0.228263\n",
       "3             SibSp    -0.248172\n",
       "13         AgeClass    -0.278891\n",
       "0            Pclass    -0.327973"
      ]
     },
     "execution_count": 78,
     "metadata": {},
     "output_type": "execute_result"
    }
   ],
   "source": [
    "coeff_df = pd.DataFrame(X.columns)\n",
    "coeff_df.columns = ['Feature']\n",
    "coeff_df[\"Correlation\"] = pd.Series(clf.best_estimator_.coef_[0])\n",
    "\n",
    "coeff_df.sort_values(by='Correlation', ascending=False)"
   ]
  },
  {
   "cell_type": "markdown",
   "metadata": {},
   "source": [
    "### Decision tree"
   ]
  },
  {
   "cell_type": "code",
   "execution_count": 80,
   "metadata": {
    "scrolled": true
   },
   "outputs": [
    {
     "name": "stdout",
     "output_type": "stream",
     "text": [
      "Fitting 10 folds for each of 40 candidates, totalling 400 fits\n",
      "0.8327134085957615\n",
      "DecisionTreeClassifier(criterion='entropy', min_samples_split=0.1)\n",
      "[0.15329487 0.         0.         0.         0.         0.10894421\n",
      " 0.00539869 0.474792   0.         0.04856938 0.01571382 0.\n",
      " 0.1898803  0.         0.00340672]\n"
     ]
    }
   ],
   "source": [
    "criterion = ['gini', 'entropy']\n",
    "max_depth = [None, 3, 5, 7, 10]\n",
    "min_samples_split = [2, 5, 10, 0.1]\n",
    "hyperparams= {'criterion': criterion, 'max_depth': max_depth, 'min_samples_split': min_samples_split,\n",
    "             }\n",
    "clf = GridSearchCV(estimator = DecisionTreeClassifier(), param_grid=hyperparams, verbose=True, cv=10,\n",
    "                   scoring = 'balanced_accuracy', n_jobs=-1)\n",
    "                   \n",
    "clf.fit(X,y)\n",
    "print(clf.best_score_)\n",
    "print(clf.best_estimator_)\n",
    "print(clf.best_estimator_.feature_importances_)"
   ]
  },
  {
   "cell_type": "markdown",
   "metadata": {},
   "source": [
    "We can even plot the decision tree, although it is not very readable for this solution."
   ]
  },
  {
   "cell_type": "code",
   "execution_count": 81,
   "metadata": {
    "scrolled": true
   },
   "outputs": [
    {
     "data": {
      "text/plain": [
       "[Text(0.532608695652174, 0.9615384615384616, 'x[7] <= 0.121\\nentropy = 0.961\\nsamples = 891\\nvalue = [549, 342]'),\n",
       " Text(0.32608695652173914, 0.8846153846153846, 'x[0] <= -0.968\\nentropy = 0.646\\nsamples = 540\\nvalue = [451, 89]'),\n",
       " Text(0.42934782608695654, 0.9230769230769231, 'True  '),\n",
       " Text(0.17391304347826086, 0.8076923076923077, 'x[5] <= -0.126\\nentropy = 0.95\\nsamples = 122\\nvalue = [77, 45]'),\n",
       " Text(0.13043478260869565, 0.7307692307692307, 'entropy = 0.0\\nsamples = 8\\nvalue = [8, 0]'),\n",
       " Text(0.21739130434782608, 0.7307692307692307, 'x[9] <= 1.7\\nentropy = 0.968\\nsamples = 114\\nvalue = [69, 45]'),\n",
       " Text(0.17391304347826086, 0.6538461538461539, 'x[5] <= -0.102\\nentropy = 0.995\\nsamples = 92\\nvalue = [50, 42]'),\n",
       " Text(0.13043478260869565, 0.5769230769230769, 'entropy = 0.722\\nsamples = 15\\nvalue = [3, 12]'),\n",
       " Text(0.21739130434782608, 0.5769230769230769, 'entropy = 0.965\\nsamples = 77\\nvalue = [47, 30]'),\n",
       " Text(0.2608695652173913, 0.6538461538461539, 'entropy = 0.575\\nsamples = 22\\nvalue = [19, 3]'),\n",
       " Text(0.4782608695652174, 0.8076923076923077, 'x[5] <= 0.392\\nentropy = 0.485\\nsamples = 418\\nvalue = [374, 44]'),\n",
       " Text(0.43478260869565216, 0.7307692307692307, 'x[5] <= -0.122\\nentropy = 0.459\\nsamples = 403\\nvalue = [364, 39]'),\n",
       " Text(0.391304347826087, 0.6538461538461539, 'x[9] <= 0.256\\nentropy = 0.472\\nsamples = 386\\nvalue = [347, 39]'),\n",
       " Text(0.30434782608695654, 0.5769230769230769, 'x[9] <= 0.133\\nentropy = 0.514\\nsamples = 288\\nvalue = [255, 33]'),\n",
       " Text(0.2608695652173913, 0.5, 'x[6] <= 1.31\\nentropy = 0.467\\nsamples = 272\\nvalue = [245, 27]'),\n",
       " Text(0.21739130434782608, 0.4230769230769231, 'x[14] <= -0.343\\nentropy = 0.42\\nsamples = 235\\nvalue = [215, 20]'),\n",
       " Text(0.17391304347826086, 0.34615384615384615, 'x[9] <= -0.096\\nentropy = 0.462\\nsamples = 184\\nvalue = [166, 18]'),\n",
       " Text(0.13043478260869565, 0.2692307692307692, 'x[9] <= -0.167\\nentropy = 0.529\\nsamples = 100\\nvalue = [88, 12]'),\n",
       " Text(0.08695652173913043, 0.19230769230769232, 'x[5] <= -0.583\\nentropy = 0.449\\nsamples = 96\\nvalue = [87, 9]'),\n",
       " Text(0.043478260869565216, 0.11538461538461539, 'entropy = 1.0\\nsamples = 2\\nvalue = [1, 1]'),\n",
       " Text(0.13043478260869565, 0.11538461538461539, 'x[12] <= -0.833\\nentropy = 0.42\\nsamples = 94\\nvalue = [86, 8]'),\n",
       " Text(0.08695652173913043, 0.038461538461538464, 'entropy = 0.0\\nsamples = 13\\nvalue = [13, 0]'),\n",
       " Text(0.17391304347826086, 0.038461538461538464, 'entropy = 0.465\\nsamples = 81\\nvalue = [73, 8]'),\n",
       " Text(0.17391304347826086, 0.19230769230769232, 'entropy = 0.811\\nsamples = 4\\nvalue = [1, 3]'),\n",
       " Text(0.21739130434782608, 0.2692307692307692, 'entropy = 0.371\\nsamples = 84\\nvalue = [78, 6]'),\n",
       " Text(0.2608695652173913, 0.34615384615384615, 'entropy = 0.239\\nsamples = 51\\nvalue = [49, 2]'),\n",
       " Text(0.30434782608695654, 0.4230769230769231, 'entropy = 0.7\\nsamples = 37\\nvalue = [30, 7]'),\n",
       " Text(0.34782608695652173, 0.5, 'entropy = 0.954\\nsamples = 16\\nvalue = [10, 6]'),\n",
       " Text(0.4782608695652174, 0.5769230769230769, 'x[5] <= -0.489\\nentropy = 0.332\\nsamples = 98\\nvalue = [92, 6]'),\n",
       " Text(0.43478260869565216, 0.5, 'entropy = 0.0\\nsamples = 32\\nvalue = [32, 0]'),\n",
       " Text(0.5217391304347826, 0.5, 'entropy = 0.439\\nsamples = 66\\nvalue = [60, 6]'),\n",
       " Text(0.4782608695652174, 0.6538461538461539, 'entropy = 0.0\\nsamples = 17\\nvalue = [17, 0]'),\n",
       " Text(0.5217391304347826, 0.7307692307692307, 'entropy = 0.918\\nsamples = 15\\nvalue = [10, 5]'),\n",
       " Text(0.7391304347826086, 0.8846153846153846, 'x[12] <= -0.833\\nentropy = 0.854\\nsamples = 351\\nvalue = [98.0, 253.0]'),\n",
       " Text(0.6358695652173914, 0.9230769230769231, '  False'),\n",
       " Text(0.6521739130434783, 0.8076923076923077, 'x[0] <= 0.229\\nentropy = 0.892\\nsamples = 97\\nvalue = [67, 30]'),\n",
       " Text(0.6086956521739131, 0.7307692307692307, 'entropy = 0.529\\nsamples = 25\\nvalue = [3, 22]'),\n",
       " Text(0.6956521739130435, 0.7307692307692307, 'entropy = 0.503\\nsamples = 72\\nvalue = [64, 8]'),\n",
       " Text(0.8260869565217391, 0.8076923076923077, 'x[5] <= -0.45\\nentropy = 0.535\\nsamples = 254\\nvalue = [31, 223]'),\n",
       " Text(0.782608695652174, 0.7307692307692307, 'entropy = 0.939\\nsamples = 59\\nvalue = [21, 38]'),\n",
       " Text(0.8695652173913043, 0.7307692307692307, 'x[12] <= 0.711\\nentropy = 0.292\\nsamples = 195\\nvalue = [10, 185]'),\n",
       " Text(0.8260869565217391, 0.6538461538461539, 'entropy = 0.474\\nsamples = 69\\nvalue = [7, 62]'),\n",
       " Text(0.9130434782608695, 0.6538461538461539, 'x[10] <= 0.989\\nentropy = 0.162\\nsamples = 126\\nvalue = [3, 123]'),\n",
       " Text(0.8695652173913043, 0.5769230769230769, 'entropy = 0.0\\nsamples = 99\\nvalue = [0, 99]'),\n",
       " Text(0.9565217391304348, 0.5769230769230769, 'entropy = 0.503\\nsamples = 27\\nvalue = [3, 24]')]"
      ]
     },
     "execution_count": 81,
     "metadata": {},
     "output_type": "execute_result"
    },
    {
     "data": {
      "image/png": "[encoded data removed]",
      "text/plain": [
       "<Figure size 640x480 with 1 Axes>"
      ]
     },
     "metadata": {},
     "output_type": "display_data"
    }
   ],
   "source": [
    "from sklearn.tree import plot_tree\n",
    "DecisionTree=clf.best_estimator_\n",
    "plot_tree(DecisionTree)"
   ]
  },
  {
   "cell_type": "markdown",
   "metadata": {},
   "source": [
    "### Random forest"
   ]
  },
  {
   "cell_type": "code",
   "execution_count": 86,
   "metadata": {},
   "outputs": [
    {
     "name": "stdout",
     "output_type": "stream",
     "text": [
      "Fitting 10 folds for each of 1400 candidates, totalling 14000 fits\n",
      "0.8354123871770931\n",
      "RandomForestClassifier(criterion='entropy', min_impurity_decrease=0.0001,\n",
      "                       min_samples_split=10, n_estimators=25)\n",
      "[0.07720078 0.10143583 0.01446701 0.01942312 0.01447656 0.13466132\n",
      " 0.02430941 0.22628583 0.03230852 0.08962173 0.04280681 0.00567171\n",
      " 0.11549275 0.057038   0.04480063]\n"
     ]
    }
   ],
   "source": [
    "n_estimators = [2, 3, 5, 10, 25, 50, 100]\n",
    "criterion = [\"gini\", \"entropy\"]\n",
    "max_depth = [None, 3, 5, 7, 10]\n",
    "min_samples_split = [2, 5, 10, 0.1]\n",
    "min_impurity_decrease = [1e-7, 1e-6, 1e-5, 1e-4, 1e-3]\n",
    "\n",
    "hyperparams = {\n",
    "    \"n_estimators\": n_estimators,\n",
    "    \"criterion\": criterion,\n",
    "    \"max_depth\": max_depth,\n",
    "    \"min_samples_split\": min_samples_split,\n",
    "    \"min_impurity_decrease\": min_impurity_decrease,\n",
    "}\n",
    "clf = GridSearchCV(\n",
    "    estimator=RandomForestClassifier(),\n",
    "    param_grid=hyperparams,\n",
    "    verbose=True,\n",
    "    cv=10,\n",
    "    scoring=\"balanced_accuracy\",\n",
    "    n_jobs=-1,\n",
    ")\n",
    "\n",
    "clf.fit(X, y)\n",
    "print(clf.best_score_)\n",
    "print(clf.best_estimator_)\n",
    "print(clf.best_estimator_.feature_importances_)"
   ]
  },
  {
   "cell_type": "markdown",
   "metadata": {},
   "source": [
    "**Feature importance with random forest feature importance**\n",
    "\n",
    "Just like logistic regression, random forest has ways to check the importance of all features in making the predictions. However, as you can see below, both methods do not completely agree. However, we see that the most important features are somewhat the same. Furthermore we can see that Age and Agebin_code are not as good as the original age. \n",
    "We can also see that it is possible to make a good feature from a lot of bad features. For example we see that family_survival is a good feature and family_size is better than parch and SibSp. As we expected earlier, embarked is not a good predictor of survival. It seems that its correlation with survival is due to the fare and title.."
   ]
  },
  {
   "cell_type": "code",
   "execution_count": 87,
   "metadata": {},
   "outputs": [
    {
     "data": {
      "image/png": "[encoded data removed]",
      "text/plain": [
       "<Figure size 640x480 with 1 Axes>"
      ]
     },
     "metadata": {},
     "output_type": "display_data"
    }
   ],
   "source": [
    "sorted_idx = clf.best_estimator_.feature_importances_.argsort()\n",
    "\n",
    "y_ticks = np.arange(0, len(X.columns))\n",
    "fig, ax = plt.subplots()\n",
    "ax.barh(y_ticks, clf.best_estimator_.feature_importances_[sorted_idx])\n",
    "ax.set_yticklabels(X.columns[sorted_idx])\n",
    "ax.set_yticks(y_ticks)\n",
    "ax.set_title(\"Random Forest Feature Importances (MDI)\")\n",
    "fig.tight_layout()\n",
    "plt.show()"
   ]
  },
  {
   "cell_type": "markdown",
   "metadata": {},
   "source": [
    "**Feature importance with permutation_importance**"
   ]
  },
  {
   "cell_type": "code",
   "execution_count": 88,
   "metadata": {},
   "outputs": [
    {
     "data": {
      "image/png": "[encoded data removed]",
      "text/plain": [
       "<Figure size 640x480 with 1 Axes>"
      ]
     },
     "metadata": {},
     "output_type": "display_data"
    }
   ],
   "source": [
    "from sklearn.inspection import permutation_importance\n",
    "from sklearn.model_selection import train_test_split\n",
    "\n",
    "rf = clf.best_estimator_\n",
    "X_train, X_test, y_train, y_test = train_test_split(\n",
    "    X, y, stratify=y, random_state=42)\n",
    "rf.fit(X,y)\n",
    "# plot\n",
    "result = permutation_importance(rf, X_test, y_test, n_repeats=10,\n",
    "                                random_state=42, n_jobs=2)\n",
    "sorted_idx = result.importances_mean.argsort()\n",
    "\n",
    "fig, ax = plt.subplots()\n",
    "ax.boxplot(result.importances[sorted_idx].T,\n",
    "           vert=False, labels=X_test.columns[sorted_idx])\n",
    "ax.set_title(\"Permutation Importances\")\n",
    "fig.tight_layout()\n",
    "plt.show()"
   ]
  },
  {
   "cell_type": "markdown",
   "metadata": {},
   "source": [
    "### What is a good model?\n",
    "\n",
    "We know that 32% of the passengers survived. So, if you make a model that predicts everyone on the titanic to die, you would achieve around 68% accuracy (34% balanced accuracy). \n",
    "In the analysis above we have opted for balanced_accuracy, as only 32% of the people survived. Using this metric, we put as much weight on correctly predicting the survivors as non survivors. So, 83% is a pretty good score"
   ]
  },
  {
   "cell_type": "markdown",
   "metadata": {},
   "source": [
    "## what's next?\n",
    "We have made a couple of models and can opt to use the best performing model to predict the survivors of the test set and submit our results to the challenge.\n",
    "However, we have also seen from the feature importance graphs above, that not every feature is as meaningful. \n",
    "We could also try to remove some of the unneccesary features and try to improve our classification."
   ]
  },
  {
   "cell_type": "markdown",
   "metadata": {},
   "source": [
    "## Final code\n",
    "It is always important to save your thought process and the steps you performed, but it is also important to make a cell with all the final code, without all the intermediate output. \n",
    "We also performed the modelling phase in a pipeline. This is a way to create a modular and succinct framework of your models. "
   ]
  },
  {
   "cell_type": "markdown",
   "metadata": {},
   "source": [
    "To Test the Cell below, restart your kernel and run that cell by using ctrl + Enter"
   ]
  },
  {
   "cell_type": "code",
   "execution_count": 5,
   "metadata": {},
   "outputs": [
    {
     "data": {
      "text/plain": [
       "<Axes: xlabel='Scoring', ylabel='accuracy'>"
      ]
     },
     "execution_count": 5,
     "metadata": {},
     "output_type": "execute_result"
    },
    {
     "data": {
      "image/png": "[encoded data removed]",
      "text/plain": [
       "<Figure size 640x480 with 1 Axes>"
      ]
     },
     "metadata": {},
     "output_type": "display_data"
    }
   ],
   "source": [
    "# importing libraries\n",
    "import pandas as pd\n",
    "import numpy as np\n",
    "import random as rnd\n",
    "import os\n",
    "import seaborn as sns\n",
    "import matplotlib.pyplot as plt\n",
    "%matplotlib inline\n",
    "import warnings\n",
    "warnings.filterwarnings(\"ignore\")\n",
    "from sklearn.linear_model import LogisticRegression\n",
    "from sklearn.ensemble import RandomForestClassifier\n",
    "from sklearn.neighbors import KNeighborsClassifier\n",
    "from sklearn.tree import DecisionTreeClassifier\n",
    "from sklearn.preprocessing import LabelEncoder\n",
    "from sklearn.preprocessing import StandardScaler\n",
    "from sklearn.model_selection import cross_val_score\n",
    "\n",
    "# Importing data:\n",
    "train_df = pd.read_csv('train.csv')\n",
    "test_df = pd.read_csv('test.csv')\n",
    "combined_df = pd.concat([train_df, test_df], axis=0) # This dataframe contains both the train AND test data.\n",
    "# Preprocessing:\n",
    "# Title\n",
    "combined_df['Title'] = combined_df.Name.str.extract(' ([A-Za-z]+)\\.', expand=False)\n",
    "combined_df['Title'] = combined_df['Title'].replace(['Lady', 'Countess','Capt', 'Col',\\\n",
    " 'Don', 'Dr', 'Major', 'Rev', 'Sir', 'Jonkheer', 'Dona'], 'Rare')\n",
    "combined_df['Title'] = combined_df['Title'].replace('Mlle', 'Miss')\n",
    "combined_df['Title'] = combined_df['Title'].replace('Ms', 'Miss')\n",
    "combined_df['Title'] = combined_df['Title'].replace('Mme', 'Mrs')\n",
    "title_mapping = {\"Mr\": 1, \"Rare\": 2, \"Master\": 3, \"Miss\": 4, \"Mrs\": 5}\n",
    "combined_df['Title'] = combined_df['Title'].map(title_mapping)\n",
    "combined_df['Title'] = combined_df['Title'].fillna(0)\n",
    "# Gender\n",
    "combined_df.replace(['male','female'],[0,1],inplace=True)\n",
    "# imputing age\n",
    "titles = list(combined_df['Title'].unique())\n",
    "for title in titles:\n",
    "    age_to_impute = list(combined_df.groupby('Title')['Age'].median())[titles.index(title)]\n",
    "    mask = (combined_df['Title'] == title)\n",
    "    combined_df.loc[combined_df['Age'].isnull() & mask, 'Age'] = age_to_impute\n",
    "# AgeBins\n",
    "combined_df['AgeBin'] = pd.qcut(combined_df['Age'], 4)\n",
    "label = LabelEncoder()\n",
    "combined_df['AgeBin_Code'] = label.fit_transform(combined_df['AgeBin'])\n",
    "# original Age\n",
    "combined_df['Age_original'] = combined_df['Age']\n",
    "# 'Age' is a custom binned! to see if insights from earlier can be used to create better bins\n",
    "combined_df.loc[ combined_df['Age'] <= 4, 'Age'] = 0\n",
    "combined_df.loc[(combined_df['Age'] > 4) & (combined_df['Age'] <= 15), 'Age'] = 1\n",
    "combined_df.loc[(combined_df['Age'] > 15) & (combined_df['Age'] <= 35), 'Age'] = 2\n",
    "combined_df.loc[(combined_df['Age'] > 35) & (combined_df['Age'] <= 64), 'Age'] = 3\n",
    "combined_df.loc[(combined_df['Age'] > 64) & (combined_df['Age'] <= 75), 'Age'] = 4\n",
    "combined_df.loc[(combined_df['Age'] > 75), 'Age'] = 5\n",
    "# Family size\n",
    "combined_df['Family_Size'] = combined_df['Parch'] + combined_df['SibSp']\n",
    "# Is alone\n",
    "combined_df['Is_Alone'] = 0\n",
    "combined_df.loc[combined_df['Family_Size'] == 0, 'Is_Alone'] = 1\n",
    "# Family survival\n",
    "combined_df['Last_Name'] = combined_df['Name'].apply(lambda x: str.split(x, \",\")[0])\n",
    "combined_df['Fare'].fillna(combined_df['Fare'].mean(), inplace=True)\n",
    "\n",
    "DEFAULT_SURVIVAL_VALUE = 0.5\n",
    "combined_df['Family_Survival'] = DEFAULT_SURVIVAL_VALUE\n",
    "\n",
    "for grp, grp_df in combined_df[['Survived','Name', 'Last_Name', 'Fare', 'Ticket', 'PassengerId',\n",
    "                           'SibSp', 'Parch', 'Age', 'Cabin']].groupby(['Last_Name', 'Fare']):\n",
    "    \n",
    "    if (len(grp_df) != 1):\n",
    "        # A Family group is found.\n",
    "        for ind, row in grp_df.iterrows():\n",
    "            smax = grp_df.drop(ind)['Survived'].max()\n",
    "            smin = grp_df.drop(ind)['Survived'].min()\n",
    "            passID = row['PassengerId']\n",
    "            if (smax == 1.0):\n",
    "                combined_df.loc[combined_df['PassengerId'] == passID, 'Family_Survival'] = 1\n",
    "            elif (smin==0.0):\n",
    "                combined_df.loc[combined_df['PassengerId'] == passID, 'Family_Survival'] = 0\n",
    "for _, grp_df in combined_df.groupby('Ticket'):\n",
    "    if (len(grp_df) != 1):\n",
    "        for ind, row in grp_df.iterrows():\n",
    "            if (row['Family_Survival'] == 0) | (row['Family_Survival']== 0.5):\n",
    "                smax = grp_df.drop(ind)['Survived'].max()\n",
    "                smin = grp_df.drop(ind)['Survived'].min()\n",
    "                passID = row['PassengerId']\n",
    "                if (smax == 1.0):\n",
    "                    combined_df.loc[combined_df['PassengerId'] == passID, 'Family_Survival'] = 1\n",
    "                elif (smin==0.0):\n",
    "                    combined_df.loc[combined_df['PassengerId'] == passID, 'Family_Survival'] = 0\n",
    "# Ageclass\n",
    "combined_df['AgeClass'] = combined_df.Age * combined_df.Pclass\n",
    "# imputing embarked\n",
    "freq_port = train_df.Embarked.dropna().mode()[0]\n",
    "combined_df['Embarked'] = combined_df['Embarked'].fillna(freq_port)\n",
    "combined_df['Embarked'] = combined_df['Embarked'].map( {'S': 0, 'C': 1, 'Q': 2} ).astype(int)\n",
    "# imputing fare\n",
    "combined_df['Fare'].fillna(combined_df['Fare'].median(), inplace = True)\n",
    "# Binning fare\n",
    "combined_df['FareBin'] = pd.qcut(combined_df['Fare'], 5)\n",
    "label = LabelEncoder()\n",
    "combined_df['FareBin_Code'] = label.fit_transform(combined_df['FareBin'])\n",
    "# dropping some features\n",
    "combined_df.drop(['Name', 'PassengerId', 'Ticket', 'Cabin','AgeBin', 'FareBin','Last_Name'], axis = 1, inplace = True)\n",
    "train_df = combined_df[:891]\n",
    "test_df = combined_df[891:]\n",
    "# Splitting data into train and test AND normalising data\n",
    "y = train_df[\"Survived\"] #separate labels y from the dataframe, because we don't want them to be normalised\n",
    "scaler = StandardScaler()\n",
    "scaled_df = scaler.fit_transform(train_df)\n",
    "train_df = pd.DataFrame(scaled_df, columns=train_df.columns)\n",
    "X = train_df.drop([\"Survived\"], axis=1)\n",
    "scaled_df = scaler.fit_transform(test_df)\n",
    "test_df = pd.DataFrame(scaled_df, columns=test_df.columns)\n",
    "X_test = test_df.drop([\"Survived\"], axis=1).copy()\n",
    "# Model, fit, and predict pipeline\n",
    "random_forest_classifier = RandomForestClassifier(min_impurity_decrease=1e-07, min_samples_split=10,\n",
    "                       n_estimators=50) # Best estimator parameters\n",
    "balanced_accuracy_df = pd.DataFrame({'accuracy': cross_val_score(random_forest_classifier, X, y, cv=10,\n",
    "                                                                 scoring='balanced_accuracy'), 'Scoring': ['Balanced accuracy'] * 10})\n",
    "accuracy_df = pd.DataFrame({'accuracy': cross_val_score(random_forest_classifier, X, y, cv=10),\n",
    "                      'Scoring': ['Accuracy'] * 10})\n",
    "roc_auc_df = pd.DataFrame({'accuracy': cross_val_score(random_forest_classifier, X, y, cv=10),\n",
    "                      'Scoring': ['ROC AUC'] * 10})\n",
    "f1_score_df = pd.DataFrame({'accuracy': cross_val_score(random_forest_classifier, X, y, cv=10),\n",
    "                      'Scoring': ['F1 score'] * 10})\n",
    "df  = [accuracy_df, roc_auc_df, f1_score_df]\n",
    "both_df = pd.concat([balanced_accuracy_df] + df, ignore_index=True)\n",
    "\n",
    "sns.boxplot(x='Scoring', y='accuracy', data=both_df)\n",
    "sns.stripplot(x='Scoring', y='accuracy', data=both_df, jitter=True, color='black')"
   ]
  },
  {
   "cell_type": "code",
   "execution_count": 8,
   "metadata": {},
   "outputs": [],
   "source": [
    "# using the best model to predict the survivors of X_test\n",
    "random_forest_classifier = RandomForestClassifier(\n",
    "    criterion=\"entropy\",\n",
    "    max_depth=10,\n",
    "    min_impurity_decrease=0.001,\n",
    "    n_estimators=50,\n",
    "    random_state=42,\n",
    ")\n",
    "random_forest_classifier.fit(X, y)\n",
    "y_pred = random_forest_classifier.predict(X_test).astype(int)\n",
    "y_pred\n",
    "# if you want to make a submission for the challenge:\n",
    "temp = pd.DataFrame(pd.read_csv(\"test.csv\")[\"PassengerId\"])\n",
    "temp[\"Survived\"] = y_pred\n",
    "temp.to_csv(\"submission.csv\", index=False)\n",
    "# This achieves 0.806 accuracy on the test set, as I submitted the result to Kaggle. This is a top 3% result\n",
    "# Can we upgrade the model by iterating over our process?"
   ]
  },
  {
   "cell_type": "code",
   "execution_count": null,
   "metadata": {},
   "outputs": [],
   "source": []
  }
 ],
 "metadata": {
  "kernelspec": {
   "display_name": ".venv",
   "language": "python",
   "name": "python3"
  },
  "language_info": {
   "codemirror_mode": {
    "name": "ipython",
    "version": 3
   },
   "file_extension": ".py",
   "mimetype": "text/x-python",
   "name": "python",
   "nbconvert_exporter": "python",
   "pygments_lexer": "ipython3",
   "version": "3.12.9"
  }
 },
 "nbformat": 4,
 "nbformat_minor": 2
}
