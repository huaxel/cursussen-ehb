{
 "cells": [
  {
   "cell_type": "markdown",
   "id": "f900cb15",
   "metadata": {},
   "source": [
    "# Pyhton oefeningen deel 2"
   ]
  },
  {
   "cell_type": "markdown",
   "id": "4445dac1",
   "metadata": {},
   "source": [
    "## Oefening 1\n",
    "\n",
    "Schrijf een functie die enkel het eerste element van een lijst print. De lijst is gegeven als een parameter. Roep de functie aan met deze lijst als parameter: [3,4,1,0]. Wat gebeurt er wanneer je de functie aanroept met de string “Dit is een zin.” als parameter in plaats van de lijst?"
   ]
  },
  {
   "cell_type": "code",
   "execution_count": 1,
   "id": "fbfe410c",
   "metadata": {},
   "outputs": [
    {
     "name": "stdout",
     "output_type": "stream",
     "text": [
      "3\n",
      "D\n"
     ]
    }
   ],
   "source": [
    "def print_eerste_element(x):\n",
    "    print(x[0])\n",
    "    \n",
    "print_eerste_element([3,4,1,0])\n",
    "print_eerste_element(\"Dit is een zin.\")"
   ]
  },
  {
   "cell_type": "markdown",
   "id": "97d760d5",
   "metadata": {},
   "source": [
    "## Oefening 2\n",
    "\n",
    "Schrijf een functie die alle elementen van een lijst één voor één print. Gebruik een lus om over de lijst te itereren. Indien je dit correct geïmplementeerd hebt, wordt elk element telkens op een nieuwe lijn geprint. Roep de functie aan met deze lijst als parameter: [3,4,1,0]. Probeer de functie ook uit met de string “Dit is een zin.” als parameter in plaats van de lijst."
   ]
  },
  {
   "cell_type": "code",
   "execution_count": 2,
   "id": "3b88e494",
   "metadata": {},
   "outputs": [
    {
     "name": "stdout",
     "output_type": "stream",
     "text": [
      "3\n",
      "4\n",
      "1\n",
      "0\n",
      "D\n",
      "i\n",
      "t\n",
      " \n",
      "i\n",
      "s\n",
      " \n",
      "e\n",
      "e\n",
      "n\n",
      " \n",
      "z\n",
      "i\n",
      "n\n",
      ".\n"
     ]
    }
   ],
   "source": [
    "def print_elementen(x):\n",
    "    for element in x:\n",
    "        print(element)\n",
    "\n",
    "print_elementen([3,4,1,0])\n",
    "print_elementen(\"Dit is een zin.\")"
   ]
  },
  {
   "cell_type": "markdown",
   "id": "a83e12d8",
   "metadata": {},
   "source": [
    "## Oefening 3\n",
    "\n",
    "Schrijf een functie get_shortest_list(list_1, list_2) die de kortste lijst teruggeeft (m.a.w., de lijst die het minste aantal elementen bevat). Als beide lijsten even lang zijn, moet de eerste lijst (list_1) teruggegeven worden. Voorbeelden:\n",
    "- list_1 is [1,-8,6] en list_2 is [9,7], dan geeft de functie [9,7] terug;\n",
    "- list_1 is [9,9,9] en list_2 is [4,0,1], dan geeft de functie [9,9,9] terug."
   ]
  },
  {
   "cell_type": "code",
   "execution_count": 3,
   "id": "2742c0ab",
   "metadata": {},
   "outputs": [
    {
     "name": "stdout",
     "output_type": "stream",
     "text": [
      "[9, 7]\n",
      "[9, 9, 9]\n"
     ]
    }
   ],
   "source": [
    "def get_shortest_list(list_1, list_2):\n",
    "    number_of_element_list_1 = len(list_1)\n",
    "    number_of_element_list_2 = len(list_2)\n",
    "    \n",
    "    if number_of_element_list_1 > number_of_element_list_2:\n",
    "        return list_2\n",
    "    elif number_of_element_list_2 > number_of_element_list_1:\n",
    "        return list_1\n",
    "    else:\n",
    "        return list_1\n",
    "    \n",
    "res1 = get_shortest_list([1,-8,6], [9,7])\n",
    "print(res1)\n",
    "\n",
    "res2 = get_shortest_list([9,9,9], [4,0,1])\n",
    "print(res2)"
   ]
  },
  {
   "cell_type": "markdown",
   "id": "fec52432",
   "metadata": {},
   "source": [
    "## Oefening 4\n",
    "Schrijf een functie count(element_list, element) die teruggeeft hoe vaak element voorkomt in element_list."
   ]
  },
  {
   "cell_type": "code",
   "execution_count": 4,
   "id": "80fdb9b3",
   "metadata": {},
   "outputs": [
    {
     "name": "stdout",
     "output_type": "stream",
     "text": [
      "3\n"
     ]
    }
   ],
   "source": [
    "def count(element_list, element):\n",
    "    return element_list.count(element)\n",
    "            \n",
    "counter = count([3,4,1,0,9,3,4,7,8,3], 3)\n",
    "print(counter)"
   ]
  },
  {
   "cell_type": "markdown",
   "id": "4e8ebbef",
   "metadata": {},
   "source": [
    "## Oefening 5\n",
    "\n",
    "Schrijf een functie contains_element(element_list, element) die de volgende booleaanse waarde teruggeeft:\n",
    "- True als element_list het gegeven element bevat;\n",
    "- False in alle andere gevallen. \n",
    "<br><br>\n",
    "Gebruik een lus om over de lijst te itereren."
   ]
  },
  {
   "cell_type": "code",
   "execution_count": 5,
   "id": "6f2a3ace",
   "metadata": {},
   "outputs": [
    {
     "name": "stdout",
     "output_type": "stream",
     "text": [
      "True\n",
      "False\n"
     ]
    }
   ],
   "source": [
    "def count(element_list, element):\n",
    "    counter = 0\n",
    "    for e in element_list:\n",
    "        if e == element:\n",
    "            return True\n",
    "    return False\n",
    "            \n",
    "counter = count([3,4,1,0,9,3,4,7,8,3], 3)\n",
    "print(counter)\n",
    "\n",
    "counter = count([3,4,1,0,9,3,4,7,8,3], 6)\n",
    "print(counter)"
   ]
  },
  {
   "cell_type": "markdown",
   "id": "10fb2b41",
   "metadata": {},
   "source": [
    "## Oefening 6\n",
    "Implementeer een functie last_occurrence(element_list, element) die de index teruggeeft van element in element_list. Als element meermaals voorkomt in element_list, moet enkel de hoogste index teruggegeven worden. Indien element niet voorkomt, moet de functie -1 teruggeven. Voorbeelden:\n",
    "- element is 3 en element_list is [5,3,8], de functie geeft 1 terug;\n",
    "- element is “x” en element_list is [“y”,“x”,“x”], de functie geeft 2 terug;\n",
    "- element is “x” en element_list is [“a”,“b”,“c”], de functie geeft -1 terug."
   ]
  },
  {
   "cell_type": "code",
   "execution_count": 6,
   "id": "a9ea552f",
   "metadata": {},
   "outputs": [
    {
     "name": "stdout",
     "output_type": "stream",
     "text": [
      "1 2 -1\n"
     ]
    }
   ],
   "source": [
    "def last_occurrence(element_list, element):\n",
    "    res = -1\n",
    "    for idx, x in enumerate(element_list):\n",
    "        if element == x:\n",
    "            res = idx\n",
    "    return res\n",
    "\n",
    "res1 = last_occurrence([5,3,8], 3)\n",
    "res2 = last_occurrence(['y','x','x'], 'x')\n",
    "res3 = last_occurrence(['a','b','c'], 'x')\n",
    "\n",
    "print(res1, res2, res3)"
   ]
  },
  {
   "cell_type": "markdown",
   "id": "ba282489",
   "metadata": {},
   "source": [
    "## Oefening 7\n",
    "In deze oefening moet je een lijst aanmaken en er elementen aan toevoegen.\n",
    "- a. Implementeer een functie divisors(number) die een lijst teruggeeft met alle delers van een gegeven number. Voorbeeld: stel dat number 6 is, het resultaat moet dan [1,2,3,6] zijn. Voor deze oefening mag je ervan uitgaan dat number altijd een strikt positief geheel getal is.\n",
    "- b. Implementeer een functie divisors_high_to_low(number) die hetzelfde doet als de functie in deel a, maar de delers in de teruggegeven lijst moeten nu van hoog naar laag staan. Voorbeeld: number is 6, het resultaat moet [6,3,2,1] zijn."
   ]
  },
  {
   "cell_type": "code",
   "execution_count": 7,
   "id": "b66ccf01",
   "metadata": {},
   "outputs": [
    {
     "name": "stdout",
     "output_type": "stream",
     "text": [
      "[1, 2, 3, 6]\n"
     ]
    }
   ],
   "source": [
    "def divisors(number):\n",
    "    res_divisors = []\n",
    "    for divisor in range(1, number+1):\n",
    "        if number % divisor == 0:\n",
    "            res_divisors.append(divisor)\n",
    "    return res_divisors\n",
    "\n",
    "res_divisors = divisors(6)\n",
    "print(res_divisors)"
   ]
  },
  {
   "cell_type": "code",
   "execution_count": 8,
   "id": "efd08aef",
   "metadata": {},
   "outputs": [
    {
     "name": "stdout",
     "output_type": "stream",
     "text": [
      "[6, 3, 2, 1]\n"
     ]
    }
   ],
   "source": [
    "def divisors_high_to_low(number):\n",
    "    res_divisors = divisors(number)\n",
    "    res_divisors.sort(reverse = True)\n",
    "    return res_divisors\n",
    "\n",
    "divisors_high_to_low = divisors_high_to_low(6)\n",
    "print(divisors_high_to_low)"
   ]
  },
  {
   "cell_type": "markdown",
   "id": "f6675b00",
   "metadata": {},
   "source": [
    "## Oefening 8\n",
    "Schrijf een functie find_largest_number(number_list) die het grootste getal in number_list teruggeeft. Enkele voorbeelden:\n",
    "- number_list is [4,3,9,0,7], de functie moet 9 teruggeven;\n",
    "- number_list is [0.3,-1.2,0.3,-4.5], de functie moet 0.3 teruggeven."
   ]
  },
  {
   "cell_type": "code",
   "execution_count": 9,
   "id": "0738c999",
   "metadata": {},
   "outputs": [
    {
     "name": "stdout",
     "output_type": "stream",
     "text": [
      "9\n",
      "0.3\n"
     ]
    }
   ],
   "source": [
    "def find_largest_number(number_list):\n",
    "    return max(number_list)\n",
    "\n",
    "res1 = find_largest_number([4,3,9,0,7])\n",
    "print(res1)\n",
    "\n",
    "res2 = find_largest_number([0.3,-1.2,0.3,-4.5])\n",
    "print(res2)"
   ]
  },
  {
   "cell_type": "markdown",
   "id": "3a85d014",
   "metadata": {},
   "source": [
    "## Oefening 9\n",
    "\n",
    "Implementeer een functie replace(element_list, element_to_replace, new_element) die de tweede overeenkomst met element_to_replace in element_list vervangt door new_element. De functie geeft vervolgens de nieuwe lijst terug. Enkele voorbeelden:\n",
    "- replace([“a”,“h”,“b”,“f”,“a”,“a”,“z”], “a”, “-”) moet teruggeven: [“a”,“h”,“b”,“f”,“-”,“a”,“z”];\n",
    "- replace([0,0,0,0,0], 0, 9) moet teruggeven: [0,9,0,0,0];\n",
    "- replace([0,4,2,2,3], 0, 7) moet [0,4,2,2,3] teruggeven;\n",
    "- replace([0,4,2,2,3], 8, 7) moet [0,4,2,2,3] teruggeven."
   ]
  },
  {
   "cell_type": "code",
   "execution_count": 10,
   "id": "046acb8b",
   "metadata": {},
   "outputs": [
    {
     "name": "stdout",
     "output_type": "stream",
     "text": [
      "['a', 'h', 'b', 'f', '-', 'a', 'z']\n",
      "[0, 9, 0, 0, 0]\n",
      "[0, 4, 2, 2, 3]\n",
      "[0, 4, 2, 2, 3]\n"
     ]
    }
   ],
   "source": [
    "def replace(element_list, element_to_replace, new_element):\n",
    "    occurrences = 0\n",
    "    new_element_list = []\n",
    "    for e in element_list:\n",
    "        if e == element_to_replace:\n",
    "            occurrences += 1            \n",
    "            if occurrences == 2:\n",
    "                new_element_list += [new_element]\n",
    "            else:\n",
    "                new_element_list += [e]\n",
    "        else:\n",
    "            new_element_list += [e]\n",
    "    return new_element_list\n",
    "\n",
    "res1 = replace([\"a\",\"h\",\"b\",\"f\",\"a\",\"a\",\"z\"], \"a\", \"-\")\n",
    "print(res1)\n",
    "\n",
    "res2 = replace([0,0,0,0,0], 0, 9) \n",
    "print(res2)\n",
    "\n",
    "res3 = replace([0,4,2,2,3], 8, 7)\n",
    "print(res3)\n",
    "\n",
    "res4 = replace([0,4,2,2,3], 8, 7) \n",
    "print(res4)"
   ]
  },
  {
   "cell_type": "markdown",
   "id": "943aa628",
   "metadata": {},
   "source": [
    "## Oefening 10\n",
    "\n",
    "Implementeer een functie count_x_y(count_string) die teruggeeft hoe vaak de letters x en y voorkomen in de gegeven count_string met exact één karakter tussen x en y in. Enkele voorbeelden:\n",
    "- count_string is “xzy”, de functie geeft 1 terug;\n",
    "- count_string is “ykx”, de functie geeft 1 terug;\n",
    "- count_string is “axyyx8yx”, de functie geeft 3 terug; \n",
    "- count_string is “axyiyxy”, de functie geeft 0 terug;\n",
    "- count_string is “xy”, de functie geeft 0 terug."
   ]
  },
  {
   "cell_type": "code",
   "execution_count": 11,
   "id": "60c29a16",
   "metadata": {},
   "outputs": [
    {
     "name": "stdout",
     "output_type": "stream",
     "text": [
      "1 1 3 0 0\n"
     ]
    }
   ],
   "source": [
    "def count_x_y(count_string):\n",
    "    count = 0\n",
    "    for idx, s in enumerate(count_string):\n",
    "        if idx + 2 >= len(count_string):\n",
    "            return count\n",
    "        if s == 'x' and count_string[idx + 2] == 'y':\n",
    "            count += 1\n",
    "        if s == 'y' and count_string[idx + 2] == 'x':\n",
    "            count += 1\n",
    "    return count\n",
    "\n",
    "res1 = count_x_y(\"xzy\")\n",
    "res2 = count_x_y(\"ykx\")\n",
    "res3 = count_x_y(\"axyyx8yx\")\n",
    "res4 = count_x_y(\"axyiyxy\")\n",
    "res5 = count_x_y(\"xy\")\n",
    "\n",
    "print(res1, res2, res3, res4, res5)"
   ]
  },
  {
   "cell_type": "markdown",
   "id": "6cb31370",
   "metadata": {},
   "source": [
    "## Oefening 11\n",
    "\n",
    "Schrijf een functie is_palindrome(string_to_check) die het volgende teruggeeft:\n",
    "- True als string_to_check een palindroom is. Dit betekent dat we bij het lezen van de string van links naar rechts en omgekeerd alle karakters van de string in dezelfde volgorde tegenkomen;\n",
    "- False in alle andere gevallen.\n",
    "<br><br>\n",
    "Voorbeelden:\n",
    "- string_to_check is “rotor”, de functie geeft True terug;\n",
    "- string_to_check is “X”, de functie geeft True terug;\n",
    "- string_to_check is “word”, de functie geeft False terug."
   ]
  },
  {
   "cell_type": "code",
   "execution_count": 12,
   "id": "55824166",
   "metadata": {},
   "outputs": [
    {
     "name": "stdout",
     "output_type": "stream",
     "text": [
      "True True False\n"
     ]
    }
   ],
   "source": [
    "def is_palindrome(string_to_check):\n",
    "    reverse = string_to_check[::-1]\n",
    "    return string_to_check == reverse\n",
    "\n",
    "res1 = is_palindrome(\"rotor\")\n",
    "res2 = is_palindrome(\"X\")\n",
    "res3 = is_palindrome(\"word\")\n",
    "\n",
    "print(res1, res2, res3)"
   ]
  }
 ],
 "metadata": {
  "kernelspec": {
   "display_name": "Python 3 (ipykernel)",
   "language": "python",
   "name": "python3"
  },
  "language_info": {
   "codemirror_mode": {
    "name": "ipython",
    "version": 3
   },
   "file_extension": ".py",
   "mimetype": "text/x-python",
   "name": "python",
   "nbconvert_exporter": "python",
   "pygments_lexer": "ipython3",
   "version": "3.9.12"
  }
 },
 "nbformat": 4,
 "nbformat_minor": 5
}
