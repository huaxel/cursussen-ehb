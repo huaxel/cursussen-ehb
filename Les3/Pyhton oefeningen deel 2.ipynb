{
 "cells": [
  {
   "cell_type": "markdown",
   "id": "f900cb15",
   "metadata": {},
   "source": [
    "# Pyhton oefeningen deel 2"
   ]
  },
  {
   "cell_type": "markdown",
   "id": "4445dac1",
   "metadata": {},
   "source": [
    "## Oefening 1\n",
    "\n",
    "Schrijf een functie die enkel het eerste element van een lijst print. De lijst is gegeven als een parameter. Roep de functie aan met deze lijst als parameter: [3,4,1,0]. Wat gebeurt er wanneer je de functie aanroept met de string “Dit is een zin.” als parameter in plaats van de lijst?"
   ]
  },
  {
   "cell_type": "code",
   "execution_count": null,
   "id": "fbfe410c",
   "metadata": {},
   "outputs": [],
   "source": []
  },
  {
   "cell_type": "markdown",
   "id": "97d760d5",
   "metadata": {},
   "source": [
    "## Oefening 2\n",
    "\n",
    "Schrijf een functie die alle elementen van een lijst één voor één print. Gebruik een lus om over de lijst te itereren. Indien je dit correct geïmplementeerd hebt, wordt elk element telkens op een nieuwe lijn geprint. Roep de functie aan met deze lijst als parameter: [3,4,1,0]. Probeer de functie ook uit met de string “Dit is een zin.” als parameter in plaats van de lijst."
   ]
  },
  {
   "cell_type": "code",
   "execution_count": null,
   "id": "3b88e494",
   "metadata": {},
   "outputs": [],
   "source": []
  },
  {
   "cell_type": "markdown",
   "id": "a83e12d8",
   "metadata": {},
   "source": [
    "## Oefening 3\n",
    "\n",
    "Schrijf een functie get_shortest_list(list_1, list_2) die de kortste lijst teruggeeft (m.a.w., de lijst die het minste aantal elementen bevat). Als beide lijsten even lang zijn, moet de eerste lijst (list_1) teruggegeven worden. Voorbeelden:\n",
    "- list_1 is [1,-8,6] en list_2 is [9,7], dan geeft de functie [9,7] terug;\n",
    "- list_1 is [9,9,9] en list_2 is [4,0,1], dan geeft de functie [9,9,9] terug."
   ]
  },
  {
   "cell_type": "code",
   "execution_count": null,
   "id": "2742c0ab",
   "metadata": {},
   "outputs": [],
   "source": []
  },
  {
   "cell_type": "markdown",
   "id": "fec52432",
   "metadata": {},
   "source": [
    "## Oefening 4\n",
    "Schrijf een functie count(element_list, element) die teruggeeft hoe vaak element voorkomt in element_list."
   ]
  },
  {
   "cell_type": "code",
   "execution_count": null,
   "id": "80fdb9b3",
   "metadata": {},
   "outputs": [],
   "source": []
  },
  {
   "cell_type": "markdown",
   "id": "4e8ebbef",
   "metadata": {},
   "source": [
    "## Oefening 5\n",
    "\n",
    "Schrijf een functie contains_element(element_list, element) die de volgende booleaanse waarde teruggeeft:\n",
    "- True als element_list het gegeven element bevat;\n",
    "- False in alle andere gevallen. \n",
    "<br><br>\n",
    "Gebruik een lus om over de lijst te itereren."
   ]
  },
  {
   "cell_type": "code",
   "execution_count": null,
   "id": "6f2a3ace",
   "metadata": {},
   "outputs": [],
   "source": []
  },
  {
   "cell_type": "markdown",
   "id": "10fb2b41",
   "metadata": {},
   "source": [
    "## Oefening 6\n",
    "Implementeer een functie last_occurrence(element_list, element) die de index teruggeeft van element in element_list. Als element meermaals voorkomt in element_list, moet enkel de hoogste index teruggegeven worden. Indien element niet voorkomt, moet de functie -1 teruggeven. Voorbeelden:\n",
    "- element is 3 en element_list is [5,3,8], de functie geeft 1 terug;\n",
    "- element is “x” en element_list is [“y”,“x”,“x”], de functie geeft 2 terug;\n",
    "- element is “x” en element_list is [“a”,“b”,“c”], de functie geeft -1 terug."
   ]
  },
  {
   "cell_type": "code",
   "execution_count": null,
   "id": "a9ea552f",
   "metadata": {},
   "outputs": [],
   "source": []
  },
  {
   "cell_type": "markdown",
   "id": "ba282489",
   "metadata": {},
   "source": [
    "## Oefening 7\n",
    "In deze oefening moet je een lijst aanmaken en er elementen aan toevoegen.\n",
    "- a. Implementeer een functie divisors(number) die een lijst teruggeeft met alle delers van een gegeven number. Voorbeeld: stel dat number 6 is, het resultaat moet dan [1,2,3,6] zijn. Voor deze oefening mag je ervan uitgaan dat number altijd een strikt positief geheel getal is.\n",
    "- b. Implementeer een functie divisors_high_to_low(number) die hetzelfde doet als de functie in deel a, maar de delers in de teruggegeven lijst moeten nu van hoog naar laag staan. Voorbeeld: number is 6, het resultaat moet [6,3,2,1] zijn."
   ]
  },
  {
   "cell_type": "code",
   "execution_count": null,
   "id": "b66ccf01",
   "metadata": {},
   "outputs": [],
   "source": []
  },
  {
   "cell_type": "markdown",
   "id": "f6675b00",
   "metadata": {},
   "source": [
    "## Oefening 8\n",
    "Schrijf een functie find_largest_number(number_list) die het grootste getal in number_list teruggeeft. Enkele voorbeelden:\n",
    "- number_list is [4,3,9,0,7], de functie moet 9 teruggeven;\n",
    "- number_list is [0.3,-1.2,0.3,-4.5], de functie moet 0.3 teruggeven."
   ]
  },
  {
   "cell_type": "code",
   "execution_count": null,
   "id": "0738c999",
   "metadata": {},
   "outputs": [],
   "source": []
  },
  {
   "cell_type": "markdown",
   "id": "3a85d014",
   "metadata": {},
   "source": [
    "## Oefening 9\n",
    "\n",
    "Implementeer een functie replace(element_list, element_to_replace, new_element) die de tweede overeenkomst met element_to_replace in element_list vervangt door new_element. De functie geeft vervolgens de nieuwe lijst terug. Enkele voorbeelden:\n",
    "- replace([“a”,“h”,“b”,“f”,“a”,“a”,“z”], “a”, “-”) moet teruggeven: [“a”,“h”,“b”,“f”,“-”,“a”,“z”];\n",
    "- replace([0,0,0,0,0], 0, 9) moet teruggeven: [0,9,0,0,0];\n",
    "- replace([0,4,2,2,3], 0, 7) moet [0,4,2,2,3] teruggeven;\n",
    "- replace([0,4,2,2,3], 8, 7) moet [0,4,2,2,3] teruggeven."
   ]
  },
  {
   "cell_type": "code",
   "execution_count": null,
   "id": "046acb8b",
   "metadata": {},
   "outputs": [],
   "source": []
  },
  {
   "cell_type": "markdown",
   "id": "943aa628",
   "metadata": {},
   "source": [
    "## Oefening 10\n",
    "\n",
    "Implementeer een functie count_x_y(count_string) die teruggeeft hoe vaak de letters x en y voorkomen in de gegeven count_string met exact één karakter tussen x en y in. Enkele voorbeelden:\n",
    "- count_string is “xzy”, de functie geeft 1 terug;\n",
    "- count_string is “ykx”, de functie geeft 1 terug;\n",
    "- count_string is “axyyx8yx”, de functie geeft 3 terug; - count_string is “axyiyxy”, de functie geeft 0 terug;\n",
    "- count_string is “xy”, de functie geeft 0 terug."
   ]
  },
  {
   "cell_type": "code",
   "execution_count": null,
   "id": "60c29a16",
   "metadata": {},
   "outputs": [],
   "source": []
  },
  {
   "cell_type": "markdown",
   "id": "6cb31370",
   "metadata": {},
   "source": [
    "## Oefening 11\n",
    "\n",
    "Schrijf een functie is_palindrome(string_to_check) die het volgende teruggeeft:\n",
    "- True als string_to_check een palindroom is. Dit betekent dat we bij het lezen van de string van links naar rechts en omgekeerd alle karakters van de string in dezelfde volgorde tegenkomen;\n",
    "- False in alle andere gevallen.\n",
    "<br><br>\n",
    "Voorbeelden:\n",
    "- string_to_check is “rotor”, de functie geeft True terug;\n",
    "- string_to_check is “X”, de functie geeft True terug;\n",
    "- string_to_check is “word”, de functie geeft False terug."
   ]
  },
  {
   "cell_type": "code",
   "execution_count": null,
   "id": "55824166",
   "metadata": {},
   "outputs": [],
   "source": []
  }
 ],
 "metadata": {
  "kernelspec": {
   "display_name": "Python 3 (ipykernel)",
   "language": "python",
   "name": "python3"
  },
  "language_info": {
   "codemirror_mode": {
    "name": "ipython",
    "version": 3
   },
   "file_extension": ".py",
   "mimetype": "text/x-python",
   "name": "python",
   "nbconvert_exporter": "python",
   "pygments_lexer": "ipython3",
   "version": "3.9.12"
  }
 },
 "nbformat": 4,
 "nbformat_minor": 5
}
