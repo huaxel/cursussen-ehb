{
 "cells": [
  {
   "cell_type": "markdown",
   "id": "b471c61e",
   "metadata": {},
   "source": [
    "# Before vs after normalization comparison"
   ]
  },
  {
   "cell_type": "code",
   "execution_count": 6,
   "id": "775b64a8",
   "metadata": {},
   "outputs": [],
   "source": [
    "import pandas as pd\n",
    "import numpy as np\n",
    "import matplotlib.pyplot as plt\n",
    "from sklearn.model_selection import train_test_split\n",
    "from sklearn.metrics import mean_squared_error, r2_score\n",
    "from math import sqrt\n",
    "from sklearn.linear_model import LinearRegression\n",
    "from sklearn.neighbors import KNeighborsRegressor\n",
    "from sklearn.tree import DecisionTreeRegressor\n",
    "from sklearn import svm"
   ]
  },
  {
   "cell_type": "markdown",
   "id": "82df4fa4",
   "metadata": {},
   "source": [
    "## 1. Evaluation function"
   ]
  },
  {
   "cell_type": "code",
   "execution_count": 7,
   "id": "7241071c",
   "metadata": {},
   "outputs": [],
   "source": [
    "def evaluate_model(model, X_train, X_test, y_train, y_test):\n",
    "    ## Train the model and evaluate its performance\n",
    "    model.fit(X_train, y_train)\n",
    "    ## Make predictions on the training and test sets\n",
    "    y_pred = model.predict(X_test)\n",
    "\n",
    "    y_test = np.ravel(y_test)\n",
    "    y_pred = np.ravel(y_pred)\n",
    "    \n",
    "    ## Calculate the RMSE and R^2 score\n",
    "    results = {\n",
    "        'RMSE': sqrt(mean_squared_error(y_test, y_pred)),\n",
    "        'r2_score': r2_score(y_test, y_pred)\n",
    "    }\n",
    "    \n",
    "    return results\n"
   ]
  },
  {
   "cell_type": "code",
   "execution_count": 8,
   "id": "2cc7bfa9",
   "metadata": {},
   "outputs": [],
   "source": [
    "## Dictionary met models en parameters\n",
    "models = {\n",
    "    'Linear Regression': LinearRegression(),\n",
    "    'SVM (linear kernel)': svm.SVR(kernel='linear'),\n",
    "    'KNR (k=2)': KNeighborsRegressor(n_neighbors=2),\n",
    "    'Decision Tree': DecisionTreeRegressor()\n",
    "}"
   ]
  },
  {
   "cell_type": "markdown",
   "id": "04d0f4b7",
   "metadata": {},
   "source": [
    "## 2. Load dataset"
   ]
  },
  {
   "cell_type": "code",
   "execution_count": 9,
   "id": "91ca84a3",
   "metadata": {},
   "outputs": [],
   "source": [
    "df = pd.DataFrame(pd.read_csv('./mpg.csv'))"
   ]
  },
  {
   "cell_type": "code",
   "execution_count": 10,
   "id": "d3f4cf22",
   "metadata": {},
   "outputs": [],
   "source": [
    "mode_value = df.horsepower.mode()[0]\n",
    "df.horsepower = df.horsepower.replace('?', mode_value)\n",
    "df.horsepower = df.horsepower.astype('int64')\n",
    "df = df.drop(columns=['name'])\n",
    "df.origin.value_counts()\n",
    "dummies = pd.get_dummies(df.origin, prefix='origin')\n",
    "df = pd.concat([df, dummies], axis=1)\n",
    "df = df.drop(columns=['origin'])\n"
   ]
  },
  {
   "cell_type": "code",
   "execution_count": 11,
   "id": "773eedf3",
   "metadata": {},
   "outputs": [],
   "source": [
    "X = df.iloc[:, 1:]\n",
    "y = df.mpg"
   ]
  },
  {
   "cell_type": "code",
   "execution_count": 12,
   "id": "4e474942",
   "metadata": {},
   "outputs": [],
   "source": [
    "X_train, X_test, y_train, y_test = train_test_split(X, y, test_size=0.2, shuffle= True, random_state=42)"
   ]
  },
  {
   "cell_type": "markdown",
   "id": "7e66eecd",
   "metadata": {},
   "source": [
    "## 4. Normalize data"
   ]
  },
  {
   "cell_type": "code",
   "execution_count": 13,
   "id": "1c575572",
   "metadata": {},
   "outputs": [],
   "source": [
    "from sklearn.preprocessing import StandardScaler\n",
    "scaler = StandardScaler()\n",
    "X_train_scaled = scaler.fit_transform(X_train)\n",
    "X_test_scaled = scaler.transform(X_test)"
   ]
  },
  {
   "cell_type": "markdown",
   "id": "3d493cf5",
   "metadata": {},
   "source": [
    "## 5. Evaluate models on both unscaled and scaled data"
   ]
  },
  {
   "cell_type": "code",
   "execution_count": 14,
   "id": "21932f77",
   "metadata": {},
   "outputs": [],
   "source": [
    "results_before = {}\n",
    "results_after = {}\n",
    "\n",
    "for name, model in models.items():\n",
    "    results_before[name] = evaluate_model(model, X_train, X_test, y_train, y_test)\n"
   ]
  },
  {
   "cell_type": "code",
   "execution_count": 15,
   "id": "9c3eab11",
   "metadata": {},
   "outputs": [],
   "source": [
    "for name, model in models.items():\n",
    "    results_after[name] = evaluate_model(model, X_train_scaled, X_test_scaled, y_train, y_test)"
   ]
  },
  {
   "cell_type": "code",
   "execution_count": 16,
   "id": "00321248",
   "metadata": {},
   "outputs": [
    {
     "data": {
      "application/vnd.microsoft.datawrangler.viewer.v0+json": {
       "columns": [
        {
         "name": "index",
         "rawType": "object",
         "type": "string"
        },
        {
         "name": "scaled",
         "rawType": "bool",
         "type": "boolean"
        },
        {
         "name": "RMSE",
         "rawType": "float64",
         "type": "float"
        },
        {
         "name": "r2_score",
         "rawType": "float64",
         "type": "float"
        }
       ],
       "conversionMethod": "pd.DataFrame",
       "ref": "bafd9f04-a501-4bbd-b5cf-9e9a1af35b09",
       "rows": [
        [
         "Linear Regression",
         "False",
         "2.889297939047904",
         "0.84473508012911"
        ],
        [
         "SVM (linear kernel)",
         "False",
         "4.782551297320438",
         "0.5745897382044836"
        ],
        [
         "KNR (k=2)",
         "False",
         "3.9780020110603265",
         "0.7056807388344334"
        ],
        [
         "Decision Tree",
         "False",
         "3.470410638526801",
         "0.7759987613091855"
        ],
        [
         "Linear Regression",
         "True",
         "2.889297939047905",
         "0.8447350801291098"
        ],
        [
         "SVM (linear kernel)",
         "True",
         "2.8848149709920836",
         "0.8452165172843507"
        ],
        [
         "KNR (k=2)",
         "True",
         "2.3584025313758463",
         "0.896551415491377"
        ],
        [
         "Decision Tree",
         "True",
         "3.4550868295890917",
         "0.7779725760642296"
        ]
       ],
       "shape": {
        "columns": 3,
        "rows": 8
       }
      },
      "text/html": [
       "<div>\n",
       "<style scoped>\n",
       "    .dataframe tbody tr th:only-of-type {\n",
       "        vertical-align: middle;\n",
       "    }\n",
       "\n",
       "    .dataframe tbody tr th {\n",
       "        vertical-align: top;\n",
       "    }\n",
       "\n",
       "    .dataframe thead th {\n",
       "        text-align: right;\n",
       "    }\n",
       "</style>\n",
       "<table border=\"1\" class=\"dataframe\">\n",
       "  <thead>\n",
       "    <tr style=\"text-align: right;\">\n",
       "      <th></th>\n",
       "      <th>scaled</th>\n",
       "      <th>RMSE</th>\n",
       "      <th>r2_score</th>\n",
       "    </tr>\n",
       "  </thead>\n",
       "  <tbody>\n",
       "    <tr>\n",
       "      <th>Linear Regression</th>\n",
       "      <td>False</td>\n",
       "      <td>2.889298</td>\n",
       "      <td>0.844735</td>\n",
       "    </tr>\n",
       "    <tr>\n",
       "      <th>SVM (linear kernel)</th>\n",
       "      <td>False</td>\n",
       "      <td>4.782551</td>\n",
       "      <td>0.574590</td>\n",
       "    </tr>\n",
       "    <tr>\n",
       "      <th>KNR (k=2)</th>\n",
       "      <td>False</td>\n",
       "      <td>3.978002</td>\n",
       "      <td>0.705681</td>\n",
       "    </tr>\n",
       "    <tr>\n",
       "      <th>Decision Tree</th>\n",
       "      <td>False</td>\n",
       "      <td>3.470411</td>\n",
       "      <td>0.775999</td>\n",
       "    </tr>\n",
       "    <tr>\n",
       "      <th>Linear Regression</th>\n",
       "      <td>True</td>\n",
       "      <td>2.889298</td>\n",
       "      <td>0.844735</td>\n",
       "    </tr>\n",
       "    <tr>\n",
       "      <th>SVM (linear kernel)</th>\n",
       "      <td>True</td>\n",
       "      <td>2.884815</td>\n",
       "      <td>0.845217</td>\n",
       "    </tr>\n",
       "    <tr>\n",
       "      <th>KNR (k=2)</th>\n",
       "      <td>True</td>\n",
       "      <td>2.358403</td>\n",
       "      <td>0.896551</td>\n",
       "    </tr>\n",
       "    <tr>\n",
       "      <th>Decision Tree</th>\n",
       "      <td>True</td>\n",
       "      <td>3.455087</td>\n",
       "      <td>0.777973</td>\n",
       "    </tr>\n",
       "  </tbody>\n",
       "</table>\n",
       "</div>"
      ],
      "text/plain": [
       "                     scaled      RMSE  r2_score\n",
       "Linear Regression     False  2.889298  0.844735\n",
       "SVM (linear kernel)   False  4.782551  0.574590\n",
       "KNR (k=2)             False  3.978002  0.705681\n",
       "Decision Tree         False  3.470411  0.775999\n",
       "Linear Regression      True  2.889298  0.844735\n",
       "SVM (linear kernel)    True  2.884815  0.845217\n",
       "KNR (k=2)              True  2.358403  0.896551\n",
       "Decision Tree          True  3.455087  0.777973"
      ]
     },
     "execution_count": 16,
     "metadata": {},
     "output_type": "execute_result"
    }
   ],
   "source": [
    "## dataframe met resultaten voor scaling transponeren en scaled column toevoegen\n",
    "df_before = pd.DataFrame(results_before).T\n",
    "df_before['scaled'] = False\n",
    "\n",
    "## dataframe met resultaten na scaling transponeren en scaled column toevoegen\n",
    "df_after = pd.DataFrame(results_after).T\n",
    "df_after['scaled'] = True\n",
    "\n",
    "# Merge into one DataFrame\n",
    "df_comparison = pd.concat([df_before, df_after])\n",
    "\n",
    "# Reorder columns\n",
    "df_comparison = df_comparison[['scaled', 'RMSE', 'r2_score']]\n",
    "\n",
    "df_comparison"
   ]
  },
  {
   "cell_type": "code",
   "execution_count": 20,
   "id": "6c6a51cf",
   "metadata": {},
   "outputs": [
    {
     "data": {
      "image/png": "[encoded data removed]",
      "text/plain": [
       "<Figure size 1200x600 with 1 Axes>"
      ]
     },
     "metadata": {},
     "output_type": "display_data"
    }
   ],
   "source": [
    "# Select the unique model names\n",
    "model_names = ['Linear Regression', 'SVM (linear kernel)', 'KNR (k=2)', 'Decision Tree']\n",
    "\n",
    "# Positions for each group\n",
    "x = np.arange(len(model_names))\n",
    "width = 0.35\n",
    "\n",
    "# Extract values\n",
    "r2_before = [results_before[model]['r2_score'] for model in model_names]\n",
    "r2_after = [results_after[model]['r2_score'] for model in model_names]\n",
    "\n",
    "# Create the plot\n",
    "fig, ax = plt.subplots(figsize=(12,6))\n",
    "\n",
    "rects1 = ax.bar(x - width/2, r2_before, width, label='Before Scaling')\n",
    "rects2 = ax.bar(x + width/2, r2_after, width, label='After Scaling')\n",
    "\n",
    "# Labels\n",
    "ax.set_ylabel('R^2 Score')\n",
    "ax.set_title('R2 Score Before and After Scaling')\n",
    "ax.set_xticks(x)\n",
    "ax.set_xticklabels(model_names, rotation=45)\n",
    "ax.legend()\n",
    "\n",
    "# Annotate\n",
    "def autolabel(rects):\n",
    "    for rect in rects:\n",
    "        height = rect.get_height()\n",
    "        ax.annotate(f'{height:.2f}',\n",
    "                    xy=(rect.get_x() + rect.get_width()/2, height),\n",
    "                    xytext=(0, 3),\n",
    "                    textcoords=\"offset points\",\n",
    "                    ha='center', va='bottom')\n",
    "\n",
    "autolabel(rects1)\n",
    "autolabel(rects2)\n",
    "\n",
    "plt.tight_layout()\n",
    "plt.show()"
   ]
  }
 ],
 "metadata": {
  "kernelspec": {
   "display_name": ".venv",
   "language": "python",
   "name": "python3"
  },
  "language_info": {
   "codemirror_mode": {
    "name": "ipython",
    "version": 3
   },
   "file_extension": ".py",
   "mimetype": "text/x-python",
   "name": "python",
   "nbconvert_exporter": "python",
   "pygments_lexer": "ipython3",
   "version": "3.12.9"
  }
 },
 "nbformat": 4,
 "nbformat_minor": 5
}
